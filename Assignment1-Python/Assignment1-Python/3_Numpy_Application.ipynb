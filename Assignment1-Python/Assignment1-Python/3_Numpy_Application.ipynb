{
  "cells": [
    {
      "cell_type": "markdown",
      "id": "49af67b0-7a29-43bc-b722-b4c2886278a1",
      "metadata": {
        "nbgrader": {
          "grade": false,
          "grade_id": "cell-9f2b31497f63a1e2",
          "locked": true,
          "schema_version": 3,
          "solution": false,
          "task": false
        },
        "tags": [],
        "id": "49af67b0-7a29-43bc-b722-b4c2886278a1"
      },
      "source": [
        "# CS414 - Numpy Application\n",
        "Instructions: \n",
        "- Start the kernel: In the menu bar, select Kernel -> Restart kernel.\n",
        "- Complete all sections with the comment `YOUR CODE HERE`.\n",
        "- Run all code blocks to check the implementation: In the menu bar, select Cell -> Run All."
      ]
    },
    {
      "cell_type": "code",
      "execution_count": null,
      "id": "ffbda004-b601-41ea-bce3-dc7d7dc5699e",
      "metadata": {
        "nbgrader": {
          "grade": false,
          "grade_id": "cell-51656441c20976c5",
          "locked": true,
          "schema_version": 3,
          "solution": false,
          "task": false
        },
        "tags": [],
        "id": "ffbda004-b601-41ea-bce3-dc7d7dc5699e"
      },
      "outputs": [],
      "source": [
        "import numpy as np"
      ]
    },
    {
      "cell_type": "markdown",
      "id": "79ee44ca-e03d-4069-ac56-1f2d711d52b3",
      "metadata": {
        "nbgrader": {
          "grade": false,
          "grade_id": "cell-599c3f7c59bb5006",
          "locked": true,
          "schema_version": 3,
          "solution": false,
          "task": false
        },
        "tags": [],
        "id": "79ee44ca-e03d-4069-ac56-1f2d711d52b3"
      },
      "source": [
        "## Problem 1: Savings Account\n",
        "\n",
        "Calculate the remaining balance in the bank account with the input as a list of transaction amounts, corresponding to a list of transaction types indicating deposits (`D`) and withdrawals (`W`).\n",
        "\n",
        "**Input:**\n",
        "   - `moneys`: a numpy array containing a list of transaction amounts (deposits and withdrawals)\n",
        "   - `types`: a numpy array containing a list of transaction types (denoted as `D` for deposit and `W` for withdrawal)\n",
        "\n",
        "**Output:**\n",
        "   - A floating-point number representing the remaining balance in the account."
      ]
    },
    {
      "cell_type": "markdown",
      "id": "bb0d9700-c506-4cf3-8046-95a6acab07a0",
      "metadata": {
        "nbgrader": {
          "grade": false,
          "grade_id": "cell-0047ac8f0bea8431",
          "locked": true,
          "schema_version": 3,
          "solution": false,
          "task": false
        },
        "tags": [],
        "id": "bb0d9700-c506-4cf3-8046-95a6acab07a0"
      },
      "source": [
        "Example:\n",
        "\n",
        "- Input:\n",
        "```\n",
        "moneys = [400.0, 100.0, 200.0]\n",
        "types = ['D', 'W', 'D']\n",
        "```\n",
        "\n",
        "- Output: ``` 500.0 ```"
      ]
    },
    {
      "cell_type": "code",
      "execution_count": null,
      "id": "c5a81c42-615c-4372-8865-3c7b0e3e5b39",
      "metadata": {
        "nbgrader": {
          "grade": false,
          "grade_id": "cell-048577ccfe8e62c6",
          "locked": false,
          "schema_version": 3,
          "solution": true,
          "task": false
        },
        "tags": [],
        "id": "c5a81c42-615c-4372-8865-3c7b0e3e5b39"
      },
      "outputs": [],
      "source": [
        "def balance(moneys, types):\n",
        "    # YOUR CODE HERE\n",
        "    raise NotImplementedError()"
      ]
    },
    {
      "cell_type": "code",
      "execution_count": null,
      "id": "386fc1a8-641f-4a57-8524-6e21fc9ded6f",
      "metadata": {
        "nbgrader": {
          "grade": false,
          "grade_id": "cell-c50fd751a759e54d",
          "locked": true,
          "schema_version": 3,
          "solution": false,
          "task": false
        },
        "tags": [],
        "colab": {
          "base_uri": "https://localhost:8080/"
        },
        "id": "386fc1a8-641f-4a57-8524-6e21fc9ded6f",
        "outputId": "4721238d-0008-464b-f8e5-121ff7069b35"
      },
      "outputs": [
        {
          "output_type": "execute_result",
          "data": {
            "text/plain": [
              "500.0"
            ]
          },
          "metadata": {},
          "execution_count": 24
        }
      ],
      "source": [
        "# testing with an example\n",
        "balance(np.array([400.0, 100.0, 200.0]), np.array(['D', 'W', 'D']))"
      ]
    },
    {
      "cell_type": "code",
      "execution_count": null,
      "id": "a0f2ae1f-0e96-4f51-938e-2e3e634c36f3",
      "metadata": {
        "nbgrader": {
          "grade": true,
          "grade_id": "cell-e03038c165ddaafc",
          "locked": true,
          "points": 5,
          "schema_version": 3,
          "solution": false,
          "task": false
        },
        "tags": [],
        "id": "a0f2ae1f-0e96-4f51-938e-2e3e634c36f3"
      },
      "outputs": [],
      "source": [
        "# grading cell 1\n",
        "assert balance(np.array([400.0, 100.0, 200.0]), np.array(['D', 'W', 'D'])) == 500"
      ]
    },
    {
      "cell_type": "code",
      "execution_count": null,
      "id": "f88d11f6-913a-406d-930e-bf5b73781ee4",
      "metadata": {
        "nbgrader": {
          "grade": true,
          "grade_id": "cell-839d4d8b7de04b4c",
          "locked": true,
          "points": 5,
          "schema_version": 3,
          "solution": false,
          "task": false
        },
        "tags": [],
        "id": "f88d11f6-913a-406d-930e-bf5b73781ee4"
      },
      "outputs": [],
      "source": [
        "# grading cell 2\n"
      ]
    },
    {
      "cell_type": "markdown",
      "id": "a1db6dcc-c10a-438d-bd73-5ad1fea01bfc",
      "metadata": {
        "nbgrader": {
          "grade": false,
          "grade_id": "cell-4f7b69e87c62d7e6",
          "locked": true,
          "schema_version": 3,
          "solution": false,
          "task": false
        },
        "tags": [],
        "id": "a1db6dcc-c10a-438d-bd73-5ad1fea01bfc"
      },
      "source": [
        "## Problem 2: GPA\n",
        "Calculate the average grade of a student given a list of grades and the number of credits for each course.\n",
        "\n",
        "Input:\n",
        "   - `marks`: List of length `n`. This represents the grades of the student for each course.\n",
        "   - `credits`: List of length `n`. This represents the number of credits for each course.\n",
        "\n",
        "Output:\n",
        "   - Float value, the average grade of the student's courses."
      ]
    },
    {
      "cell_type": "markdown",
      "id": "9a87e73a-0e51-44ad-96d8-97160246defc",
      "metadata": {
        "nbgrader": {
          "grade": false,
          "grade_id": "cell-74596ab47645e3b1",
          "locked": true,
          "schema_version": 3,
          "solution": false,
          "task": false
        },
        "tags": [],
        "id": "9a87e73a-0e51-44ad-96d8-97160246defc"
      },
      "source": [
        "Example:\n",
        "\n",
        "- Input:\n",
        "```\n",
        "marks = [8.0, 9.0, 10.0]\n",
        "credits = [2, 2, 1]\n",
        "```\n",
        "- Output: ``` 8.8 ```"
      ]
    },
    {
      "cell_type": "code",
      "execution_count": null,
      "id": "efd240a1-0640-4901-983d-e2cf3e7c11d1",
      "metadata": {
        "nbgrader": {
          "grade": false,
          "grade_id": "cell-a0d93b1f727b2f51",
          "locked": false,
          "schema_version": 3,
          "solution": true,
          "task": false
        },
        "tags": [],
        "id": "efd240a1-0640-4901-983d-e2cf3e7c11d1"
      },
      "outputs": [],
      "source": [
        "def gpa_one_student(marks, weights):\n",
        "    result = 0\n",
        "    # YOUR CODE HERE\n",
        "    raise NotImplementedError()"
      ]
    },
    {
      "cell_type": "code",
      "execution_count": null,
      "id": "db5e159a-77ef-4392-a09b-6fa48f3aacf2",
      "metadata": {
        "nbgrader": {
          "grade": false,
          "grade_id": "cell-cb37aab3ede8b4d2",
          "locked": true,
          "schema_version": 3,
          "solution": false,
          "task": false
        },
        "tags": [],
        "colab": {
          "base_uri": "https://localhost:8080/"
        },
        "id": "db5e159a-77ef-4392-a09b-6fa48f3aacf2",
        "outputId": "3f64cc62-c2c8-4bd4-ab8c-9bb3ca527b05"
      },
      "outputs": [
        {
          "output_type": "execute_result",
          "data": {
            "text/plain": [
              "8.8"
            ]
          },
          "metadata": {},
          "execution_count": 28
        }
      ],
      "source": [
        "# testing with an example\n",
        "marks = [8.0, 9.0, 10.0]\n",
        "credits = [2, 2, 1]\n",
        "gpa_one_student(marks, credits)"
      ]
    },
    {
      "cell_type": "code",
      "execution_count": null,
      "id": "08a60353-f043-4cbf-b34b-75dcbf3b9969",
      "metadata": {
        "nbgrader": {
          "grade": true,
          "grade_id": "cell-f9ecf7150939ef80",
          "locked": true,
          "points": 5,
          "schema_version": 3,
          "solution": false,
          "task": false
        },
        "tags": [],
        "id": "08a60353-f043-4cbf-b34b-75dcbf3b9969"
      },
      "outputs": [],
      "source": [
        "# grading cell 3\n",
        "assert abs(gpa_one_student([10, 9, 8], [4, 3, 2])-9.222222222222221) < 0.000001"
      ]
    },
    {
      "cell_type": "code",
      "execution_count": null,
      "id": "c5beac75-e077-44db-ae90-cbbfa491a1c6",
      "metadata": {
        "nbgrader": {
          "grade": true,
          "grade_id": "cell-4706026df476b116",
          "locked": true,
          "points": 5,
          "schema_version": 3,
          "solution": false,
          "task": false
        },
        "tags": [],
        "id": "c5beac75-e077-44db-ae90-cbbfa491a1c6"
      },
      "outputs": [],
      "source": [
        "# grading cell 4\n"
      ]
    },
    {
      "cell_type": "markdown",
      "id": "6a011b37-e7ca-4305-94f0-98f422220b17",
      "metadata": {
        "nbgrader": {
          "grade": false,
          "grade_id": "cell-75babf917c439b97",
          "locked": true,
          "schema_version": 3,
          "solution": false,
          "task": false
        },
        "tags": [],
        "id": "6a011b37-e7ca-4305-94f0-98f422220b17"
      },
      "source": [
        "## Problem 3: Student Score Count\n",
        "Count the number of students in a class who have a score not less than K.\n",
        "\n",
        "Input:\n",
        "- `marks`: numpy array of size 1 x n. This represents the math scores of n students in the class.\n",
        "- `K`: float value, the cutoff score.\n",
        "\n",
        "Output:\n",
        "- Integer value, the number of students in the class who have a score equal to or greater than K."
      ]
    },
    {
      "cell_type": "markdown",
      "source": [
        "Example:\n",
        "- Input\n",
        "```\n",
        "marks = [4., 9., 5.]\n",
        "K = 5\n",
        "```\n",
        "- Output: ``` 2 ```"
      ],
      "metadata": {
        "id": "eG9dk07TJ7ZM"
      },
      "id": "eG9dk07TJ7ZM"
    },
    {
      "cell_type": "code",
      "execution_count": null,
      "id": "7b919668-e216-4af4-9cac-bbb8068eed15",
      "metadata": {
        "nbgrader": {
          "grade": false,
          "grade_id": "cell-75bbb0d6e24b7c40",
          "locked": false,
          "schema_version": 3,
          "solution": true,
          "task": false
        },
        "tags": [],
        "id": "7b919668-e216-4af4-9cac-bbb8068eed15"
      },
      "outputs": [],
      "source": [
        "def pass_exam(marks, K):\n",
        "    # YOUR CODE HERE\n",
        "    raise NotImplementedError()"
      ]
    },
    {
      "cell_type": "code",
      "execution_count": null,
      "id": "4bb7c170-a432-43be-ab18-22c6b3bed750",
      "metadata": {
        "nbgrader": {
          "grade": false,
          "grade_id": "cell-71e752c965448fb6",
          "locked": true,
          "schema_version": 3,
          "solution": false,
          "task": false
        },
        "tags": [],
        "colab": {
          "base_uri": "https://localhost:8080/"
        },
        "id": "4bb7c170-a432-43be-ab18-22c6b3bed750",
        "outputId": "514ba171-5dc3-40a9-a298-8b330f1135ad"
      },
      "outputs": [
        {
          "output_type": "execute_result",
          "data": {
            "text/plain": [
              "2"
            ]
          },
          "metadata": {},
          "execution_count": 32
        }
      ],
      "source": [
        "# testing with an example\n",
        "marks = np.array([4.0, 9.0, 5.0])\n",
        "K = 5\n",
        "pass_exam(marks, K)"
      ]
    },
    {
      "cell_type": "code",
      "execution_count": null,
      "id": "d4ad4034-a631-4088-bf66-2f700da324bf",
      "metadata": {
        "nbgrader": {
          "grade": true,
          "grade_id": "cell-19c61f2fdfaa710a",
          "locked": true,
          "points": 5,
          "schema_version": 3,
          "solution": false,
          "task": false
        },
        "tags": [],
        "id": "d4ad4034-a631-4088-bf66-2f700da324bf"
      },
      "outputs": [],
      "source": [
        "# grading cell 5\n",
        "assert pass_exam(np.array([3.0, 9.5, 4.5]), 5.0) == 1"
      ]
    },
    {
      "cell_type": "code",
      "execution_count": null,
      "id": "db6da232-36bd-4534-a386-26da86baf3bd",
      "metadata": {
        "nbgrader": {
          "grade": true,
          "grade_id": "cell-6457e32df8fac035",
          "locked": true,
          "points": 5,
          "schema_version": 3,
          "solution": false,
          "task": false
        },
        "tags": [],
        "id": "db6da232-36bd-4534-a386-26da86baf3bd"
      },
      "outputs": [],
      "source": [
        "# grading cell 6\n"
      ]
    },
    {
      "cell_type": "markdown",
      "id": "9e1cce77-8967-411f-b341-91b913f6e589",
      "metadata": {
        "nbgrader": {
          "grade": false,
          "grade_id": "cell-187e1b265ebe7250",
          "locked": true,
          "schema_version": 3,
          "solution": false,
          "task": false
        },
        "tags": [],
        "id": "9e1cce77-8967-411f-b341-91b913f6e589"
      },
      "source": [
        "## Problem 4: Highest Class GPA\n",
        "Calculate the highest grade point average (GPA) of a class given the list of marks and credits for each course.\n",
        "\n",
        "Input:\n",
        "   - `marks`: numpy array, size `m x n`. This represents the marks of each student for each course in the class. Here, `m`is the number of students and `n` is the number of courses.\n",
        "   - `credits`: numpy array, size `1 x n`. This represents the number of credits for each course.\n",
        "\n",
        "Output:\n",
        "   - Floating-point number, the highest GPA among the students in the class."
      ]
    },
    {
      "cell_type": "markdown",
      "id": "e531cf6b-e9d0-477f-88b6-91bf08f5b6ff",
      "metadata": {
        "nbgrader": {
          "grade": false,
          "grade_id": "cell-e9bea152ef10fa8b",
          "locked": true,
          "schema_version": 3,
          "solution": false,
          "task": false
        },
        "tags": [],
        "id": "e531cf6b-e9d0-477f-88b6-91bf08f5b6ff"
      },
      "source": [
        "Example:\n",
        "- Input\n",
        "```\n",
        "marks = [[8.0, 9.0, 10.0],\n",
        "         [7.0, 9.0, 8.0],\n",
        "         [8.0, 8.0, 8.0],\n",
        "         [10.0, 9.0, 7.0],\n",
        "         [9.0, 9.0, 10.0]]\n",
        "credits = [2, 2, 1]\n",
        "```\n",
        "- Output: ``` 9.2 ```"
      ]
    },
    {
      "cell_type": "code",
      "execution_count": null,
      "id": "8a72c097-4b82-43d9-a3fb-e1fb9c40746c",
      "metadata": {
        "nbgrader": {
          "grade": false,
          "grade_id": "cell-3a099ebd7eee51b7",
          "locked": false,
          "schema_version": 3,
          "solution": true,
          "task": false
        },
        "tags": [],
        "id": "8a72c097-4b82-43d9-a3fb-e1fb9c40746c"
      },
      "outputs": [],
      "source": [
        "def max_gpa(marks, credits):\n",
        "    # YOUR CODE HERE\n",
        "    raise NotImplementedError()"
      ]
    },
    {
      "cell_type": "code",
      "execution_count": null,
      "id": "b7e3fec7-a2e8-402a-96ee-493b9b921fe2",
      "metadata": {
        "nbgrader": {
          "grade": false,
          "grade_id": "cell-698f7a73b54b42d0",
          "locked": true,
          "schema_version": 3,
          "solution": false,
          "task": false
        },
        "tags": [],
        "colab": {
          "base_uri": "https://localhost:8080/"
        },
        "id": "b7e3fec7-a2e8-402a-96ee-493b9b921fe2",
        "outputId": "0d38c77e-93b3-4cd2-d57a-b206dc039b98"
      },
      "outputs": [
        {
          "output_type": "execute_result",
          "data": {
            "text/plain": [
              "9.2"
            ]
          },
          "metadata": {},
          "execution_count": 36
        }
      ],
      "source": [
        "# testing with an example\n",
        "marks = np.array(\n",
        "   [[8.0, 9.0, 10.0],\n",
        "   [7.0, 9.0, 8.0],\n",
        "   [8.0, 8.0, 8.0],\n",
        "   [10.0, 9.0, 7.0],\n",
        "   [9.0, 9.0, 10.0]\n",
        "])\n",
        "credits = np.array([2,2,1])\n",
        "max_gpa(marks, credits)"
      ]
    },
    {
      "cell_type": "code",
      "execution_count": null,
      "id": "b23da38f-5301-438c-b60c-ace949a6ea76",
      "metadata": {
        "nbgrader": {
          "grade": true,
          "grade_id": "cell-84b3a393314e50ba",
          "locked": true,
          "points": 5,
          "schema_version": 3,
          "solution": false,
          "task": false
        },
        "tags": [],
        "id": "b23da38f-5301-438c-b60c-ace949a6ea76"
      },
      "outputs": [],
      "source": [
        "# grading cell 7\n",
        "marks = np.array(\n",
        "   [[4.0, 9.0, 4.5],\n",
        "   [5.0, 8.0, 4.5],\n",
        "   [6.0, 7.0, 7.5],\n",
        "   [7.0, 6.0, 7.5],\n",
        "   [8.0, 5.0, 4.5]\n",
        "])\n",
        "credits = np.array([2,1,2])\n",
        "assert abs(max_gpa(marks, credits)-7.0) < 0.000001"
      ]
    },
    {
      "cell_type": "code",
      "execution_count": null,
      "id": "0333a8c0-36a4-4954-836e-6cd326a74f48",
      "metadata": {
        "nbgrader": {
          "grade": true,
          "grade_id": "cell-afcc38c40ff1554e",
          "locked": true,
          "points": 5,
          "schema_version": 3,
          "solution": false,
          "task": false
        },
        "tags": [],
        "id": "0333a8c0-36a4-4954-836e-6cd326a74f48"
      },
      "outputs": [],
      "source": [
        "# grading cell 8\n"
      ]
    },
    {
      "cell_type": "markdown",
      "id": "e4888087-dd30-499e-8d35-ce614c2ddf42",
      "metadata": {
        "nbgrader": {
          "grade": false,
          "grade_id": "cell-50ac0aaae29c1aa2",
          "locked": true,
          "schema_version": 3,
          "solution": false,
          "task": false
        },
        "tags": [],
        "id": "e4888087-dd30-499e-8d35-ce614c2ddf42"
      },
      "source": [
        "## Problem 5: Cumulative Grade Point Average (CGPA)\n",
        "Calculate the cumulative grade point average (CGPA) for each student in a class given the list of marks and credits for each course.\n",
        "\n",
        "**Note:** When calculating the CGPA, we will exclude grades and credits for courses below 5 points (failed courses).\n",
        "\n",
        "**CGPA Calculation Formula:**  ``` CGPA = (mark1 * credit1 + ... + markn * creditn) / total credits ```\n",
        "\n",
        "Input:\n",
        "   - `marks`: numpy array, size `m x n`. This represents the marks of each student for each course in the class. Here, `m` is the number of students and `n` is the number of courses.\n",
        "   - `credits`: numpy array, size `1 x n`. This represents the number of credits for each course.\n",
        "\n",
        "Output:\n",
        "   - numpy array, size `1 x m`, containing the CGPA for each student in the class."
      ]
    },
    {
      "cell_type": "markdown",
      "id": "edab36c5-b01f-4d38-8d9d-ae76af13381a",
      "metadata": {
        "nbgrader": {
          "grade": false,
          "grade_id": "cell-c9ab900524d38f2c",
          "locked": true,
          "schema_version": 3,
          "solution": false,
          "task": false
        },
        "tags": [],
        "id": "edab36c5-b01f-4d38-8d9d-ae76af13381a"
      },
      "source": [
        "Example:\n",
        "\n",
        "- Input:\n",
        "```\n",
        "marks = [[8.0, 9.0, 10.0],\n",
        "         [4.0, 9.0, 8.0],\n",
        "         [8.0, 3.0, 8.0],\n",
        "         [10.0, 9.0, 5.0],\n",
        "         [9.0, 9.0, 4.0]\n",
        "]\n",
        "credits = np.array([2, 2, 1])\n",
        "```\n",
        "\n",
        "- Output:\n",
        "```\n",
        "[8.8, 8.66666667, 8., 8.6, 9.]\n",
        "```"
      ]
    },
    {
      "cell_type": "code",
      "execution_count": null,
      "id": "5c25bdba-6373-468f-90a1-eff66b4f0044",
      "metadata": {
        "nbgrader": {
          "grade": false,
          "grade_id": "cell-85c2823fb5e72e1e",
          "locked": false,
          "schema_version": 3,
          "solution": true,
          "task": false
        },
        "tags": [],
        "id": "5c25bdba-6373-468f-90a1-eff66b4f0044"
      },
      "outputs": [],
      "source": [
        "def gpa_of_pass(marks, credits):\n",
        "    # YOUR CODE HERE\n",
        "    raise NotImplementedError()"
      ]
    },
    {
      "cell_type": "code",
      "execution_count": null,
      "id": "313d26d6-0f4f-4483-aaa1-93423bebb343",
      "metadata": {
        "nbgrader": {
          "grade": false,
          "grade_id": "cell-89eb2ed25ca4c101",
          "locked": true,
          "schema_version": 3,
          "solution": false,
          "task": false
        },
        "tags": [],
        "colab": {
          "base_uri": "https://localhost:8080/"
        },
        "id": "313d26d6-0f4f-4483-aaa1-93423bebb343",
        "outputId": "774e8327-80f2-4a2e-e2f6-67f6ef04da9f"
      },
      "outputs": [
        {
          "output_type": "execute_result",
          "data": {
            "text/plain": [
              "array([8.8       , 8.66666667, 8.        , 8.6       , 9.        ])"
            ]
          },
          "metadata": {},
          "execution_count": 40
        }
      ],
      "source": [
        "# testing with an example\n",
        "marks = np.array(\n",
        "    [[8.0, 9.0, 10.0],\n",
        "    [4.0, 9.0, 8.0],\n",
        "    [8.0, 3.0, 8.0],\n",
        "    [10.0, 9.0, 5.0],\n",
        "    [9.0, 9.0, 4.0]])\n",
        "credits = np.array([2,2,1])\n",
        "gpa_of_pass(marks, credits)"
      ]
    },
    {
      "cell_type": "code",
      "execution_count": null,
      "id": "84e0bd7b-6b3c-4ce1-a815-d3a4b3d3da02",
      "metadata": {
        "nbgrader": {
          "grade": true,
          "grade_id": "cell-fa2fa11d0d185e58",
          "locked": true,
          "points": 5,
          "schema_version": 3,
          "solution": false,
          "task": false
        },
        "tags": [],
        "id": "84e0bd7b-6b3c-4ce1-a815-d3a4b3d3da02"
      },
      "outputs": [],
      "source": [
        "# grading cell 9\n",
        "marks = np.array(\n",
        "   [[4.0, 9.0, 4.5],\n",
        "   [5.0, 8.0, 4.5],\n",
        "   [6.0, 7.0, 7.5],\n",
        "   [7.0, 6.0, 7.5],\n",
        "   [8.0, 5.0, 4.5]])\n",
        "credits = np.array([2,1,2])\n",
        "assert np.sum(abs(gpa_of_pass(marks, credits)-np.array([9., 6., 6.8, 7.0, 7.0]))) < 0.000001"
      ]
    },
    {
      "cell_type": "code",
      "execution_count": null,
      "id": "8de1fd1d-518b-4722-85c1-e54957057991",
      "metadata": {
        "nbgrader": {
          "grade": true,
          "grade_id": "cell-8119a54a9940d0cf",
          "locked": true,
          "points": 5,
          "schema_version": 3,
          "solution": false,
          "task": false
        },
        "tags": [],
        "id": "8de1fd1d-518b-4722-85c1-e54957057991"
      },
      "outputs": [],
      "source": [
        "# grading cell 10\n"
      ]
    }
  ],
  "metadata": {
    "kernelspec": {
      "display_name": "Python 3 (ipykernel)",
      "language": "python",
      "name": "python3"
    },
    "language_info": {
      "codemirror_mode": {
        "name": "ipython",
        "version": 3
      },
      "file_extension": ".py",
      "mimetype": "text/x-python",
      "name": "python",
      "nbconvert_exporter": "python",
      "pygments_lexer": "ipython3",
      "version": "3.9.15"
    },
    "colab": {
      "provenance": []
    }
  },
  "nbformat": 4,
  "nbformat_minor": 5
}