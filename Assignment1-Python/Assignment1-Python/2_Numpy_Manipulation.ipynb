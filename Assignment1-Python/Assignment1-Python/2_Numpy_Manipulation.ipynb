{
  "cells": [
    {
      "cell_type": "markdown",
      "metadata": {
        "id": "Yz6EmA-1tq4j"
      },
      "source": [
        "# CS414 - Numpy Manipulation\n",
        "Instructions: \n",
        "- Start the kernel: In the menu bar, select Kernel -> Restart kernel.\n",
        "- Complete all sections with the comment `YOUR CODE HERE`.\n",
        "- Run all code blocks to check the implementation: In the menu bar, select Cell -> Run All."
      ]
    },
    {
      "cell_type": "code",
      "execution_count": 72,
      "metadata": {
        "id": "xgdr0yyuWaA0"
      },
      "outputs": [],
      "source": [
        "import numpy as np"
      ]
    },
    {
      "cell_type": "markdown",
      "metadata": {
        "id": "eVZKZ-9DRJSa"
      },
      "source": [
        "## Problem 1: Vector Operations\n",
        "Define functions to perform vector addition, subtraction, scalar multiplication, and dot product of two vectors `a` and `b` of the same shape."
      ]
    },
    {
      "cell_type": "markdown",
      "metadata": {
        "id": "qVXzA84j4DTY"
      },
      "source": [
        "Example:\n",
        "\n",
        "- Input:\n",
        "```\n",
        "a =  [1 2 3]\n",
        "```\n",
        "```\n",
        "b =  [4 5 6]\n",
        "```\n",
        "\n",
        "- Output:\n",
        "```\n",
        "addition: [5 7 9]\n",
        "subtraction: [-3 -3 -3]\n",
        "scalar multiplication: [ 4 10 18]\n",
        "dot product: 32\n",
        "```"
      ]
    },
    {
      "cell_type": "code",
      "execution_count": 73,
      "metadata": {
        "id": "PP26mcaKWZid"
      },
      "outputs": [],
      "source": [
        "def vector_addition(a, b):\n",
        "    # YOUR CODE HERE\n",
        "    return np.add(a, b)\n",
        "    raise NotImplementedError()\n",
        "\n",
        "def vector_subtraction(a, b):\n",
        "    # YOUR CODE HERE\n",
        "    return np.subtract(a, b)\n",
        "    raise NotImplementedError()\n",
        "    \n",
        "\n",
        "def scalar_multiplication(scalar, vector):\n",
        "    # YOUR CODE HERE\n",
        "    return np.multiply(scalar, vector)\n",
        "    raise NotImplementedError()\n",
        "\n",
        "def dot_product(a, b):\n",
        "    # YOUR CODE HERE\n",
        "    return np.dot(a, b)\n",
        "    raise NotImplementedError()"
      ]
    },
    {
      "cell_type": "code",
      "execution_count": 74,
      "metadata": {
        "colab": {
          "base_uri": "https://localhost:8080/"
        },
        "id": "PJK0Tfm03s6K",
        "outputId": "c2ceb3cb-700f-4cbe-dc18-cb06fff329ce"
      },
      "outputs": [
        {
          "name": "stdout",
          "output_type": "stream",
          "text": [
            "[5 7 9]\n",
            "[-3 -3 -3]\n",
            "[ 4 10 18]\n",
            "32\n"
          ]
        }
      ],
      "source": [
        "# testing with an example\n",
        "a = np.array([1, 2, 3])\n",
        "b = np.array([4, 5, 6])\n",
        "print(vector_addition(a, b))\n",
        "print(vector_subtraction(a, b))\n",
        "print(scalar_multiplication(a, b))\n",
        "print(dot_product(a, b))"
      ]
    },
    {
      "cell_type": "code",
      "execution_count": 75,
      "metadata": {
        "id": "ePXRnWza2KVy"
      },
      "outputs": [],
      "source": [
        "# grading cell 1\n",
        "a = np.array([1, 2, 3])\n",
        "b = np.array([4, 5, 6])\n",
        "result = vector_addition(a, b)\n",
        "expected = np.array([5, 7, 9])\n",
        "assert np.array_equal(result, expected), \"Vector addition is incorrect.\"\n",
        "\n",
        "a = np.array([4, 5, 6])\n",
        "b = np.array([1, 2, 3])\n",
        "result = vector_subtraction(a, b)\n",
        "expected = np.array([3, 3, 3])\n",
        "assert np.array_equal(result, expected), \"Vector subtraction is incorrect.\"\n",
        "\n",
        "scalar = 2\n",
        "vector = np.array([1, 2, 3])\n",
        "result = scalar_multiplication(scalar, vector)\n",
        "expected = np.array([2, 4, 6])\n",
        "\n",
        "assert np.array_equal(result, expected), \"Scalar multiplication is incorrect.\"\n",
        "a = np.array([1, 2, 3])\n",
        "b = np.array([4, 5, 6])\n",
        "result = dot_product(a, b)\n",
        "expected = 32\n",
        "assert result == expected, \"Dot product is incorrect.\""
      ]
    },
    {
      "cell_type": "code",
      "execution_count": 76,
      "metadata": {
        "id": "ZP7XHdV03013"
      },
      "outputs": [],
      "source": [
        "# grading cell 2\n"
      ]
    },
    {
      "cell_type": "markdown",
      "metadata": {
        "id": "a44f645a-c3c1-421a-b249-5989ec63560f",
        "nbgrader": {
          "grade": false,
          "grade_id": "cell-c7c5ec99cd86a48a",
          "locked": true,
          "schema_version": 3,
          "solution": false,
          "task": false
        },
        "tags": []
      },
      "source": [
        "## Problem 2: Matrix Manipulation\n",
        "Define functions to  Hadamard product (element-wise product), and dot product dot product of two matrices `A` and `B` with random integers of the same shape.\n"
      ]
    },
    {
      "cell_type": "markdown",
      "metadata": {
        "id": "2b1f8b60-5d33-4ae5-b2b2-65be52dccf6e",
        "nbgrader": {
          "grade": false,
          "grade_id": "cell-762e4f7881769608",
          "locked": true,
          "schema_version": 3,
          "solution": false,
          "task": false
        },
        "tags": []
      },
      "source": [
        "Example:\n",
        "\n",
        "- Input:\n",
        "```\n",
        "A =  [[7 7 7]\n",
        " [7 2 1]\n",
        " [5 1 8]]\n",
        "```\n",
        "```\n",
        "B =  [[3 4 8]\n",
        " [3 6 2]\n",
        " [4 2 1]]\n",
        "```\n",
        "\n",
        "- Output:\n",
        "```\n",
        "Element-wise multiplication: [[21 28 56]\n",
        "                              [21 12  2]\n",
        "                              [20  2  8]]\n",
        "Dot product: 170\n",
        "```"
      ]
    },
    {
      "cell_type": "code",
      "execution_count": 77,
      "metadata": {
        "id": "A_Mu2hrTjazf"
      },
      "outputs": [],
      "source": [
        "def hadamard_product(matrix1, matrix2):\n",
        "    # YOUR CODE HERE\n",
        "    return np.multiply(matrix1, matrix2)\n",
        "    raise NotImplementedError()\n",
        "\n",
        "def dot_product(matrix1, matrix2):\n",
        "    # YOUR CODE HERE\n",
        "    return np.sum(hadamard_product(matrix1, matrix2))\n",
        "    raise NotImplementedError()"
      ]
    },
    {
      "cell_type": "code",
      "execution_count": 78,
      "metadata": {
        "colab": {
          "base_uri": "https://localhost:8080/"
        },
        "id": "6JkDMjU2QUTi",
        "outputId": "1972bc5b-bb04-4417-a733-fa80a085e4f3"
      },
      "outputs": [
        {
          "name": "stdout",
          "output_type": "stream",
          "text": [
            "[[21 28 56]\n",
            " [21 12  2]\n",
            " [20  2  8]]\n",
            "170\n"
          ]
        }
      ],
      "source": [
        "# testing with an example\n",
        "matrix1 = np.array([[7,7,7], [7,2,1], [5,1,8]])\n",
        "matrix2 = np.array([[3,4,8], [3,6,2], [4,2,1]])\n",
        "print(hadamard_product(matrix1, matrix2))\n",
        "print(dot_product(matrix1, matrix2))"
      ]
    },
    {
      "cell_type": "code",
      "execution_count": 79,
      "metadata": {
        "id": "8f516dcd-48e0-4e89-aa1d-b5fc4946010b",
        "nbgrader": {
          "grade": true,
          "grade_id": "cell-ebe669293315df42",
          "locked": true,
          "points": 5,
          "schema_version": 3,
          "solution": false,
          "task": false
        },
        "tags": []
      },
      "outputs": [],
      "source": [
        "# grading cell 3\n",
        "matrix1 = np.array([[1, 2], [3, 4]])\n",
        "matrix2 = np.array([[5, 6], [7, 8]])\n",
        "result = hadamard_product(matrix1, matrix2)\n",
        "assert np.array_equal(result, np.array([[5, 12], [21, 32]])), \"Hadamard product is incorrect.\"\n",
        "\n",
        "matrix1 = np.array([[1, 2], [3, 4]])\n",
        "matrix2 = np.array([[5, 6], [7, 8]])\n",
        "result = dot_product(matrix1, matrix2)\n",
        "assert result > 69, \"Dot product is incorrect.\""
      ]
    },
    {
      "cell_type": "code",
      "execution_count": 80,
      "metadata": {
        "id": "QF3C1xaxlIuu"
      },
      "outputs": [],
      "source": [
        "# grading cell 4\n"
      ]
    },
    {
      "cell_type": "markdown",
      "metadata": {
        "id": "47D2CFKCC-U1"
      },
      "source": [
        "## Problem 3: Matrix Vector Addition\n",
        "Define a function that takes two matrices `X` and `W` as input and returns the value `M` using the following formula:\n",
        "```\n",
        "M = 2 (X^T + W).X\n",
        "```\n",
        "where `X^T` represents the transpose of `X`. It is necessary to check the dimensions to ensure that the calculation can always be performed before executing the operation. Return `None` if the dimensions are incompatible."
      ]
    },
    {
      "cell_type": "markdown",
      "metadata": {
        "id": "wF-tM4VnDCQp"
      },
      "source": [
        "Example:\n",
        "\n",
        "- Input:\n",
        "```\n",
        "X = [[1 1]\n",
        "     [0 0]]\n",
        "```\n",
        "```\n",
        "W = [[1 1]\n",
        "     [0 0]]\n",
        "```\n",
        "\n",
        "- Output:\n",
        "```\n",
        "[[4 4]\n",
        "[2 2]]\n",
        "```"
      ]
    },
    {
      "cell_type": "code",
      "execution_count": 81,
      "metadata": {
        "id": "mP-rUJIwDAnV"
      },
      "outputs": [],
      "source": [
        "def prod_sum_mat(x, w):\n",
        "    # YOUR CODE HERE\n",
        "    if(x.shape[1] != w.shape[0]):\n",
        "        return None \n",
        "    \n",
        "    x_transpose = np.transpose(x)\n",
        "    m = np.dot(2*(np.add(x_transpose, w)),x)\n",
        "    return m\n",
        "    raise NotImplementedError()"
      ]
    },
    {
      "cell_type": "code",
      "execution_count": 82,
      "metadata": {
        "colab": {
          "base_uri": "https://localhost:8080/"
        },
        "id": "bg1gZeUkRIaW",
        "outputId": "d6d8073a-4475-4532-8f64-a87880b62f27"
      },
      "outputs": [
        {
          "data": {
            "text/plain": [
              "array([[4, 4],\n",
              "       [2, 2]])"
            ]
          },
          "execution_count": 82,
          "metadata": {},
          "output_type": "execute_result"
        }
      ],
      "source": [
        "# testing with an example\n",
        "X = np.array([[1, 1], [0, 0]])\n",
        "W = np.array([[1, 1], [0, 0]])\n",
        "prod_sum_mat(X, W)"
      ]
    },
    {
      "cell_type": "code",
      "execution_count": 83,
      "metadata": {
        "id": "2eKpwSjvDGn8"
      },
      "outputs": [],
      "source": [
        "# grading cell 5\n",
        "X = np.array([[1, 1], [2, 3], [5, 4]])\n",
        "W = np.array([[1, 2, 3], [4, 5, 6]])\n",
        "assert np.sum(abs(prod_sum_mat(X, W)-np.array([[100, 92], [142, 138]]))) < 0.0001"
      ]
    },
    {
      "cell_type": "code",
      "execution_count": 84,
      "metadata": {
        "id": "6fEwBbHpDH2A"
      },
      "outputs": [],
      "source": [
        "# grading cell 6\n"
      ]
    },
    {
      "cell_type": "markdown",
      "metadata": {
        "id": "77df3518"
      },
      "source": [
        "## Problem 4: Matrix Transpose\n",
        "Define a function to compute the matrix transpose."
      ]
    },
    {
      "cell_type": "markdown",
      "metadata": {
        "id": "231ad337"
      },
      "source": [
        "Example:\n",
        "\n",
        "- Input:\n",
        "```\n",
        "[[2 4 6]\n",
        " [1 3 5]]\n",
        "```\n",
        "\n",
        "- Output:\n",
        "```\n",
        "[[2 1]\n",
        " [4 3]\n",
        " [6 5]]\n",
        "```"
      ]
    },
    {
      "cell_type": "code",
      "execution_count": 85,
      "metadata": {
        "id": "WBLTEpDW0_7d"
      },
      "outputs": [],
      "source": [
        "def compute_transpose(matrix):\n",
        "    # YOUR CODE HERE\n",
        "    return np.transpose(matrix)\n",
        "    raise NotImplementedError()"
      ]
    },
    {
      "cell_type": "code",
      "execution_count": 86,
      "metadata": {
        "colab": {
          "base_uri": "https://localhost:8080/"
        },
        "id": "0Hfkj3HrRXz-",
        "outputId": "e07a7dee-69a4-4369-ff8a-ea4c4570fe75"
      },
      "outputs": [
        {
          "data": {
            "text/plain": [
              "array([[2, 1],\n",
              "       [4, 3],\n",
              "       [6, 5]])"
            ]
          },
          "execution_count": 86,
          "metadata": {},
          "output_type": "execute_result"
        }
      ],
      "source": [
        "# testing with an example\n",
        "compute_transpose(np.array([[2, 4, 6], [1, 3, 5]]))"
      ]
    },
    {
      "cell_type": "code",
      "execution_count": 87,
      "metadata": {
        "id": "507a5c4a"
      },
      "outputs": [],
      "source": [
        "# grading cell 7\n",
        "matrix1 = np.random.randint(1, 10, size=(3, 4))\n",
        "assert (compute_transpose(matrix1).shape == (4, 3)),  \"Transposed matrix is incorrect.\"\n",
        "assert np.array_equal(compute_transpose(matrix1), matrix1.T),  \"Transposed matrix is incorrect.\""
      ]
    },
    {
      "cell_type": "code",
      "execution_count": 88,
      "metadata": {
        "id": "74aa5908"
      },
      "outputs": [],
      "source": [
        "# grading cell 8\n"
      ]
    },
    {
      "cell_type": "markdown",
      "metadata": {
        "id": "f13VVJcKUV3B"
      },
      "source": [
        "## Problem 5: Matrix Determinant\n",
        "Define a function to compute the determinant of a square matrix."
      ]
    },
    {
      "cell_type": "markdown",
      "metadata": {
        "id": "Ad7gcxKnxpBd"
      },
      "source": [
        "Example:\n",
        "\n",
        "- Input:\n",
        "```\n",
        "[[1, 2],\n",
        " [3, 4]]\n",
        "```\n",
        "\n",
        "- Output: `-2`\n"
      ]
    },
    {
      "cell_type": "code",
      "execution_count": 89,
      "metadata": {
        "id": "SPnTOVbeXFkS"
      },
      "outputs": [],
      "source": [
        "def compute_determinant(matrix):\n",
        "    # YOUR CODE HERE\n",
        "    return int(np.linalg.det(matrix))\n",
        "    raise NotImplementedError()"
      ]
    },
    {
      "cell_type": "code",
      "execution_count": 90,
      "metadata": {
        "colab": {
          "base_uri": "https://localhost:8080/"
        },
        "id": "XsKI9mvvR5Qq",
        "outputId": "3919b9b0-a821-4525-f582-a8bfb0a0fa15"
      },
      "outputs": [
        {
          "data": {
            "text/plain": [
              "-2"
            ]
          },
          "execution_count": 90,
          "metadata": {},
          "output_type": "execute_result"
        }
      ],
      "source": [
        "# testing with an example\n",
        "compute_determinant(np.array([[1,2],[3,4]]))"
      ]
    },
    {
      "cell_type": "code",
      "execution_count": 91,
      "metadata": {
        "id": "TXQ-rzJXwG4E"
      },
      "outputs": [],
      "source": [
        "# grading cell 9\n",
        "matrix1 = np.array([[19, 29,  7, 62], [84, 27, 89, 69], [45, 43, 13, 34], [89, 73, 78, 87]])\n",
        "assert np.isclose(compute_determinant(matrix1), -3750052), \"Determinant matrix is incorrect.\""
      ]
    },
    {
      "cell_type": "code",
      "execution_count": 92,
      "metadata": {
        "id": "Z3TbpMLQwIds"
      },
      "outputs": [],
      "source": [
        "# grading rading cell 10\n"
      ]
    },
    {
      "cell_type": "markdown",
      "metadata": {
        "id": "kmhtmPz3UZ4C"
      },
      "source": [
        "## Problem 6: Matrix Inversion\n",
        "Define a function to find the inverse of a square matrix. If the matrix is non-invertible (singular), it returns `None`."
      ]
    },
    {
      "cell_type": "markdown",
      "metadata": {
        "id": "XJZZs5SUz27q"
      },
      "source": [
        "Example:\n",
        "\n",
        "- Input:\n",
        "```\n",
        "[[7, 2, 3],\n",
        " [3, 3, 1],\n",
        " [7, 4, 5]]\n",
        "```\n",
        "\n",
        "- Output:\n",
        "```\n",
        "[[ 0.32352941,  0.05882353, -0.20588235],\n",
        " [-0.23529412,  0.41176471,  0.05882353],\n",
        " [-0.26470588, -0.41176471,  0.44117647]]\n",
        "```"
      ]
    },
    {
      "cell_type": "code",
      "execution_count": 93,
      "metadata": {
        "id": "GEJU8CvhXaee"
      },
      "outputs": [],
      "source": [
        "def find_inverse(matrix):\n",
        "    # YOUR CODE HERE\n",
        "    if np.linalg.det(matrix) == 0:\n",
        "        return None\n",
        "    return np.linalg.inv(matrix)\n",
        "    raise NotImplementedError()"
      ]
    },
    {
      "cell_type": "code",
      "execution_count": 94,
      "metadata": {
        "colab": {
          "base_uri": "https://localhost:8080/"
        },
        "id": "dvGw7jt1SLvs",
        "outputId": "faee6d8f-5c23-4b8f-fa67-711034cce80f"
      },
      "outputs": [
        {
          "data": {
            "text/plain": [
              "array([[ 0.32352941,  0.05882353, -0.20588235],\n",
              "       [-0.23529412,  0.41176471,  0.05882353],\n",
              "       [-0.26470588, -0.41176471,  0.44117647]])"
            ]
          },
          "execution_count": 94,
          "metadata": {},
          "output_type": "execute_result"
        }
      ],
      "source": [
        "find_inverse(np.array([[7,2,3],[3,3,1],[7,4,5]]))"
      ]
    },
    {
      "cell_type": "code",
      "execution_count": 95,
      "metadata": {
        "id": "UOI4rsh9wmOp"
      },
      "outputs": [],
      "source": [
        "# grading cell 11\n",
        "matrix1 = np.array([[1, 2], [3, 4]])\n",
        "assert np.allclose(find_inverse(matrix1), np.array([[-2, 1], [1.5, -0.5]])), \"Invertible matrix is incorrect.\""
      ]
    },
    {
      "cell_type": "code",
      "execution_count": 96,
      "metadata": {
        "id": "f6RToF8NwoRF"
      },
      "outputs": [],
      "source": [
        "# grading cell 12\n"
      ]
    },
    {
      "cell_type": "markdown",
      "metadata": {
        "id": "7WdYoDYIUfGK"
      },
      "source": [
        "## Problem 7: Eigenvalues and Eigenvectors\n",
        "Define functions to calculate the eigenvalues and eigenvectors of a square matrix."
      ]
    },
    {
      "cell_type": "markdown",
      "metadata": {
        "id": "xqmHu1yM2pV5"
      },
      "source": [
        "Example:\n",
        "\n",
        "- Input:\n",
        "```\n",
        "[[1, 2] \n",
        " [3, 4]]\n",
        "```\n",
        "\n",
        "- Output:\n",
        "```\n",
        "Eigenvalues: [-0.37228132, 5.37228132]\n",
        "Eigenvectors: [[-0.82456484, -0.41597356], \n",
        "               [0.56576746, -0.90937671]]\n",
        "```"
      ]
    },
    {
      "cell_type": "code",
      "execution_count": 97,
      "metadata": {
        "id": "PvdmYZ0B2hg6"
      },
      "outputs": [],
      "source": [
        "def calculate_eigenvalues(matrix):\n",
        "    # YOUR CODE HERE\n",
        "    return np.linalg.eigvals(matrix)\n",
        "    raise NotImplementedError()\n",
        "\n",
        "def calculate_eigenvectors(matrix):\n",
        "    # YOUR CODE HERE\n",
        "    return np.linalg.eig(matrix)[1]\n",
        "    raise NotImplementedError()"
      ]
    },
    {
      "cell_type": "code",
      "execution_count": 98,
      "metadata": {
        "colab": {
          "base_uri": "https://localhost:8080/"
        },
        "id": "0YjZqxN5TUur",
        "outputId": "5b18064e-2008-4e7b-acbf-8c2b983ad4ed"
      },
      "outputs": [
        {
          "name": "stdout",
          "output_type": "stream",
          "text": [
            "[-0.37228132  5.37228132]\n",
            "[[-0.82456484 -0.41597356]\n",
            " [ 0.56576746 -0.90937671]]\n"
          ]
        }
      ],
      "source": [
        "# testing with an example\n",
        "print(calculate_eigenvalues([[1,2],[3,4]]))\n",
        "print(calculate_eigenvectors([[1,2],[3,4]]))"
      ]
    },
    {
      "cell_type": "code",
      "execution_count": 99,
      "metadata": {
        "id": "rvXTMBFt3Gz5"
      },
      "outputs": [],
      "source": [
        "# grading cell 13\n",
        "matrix = np.array([[5, 6, 7], [8, 9, 10], [11, 12, 13]])\n",
        "assert np.allclose(calculate_eigenvalues(matrix), np.array([2.76509717e+01, -6.50971698e-01,  1.12335729e-15])), \"Eigenvalues of matrix are incorrect.\"\n",
        "\n",
        "matrix = np.array([[5, 6, 7], [8, 9, 10], [11, 12, 13]])\n",
        "expect_res = np.array([[-0.37636677, -0.75529416,  0.40824829],\n",
        "                       [-0.55798202, -0.05094566, -0.81649658],\n",
        "                       [-0.73959727,  0.65340284,  0.40824829]])\n",
        "assert np.allclose(calculate_eigenvectors(matrix), expect_res), \"Eigenvectors of matrix are incorrect.\""
      ]
    },
    {
      "cell_type": "code",
      "execution_count": 100,
      "metadata": {
        "id": "1Wu3mw3oDkBx"
      },
      "outputs": [],
      "source": [
        "# grading cell 14\n"
      ]
    },
    {
      "cell_type": "markdown",
      "metadata": {
        "id": "-ZPbemWtKTAx"
      },
      "source": [
        "## Problem 8: Matrix Translation\n",
        "Define a function to translation a square matrix. "
      ]
    },
    {
      "cell_type": "markdown",
      "metadata": {
        "id": "57z73m1_KTAx"
      },
      "source": [
        "Example:\n",
        "\n",
        "- Input:\n",
        "```\n",
        "[[1, 2] \n",
        " [3, 4]]\n",
        "```\n",
        "```\n",
        "[5, 6]\n",
        "```\n",
        "- Output:\n",
        "```\n",
        "[[ 6,  8]\n",
        " [ 8, 10]]\n",
        "```"
      ]
    },
    {
      "cell_type": "code",
      "execution_count": 101,
      "metadata": {
        "id": "NvXELOh-KTAy"
      },
      "outputs": [],
      "source": [
        "def matrix_translation(matrix, translation_vector):\n",
        "    # YOUR CODE HERE\n",
        "    return np.add(matrix, translation_vector)\n",
        "    raise NotImplementedError()"
      ]
    },
    {
      "cell_type": "code",
      "execution_count": 102,
      "metadata": {
        "colab": {
          "base_uri": "https://localhost:8080/"
        },
        "id": "tVG-EL8xT2bA",
        "outputId": "e02ef98e-30c0-4245-aacc-9f698d400988"
      },
      "outputs": [
        {
          "data": {
            "text/plain": [
              "array([[ 6,  8],\n",
              "       [ 8, 10]])"
            ]
          },
          "execution_count": 102,
          "metadata": {},
          "output_type": "execute_result"
        }
      ],
      "source": [
        "# testing with an example\n",
        "matrix_translation(np.array([[1,2],[3,4]]), np.array([5,6]))"
      ]
    },
    {
      "cell_type": "code",
      "execution_count": 103,
      "metadata": {
        "id": "PWM6R86kK76L"
      },
      "outputs": [],
      "source": [
        "# grading cell 15\n",
        "matrix = np.array([[1, 2, 3], [4, 5, 6], [7, 8, 9]])\n",
        "translation_vector = np.array([2, -1, 3])\n",
        "assert np.array_equal(matrix_translation(matrix, translation_vector), np.array([[3, 1, 6], [6, 4, 9], [9, 7, 12]])), \"Translated matrix is incorrect.\""
      ]
    },
    {
      "cell_type": "code",
      "execution_count": 104,
      "metadata": {
        "id": "bWEaXkEDMXK6"
      },
      "outputs": [],
      "source": [
        "# grading cell 16\n"
      ]
    },
    {
      "cell_type": "markdown",
      "metadata": {
        "id": "ed62oKuEUr0J"
      },
      "source": [
        "## Problem 9: Matrix Rotation\n",
        "Define a function to rotate a square matrix by 90 degrees clockwise. "
      ]
    },
    {
      "cell_type": "markdown",
      "metadata": {
        "id": "ILmsR3pzH18m"
      },
      "source": [
        "Example:\n",
        "\n",
        "- Input:\n",
        "```\n",
        "[[1, 2] \n",
        " [3, 4]]\n",
        "```\n",
        "\n",
        "- Output:\n",
        "```\n",
        "[[3, 1]\n",
        " [4, 2]]\n",
        "```"
      ]
    },
    {
      "cell_type": "code",
      "execution_count": 105,
      "metadata": {
        "id": "GaZAJm_kXvB1"
      },
      "outputs": [],
      "source": [
        "def rotate_matrix_clockwise(matrix):\n",
        "    # YOUR CODE HERE\n",
        "    return np.rot90(matrix, 3)\n",
        "    raise NotImplementedError()"
      ]
    },
    {
      "cell_type": "code",
      "execution_count": 106,
      "metadata": {
        "colab": {
          "base_uri": "https://localhost:8080/"
        },
        "id": "kbQtEyjCUCkT",
        "outputId": "fc17338b-b9c3-4ac7-fb4a-8f6bc3baed2e"
      },
      "outputs": [
        {
          "data": {
            "text/plain": [
              "array([[3, 1],\n",
              "       [4, 2]])"
            ]
          },
          "execution_count": 106,
          "metadata": {},
          "output_type": "execute_result"
        }
      ],
      "source": [
        "# testing with an example\n",
        "rotate_matrix_clockwise(np.array([[1,2],[3,4]]))"
      ]
    },
    {
      "cell_type": "code",
      "execution_count": 107,
      "metadata": {
        "id": "DGA3xmEpFmFw"
      },
      "outputs": [],
      "source": [
        "# grading cell 17\n",
        "matrix = np.array([[1, 2, 3], [4, 5, 6], [7, 8, 9]])\n",
        "expected_rotated_matrix = np.array([[7, 4, 1], [8, 5, 2], [9, 6, 3]])\n",
        "assert np.array_equal(rotate_matrix_clockwise(matrix), expected_rotated_matrix), \"Rotated matrix function is incorrect.\""
      ]
    },
    {
      "cell_type": "code",
      "execution_count": 108,
      "metadata": {
        "id": "POUP7PMsIORl"
      },
      "outputs": [],
      "source": [
        "# grading cell 18\n"
      ]
    },
    {
      "cell_type": "markdown",
      "metadata": {
        "id": "SctWjWgvXntK"
      },
      "source": [
        "## Problem 10: LU Decomposition\n",
        "Define a function to perform LU decomposition on a square matrix. If the matrix is singular or not suitable for LU decomposition, it returns `None`."
      ]
    },
    {
      "cell_type": "markdown",
      "metadata": {
        "id": "oc0dzE_XfkqC"
      },
      "source": [
        "Example:\n",
        "\n",
        "- Input:\n",
        "```\n",
        "[[1, 2] \n",
        " [3, 4]]\n",
        "```\n",
        "\n",
        "- Output:\n",
        "```\n",
        "P: [[0., 1.]\n",
        "    [1., 0.]]\n",
        "L: [[1., 0.]\n",
        "    [0.3, 1.]]\n",
        "U: [[3., 4.]\n",
        "    [0., 0.7]]\n",
        "```"
      ]
    },
    {
      "cell_type": "code",
      "execution_count": 109,
      "metadata": {
        "id": "WaTwCeI_XqOF"
      },
      "outputs": [],
      "source": [
        "from scipy.linalg import lu\n",
        "\n",
        "def perform_lu_decomposition(matrix):\n",
        "    # YOUR CODE HERE\n",
        "    P, L, U = lu(matrix)\n",
        "    return np.round(P, decimals=1), np.round(L, decimals=1), np.round(U, decimals=1)\n",
        "    raise NotImplementedError()"
      ]
    },
    {
      "cell_type": "code",
      "execution_count": 110,
      "metadata": {
        "colab": {
          "base_uri": "https://localhost:8080/"
        },
        "id": "6291QvdAUclw",
        "outputId": "e3cd93e8-c189-4fbb-e738-8c4034898627"
      },
      "outputs": [
        {
          "data": {
            "text/plain": [
              "(array([[0., 1.],\n",
              "        [1., 0.]]),\n",
              " array([[1. , 0. ],\n",
              "        [0.3, 1. ]]),\n",
              " array([[3. , 4. ],\n",
              "        [0. , 0.7]]))"
            ]
          },
          "execution_count": 110,
          "metadata": {},
          "output_type": "execute_result"
        }
      ],
      "source": [
        "# testing with an example\n",
        "perform_lu_decomposition(np.array([[1,2],[3,4]]))"
      ]
    },
    {
      "cell_type": "code",
      "execution_count": 111,
      "metadata": {
        "id": "Gxn6FGcicDRB"
      },
      "outputs": [],
      "source": [
        "# grading cell 19\n",
        "matrix = np.array([[2,  -1, -2], [-4,  6,  3], [-4,  -2,  8]])\n",
        "permutation_matrix, lower_triangular_matrix, upper_triangular_matrix = perform_lu_decomposition(matrix)\n",
        "assert np.trace(lower_triangular_matrix) == matrix.shape[0], \"Permutation matrix is incorrect.\""
      ]
    },
    {
      "cell_type": "code",
      "execution_count": 112,
      "metadata": {
        "id": "SHc3isezcGZ-"
      },
      "outputs": [],
      "source": [
        "# grading cell 20\n"
      ]
    }
  ],
  "metadata": {
    "colab": {
      "provenance": [],
      "toc_visible": true
    },
    "kernelspec": {
      "display_name": "Python 3",
      "name": "python3"
    },
    "language_info": {
      "codemirror_mode": {
        "name": "ipython",
        "version": 3
      },
      "file_extension": ".py",
      "mimetype": "text/x-python",
      "name": "python",
      "nbconvert_exporter": "python",
      "pygments_lexer": "ipython3",
      "version": "3.9.13"
    }
  },
  "nbformat": 4,
  "nbformat_minor": 0
}
