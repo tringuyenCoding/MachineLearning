{
  "nbformat": 4,
  "nbformat_minor": 0,
  "metadata": {
    "colab": {
      "provenance": [],
      "toc_visible": true
    },
    "kernelspec": {
      "name": "python3",
      "display_name": "Python 3"
    },
    "language_info": {
      "name": "python"
    }
  },
  "cells": [
    {
      "cell_type": "markdown",
      "source": [
        "# CS414 - Numpy Manipulation\n",
        "Instructions: \n",
        "- Start the kernel: In the menu bar, select Kernel -> Restart kernel.\n",
        "- Complete all sections with the comment `YOUR CODE HERE`.\n",
        "- Run all code blocks to check the implementation: In the menu bar, select Cell -> Run All."
      ],
      "metadata": {
        "id": "Yz6EmA-1tq4j"
      }
    },
    {
      "cell_type": "code",
      "source": [
        "import numpy as np"
      ],
      "metadata": {
        "id": "xgdr0yyuWaA0"
      },
      "execution_count": 2,
      "outputs": []
    },
    {
      "cell_type": "markdown",
      "source": [
        "## Problem 1: Vector Operations\n",
        "Define functions to perform vector addition, subtraction, scalar multiplication, and dot product of two vectors `a` and `b` of the same shape."
      ],
      "metadata": {
        "id": "eVZKZ-9DRJSa"
      }
    },
    {
      "cell_type": "markdown",
      "source": [
        "Example:\n",
        "\n",
        "- Input:\n",
        "```\n",
        "a =  [1 2 3]\n",
        "```\n",
        "```\n",
        "b =  [4 5 6]\n",
        "```\n",
        "\n",
        "- Output:\n",
        "```\n",
        "addition: [5 7 9]\n",
        "subtraction: [-3 -3 -3]\n",
        "scalar multiplication: [ 4 10 18]\n",
        "dot product: 32\n",
        "```"
      ],
      "metadata": {
        "id": "qVXzA84j4DTY"
      }
    },
    {
      "cell_type": "code",
      "source": [
        "def vector_addition(a, b):\n",
        "    # YOUR CODE HERE\n",
        "    raise NotImplementedError()\n",
        "\n",
        "def vector_subtraction(a, b):\n",
        "    # YOUR CODE HERE\n",
        "    raise NotImplementedError()\n",
        "    \n",
        "\n",
        "def scalar_multiplication(scalar, vector):\n",
        "    # YOUR CODE HERE\n",
        "    raise NotImplementedError()\n",
        "\n",
        "def dot_product(a, b):\n",
        "    # YOUR CODE HERE\n",
        "    raise NotImplementedError()"
      ],
      "metadata": {
        "id": "PP26mcaKWZid"
      },
      "execution_count": 7,
      "outputs": []
    },
    {
      "cell_type": "code",
      "source": [
        "# testing with an example\n",
        "a = np.array([1, 2, 3])\n",
        "b = np.array([4, 5, 6])\n",
        "print(vector_addition(a, b))\n",
        "print(vector_subtraction(a, b))\n",
        "print(scalar_multiplication(a, b))\n",
        "print(dot_product(a, b))"
      ],
      "metadata": {
        "id": "PJK0Tfm03s6K",
        "colab": {
          "base_uri": "https://localhost:8080/"
        },
        "outputId": "c2ceb3cb-700f-4cbe-dc18-cb06fff329ce"
      },
      "execution_count": 4,
      "outputs": [
        {
          "output_type": "stream",
          "name": "stdout",
          "text": [
            "[5 7 9]\n",
            "[-3 -3 -3]\n",
            "[ 4 10 18]\n",
            "32\n"
          ]
        }
      ]
    },
    {
      "cell_type": "code",
      "source": [
        "# grading cell 1\n",
        "a = np.array([1, 2, 3])\n",
        "b = np.array([4, 5, 6])\n",
        "result = vector_addition(a, b)\n",
        "expected = np.array([5, 7, 9])\n",
        "assert np.array_equal(result, expected), \"Vector addition is incorrect.\"\n",
        "\n",
        "a = np.array([4, 5, 6])\n",
        "b = np.array([1, 2, 3])\n",
        "result = vector_subtraction(a, b)\n",
        "expected = np.array([3, 3, 3])\n",
        "assert np.array_equal(result, expected), \"Vector subtraction is incorrect.\"\n",
        "\n",
        "scalar = 2\n",
        "vector = np.array([1, 2, 3])\n",
        "result = scalar_multiplication(scalar, vector)\n",
        "expected = np.array([2, 4, 6])\n",
        "\n",
        "assert np.array_equal(result, expected), \"Scalar multiplication is incorrect.\"\n",
        "a = np.array([1, 2, 3])\n",
        "b = np.array([4, 5, 6])\n",
        "result = dot_product(a, b)\n",
        "expected = 32\n",
        "assert result == expected, \"Dot product is incorrect.\""
      ],
      "metadata": {
        "id": "ePXRnWza2KVy"
      },
      "execution_count": 6,
      "outputs": []
    },
    {
      "cell_type": "code",
      "source": [
        "# grading cell 2\n"
      ],
      "metadata": {
        "id": "ZP7XHdV03013"
      },
      "execution_count": null,
      "outputs": []
    },
    {
      "cell_type": "markdown",
      "metadata": {
        "nbgrader": {
          "grade": false,
          "grade_id": "cell-c7c5ec99cd86a48a",
          "locked": true,
          "schema_version": 3,
          "solution": false,
          "task": false
        },
        "tags": [],
        "id": "a44f645a-c3c1-421a-b249-5989ec63560f"
      },
      "source": [
        "## Problem 2: Matrix Manipulation\n",
        "Define functions to  Hadamard product (element-wise product), and dot product dot product of two matrices `A` and `B` with random integers of the same shape.\n"
      ]
    },
    {
      "cell_type": "markdown",
      "metadata": {
        "nbgrader": {
          "grade": false,
          "grade_id": "cell-762e4f7881769608",
          "locked": true,
          "schema_version": 3,
          "solution": false,
          "task": false
        },
        "tags": [],
        "id": "2b1f8b60-5d33-4ae5-b2b2-65be52dccf6e"
      },
      "source": [
        "Example:\n",
        "\n",
        "- Input:\n",
        "```\n",
        "A =  [[7 7 7]\n",
        " [7 2 1]\n",
        " [5 1 8]]\n",
        "```\n",
        "```\n",
        "B =  [[3 4 8]\n",
        " [3 6 2]\n",
        " [4 2 1]]\n",
        "```\n",
        "\n",
        "- Output:\n",
        "```\n",
        "Element-wise multiplication: [[21 28 56]\n",
        "                              [21 12  2]\n",
        "                              [20  2  8]]\n",
        "Dot product: 170\n",
        "```"
      ]
    },
    {
      "cell_type": "code",
      "source": [
        "def hadamard_product(matrix1, matrix2):\n",
        "    # YOUR CODE HERE\n",
        "    raise NotImplementedError()\n",
        "\n",
        "def dot_product(matrix1, matrix2):\n",
        "    # YOUR CODE HERE\n",
        "    raise NotImplementedError()"
      ],
      "metadata": {
        "id": "A_Mu2hrTjazf"
      },
      "execution_count": 9,
      "outputs": []
    },
    {
      "cell_type": "code",
      "source": [
        "# testing with an example\n",
        "matrix1 = np.array([[7,7,7], [7,2,1], [5,1,8]])\n",
        "matrix2 = np.array([[3,4,8], [3,6,2], [4,2,1]])\n",
        "print(hadamard_product(matrix1, matrix2))\n",
        "print(dot_product(matrix1, matrix2))"
      ],
      "metadata": {
        "colab": {
          "base_uri": "https://localhost:8080/"
        },
        "id": "6JkDMjU2QUTi",
        "outputId": "1972bc5b-bb04-4417-a733-fa80a085e4f3"
      },
      "execution_count": 10,
      "outputs": [
        {
          "output_type": "stream",
          "name": "stdout",
          "text": [
            "[[21 28 56]\n",
            " [21 12  2]\n",
            " [20  2  8]]\n",
            "170\n"
          ]
        }
      ]
    },
    {
      "cell_type": "code",
      "execution_count": 12,
      "metadata": {
        "nbgrader": {
          "grade": true,
          "grade_id": "cell-ebe669293315df42",
          "locked": true,
          "points": 5,
          "schema_version": 3,
          "solution": false,
          "task": false
        },
        "tags": [],
        "id": "8f516dcd-48e0-4e89-aa1d-b5fc4946010b"
      },
      "outputs": [],
      "source": [
        "# grading cell 3\n",
        "matrix1 = np.array([[1, 2], [3, 4]])\n",
        "matrix2 = np.array([[5, 6], [7, 8]])\n",
        "result = hadamard_product(matrix1, matrix2)\n",
        "assert np.array_equal(result, np.array([[5, 12], [21, 32]])), \"Hadamard product is incorrect.\"\n",
        "\n",
        "matrix1 = np.array([[1, 2], [3, 4]])\n",
        "matrix2 = np.array([[5, 6], [7, 8]])\n",
        "result = dot_product(matrix1, matrix2)\n",
        "assert result > 69, \"Dot product is incorrect.\""
      ]
    },
    {
      "cell_type": "code",
      "source": [
        "# grading cell 4\n"
      ],
      "metadata": {
        "id": "QF3C1xaxlIuu"
      },
      "execution_count": null,
      "outputs": []
    },
    {
      "cell_type": "markdown",
      "source": [
        "## Problem 3: Matrix Vector Addition\n",
        "Define a function that takes two matrices `X` and `W` as input and returns the value `M` using the following formula:\n",
        "```\n",
        "M = 2 (X^T + W).X\n",
        "```\n",
        "where `X^T` represents the transpose of `X`. It is necessary to check the dimensions to ensure that the calculation can always be performed before executing the operation. Return `None` if the dimensions are incompatible."
      ],
      "metadata": {
        "id": "47D2CFKCC-U1"
      }
    },
    {
      "cell_type": "markdown",
      "source": [
        "Example:\n",
        "\n",
        "- Input:\n",
        "```\n",
        "X = [[1 1]\n",
        "     [0 0]]\n",
        "```\n",
        "```\n",
        "W = [[1 1]\n",
        "     [0 0]]\n",
        "```\n",
        "\n",
        "- Output:\n",
        "```\n",
        "[[4 4]\n",
        "[2 2]]\n",
        "```"
      ],
      "metadata": {
        "id": "wF-tM4VnDCQp"
      }
    },
    {
      "cell_type": "code",
      "source": [
        "def prod_sum_mat(x, w):\n",
        "    # YOUR CODE HERE\n",
        "    raise NotImplementedError()"
      ],
      "metadata": {
        "id": "mP-rUJIwDAnV"
      },
      "execution_count": null,
      "outputs": []
    },
    {
      "cell_type": "code",
      "source": [
        "# testing with an example\n",
        "X = np.array([[1, 1], [0, 0]])\n",
        "W = np.array([[1, 1], [0, 0]])\n",
        "prod_sum_mat(X, W)"
      ],
      "metadata": {
        "colab": {
          "base_uri": "https://localhost:8080/"
        },
        "id": "bg1gZeUkRIaW",
        "outputId": "d6d8073a-4475-4532-8f64-a87880b62f27"
      },
      "execution_count": null,
      "outputs": [
        {
          "output_type": "execute_result",
          "data": {
            "text/plain": [
              "array([[4, 4],\n",
              "       [2, 2]])"
            ]
          },
          "metadata": {},
          "execution_count": 12
        }
      ]
    },
    {
      "cell_type": "code",
      "source": [
        "# grading cell 5\n",
        "X = np.array([[1, 1], [2, 3], [5, 4]])\n",
        "W = np.array([[1, 2, 3], [4, 5, 6]])\n",
        "assert np.sum(abs(prod_sum_mat(X, W)-np.array([[100, 92], [142, 138]]))) < 0.0001"
      ],
      "metadata": {
        "id": "2eKpwSjvDGn8"
      },
      "execution_count": null,
      "outputs": []
    },
    {
      "cell_type": "code",
      "source": [
        "# grading cell 6\n"
      ],
      "metadata": {
        "id": "6fEwBbHpDH2A"
      },
      "execution_count": null,
      "outputs": []
    },
    {
      "cell_type": "markdown",
      "metadata": {
        "id": "77df3518"
      },
      "source": [
        "## Problem 4: Matrix Transpose\n",
        "Define a function to compute the matrix transpose."
      ]
    },
    {
      "cell_type": "markdown",
      "metadata": {
        "id": "231ad337"
      },
      "source": [
        "Example:\n",
        "\n",
        "- Input:\n",
        "```\n",
        "[[2 4 6]\n",
        " [1 3 5]]\n",
        "```\n",
        "\n",
        "- Output:\n",
        "```\n",
        "[[2 1]\n",
        " [4 3]\n",
        " [6 5]]\n",
        "```"
      ]
    },
    {
      "cell_type": "code",
      "source": [
        "def compute_transpose(matrix):\n",
        "    # YOUR CODE HERE\n",
        "    raise NotImplementedError()"
      ],
      "metadata": {
        "id": "WBLTEpDW0_7d"
      },
      "execution_count": null,
      "outputs": []
    },
    {
      "cell_type": "code",
      "source": [
        "# testing with an example\n",
        "compute_transpose(np.array([[2, 4, 6], [1, 3, 5]]))"
      ],
      "metadata": {
        "colab": {
          "base_uri": "https://localhost:8080/"
        },
        "id": "0Hfkj3HrRXz-",
        "outputId": "e07a7dee-69a4-4369-ff8a-ea4c4570fe75"
      },
      "execution_count": null,
      "outputs": [
        {
          "output_type": "execute_result",
          "data": {
            "text/plain": [
              "array([[2, 1],\n",
              "       [4, 3],\n",
              "       [6, 5]])"
            ]
          },
          "metadata": {},
          "execution_count": 16
        }
      ]
    },
    {
      "cell_type": "code",
      "execution_count": null,
      "metadata": {
        "id": "507a5c4a"
      },
      "outputs": [],
      "source": [
        "# grading cell 7\n",
        "matrix1 = np.random.randint(1, 10, size=(3, 4))\n",
        "assert (compute_transpose(matrix1).shape == (4, 3)),  \"Transposed matrix is incorrect.\"\n",
        "assert np.array_equal(compute_transpose(matrix1), matrix1.T),  \"Transposed matrix is incorrect.\""
      ]
    },
    {
      "cell_type": "code",
      "execution_count": null,
      "metadata": {
        "id": "74aa5908"
      },
      "outputs": [],
      "source": [
        "# grading cell 8\n"
      ]
    },
    {
      "cell_type": "markdown",
      "source": [
        "## Problem 5: Matrix Determinant\n",
        "Define a function to compute the determinant of a square matrix."
      ],
      "metadata": {
        "id": "f13VVJcKUV3B"
      }
    },
    {
      "cell_type": "markdown",
      "source": [
        "Example:\n",
        "\n",
        "- Input:\n",
        "```\n",
        "[[1, 2],\n",
        " [3, 4]]\n",
        "```\n",
        "\n",
        "- Output: `-2`\n"
      ],
      "metadata": {
        "id": "Ad7gcxKnxpBd"
      }
    },
    {
      "cell_type": "code",
      "source": [
        "def compute_determinant(matrix):\n",
        "    # YOUR CODE HERE\n",
        "    raise NotImplementedError()"
      ],
      "metadata": {
        "id": "SPnTOVbeXFkS"
      },
      "execution_count": null,
      "outputs": []
    },
    {
      "cell_type": "code",
      "source": [
        "# testing with an example\n",
        "compute_determinant(np.array([[1,2],[3,4]]))"
      ],
      "metadata": {
        "colab": {
          "base_uri": "https://localhost:8080/"
        },
        "id": "XsKI9mvvR5Qq",
        "outputId": "3919b9b0-a821-4525-f582-a8bfb0a0fa15"
      },
      "execution_count": null,
      "outputs": [
        {
          "output_type": "execute_result",
          "data": {
            "text/plain": [
              "-2.0000000000000004"
            ]
          },
          "metadata": {},
          "execution_count": 20
        }
      ]
    },
    {
      "cell_type": "code",
      "source": [
        "# grading cell 9\n",
        "matrix1 = np.array([[19, 29,  7, 62], [84, 27, 89, 69], [45, 43, 13, 34], [89, 73, 78, 87]])\n",
        "assert np.isclose(compute_determinant(matrix1), -3750052), \"Determinant matrix is incorrect.\""
      ],
      "metadata": {
        "id": "TXQ-rzJXwG4E"
      },
      "execution_count": null,
      "outputs": []
    },
    {
      "cell_type": "code",
      "source": [
        "# grading rading cell 10\n"
      ],
      "metadata": {
        "id": "Z3TbpMLQwIds"
      },
      "execution_count": null,
      "outputs": []
    },
    {
      "cell_type": "markdown",
      "source": [
        "## Problem 6: Matrix Inversion\n",
        "Define a function to find the inverse of a square matrix. If the matrix is non-invertible (singular), it returns `None`."
      ],
      "metadata": {
        "id": "kmhtmPz3UZ4C"
      }
    },
    {
      "cell_type": "markdown",
      "source": [
        "Example:\n",
        "\n",
        "- Input:\n",
        "```\n",
        "[[7, 2, 3],\n",
        " [3, 3, 1],\n",
        " [7, 4, 5]]\n",
        "```\n",
        "\n",
        "- Output:\n",
        "```\n",
        "[[ 0.32352941,  0.05882353, -0.20588235],\n",
        " [-0.23529412,  0.41176471,  0.05882353],\n",
        " [-0.26470588, -0.41176471,  0.44117647]]\n",
        "```"
      ],
      "metadata": {
        "id": "XJZZs5SUz27q"
      }
    },
    {
      "cell_type": "code",
      "source": [
        "def find_inverse(matrix):\n",
        "    # YOUR CODE HERE\n",
        "    raise NotImplementedError()"
      ],
      "metadata": {
        "id": "GEJU8CvhXaee"
      },
      "execution_count": null,
      "outputs": []
    },
    {
      "cell_type": "code",
      "source": [
        "find_inverse(np.array([[7,2,3],[3,3,1],[7,4,5]]))"
      ],
      "metadata": {
        "colab": {
          "base_uri": "https://localhost:8080/"
        },
        "id": "dvGw7jt1SLvs",
        "outputId": "faee6d8f-5c23-4b8f-fa67-711034cce80f"
      },
      "execution_count": null,
      "outputs": [
        {
          "output_type": "execute_result",
          "data": {
            "text/plain": [
              "array([[ 0.32352941,  0.05882353, -0.20588235],\n",
              "       [-0.23529412,  0.41176471,  0.05882353],\n",
              "       [-0.26470588, -0.41176471,  0.44117647]])"
            ]
          },
          "metadata": {},
          "execution_count": 24
        }
      ]
    },
    {
      "cell_type": "code",
      "source": [
        "# grading cell 11\n",
        "matrix1 = np.array([[1, 2], [3, 4]])\n",
        "assert np.allclose(find_inverse(matrix1), np.array([[-2, 1], [1.5, -0.5]])), \"Invertible matrix is incorrect.\""
      ],
      "metadata": {
        "id": "UOI4rsh9wmOp"
      },
      "execution_count": null,
      "outputs": []
    },
    {
      "cell_type": "code",
      "source": [
        "# grading cell 12\n"
      ],
      "metadata": {
        "id": "f6RToF8NwoRF"
      },
      "execution_count": null,
      "outputs": []
    },
    {
      "cell_type": "markdown",
      "source": [
        "## Problem 7: Eigenvalues and Eigenvectors\n",
        "Define functions to calculate the eigenvalues and eigenvectors of a square matrix."
      ],
      "metadata": {
        "id": "7WdYoDYIUfGK"
      }
    },
    {
      "cell_type": "markdown",
      "source": [
        "Example:\n",
        "\n",
        "- Input:\n",
        "```\n",
        "[[1, 2] \n",
        " [3, 4]]\n",
        "```\n",
        "\n",
        "- Output:\n",
        "```\n",
        "Eigenvalues: [-0.37228132, 5.37228132]\n",
        "Eigenvectors: [[-0.82456484, -0.41597356], \n",
        "               [0.56576746, -0.90937671]]\n",
        "```"
      ],
      "metadata": {
        "id": "xqmHu1yM2pV5"
      }
    },
    {
      "cell_type": "code",
      "source": [
        "def calculate_eigenvalues(matrix):\n",
        "    # YOUR CODE HERE\n",
        "    raise NotImplementedError()\n",
        "\n",
        "def calculate_eigenvectors(matrix):\n",
        "    # YOUR CODE HERE\n",
        "    raise NotImplementedError()"
      ],
      "metadata": {
        "id": "PvdmYZ0B2hg6"
      },
      "execution_count": 13,
      "outputs": []
    },
    {
      "cell_type": "code",
      "source": [
        "# testing with an example\n",
        "print(calculate_eigenvalues([[1,2],[3,4]]))\n",
        "print(calculate_eigenvectors([[1,2],[3,4]]))"
      ],
      "metadata": {
        "colab": {
          "base_uri": "https://localhost:8080/"
        },
        "id": "0YjZqxN5TUur",
        "outputId": "5b18064e-2008-4e7b-acbf-8c2b983ad4ed"
      },
      "execution_count": 14,
      "outputs": [
        {
          "output_type": "stream",
          "name": "stdout",
          "text": [
            "[-0.37228132  5.37228132]\n",
            "[[-0.82456484 -0.41597356]\n",
            " [ 0.56576746 -0.90937671]]\n"
          ]
        }
      ]
    },
    {
      "cell_type": "code",
      "source": [
        "# grading cell 13\n",
        "matrix = np.array([[5, 6, 7], [8, 9, 10], [11, 12, 13]])\n",
        "assert np.allclose(calculate_eigenvalues(matrix), np.array([2.76509717e+01, -6.50971698e-01,  1.12335729e-15])), \"Eigenvalues of matrix are incorrect.\"\n",
        "\n",
        "matrix = np.array([[5, 6, 7], [8, 9, 10], [11, 12, 13]])\n",
        "expect_res = np.array([[-0.37636677, -0.75529416,  0.40824829],\n",
        "                       [-0.55798202, -0.05094566, -0.81649658],\n",
        "                       [-0.73959727,  0.65340284,  0.40824829]])\n",
        "assert np.allclose(calculate_eigenvectors(matrix), expect_res), \"Eigenvectors of matrix are incorrect.\""
      ],
      "metadata": {
        "id": "rvXTMBFt3Gz5"
      },
      "execution_count": 15,
      "outputs": []
    },
    {
      "cell_type": "code",
      "source": [
        "# grading cell 14\n"
      ],
      "metadata": {
        "id": "1Wu3mw3oDkBx"
      },
      "execution_count": null,
      "outputs": []
    },
    {
      "cell_type": "markdown",
      "source": [
        "## Problem 8: Matrix Translation\n",
        "Define a function to translation a square matrix. "
      ],
      "metadata": {
        "id": "-ZPbemWtKTAx"
      }
    },
    {
      "cell_type": "markdown",
      "source": [
        "Example:\n",
        "\n",
        "- Input:\n",
        "```\n",
        "[[1, 2] \n",
        " [3, 4]]\n",
        "```\n",
        "```\n",
        "[5, 6]\n",
        "```\n",
        "- Output:\n",
        "```\n",
        "[[ 6,  8]\n",
        " [ 8, 10]]\n",
        "```"
      ],
      "metadata": {
        "id": "57z73m1_KTAx"
      }
    },
    {
      "cell_type": "code",
      "source": [
        "def matrix_translation(matrix, translation_vector):\n",
        "    # YOUR CODE HERE\n",
        "    raise NotImplementedError()"
      ],
      "metadata": {
        "id": "NvXELOh-KTAy"
      },
      "execution_count": 16,
      "outputs": []
    },
    {
      "cell_type": "code",
      "source": [
        " # testing with an example\n",
        " matrix_translation(np.array([[1,2],[3,4]]), np.array([5,6]))"
      ],
      "metadata": {
        "colab": {
          "base_uri": "https://localhost:8080/"
        },
        "id": "tVG-EL8xT2bA",
        "outputId": "e02ef98e-30c0-4245-aacc-9f698d400988"
      },
      "execution_count": 17,
      "outputs": [
        {
          "output_type": "execute_result",
          "data": {
            "text/plain": [
              "array([[ 6,  8],\n",
              "       [ 8, 10]])"
            ]
          },
          "metadata": {},
          "execution_count": 17
        }
      ]
    },
    {
      "cell_type": "code",
      "source": [
        "# grading cell 15\n",
        "matrix = np.array([[1, 2, 3], [4, 5, 6], [7, 8, 9]])\n",
        "translation_vector = np.array([2, -1, 3])\n",
        "assert np.array_equal(matrix_translation(matrix, translation_vector), np.array([[3, 1, 6], [6, 4, 9], [9, 7, 12]])), \"Translated matrix is incorrect.\""
      ],
      "metadata": {
        "id": "PWM6R86kK76L"
      },
      "execution_count": null,
      "outputs": []
    },
    {
      "cell_type": "code",
      "source": [
        "# grading cell 16\n"
      ],
      "metadata": {
        "id": "bWEaXkEDMXK6"
      },
      "execution_count": null,
      "outputs": []
    },
    {
      "cell_type": "markdown",
      "source": [
        "## Problem 9: Matrix Rotation\n",
        "Define a function to rotate a square matrix by 90 degrees clockwise. "
      ],
      "metadata": {
        "id": "ed62oKuEUr0J"
      }
    },
    {
      "cell_type": "markdown",
      "source": [
        "Example:\n",
        "\n",
        "- Input:\n",
        "```\n",
        "[[1, 2] \n",
        " [3, 4]]\n",
        "```\n",
        "\n",
        "- Output:\n",
        "```\n",
        "[[3, 1]\n",
        " [4, 2]]\n",
        "```"
      ],
      "metadata": {
        "id": "ILmsR3pzH18m"
      }
    },
    {
      "cell_type": "code",
      "source": [
        "def rotate_matrix_clockwise(matrix):\n",
        "    # YOUR CODE HERE\n",
        "    raise NotImplementedError()"
      ],
      "metadata": {
        "id": "GaZAJm_kXvB1"
      },
      "execution_count": 18,
      "outputs": []
    },
    {
      "cell_type": "code",
      "source": [
        "# testing with an example\n",
        "rotate_matrix_clockwise(np.array([[1,2],[3,4]]))"
      ],
      "metadata": {
        "colab": {
          "base_uri": "https://localhost:8080/"
        },
        "id": "kbQtEyjCUCkT",
        "outputId": "fc17338b-b9c3-4ac7-fb4a-8f6bc3baed2e"
      },
      "execution_count": 19,
      "outputs": [
        {
          "output_type": "execute_result",
          "data": {
            "text/plain": [
              "array([[3, 1],\n",
              "       [4, 2]])"
            ]
          },
          "metadata": {},
          "execution_count": 19
        }
      ]
    },
    {
      "cell_type": "code",
      "source": [
        "# grading cell 17\n",
        "matrix = np.array([[1, 2, 3], [4, 5, 6], [7, 8, 9]])\n",
        "expected_rotated_matrix = np.array([[7, 4, 1], [8, 5, 2], [9, 6, 3]])\n",
        "assert np.array_equal(rotate_matrix_clockwise(matrix), expected_rotated_matrix), \"Rotated matrix function is incorrect.\""
      ],
      "metadata": {
        "id": "DGA3xmEpFmFw"
      },
      "execution_count": 20,
      "outputs": []
    },
    {
      "cell_type": "code",
      "source": [
        "# grading cell 18\n"
      ],
      "metadata": {
        "id": "POUP7PMsIORl"
      },
      "execution_count": null,
      "outputs": []
    },
    {
      "cell_type": "markdown",
      "source": [
        "## Problem 10: LU Decomposition\n",
        "Define a function to perform LU decomposition on a square matrix. If the matrix is singular or not suitable for LU decomposition, it returns `None`."
      ],
      "metadata": {
        "id": "SctWjWgvXntK"
      }
    },
    {
      "cell_type": "markdown",
      "source": [
        "Example:\n",
        "\n",
        "- Input:\n",
        "```\n",
        "[[1, 2] \n",
        " [3, 4]]\n",
        "```\n",
        "\n",
        "- Output:\n",
        "```\n",
        "P: [[0., 1.]\n",
        "    [1., 0.]]\n",
        "L: [[1., 0.]\n",
        "    [0.3, 1.]]\n",
        "U: [[3., 4.]\n",
        "    [0., 0.7]]\n",
        "```"
      ],
      "metadata": {
        "id": "oc0dzE_XfkqC"
      }
    },
    {
      "cell_type": "code",
      "source": [
        "from scipy.linalg import lu\n",
        "\n",
        "def perform_lu_decomposition(matrix):\n",
        "    # YOUR CODE HERE\n",
        "    raise NotImplementedError()"
      ],
      "metadata": {
        "id": "WaTwCeI_XqOF"
      },
      "execution_count": 21,
      "outputs": []
    },
    {
      "cell_type": "code",
      "source": [
        "# testing with an example\n",
        "perform_lu_decomposition(np.array([[1,2],[3,4]]))"
      ],
      "metadata": {
        "colab": {
          "base_uri": "https://localhost:8080/"
        },
        "id": "6291QvdAUclw",
        "outputId": "e3cd93e8-c189-4fbb-e738-8c4034898627"
      },
      "execution_count": 22,
      "outputs": [
        {
          "output_type": "execute_result",
          "data": {
            "text/plain": [
              "(array([[0., 1.],\n",
              "        [1., 0.]]),\n",
              " array([[1.        , 0.        ],\n",
              "        [0.33333333, 1.        ]]),\n",
              " array([[3.        , 4.        ],\n",
              "        [0.        , 0.66666667]]))"
            ]
          },
          "metadata": {},
          "execution_count": 22
        }
      ]
    },
    {
      "cell_type": "code",
      "source": [
        "# grading cell 19\n",
        "matrix = np.array([[2,  -1, -2], [-4,  6,  3], [-4,  -2,  8]])\n",
        "permutation_matrix, lower_triangular_matrix, upper_triangular_matrix = perform_lu_decomposition(matrix)\n",
        "assert np.trace(lower_triangular_matrix) == matrix.shape[0], \"Permutation matrix is incorrect.\""
      ],
      "metadata": {
        "id": "Gxn6FGcicDRB"
      },
      "execution_count": 23,
      "outputs": []
    },
    {
      "cell_type": "code",
      "source": [
        "# grading cell 20\n"
      ],
      "metadata": {
        "id": "SHc3isezcGZ-"
      },
      "execution_count": null,
      "outputs": []
    }
  ]
}