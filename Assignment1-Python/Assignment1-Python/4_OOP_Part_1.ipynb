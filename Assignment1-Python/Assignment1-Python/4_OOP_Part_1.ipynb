{
  "cells": [
    {
      "cell_type": "markdown",
      "id": "8a0fe6fb-fcb3-4eed-b512-de82d5674bc6",
      "metadata": {
        "nbgrader": {
          "grade": false,
          "grade_id": "cell-18491838177b1a2b",
          "locked": true,
          "schema_version": 3,
          "solution": false,
          "task": false
        },
        "tags": [],
        "id": "8a0fe6fb-fcb3-4eed-b512-de82d5674bc6"
      },
      "source": [
        "# CS414 - Object Oriented Programming - Part 1\n",
        "Instructions: \n",
        "- Start the kernel: In the menu bar, select Kernel -> Restart kernel.\n",
        "- Complete all sections with the comment `YOUR CODE HERE`.\n",
        "- Run all code blocks to check the implementation: In the menu bar, select Cell -> Run All."
      ]
    },
    {
      "cell_type": "markdown",
      "id": "ba145050-b51d-4b03-9bba-dfae12107bc0",
      "metadata": {
        "nbgrader": {
          "grade": false,
          "grade_id": "cell-055074de63047ca1",
          "locked": true,
          "schema_version": 3,
          "solution": false,
          "task": false
        },
        "tags": [],
        "id": "ba145050-b51d-4b03-9bba-dfae12107bc0"
      },
      "source": [
        "Write a program to implement the following 3 classes: `Geometry`, `Square`, and `Round`. It is known that the `Square` and `Round` classes inherit from the `Geometry` class. \n",
        "All 3 classes have the following attributes and methods:\n",
        "\n",
        "- Attributes:\n",
        "    - `property` (`float`): can be considered as the side length (for squares) or radius (for circles).\n",
        "\n",
        "- Methods:\n",
        "    - Constructor `__init__`.\n",
        "    - Method to calculate area `calculate_area`."
      ]
    },
    {
      "cell_type": "markdown",
      "id": "9707e570-0208-406b-8ccd-67c20a699cdf",
      "metadata": {
        "nbgrader": {
          "grade": false,
          "grade_id": "cell-2f43eee6ab0f60d4",
          "locked": true,
          "schema_version": 3,
          "solution": false,
          "task": false
        },
        "tags": [],
        "id": "9707e570-0208-406b-8ccd-67c20a699cdf"
      },
      "source": [
        "**Example 1:** the `calculate_area` method in the `Square` class:\n",
        "- Attribute of the object:\n",
        "```\n",
        "property = 2\n",
        "```\n",
        "- Input: ``` None ```\n",
        "- Output: ``` 4 ```"
      ]
    },
    {
      "cell_type": "markdown",
      "id": "96e9c55b-4c6f-4577-be43-c37e19c70361",
      "metadata": {
        "nbgrader": {
          "grade": false,
          "grade_id": "cell-c91ec40f331cc697",
          "locked": true,
          "schema_version": 3,
          "solution": false,
          "task": false
        },
        "tags": [],
        "id": "96e9c55b-4c6f-4577-be43-c37e19c70361"
      },
      "source": [
        "**Example 2:** the `calculate_area` method in the `Round` class:\n",
        "- Attribute of the object:\n",
        "```\n",
        "property = 2\n",
        "```\n",
        "- Input: ``` None ```\n",
        "- Output:\n",
        "``` 12.56637 ```\n",
        "\n",
        "**Note:** Use `math.pi` to calculate the area, and round the result to 5 decimal places."
      ]
    },
    {
      "cell_type": "markdown",
      "id": "92a12c89-2c57-4c83-aca2-42cec9de2caa",
      "metadata": {
        "nbgrader": {
          "grade": false,
          "grade_id": "cell-a98c1cba07b7c331",
          "locked": true,
          "schema_version": 3,
          "solution": false,
          "task": false
        },
        "tags": [],
        "id": "92a12c89-2c57-4c83-aca2-42cec9de2caa"
      },
      "source": [
        "## Problem 1: Implement the `Geometry` class. Implement the `calculate_area` method as an abstract method.\n"
      ]
    },
    {
      "cell_type": "code",
      "execution_count": null,
      "id": "09d7aa17-7b7e-4df0-a336-8dcbbad5ef9c",
      "metadata": {
        "nbgrader": {
          "grade": false,
          "grade_id": "cell-a2a977de6573d46c",
          "locked": false,
          "schema_version": 3,
          "solution": true,
          "task": false
        },
        "tags": [],
        "id": "09d7aa17-7b7e-4df0-a336-8dcbbad5ef9c"
      },
      "outputs": [],
      "source": [
        "from abc import abstractmethod\n",
        "\n",
        "class Geometry:\n",
        "    def __init__(self, property):\n",
        "        # YOUR CODE HERE\n",
        "        raise NotImplementedError()\n",
        "\n",
        "\n",
        "    @abstractmethod\n",
        "    def calculate_area(self) -> float:\n",
        "        # YOUR CODE HERE\n",
        "        raise NotImplementedError()"
      ]
    },
    {
      "cell_type": "code",
      "execution_count": null,
      "id": "397403e0-6248-4e56-b336-2c6a55f36429",
      "metadata": {
        "nbgrader": {
          "grade": true,
          "grade_id": "cell-cd8894a81325a585",
          "locked": true,
          "points": 5,
          "schema_version": 3,
          "solution": false,
          "task": false
        },
        "tags": [],
        "id": "397403e0-6248-4e56-b336-2c6a55f36429"
      },
      "outputs": [],
      "source": [
        "# grading cell 1\n",
        "geometry_obj = Geometry(2)\n",
        "assert geometry_obj.property == 2"
      ]
    },
    {
      "cell_type": "code",
      "execution_count": null,
      "id": "3c075a5c-442b-43d1-93cc-238ca60f3bc5",
      "metadata": {
        "nbgrader": {
          "grade": true,
          "grade_id": "cell-e5f344956ad1440a",
          "locked": true,
          "points": 5,
          "schema_version": 3,
          "solution": false,
          "task": false
        },
        "tags": [],
        "id": "3c075a5c-442b-43d1-93cc-238ca60f3bc5"
      },
      "outputs": [],
      "source": [
        "# grading cell 2\n"
      ]
    },
    {
      "cell_type": "markdown",
      "id": "77523e66-2d85-483c-8763-e5d1c6744436",
      "metadata": {
        "nbgrader": {
          "grade": false,
          "grade_id": "cell-01302b060cc3d479",
          "locked": true,
          "schema_version": 3,
          "solution": false,
          "task": false
        },
        "tags": [],
        "id": "77523e66-2d85-483c-8763-e5d1c6744436"
      },
      "source": [
        "## Problem 2:  Implement the `Square` class, inheriting from the `Geometry` class.\n"
      ]
    },
    {
      "cell_type": "code",
      "execution_count": null,
      "id": "d5b1f770-8242-496c-813f-9af92e3a238e",
      "metadata": {
        "nbgrader": {
          "grade": false,
          "grade_id": "cell-735e1d5e4bdbe1e7",
          "locked": false,
          "schema_version": 3,
          "solution": true,
          "task": false
        },
        "tags": [],
        "id": "d5b1f770-8242-496c-813f-9af92e3a238e"
      },
      "outputs": [],
      "source": [
        "class Square(Geometry):\n",
        "    def __init__(self, property):\n",
        "        # call the `__init__` of the parent class using `super()`\n",
        "        # YOUR CODE HERE\n",
        "        raise NotImplementedError()\n",
        "\n",
        "    # implement `calculate_area`\n",
        "    def calculate_area(self):\n",
        "        # YOUR CODE HERE\n",
        "        raise NotImplementedError()"
      ]
    },
    {
      "cell_type": "code",
      "execution_count": null,
      "id": "abfbbbb2-7fa7-49b9-a1f9-fac5d30df05a",
      "metadata": {
        "nbgrader": {
          "grade": true,
          "grade_id": "cell-7d81c0737ff8ff5c",
          "locked": true,
          "points": 5,
          "schema_version": 3,
          "solution": false,
          "task": false
        },
        "tags": [],
        "id": "abfbbbb2-7fa7-49b9-a1f9-fac5d30df05a"
      },
      "outputs": [],
      "source": [
        "# grading cell 3\n",
        "square_obj = Square(2)\n",
        "assert square_obj.calculate_area() == 4"
      ]
    },
    {
      "cell_type": "code",
      "execution_count": null,
      "id": "d56421c2-d971-4aaf-9b2f-940bb73b9495",
      "metadata": {
        "nbgrader": {
          "grade": true,
          "grade_id": "cell-7483770bd88dec92",
          "locked": true,
          "points": 5,
          "schema_version": 3,
          "solution": false,
          "task": false
        },
        "tags": [],
        "id": "d56421c2-d971-4aaf-9b2f-940bb73b9495"
      },
      "outputs": [],
      "source": [
        "# grading cell 4\n"
      ]
    },
    {
      "cell_type": "markdown",
      "id": "03a003be-797f-4b0d-930c-43d0de00a756",
      "metadata": {
        "nbgrader": {
          "grade": false,
          "grade_id": "cell-2f3882b9a8753ecb",
          "locked": true,
          "schema_version": 3,
          "solution": false,
          "task": false
        },
        "tags": [],
        "id": "03a003be-797f-4b0d-930c-43d0de00a756"
      },
      "source": [
        "## Problems 3: Implement the `Round` class, inheriting from the `Geometry` class. Note the use of `math.pi` and rounding the result to 5 decimal places."
      ]
    },
    {
      "cell_type": "code",
      "execution_count": null,
      "id": "f3186dfb-e3c1-462b-a4d8-cfe4ee27863e",
      "metadata": {
        "nbgrader": {
          "grade": false,
          "grade_id": "cell-43e8069b1597af6b",
          "locked": false,
          "schema_version": 3,
          "solution": true,
          "task": false
        },
        "tags": [],
        "id": "f3186dfb-e3c1-462b-a4d8-cfe4ee27863e"
      },
      "outputs": [],
      "source": [
        "import math\n",
        "\n",
        "class Round(Geometry):\n",
        "    def __init__(self, property):\n",
        "        # call the `__init__` of the parent class using `super()`\n",
        "        # YOUR CODE HERE\n",
        "        raise NotImplementedError()\n",
        "\n",
        "    # implement `calculate_area`\n",
        "    def calculate_area(self):\n",
        "        # YOUR CODE HERE\n",
        "        raise NotImplementedError()"
      ]
    },
    {
      "cell_type": "code",
      "execution_count": null,
      "id": "323f0e16-e4ab-458b-bc9d-e77dc4e1f21e",
      "metadata": {
        "nbgrader": {
          "grade": true,
          "grade_id": "cell-3e614da348102a27",
          "locked": true,
          "points": 5,
          "schema_version": 3,
          "solution": false,
          "task": false
        },
        "tags": [],
        "id": "323f0e16-e4ab-458b-bc9d-e77dc4e1f21e"
      },
      "outputs": [],
      "source": [
        "# grading cell 5\n",
        "square_obj = Round(2)\n",
        "assert square_obj.calculate_area() == 12.56637"
      ]
    },
    {
      "cell_type": "code",
      "execution_count": null,
      "id": "425520e3-5daa-42c4-a0f5-f1d455e5cc96",
      "metadata": {
        "nbgrader": {
          "grade": true,
          "grade_id": "cell-86742bf27acceec1",
          "locked": true,
          "points": 5,
          "schema_version": 3,
          "solution": false,
          "task": false
        },
        "tags": [],
        "id": "425520e3-5daa-42c4-a0f5-f1d455e5cc96"
      },
      "outputs": [],
      "source": [
        "# grading cell 6\n"
      ]
    }
  ],
  "metadata": {
    "kernelspec": {
      "display_name": "Python 3 (ipykernel)",
      "language": "python",
      "name": "python3"
    },
    "language_info": {
      "codemirror_mode": {
        "name": "ipython",
        "version": 3
      },
      "file_extension": ".py",
      "mimetype": "text/x-python",
      "name": "python",
      "nbconvert_exporter": "python",
      "pygments_lexer": "ipython3",
      "version": "3.9.15"
    },
    "colab": {
      "provenance": []
    }
  },
  "nbformat": 4,
  "nbformat_minor": 5
}