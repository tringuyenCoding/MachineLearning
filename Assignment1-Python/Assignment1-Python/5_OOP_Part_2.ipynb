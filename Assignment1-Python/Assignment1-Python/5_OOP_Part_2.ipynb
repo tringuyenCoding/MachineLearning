{
  "cells": [
    {
      "attachments": {},
      "cell_type": "markdown",
      "id": "c3aa9401-b6b4-42d8-8bb9-8ac795ce46e7",
      "metadata": {
        "id": "c3aa9401-b6b4-42d8-8bb9-8ac795ce46e7",
        "nbgrader": {
          "grade": false,
          "grade_id": "cell-8e2f4950b22c8529",
          "locked": true,
          "schema_version": 3,
          "solution": false,
          "task": false
        },
        "tags": []
      },
      "source": [
        "# CS414 - Object Oriented Programming - Part 2\n",
        "Instructions: \n",
        "- Start the kernel: In the menu bar, select Kernel -> Restart kernel.\n",
        "- Complete all sections with the comment `YOUR CODE HERE`.\n",
        "- Run all code blocks to check the implementation: In the menu bar, select Cell -> Run All."
      ]
    },
    {
      "attachments": {},
      "cell_type": "markdown",
      "id": "7ac2d5b3-e2d7-4858-8f99-b580013c250f",
      "metadata": {
        "id": "7ac2d5b3-e2d7-4858-8f99-b580013c250f",
        "nbgrader": {
          "grade": false,
          "grade_id": "cell-f166a77af25b46c1",
          "locked": true,
          "schema_version": 3,
          "solution": false,
          "task": false
        },
        "tags": []
      },
      "source": [
        "Write a program to implement the `Fraction` class. The class has the following attributes and methods:\n",
        "\n",
        "- Attributes:\n",
        "    - `numerator` (int): Numerator.\n",
        "    - `denominator` (int): Denominator (must be non-zero, use the `assert` statement to check).\n",
        "\n",
        "- Methods:\n",
        "    - Initialization method `__init__`: Raise an error if the denominator is set to `0`. Reduce the fraction if needed.\n",
        "    - Calculation methods: `addition` (addition), `subtraction` (subtraction):\n",
        "        - Update the `numerator` and `denominator` attributes of the object. Reduce the fraction if needed.\n",
        "    - Simplifying a fraction function: `simplify_fraction`.\n",
        "\n",
        "**Note:** If the numerator is `0`, set the denominator to `1`."
      ]
    },
    {
      "attachments": {},
      "cell_type": "markdown",
      "id": "83e86998-5e00-4d07-996e-bddff60d4960",
      "metadata": {
        "id": "83e86998-5e00-4d07-996e-bddff60d4960",
        "nbgrader": {
          "grade": false,
          "grade_id": "cell-9b205d74d5257972",
          "locked": true,
          "schema_version": 3,
          "solution": false,
          "task": false
        },
        "tags": []
      },
      "source": [
        "Example 1: the `__init__` method\n",
        "- Input:\n",
        "```\n",
        "numerator = 2\n",
        "denominator = 4\n",
        "```\n",
        "- Output: ``` None ```\n",
        "- Attributes of the object after execution:\n",
        "```\n",
        "numerator = 1\n",
        "denominator = 2\n",
        "```"
      ]
    },
    {
      "attachments": {},
      "cell_type": "markdown",
      "id": "9c2be395-edcd-4723-9c0c-fb50d57112d5",
      "metadata": {
        "id": "9c2be395-edcd-4723-9c0c-fb50d57112d5",
        "nbgrader": {
          "grade": false,
          "grade_id": "cell-151e29e60d91e32c",
          "locked": true,
          "schema_version": 3,
          "solution": false,
          "task": false
        },
        "tags": []
      },
      "source": [
        "Example 2: the `__init__` method\n",
        "- Input:\n",
        "```\n",
        "numerator = 2\n",
        "denominator = 0\n",
        "```\n",
        "- Output: ``` error ```\n",
        "- Attributes of the object after execution: ``` error ```"
      ]
    },
    {
      "attachments": {},
      "cell_type": "markdown",
      "id": "c74618c9-8d03-4462-b62e-f2153f66f523",
      "metadata": {
        "id": "c74618c9-8d03-4462-b62e-f2153f66f523",
        "nbgrader": {
          "grade": false,
          "grade_id": "cell-0519f6294fca2c12",
          "locked": true,
          "schema_version": 3,
          "solution": false,
          "task": false
        },
        "tags": []
      },
      "source": [
        "Example 3: the `addition` method (addition of fractions)\n",
        "- Attributes of the object:\n",
        "```\n",
        "numerator = 1\n",
        "denominator = 3\n",
        "```\n",
        "- Input:\n",
        "```\n",
        "other = Fraction(1, 3)\n",
        "```\n",
        "- Output: ``` None ```\n",
        "- Attributes of the object after execution:\n",
        "```\n",
        "numerator = 2\n",
        "denominator = 3\n",
        "```"
      ]
    },
    {
      "attachments": {},
      "cell_type": "markdown",
      "id": "4e761742-40d1-42b6-b8b4-c0a60fed8695",
      "metadata": {
        "id": "4e761742-40d1-42b6-b8b4-c0a60fed8695",
        "nbgrader": {
          "grade": false,
          "grade_id": "cell-62a15af3578ceb0b",
          "locked": true,
          "schema_version": 3,
          "solution": false,
          "task": false
        },
        "tags": []
      },
      "source": [
        "Example 4: the `subtraction` method:\n",
        "- Attributes of the object:\n",
        "```\n",
        "numerator = 2\n",
        "denominator = 3\n",
        "```\n",
        "- Input:\n",
        "```\n",
        "other = Fraction(1, 3)\n",
        "```\n",
        "- Output: ``` None ```\n",
        "- Attributes of the object after execution:\n",
        "```\n",
        "numerator = 1\n",
        "denominator = 3\n",
        "```"
      ]
    },
    {
      "attachments": {},
      "cell_type": "markdown",
      "id": "33e4bbb6-5b46-4196-bc5c-a52c00bb26bc",
      "metadata": {
        "id": "33e4bbb6-5b46-4196-bc5c-a52c00bb26bc",
        "nbgrader": {
          "grade": false,
          "grade_id": "cell-d4f4dc3651cdfda5",
          "locked": true,
          "schema_version": 3,
          "solution": false,
          "task": false
        },
        "tags": []
      },
      "source": [
        "## Exercise: Implement the `Fraction` class."
      ]
    },
    {
      "cell_type": "code",
      "execution_count": 16,
      "id": "60de0dea-c87e-42cd-89d2-27eedf6ca21e",
      "metadata": {
        "id": "60de0dea-c87e-42cd-89d2-27eedf6ca21e",
        "nbgrader": {
          "grade": false,
          "grade_id": "cell-1b3ae0e4016117ca",
          "locked": false,
          "schema_version": 3,
          "solution": true,
          "task": false
        },
        "tags": []
      },
      "outputs": [],
      "source": [
        "import math\n",
        "\n",
        "class Fraction:\n",
        "    def __init__(self, numerator, denominator):\n",
        "        # use `assert` to check the denominator\n",
        "        # YOUR CODE HERE\n",
        "        assert denominator != 0, ValueError(\"Denominator cannot be zero\")\n",
        "        assert numerator !=0, self.denominator==1\n",
        "        \n",
        "        # implement `numerator`, `denominator` attributes\n",
        "        # YOUR CODE HERE\n",
        "        self.numerator = numerator\n",
        "        self.denominator = denominator\n",
        "        \n",
        "        # simplify fraction\n",
        "        self.simplify_fraction()    \n",
        "\n",
        "    def simplify_fraction(self):\n",
        "        # use `math.gcd` to calculate greatest common divisor\n",
        "        # YOUR CODE HERE\n",
        "        gcd = math.gcd(self.numerator, self.denominator)\n",
        "        self.numerator = self.numerator // gcd\n",
        "        self.denominator = self.denominator // gcd\n",
        "        print(self.numerator, self.denominator)\n",
        "        \n",
        "\n",
        "    def addition(self, other):\n",
        "        # YOUR CODE HERE\n",
        "        self.numerator = self.numerator*other.denominator + other.numerator*self.denominator\n",
        "        self.denominator = self.denominator*other.denominator\n",
        "        self.simplify_fraction()\n",
        "        \n",
        "        \n",
        "    def subtraction(self, other):\n",
        "        # YOUR CODE HERE\n",
        "        self.numerator = self.numerator*other.denominator - other.numerator*self.denominator\n",
        "        self.denominator = self.denominator*other.denominator\n",
        "        self.simplify_fraction()\n",
        "        "
      ]
    },
    {
      "cell_type": "code",
      "execution_count": 17,
      "id": "4476fe55-3c88-48e1-b4ac-0bbfef07d133",
      "metadata": {
        "id": "4476fe55-3c88-48e1-b4ac-0bbfef07d133",
        "nbgrader": {
          "grade": true,
          "grade_id": "cell-0a68d569f7353d7e",
          "locked": true,
          "points": 5,
          "schema_version": 3,
          "solution": false,
          "task": false
        },
        "tags": []
      },
      "outputs": [
        {
          "name": "stdout",
          "output_type": "stream",
          "text": [
            "1 2\n"
          ]
        }
      ],
      "source": [
        "# grading cell 1\n",
        "fraction_obj = Fraction(2, 4)\n",
        "assert fraction_obj.numerator == 1\n",
        "assert fraction_obj.denominator == 2"
      ]
    },
    {
      "cell_type": "code",
      "execution_count": null,
      "id": "f103c29d-2e90-401f-90c3-f70f1510c590",
      "metadata": {
        "id": "f103c29d-2e90-401f-90c3-f70f1510c590",
        "nbgrader": {
          "grade": true,
          "grade_id": "cell-4a46c19c4658a5ea",
          "locked": true,
          "points": 5,
          "schema_version": 3,
          "solution": false,
          "task": false
        },
        "tags": []
      },
      "outputs": [],
      "source": [
        "# grading cell 2\n"
      ]
    },
    {
      "cell_type": "code",
      "execution_count": 18,
      "id": "54805b92-6b56-433f-9e07-2185398bca8f",
      "metadata": {
        "id": "54805b92-6b56-433f-9e07-2185398bca8f",
        "nbgrader": {
          "grade": true,
          "grade_id": "cell-bfb327985624a91b",
          "locked": true,
          "points": 5,
          "schema_version": 3,
          "solution": false,
          "task": false
        },
        "tags": []
      },
      "outputs": [],
      "source": [
        "# grading cell 3\n",
        "try:\n",
        "    has_error = False\n",
        "    Fraction(1, 0)\n",
        "except:\n",
        "    has_error = True\n",
        "\n",
        "assert has_error"
      ]
    },
    {
      "cell_type": "code",
      "execution_count": 19,
      "id": "9f4308db-51d2-45e8-bc0c-989f8f605ef0",
      "metadata": {
        "id": "9f4308db-51d2-45e8-bc0c-989f8f605ef0",
        "nbgrader": {
          "grade": true,
          "grade_id": "cell-f867ef309ef64681",
          "locked": true,
          "points": 5,
          "schema_version": 3,
          "solution": false,
          "task": false
        },
        "tags": []
      },
      "outputs": [
        {
          "name": "stdout",
          "output_type": "stream",
          "text": [
            "1 3\n",
            "1 3\n",
            "2 3\n"
          ]
        }
      ],
      "source": [
        "# grading cell 4\n",
        "fraction_obj = Fraction(1, 3)\n",
        "fraction_obj.addition(Fraction(1, 3))\n",
        "assert fraction_obj.numerator == 2\n",
        "assert fraction_obj.denominator == 3"
      ]
    },
    {
      "cell_type": "code",
      "execution_count": null,
      "id": "067dce1e-6863-4640-bb53-109f1873f376",
      "metadata": {
        "id": "067dce1e-6863-4640-bb53-109f1873f376",
        "nbgrader": {
          "grade": true,
          "grade_id": "cell-f20b883ad28bf92c",
          "locked": true,
          "points": 5,
          "schema_version": 3,
          "solution": false,
          "task": false
        },
        "tags": []
      },
      "outputs": [],
      "source": [
        "# grading cell 5\n"
      ]
    },
    {
      "cell_type": "code",
      "execution_count": 20,
      "id": "ef7ff114-fe21-416c-9cc7-969462fff040",
      "metadata": {
        "id": "ef7ff114-fe21-416c-9cc7-969462fff040",
        "nbgrader": {
          "grade": true,
          "grade_id": "cell-7a92923451041b7f",
          "locked": true,
          "points": 5,
          "schema_version": 3,
          "solution": false,
          "task": false
        },
        "tags": []
      },
      "outputs": [
        {
          "name": "stdout",
          "output_type": "stream",
          "text": [
            "2 3\n",
            "1 3\n",
            "1 3\n"
          ]
        }
      ],
      "source": [
        "# grading cell 6\n",
        "fraction_obj = Fraction(2, 3)\n",
        "fraction_obj.subtraction(Fraction(1, 3))\n",
        "assert fraction_obj.numerator == 1\n",
        "assert fraction_obj.denominator == 3"
      ]
    },
    {
      "cell_type": "code",
      "execution_count": null,
      "id": "0e6193f7-aaf0-4f2e-a08d-59c86f435687",
      "metadata": {
        "id": "0e6193f7-aaf0-4f2e-a08d-59c86f435687",
        "nbgrader": {
          "grade": true,
          "grade_id": "cell-b326d556e846f458",
          "locked": true,
          "points": 5,
          "schema_version": 3,
          "solution": false,
          "task": false
        },
        "tags": []
      },
      "outputs": [],
      "source": [
        "# grading cell 7\n"
      ]
    },
    {
      "cell_type": "code",
      "execution_count": null,
      "id": "1f78fe3b-9c3a-463a-b5aa-f6c8c74acb99",
      "metadata": {
        "id": "1f78fe3b-9c3a-463a-b5aa-f6c8c74acb99",
        "nbgrader": {
          "grade": true,
          "grade_id": "cell-eda45bc34a10a226",
          "locked": true,
          "points": 5,
          "schema_version": 3,
          "solution": false,
          "task": false
        },
        "tags": []
      },
      "outputs": [],
      "source": [
        "# grading cell 8\n"
      ]
    }
  ],
  "metadata": {
    "colab": {
      "provenance": []
    },
    "kernelspec": {
      "display_name": "Python 3 (ipykernel)",
      "language": "python",
      "name": "python3"
    },
    "language_info": {
      "codemirror_mode": {
        "name": "ipython",
        "version": 3
      },
      "file_extension": ".py",
      "mimetype": "text/x-python",
      "name": "python",
      "nbconvert_exporter": "python",
      "pygments_lexer": "ipython3",
      "version": "3.9.13"
    }
  },
  "nbformat": 4,
  "nbformat_minor": 5
}
