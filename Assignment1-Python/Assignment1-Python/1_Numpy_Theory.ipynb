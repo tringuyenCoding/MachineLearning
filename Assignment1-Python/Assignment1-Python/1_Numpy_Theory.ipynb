{
  "cells": [
    {
      "cell_type": "markdown",
      "id": "26f05d0f-06f5-48d1-8626-8dc83eef26de",
      "metadata": {
        "id": "26f05d0f-06f5-48d1-8626-8dc83eef26de",
        "nbgrader": {
          "grade": false,
          "grade_id": "cell-5809f805b6345a16",
          "locked": true,
          "schema_version": 3,
          "solution": false,
          "task": false
        },
        "tags": []
      },
      "source": [
        "# CS414 - Numpy Theory\n",
        "Instructions: \n",
        "- Start the kernel: In the menu bar, select Kernel -> Restart kernel.\n",
        "- Complete all sections with the comment `YOUR CODE HERE`.\n",
        "- Run all code blocks to check the implementation: In the menu bar, select Cell -> Run All."
      ]
    },
    {
      "cell_type": "code",
      "execution_count": 1,
      "id": "f45b620e-ed08-4abe-bfe5-416efe19c95d",
      "metadata": {
        "id": "f45b620e-ed08-4abe-bfe5-416efe19c95d",
        "nbgrader": {
          "grade": false,
          "grade_id": "cell-3a2b0f507b3ad318",
          "locked": true,
          "schema_version": 3,
          "solution": false,
          "task": false
        },
        "tags": []
      },
      "outputs": [],
      "source": [
        "import numpy as np"
      ]
    },
    {
      "cell_type": "markdown",
      "id": "a44f645a-c3c1-421a-b249-5989ec63560f",
      "metadata": {
        "id": "a44f645a-c3c1-421a-b249-5989ec63560f",
        "nbgrader": {
          "grade": false,
          "grade_id": "cell-c7c5ec99cd86a48a",
          "locked": true,
          "schema_version": 3,
          "solution": false,
          "task": false
        },
        "tags": []
      },
      "source": [
        "## Problem 1: Vector Initialization\n",
        "Initialize a vector of `n` elements, all of which are `0`."
      ]
    },
    {
      "cell_type": "markdown",
      "id": "2b1f8b60-5d33-4ae5-b2b2-65be52dccf6e",
      "metadata": {
        "id": "2b1f8b60-5d33-4ae5-b2b2-65be52dccf6e",
        "nbgrader": {
          "grade": false,
          "grade_id": "cell-762e4f7881769608",
          "locked": true,
          "schema_version": 3,
          "solution": false,
          "task": false
        },
        "tags": []
      },
      "source": [
        "Example:\n",
        "\n",
        "- Input:\n",
        "```\n",
        "n = 5\n",
        "```\n",
        "\n",
        "- Output:\n",
        "```\n",
        "[0., 0., 0., 0., 0.]\n",
        "```"
      ]
    },
    {
      "cell_type": "code",
      "execution_count": 2,
      "id": "8d9613b7-0508-4dc9-8c40-44099f8a6a06",
      "metadata": {
        "id": "8d9613b7-0508-4dc9-8c40-44099f8a6a06",
        "nbgrader": {
          "grade": false,
          "grade_id": "cell-02aa6d96c8c51dc9",
          "locked": false,
          "schema_version": 3,
          "solution": true,
          "task": false
        },
        "tags": []
      },
      "outputs": [],
      "source": [
        "def init_zeros(n):\n",
        "    # YOUR CODE HERE\n",
        "    return np.zeros(n)\n",
        "    raise NotImplementedError()"
      ]
    },
    {
      "cell_type": "code",
      "execution_count": 3,
      "id": "ea80855f-f927-48af-9df8-08a3986ce6e7",
      "metadata": {
        "id": "ea80855f-f927-48af-9df8-08a3986ce6e7",
        "nbgrader": {
          "grade": false,
          "grade_id": "cell-8afbdd0befb84406",
          "locked": true,
          "schema_version": 3,
          "solution": false,
          "task": false
        },
        "tags": []
      },
      "outputs": [
        {
          "data": {
            "text/plain": [
              "array([0., 0., 0., 0., 0.])"
            ]
          },
          "execution_count": 3,
          "metadata": {},
          "output_type": "execute_result"
        }
      ],
      "source": [
        "# testing with an example\n",
        "init_zeros(5)"
      ]
    },
    {
      "cell_type": "code",
      "execution_count": 4,
      "id": "8f516dcd-48e0-4e89-aa1d-b5fc4946010b",
      "metadata": {
        "id": "8f516dcd-48e0-4e89-aa1d-b5fc4946010b",
        "nbgrader": {
          "grade": true,
          "grade_id": "cell-ebe669293315df42",
          "locked": true,
          "points": 5,
          "schema_version": 3,
          "solution": false,
          "task": false
        },
        "tags": []
      },
      "outputs": [],
      "source": [
        "# grading cell 1\n",
        "assert init_zeros(5).shape == (5, )\n",
        "assert np.sum(abs(init_zeros(5) - np.array([0, 0, 0, 0, 0]))) == 0"
      ]
    },
    {
      "cell_type": "code",
      "execution_count": 5,
      "id": "35abc110-0086-430f-a108-e0c448de3d37",
      "metadata": {
        "id": "35abc110-0086-430f-a108-e0c448de3d37",
        "nbgrader": {
          "grade": true,
          "grade_id": "cell-0ef3e5e7d6fdb3b8",
          "locked": true,
          "points": 5,
          "schema_version": 3,
          "solution": false,
          "task": false
        },
        "tags": []
      },
      "outputs": [],
      "source": [
        "# grading cell 2\n"
      ]
    },
    {
      "cell_type": "markdown",
      "id": "aa333be6-36f0-4b97-bd13-d2ec3a7f6e6d",
      "metadata": {
        "id": "aa333be6-36f0-4b97-bd13-d2ec3a7f6e6d",
        "nbgrader": {
          "grade": false,
          "grade_id": "cell-f844ea8d8190f862",
          "locked": true,
          "schema_version": 3,
          "solution": false,
          "task": false
        },
        "tags": []
      },
      "source": [
        "## Problem 2: Vector Initialization\n",
        "Initialize a vector of `n` elements, all of which are `1`."
      ]
    },
    {
      "cell_type": "markdown",
      "id": "b8d2caf9-fa84-45ec-813e-5206a8dec21a",
      "metadata": {
        "id": "b8d2caf9-fa84-45ec-813e-5206a8dec21a",
        "nbgrader": {
          "grade": false,
          "grade_id": "cell-91f1d945b2be808c",
          "locked": true,
          "schema_version": 3,
          "solution": false,
          "task": false
        },
        "tags": []
      },
      "source": [
        "Example:\n",
        "\n",
        "- Input:\n",
        "```\n",
        "n = 5\n",
        "```\n",
        "\n",
        "- Output:\n",
        "```\n",
        "[1, 1, 1, 1, 1]\n",
        "```"
      ]
    },
    {
      "cell_type": "code",
      "execution_count": 6,
      "id": "4161cd42-7a01-44db-9aed-627413804a20",
      "metadata": {
        "id": "4161cd42-7a01-44db-9aed-627413804a20",
        "nbgrader": {
          "grade": false,
          "grade_id": "cell-a3d940e1087fc999",
          "locked": false,
          "schema_version": 3,
          "solution": true,
          "task": false
        },
        "tags": []
      },
      "outputs": [],
      "source": [
        "def init_ones(n):\n",
        "    # YOUR CODE HERE\n",
        "    return np.ones(n)\n",
        "    raise NotImplementedError()"
      ]
    },
    {
      "cell_type": "code",
      "execution_count": 7,
      "id": "2da63e00-f8bd-453a-866f-02f3b1b40cbb",
      "metadata": {
        "id": "2da63e00-f8bd-453a-866f-02f3b1b40cbb",
        "nbgrader": {
          "grade": false,
          "grade_id": "cell-5ea577c5e71f5f47",
          "locked": true,
          "schema_version": 3,
          "solution": false,
          "task": false
        },
        "tags": []
      },
      "outputs": [
        {
          "data": {
            "text/plain": [
              "array([1., 1., 1., 1., 1.])"
            ]
          },
          "execution_count": 7,
          "metadata": {},
          "output_type": "execute_result"
        }
      ],
      "source": [
        "# testing with an example\n",
        "init_ones(5)"
      ]
    },
    {
      "cell_type": "code",
      "execution_count": 8,
      "id": "0645765a-eff1-44d2-8a11-8e77c38d49b4",
      "metadata": {
        "id": "0645765a-eff1-44d2-8a11-8e77c38d49b4",
        "nbgrader": {
          "grade": true,
          "grade_id": "cell-962507eb0e79c742",
          "locked": true,
          "points": 5,
          "schema_version": 3,
          "solution": false,
          "task": false
        },
        "tags": []
      },
      "outputs": [],
      "source": [
        "# grading cell 3\n",
        "assert init_ones(5).shape == (5, )\n",
        "assert np.sum(abs(init_ones(5) - np.array([1, 1, 1, 1, 1]))) == 0"
      ]
    },
    {
      "cell_type": "code",
      "execution_count": 9,
      "id": "0206174f-782f-4734-b03a-3be0efc90fef",
      "metadata": {
        "id": "0206174f-782f-4734-b03a-3be0efc90fef",
        "nbgrader": {
          "grade": true,
          "grade_id": "cell-e65c048faccd7122",
          "locked": true,
          "points": 5,
          "schema_version": 3,
          "solution": false,
          "task": false
        },
        "tags": []
      },
      "outputs": [],
      "source": [
        "# grading cell 4\n"
      ]
    },
    {
      "cell_type": "markdown",
      "id": "868ad0ae-c205-4219-b54a-5540d1343568",
      "metadata": {
        "id": "868ad0ae-c205-4219-b54a-5540d1343568",
        "nbgrader": {
          "grade": false,
          "grade_id": "cell-25b2d7b0d2e2d452",
          "locked": true,
          "schema_version": 3,
          "solution": false,
          "task": false
        },
        "tags": []
      },
      "source": [
        "## Problem 3: Vector Initialization\n",
        "Initialize a vector of `n` elements, all of which are `x`."
      ]
    },
    {
      "cell_type": "markdown",
      "id": "a5c3950f-0f9a-45fa-97b2-403fd8d3d73b",
      "metadata": {
        "id": "a5c3950f-0f9a-45fa-97b2-403fd8d3d73b",
        "nbgrader": {
          "grade": false,
          "grade_id": "cell-5b6b7530637a28f3",
          "locked": true,
          "schema_version": 3,
          "solution": false,
          "task": false
        },
        "tags": []
      },
      "source": [
        "Example:\n",
        "\n",
        "- Input:\n",
        "```\n",
        "n = 5\n",
        "x = 3.5\n",
        "```\n",
        "\n",
        "- Output:\n",
        "```\n",
        "[3.5, 3.5, 3.5, 3.5, 3.5]\n",
        "```"
      ]
    },
    {
      "cell_type": "code",
      "execution_count": 10,
      "id": "1910a248-1d78-42f7-bcba-5e701880a2e0",
      "metadata": {
        "id": "1910a248-1d78-42f7-bcba-5e701880a2e0",
        "nbgrader": {
          "grade": false,
          "grade_id": "cell-0c08e0ad3fa2f88b",
          "locked": false,
          "schema_version": 3,
          "solution": true,
          "task": false
        },
        "tags": []
      },
      "outputs": [],
      "source": [
        "def init_all_x(n, x):\n",
        "    # YOUR CODE HERE\n",
        "    return np.ones(n) * x\n",
        "    raise NotImplementedError()"
      ]
    },
    {
      "cell_type": "code",
      "execution_count": 11,
      "id": "fae1d039-bd17-4ebf-b3b6-d874e6d40251",
      "metadata": {
        "id": "fae1d039-bd17-4ebf-b3b6-d874e6d40251",
        "nbgrader": {
          "grade": false,
          "grade_id": "cell-04ace7c580292913",
          "locked": true,
          "schema_version": 3,
          "solution": false,
          "task": false
        },
        "tags": []
      },
      "outputs": [
        {
          "data": {
            "text/plain": [
              "array([3.5, 3.5, 3.5, 3.5, 3.5])"
            ]
          },
          "execution_count": 11,
          "metadata": {},
          "output_type": "execute_result"
        }
      ],
      "source": [
        "# testing with an example\n",
        "init_all_x(5, 3.5)"
      ]
    },
    {
      "cell_type": "code",
      "execution_count": 12,
      "id": "ad6c0f58-7417-42a1-b6e7-5ea0a48327ef",
      "metadata": {
        "id": "ad6c0f58-7417-42a1-b6e7-5ea0a48327ef",
        "nbgrader": {
          "grade": true,
          "grade_id": "cell-d011edd31917dd88",
          "locked": true,
          "points": 5,
          "schema_version": 3,
          "solution": false,
          "task": false
        },
        "tags": []
      },
      "outputs": [],
      "source": [
        "# grading cell 5\n",
        "assert init_all_x(5, 3.5).shape == (5, )\n",
        "assert np.sum(abs(init_all_x(5, 3.5) - np.array([3.5, 3.5, 3.5, 3.5, 3.5]))) == 0"
      ]
    },
    {
      "cell_type": "code",
      "execution_count": 13,
      "id": "87409b43-ce42-4f60-9db7-6e8baae38146",
      "metadata": {
        "id": "87409b43-ce42-4f60-9db7-6e8baae38146",
        "nbgrader": {
          "grade": true,
          "grade_id": "cell-82e149db874d1e6b",
          "locked": true,
          "points": 5,
          "schema_version": 3,
          "solution": false,
          "task": false
        },
        "tags": []
      },
      "outputs": [],
      "source": [
        "# grading cell 6\n"
      ]
    },
    {
      "cell_type": "markdown",
      "id": "1204b408-77f7-4fc8-9d96-fe218f606dd5",
      "metadata": {
        "id": "1204b408-77f7-4fc8-9d96-fe218f606dd5",
        "nbgrader": {
          "grade": false,
          "grade_id": "cell-97a3bbc08aef2208",
          "locked": true,
          "schema_version": 3,
          "solution": false,
          "task": false
        },
        "tags": []
      },
      "source": [
        "## Problem 4: Vector Initialization\n",
        "Initialize a vector of size `n` consisting of integers increasing from `0` to `n-1`."
      ]
    },
    {
      "cell_type": "markdown",
      "id": "d5f57168-194a-4bc4-9f45-f8e5c3c92507",
      "metadata": {
        "id": "d5f57168-194a-4bc4-9f45-f8e5c3c92507",
        "nbgrader": {
          "grade": false,
          "grade_id": "cell-cb4290522ece0c57",
          "locked": true,
          "schema_version": 3,
          "solution": false,
          "task": false
        },
        "tags": []
      },
      "source": [
        "Example:\n",
        "\n",
        "- Input:\n",
        "```\n",
        "n = 5\n",
        "```\n",
        "\n",
        "- Output:\n",
        "```\n",
        "[0, 1, 2, 3, 4]\n",
        "```"
      ]
    },
    {
      "cell_type": "code",
      "execution_count": 14,
      "id": "3f557001-b219-4b8f-9594-a35fd63a8fc4",
      "metadata": {
        "id": "3f557001-b219-4b8f-9594-a35fd63a8fc4",
        "nbgrader": {
          "grade": false,
          "grade_id": "cell-f57ae1d754273897",
          "locked": false,
          "schema_version": 3,
          "solution": true,
          "task": false
        },
        "tags": []
      },
      "outputs": [],
      "source": [
        "def init_range(n):\n",
        "    # YOUR CODE HERE\n",
        "    return np.arange(n)\n",
        "    raise NotImplementedError()"
      ]
    },
    {
      "cell_type": "code",
      "execution_count": 15,
      "id": "bb5391ee-5e7e-466e-90c8-1d88cc54f002",
      "metadata": {
        "id": "bb5391ee-5e7e-466e-90c8-1d88cc54f002",
        "nbgrader": {
          "grade": false,
          "grade_id": "cell-23bef9c73a6fb338",
          "locked": true,
          "schema_version": 3,
          "solution": false,
          "task": false
        },
        "tags": []
      },
      "outputs": [
        {
          "data": {
            "text/plain": [
              "array([0, 1, 2, 3, 4])"
            ]
          },
          "execution_count": 15,
          "metadata": {},
          "output_type": "execute_result"
        }
      ],
      "source": [
        "# testing with an example\n",
        "init_range(5)"
      ]
    },
    {
      "cell_type": "code",
      "execution_count": 16,
      "id": "6d153891-0906-440e-bf1d-24f8bb7c1c06",
      "metadata": {
        "id": "6d153891-0906-440e-bf1d-24f8bb7c1c06",
        "nbgrader": {
          "grade": true,
          "grade_id": "cell-f603c404941edf2b",
          "locked": true,
          "points": 5,
          "schema_version": 3,
          "solution": false,
          "task": false
        },
        "tags": []
      },
      "outputs": [],
      "source": [
        "# grading cell 7\n",
        "assert init_range(5).shape == (5, )\n",
        "assert np.sum(abs(init_range(5) - np.array([0,1,2,3,4]))) == 0"
      ]
    },
    {
      "cell_type": "code",
      "execution_count": 17,
      "id": "976bca1d-f20d-48ad-9d45-2f7f9f7e34ff",
      "metadata": {
        "id": "976bca1d-f20d-48ad-9d45-2f7f9f7e34ff",
        "nbgrader": {
          "grade": true,
          "grade_id": "cell-9095933a8175e6df",
          "locked": true,
          "points": 5,
          "schema_version": 3,
          "solution": false,
          "task": false
        },
        "tags": []
      },
      "outputs": [],
      "source": [
        "# grading cell 8\n"
      ]
    },
    {
      "cell_type": "markdown",
      "id": "62cf2633-48dc-4d11-84b1-6826d0d33f0a",
      "metadata": {
        "id": "62cf2633-48dc-4d11-84b1-6826d0d33f0a",
        "nbgrader": {
          "grade": false,
          "grade_id": "cell-827c731e96d73e76",
          "locked": true,
          "schema_version": 3,
          "solution": false,
          "task": false
        },
        "tags": []
      },
      "source": [
        "## Problem 5: Vector Initialization\n",
        "Initialize a vector of size `n` consisting of integers increasing from `x, x+1, ..., x+n-1` (a sequence starting from `x`)."
      ]
    },
    {
      "cell_type": "markdown",
      "id": "af4dd0f3-de72-454b-893d-e943f5acd52b",
      "metadata": {
        "id": "af4dd0f3-de72-454b-893d-e943f5acd52b",
        "nbgrader": {
          "grade": false,
          "grade_id": "cell-71ece646bd8cfe27",
          "locked": true,
          "schema_version": 3,
          "solution": false,
          "task": false
        },
        "tags": []
      },
      "source": [
        "Example:\n",
        "\n",
        "- Input:\n",
        "```\n",
        "n = 5\n",
        "x = 3.5\n",
        "```\n",
        "\n",
        "- Output:\n",
        "```\n",
        "[3.5, 4.5, 5.5, 6.5, 7.5]\n",
        "```"
      ]
    },
    {
      "cell_type": "code",
      "execution_count": 18,
      "id": "f3489551-50a3-43f9-849f-7f14796af4dd",
      "metadata": {
        "id": "f3489551-50a3-43f9-849f-7f14796af4dd",
        "nbgrader": {
          "grade": false,
          "grade_id": "cell-c48f88fadbb49ac3",
          "locked": false,
          "schema_version": 3,
          "solution": true,
          "task": false
        },
        "tags": []
      },
      "outputs": [],
      "source": [
        "def init_range(n, x):\n",
        "    # YOUR CODE HERE\n",
        "    return np.array(np.ones(n) * x + np.arange(n))\n",
        "    raise NotImplementedError()"
      ]
    },
    {
      "cell_type": "code",
      "execution_count": 19,
      "id": "b5988875-cc79-4a4b-9995-22d4821aa414",
      "metadata": {
        "id": "b5988875-cc79-4a4b-9995-22d4821aa414",
        "nbgrader": {
          "grade": false,
          "grade_id": "cell-6b2c4f450cb1d1bf",
          "locked": true,
          "schema_version": 3,
          "solution": false,
          "task": false
        },
        "tags": []
      },
      "outputs": [
        {
          "data": {
            "text/plain": [
              "array([3.5, 4.5, 5.5, 6.5, 7.5])"
            ]
          },
          "execution_count": 19,
          "metadata": {},
          "output_type": "execute_result"
        }
      ],
      "source": [
        "# testing with an example\n",
        "init_range(5, 3.5)"
      ]
    },
    {
      "cell_type": "code",
      "execution_count": 20,
      "id": "710c12ef-ea84-44b1-9fed-ad70c783e25f",
      "metadata": {
        "id": "710c12ef-ea84-44b1-9fed-ad70c783e25f",
        "jupyter": {
          "source_hidden": true
        },
        "nbgrader": {
          "grade": true,
          "grade_id": "cell-3cfbf5f25a97488b",
          "locked": true,
          "points": 5,
          "schema_version": 3,
          "solution": false,
          "task": false
        },
        "tags": []
      },
      "outputs": [],
      "source": [
        "# grading cell 9\n",
        "assert init_range(5, 3).shape == (5, )\n",
        "assert np.sum(abs(init_range(5, 3) - np.array([3, 4, 5, 6, 7]))) == 0"
      ]
    },
    {
      "cell_type": "code",
      "execution_count": 21,
      "id": "4ab622c5-e627-4abe-a60d-f402220cff48",
      "metadata": {
        "id": "4ab622c5-e627-4abe-a60d-f402220cff48",
        "nbgrader": {
          "grade": true,
          "grade_id": "cell-6d2494de753e3271",
          "locked": true,
          "points": 5,
          "schema_version": 3,
          "solution": false,
          "task": false
        },
        "tags": []
      },
      "outputs": [],
      "source": [
        "# grading cell 10\n"
      ]
    },
    {
      "cell_type": "markdown",
      "id": "fa42e514-0117-4a82-a255-ff017a3a57dc",
      "metadata": {
        "id": "fa42e514-0117-4a82-a255-ff017a3a57dc",
        "nbgrader": {
          "grade": false,
          "grade_id": "cell-31621c9c04a5cef5",
          "locked": true,
          "schema_version": 3,
          "solution": false,
          "task": false
        },
        "tags": []
      },
      "source": [
        "## Problem 6: Matrix Initialization\n",
        "Initialize a matrix of size `m x n` consisting of all elements as `K`."
      ]
    },
    {
      "cell_type": "markdown",
      "id": "ac828feb-8ce4-4a6d-9f0d-9f2cfc9376db",
      "metadata": {
        "id": "ac828feb-8ce4-4a6d-9f0d-9f2cfc9376db",
        "nbgrader": {
          "grade": false,
          "grade_id": "cell-2d907d0918d30eb2",
          "locked": true,
          "schema_version": 3,
          "solution": false,
          "task": false
        },
        "tags": []
      },
      "source": [
        "Example:\n",
        "\n",
        "- Input:\n",
        "```\n",
        "m = 3\n",
        "n = 4\n",
        "K = 5\n",
        "```\n",
        "\n",
        "- Output:\n",
        "```\n",
        "[[5., 5., 5., 5.],\n",
        " [5., 5., 5., 5.],\n",
        " [5., 5., 5., 5.]]\n",
        "```"
      ]
    },
    {
      "cell_type": "code",
      "execution_count": 22,
      "id": "fab61da4-6c99-456c-ae41-45de4c52b9d2",
      "metadata": {
        "id": "fab61da4-6c99-456c-ae41-45de4c52b9d2",
        "nbgrader": {
          "grade": false,
          "grade_id": "cell-647a473a18b7e01f",
          "locked": false,
          "schema_version": 3,
          "solution": true,
          "task": false
        },
        "tags": []
      },
      "outputs": [],
      "source": [
        "def init_mat_K(m, n, K):\n",
        "    # YOUR CODE HERE\n",
        "    return np.ones((m, n)) * K\n",
        "    raise NotImplementedError()"
      ]
    },
    {
      "cell_type": "code",
      "execution_count": 23,
      "id": "b69fc81f-6d10-46a2-89e7-02c9966cf522",
      "metadata": {
        "colab": {
          "base_uri": "https://localhost:8080/",
          "height": 270
        },
        "id": "b69fc81f-6d10-46a2-89e7-02c9966cf522",
        "nbgrader": {
          "grade": false,
          "grade_id": "cell-7f766cac2d6f908c",
          "locked": true,
          "schema_version": 3,
          "solution": false,
          "task": false
        },
        "outputId": "c1edfae1-867d-41f1-8747-05aa7504f761",
        "tags": []
      },
      "outputs": [
        {
          "data": {
            "text/plain": [
              "array([[5., 5., 5., 5.],\n",
              "       [5., 5., 5., 5.],\n",
              "       [5., 5., 5., 5.]])"
            ]
          },
          "execution_count": 23,
          "metadata": {},
          "output_type": "execute_result"
        }
      ],
      "source": [
        "# testing with an example\n",
        "init_mat_K(3, 4, 5)"
      ]
    },
    {
      "cell_type": "code",
      "execution_count": 24,
      "id": "d163fa0e-32c8-4bac-92d3-2dbc180ca203",
      "metadata": {
        "id": "d163fa0e-32c8-4bac-92d3-2dbc180ca203",
        "nbgrader": {
          "grade": true,
          "grade_id": "cell-fed0cc85f74a9f21",
          "locked": true,
          "points": 5,
          "schema_version": 3,
          "solution": false,
          "task": false
        },
        "tags": []
      },
      "outputs": [],
      "source": [
        "# grading cell 11\n",
        "assert init_mat_K(2,3,4).shape == (2, 3)\n",
        "assert np.sum(abs(init_mat_K(2,3,4) - np.array([[4, 4, 4], [4, 4, 4]]))) == 0"
      ]
    },
    {
      "cell_type": "code",
      "execution_count": 25,
      "id": "d40c0d9b-0dd3-4a29-9747-c1635e9fdeac",
      "metadata": {
        "id": "d40c0d9b-0dd3-4a29-9747-c1635e9fdeac",
        "nbgrader": {
          "grade": true,
          "grade_id": "cell-3e3a1d7e81c73d21",
          "locked": true,
          "points": 5,
          "schema_version": 3,
          "solution": false,
          "task": false
        },
        "tags": []
      },
      "outputs": [],
      "source": [
        "# grading cell 12\n"
      ]
    },
    {
      "cell_type": "markdown",
      "id": "0c556870",
      "metadata": {
        "id": "0c556870"
      },
      "source": [
        "## Problem 7: Matrix Initialization\n",
        "Initialize a radom matrix of size `m x n` consisting integers within a given range."
      ]
    },
    {
      "cell_type": "markdown",
      "id": "db046cbd",
      "metadata": {
        "id": "db046cbd"
      },
      "source": [
        "Example:\n",
        "\n",
        "- Input:\n",
        "```\n",
        "m = 3\n",
        "n = 4\n",
        "min_val = 1\n",
        "max_val = 10\n",
        "```\n",
        "\n",
        "- Output:\n",
        "```\n",
        "[[5, 9, 7, 2]\n",
        " [4, 3, 8, 6]\n",
        " [1, 7, 2, 9]]\n",
        "```"
      ]
    },
    {
      "cell_type": "code",
      "execution_count": 26,
      "id": "6191c2ac",
      "metadata": {
        "id": "6191c2ac"
      },
      "outputs": [],
      "source": [
        "def init_mat_randints(m, n, min_val, max_val):\n",
        "    # YOUR CODE HERE\n",
        "    return np.random.randint(min_val, max_val, (m, n))\n",
        "    raise NotImplementedError()"
      ]
    },
    {
      "cell_type": "code",
      "execution_count": 27,
      "id": "a59ad29a",
      "metadata": {
        "id": "a59ad29a"
      },
      "outputs": [
        {
          "data": {
            "text/plain": [
              "array([[2, 9, 4, 9],\n",
              "       [7, 9, 1, 3],\n",
              "       [8, 2, 1, 2]])"
            ]
          },
          "execution_count": 27,
          "metadata": {},
          "output_type": "execute_result"
        }
      ],
      "source": [
        "# testing with an example\n",
        "init_mat_randints(3, 4, 1, 10)"
      ]
    },
    {
      "cell_type": "code",
      "execution_count": 28,
      "id": "7191baf8",
      "metadata": {
        "id": "7191baf8"
      },
      "outputs": [],
      "source": [
        "# grading cell 13\n",
        "assert init_mat_randints(2, 3, 1, 10).shape == (2, 3)\n",
        "assert np.all((init_mat_randints(2, 3, 1, 10) >= 1) & (init_mat_randints(2, 3, 1, 10) <= 10))"
      ]
    },
    {
      "cell_type": "code",
      "execution_count": 29,
      "id": "LN5L7C8XwFAp",
      "metadata": {
        "id": "LN5L7C8XwFAp"
      },
      "outputs": [],
      "source": [
        "# grading cell 14\n"
      ]
    },
    {
      "cell_type": "markdown",
      "id": "aacefd3d-eac9-4ad3-add1-2eb07363b1ee",
      "metadata": {
        "id": "aacefd3d-eac9-4ad3-add1-2eb07363b1ee",
        "nbgrader": {
          "grade": false,
          "grade_id": "cell-9f7ad3988806ed3a",
          "locked": true,
          "schema_version": 3,
          "solution": false,
          "task": false
        },
        "tags": []
      },
      "source": [
        "## Problem 8: Matrix Initialization\n",
        "Initialize a matrix of size `m x n` consisting of all elements as `K` and replace all odd values in `arr` with `-1`."
      ]
    },
    {
      "cell_type": "markdown",
      "id": "df018701",
      "metadata": {
        "id": "df018701"
      },
      "source": [
        "Example:\n",
        "\n",
        "- Input: \n",
        "```\n",
        "[[5, 8],\n",
        " [7, 8],\n",
        " [8, 3]]\n",
        "```\n",
        "- Output: \n",
        "```\n",
        "[[-1,  8],\n",
        " [-1,  8],\n",
        " [ 8, -1]]\n",
        "```"
      ]
    },
    {
      "cell_type": "code",
      "execution_count": 30,
      "id": "KTgABLZC-EhF",
      "metadata": {
        "id": "KTgABLZC-EhF"
      },
      "outputs": [],
      "source": [
        "def init_mat_randints(m, n, min_val, max_val):\n",
        "    # YOUR CODE HERE\n",
        "    return np.random.randint(min_val, max_val, (m, n))\n",
        "    raise NotImplementedError()\n",
        "\n",
        "def replace_odd_values(matrix):\n",
        "    # YOUR CODE HERE\n",
        "    return np.where(matrix % 2 == 1, -1, matrix)\n",
        "    raise NotImplementedError()"
      ]
    },
    {
      "cell_type": "code",
      "execution_count": 31,
      "id": "01tMcZ9bMmSq",
      "metadata": {
        "id": "01tMcZ9bMmSq"
      },
      "outputs": [
        {
          "data": {
            "text/plain": [
              "array([[-1,  8],\n",
              "       [-1,  8],\n",
              "       [ 8, -1]])"
            ]
          },
          "execution_count": 31,
          "metadata": {},
          "output_type": "execute_result"
        }
      ],
      "source": [
        "# testing with an example\n",
        "matrix = np.array([[5, 8], [7, 8], [8, 3]])\n",
        "replace_odd_values(matrix)"
      ]
    },
    {
      "cell_type": "code",
      "execution_count": 32,
      "id": "c377608b-8560-498e-80ef-35ceaf76f004",
      "metadata": {
        "id": "c377608b-8560-498e-80ef-35ceaf76f004",
        "nbgrader": {
          "grade": true,
          "grade_id": "cell-0ef1ef029f07a0d5",
          "locked": true,
          "points": 5,
          "schema_version": 3,
          "solution": false,
          "task": false
        },
        "tags": []
      },
      "outputs": [],
      "source": [
        "# grading cell 15\n",
        "matrix = replace_odd_values(init_mat_randints(4, 3, 1, 10))\n",
        "assert np.array_equal(matrix, np.where(matrix % 2 != 0, -1, matrix)), \"Odd values are not replaced correctly.\""
      ]
    },
    {
      "cell_type": "code",
      "execution_count": 33,
      "id": "0ce58880-7418-4daf-b06f-1051ae629a38",
      "metadata": {
        "id": "0ce58880-7418-4daf-b06f-1051ae629a38",
        "nbgrader": {
          "grade": true,
          "grade_id": "cell-61b220febe3ab9d1",
          "locked": true,
          "points": 5,
          "schema_version": 3,
          "solution": false,
          "task": false
        },
        "tags": []
      },
      "outputs": [],
      "source": [
        "# grading cell 16\n"
      ]
    },
    {
      "cell_type": "markdown",
      "id": "57e4363e",
      "metadata": {
        "id": "57e4363e"
      },
      "source": [
        "## Problem 9: Matrix Initialization\n",
        "Initialize an identity matrix of a specified size."
      ]
    },
    {
      "cell_type": "markdown",
      "id": "77214038",
      "metadata": {
        "id": "77214038"
      },
      "source": [
        "Example:\n",
        "\n",
        "- Input:\n",
        "```\n",
        "m = 5\n",
        "```\n",
        "\n",
        "- Output:\n",
        "```\n",
        "[[1, 0, 0, 0, 0]\n",
        " [0, 1, 0, 0, 0]\n",
        " [0, 0, 1, 0, 0]\n",
        " [0, 0, 0, 1, 0]\n",
        " [0, 0, 0, 0, 1]]\n",
        "```"
      ]
    },
    {
      "cell_type": "code",
      "execution_count": 34,
      "id": "ba0379a8",
      "metadata": {
        "id": "ba0379a8"
      },
      "outputs": [],
      "source": [
        "def init_mat_identity_matrix(n):\n",
        "    # YOUR CODE HERE\n",
        "    return np.eye(n, dtype=int)\n",
        "    raise NotImplementedError()"
      ]
    },
    {
      "cell_type": "code",
      "execution_count": 35,
      "id": "0cf21210",
      "metadata": {
        "id": "0cf21210"
      },
      "outputs": [
        {
          "data": {
            "text/plain": [
              "array([[1, 0, 0, 0, 0],\n",
              "       [0, 1, 0, 0, 0],\n",
              "       [0, 0, 1, 0, 0],\n",
              "       [0, 0, 0, 1, 0],\n",
              "       [0, 0, 0, 0, 1]])"
            ]
          },
          "execution_count": 35,
          "metadata": {},
          "output_type": "execute_result"
        }
      ],
      "source": [
        "# testing with an example\n",
        "init_mat_identity_matrix(5)"
      ]
    },
    {
      "cell_type": "code",
      "execution_count": 36,
      "id": "f970043c",
      "metadata": {
        "id": "f970043c"
      },
      "outputs": [],
      "source": [
        "# grading cell 17\n",
        "assert init_mat_identity_matrix(3).shape == (3, 3)\n",
        "assert np.all(np.diag(init_mat_identity_matrix(3)) == 1)\n",
        "assert np.all(init_mat_identity_matrix(3)[np.where(~np.eye(init_mat_identity_matrix(3).shape[0], dtype=bool))] == 0)"
      ]
    },
    {
      "cell_type": "code",
      "execution_count": 37,
      "id": "f81732e1",
      "metadata": {
        "id": "f81732e1"
      },
      "outputs": [],
      "source": [
        "# grading cell 18\n"
      ]
    },
    {
      "cell_type": "markdown",
      "id": "2b35295e",
      "metadata": {
        "id": "2b35295e"
      },
      "source": [
        "## Problem 10: Matrix Initialization\n",
        "Initialize a matrix of size `m x n` with elements increasing from left to right and top to bottom. The smallest element starts from `1`."
      ]
    },
    {
      "cell_type": "markdown",
      "id": "a7068e99-f24d-45a1-8049-c663eaf34498",
      "metadata": {
        "id": "a7068e99-f24d-45a1-8049-c663eaf34498",
        "nbgrader": {
          "grade": false,
          "grade_id": "cell-6788f8e2316c16c5",
          "locked": true,
          "schema_version": 3,
          "solution": false,
          "task": false
        },
        "tags": []
      },
      "source": [
        "Example:\n",
        "\n",
        "- Input:\n",
        "```\n",
        "m = 2\n",
        "n = 4\n",
        "```\n",
        "\n",
        "- Output:\n",
        "```\n",
        "array([[1, 2, 3, 4],\n",
        "       [5, 6, 7, 8]])\n",
        "```"
      ]
    },
    {
      "cell_type": "code",
      "execution_count": 38,
      "id": "7a0be1a4-eb71-47e7-9aa4-680a8ff1c91b",
      "metadata": {
        "id": "7a0be1a4-eb71-47e7-9aa4-680a8ff1c91b",
        "nbgrader": {
          "grade": false,
          "grade_id": "cell-9c8f504ad99b5023",
          "locked": false,
          "schema_version": 3,
          "solution": true,
          "task": false
        },
        "tags": []
      },
      "outputs": [],
      "source": [
        "def init_mat_increase(m, n):\n",
        "    # YOUR CODE HERE\n",
        "    return np.arange(1,m*n+1).reshape(m, n)\n",
        "    raise NotImplementedError()"
      ]
    },
    {
      "cell_type": "code",
      "execution_count": 39,
      "id": "d1c0e0a5-291c-4a55-aefb-ad215a27ade9",
      "metadata": {
        "id": "d1c0e0a5-291c-4a55-aefb-ad215a27ade9",
        "nbgrader": {
          "grade": false,
          "grade_id": "cell-22c095a6b8e997a4",
          "locked": true,
          "schema_version": 3,
          "solution": false,
          "task": false
        },
        "tags": []
      },
      "outputs": [
        {
          "data": {
            "text/plain": [
              "array([[1, 2, 3, 4],\n",
              "       [5, 6, 7, 8]])"
            ]
          },
          "execution_count": 39,
          "metadata": {},
          "output_type": "execute_result"
        }
      ],
      "source": [
        "# testing with an example\n",
        "init_mat_increase(2, 4)"
      ]
    },
    {
      "cell_type": "code",
      "execution_count": 40,
      "id": "282f6d67-f7fc-488b-8133-090fa9f5847d",
      "metadata": {
        "id": "282f6d67-f7fc-488b-8133-090fa9f5847d",
        "nbgrader": {
          "grade": true,
          "grade_id": "cell-03844dd4ad0af952",
          "locked": true,
          "points": 5,
          "schema_version": 3,
          "solution": false,
          "task": false
        },
        "tags": []
      },
      "outputs": [],
      "source": [
        "# grading cell 19\n",
        "assert init_mat_increase(2,3).shape == (2, 3)\n",
        "assert np.sum(abs(init_mat_increase(2,3) - np.array([[1, 2, 3], [4, 5, 6]]))) == 0"
      ]
    },
    {
      "cell_type": "code",
      "execution_count": 41,
      "id": "9848941c-fc73-4bea-a17a-c0b4f94d75f1",
      "metadata": {
        "id": "9848941c-fc73-4bea-a17a-c0b4f94d75f1",
        "nbgrader": {
          "grade": true,
          "grade_id": "cell-79c5aaca6a38a24d",
          "locked": true,
          "points": 5,
          "schema_version": 3,
          "solution": false,
          "task": false
        },
        "tags": []
      },
      "outputs": [],
      "source": [
        "# grading cell 20\n"
      ]
    }
  ],
  "metadata": {
    "colab": {
      "provenance": []
    },
    "kernelspec": {
      "display_name": "Python 3 (ipykernel)",
      "language": "python",
      "name": "python3"
    },
    "language_info": {
      "codemirror_mode": {
        "name": "ipython",
        "version": 3
      },
      "file_extension": ".py",
      "mimetype": "text/x-python",
      "name": "python",
      "nbconvert_exporter": "python",
      "pygments_lexer": "ipython3",
      "version": "3.9.13"
    }
  },
  "nbformat": 4,
  "nbformat_minor": 5
}
