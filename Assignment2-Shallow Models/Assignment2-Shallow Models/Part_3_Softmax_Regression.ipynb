{
  "cells": [
    {
      "attachments": {},
      "cell_type": "markdown",
      "id": "32d8e798-415f-437f-9595-395432d2f6ea",
      "metadata": {
        "id": "32d8e798-415f-437f-9595-395432d2f6ea",
        "nbgrader": {
          "grade": false,
          "grade_id": "cell-cd8ada6364a44dde",
          "locked": true,
          "schema_version": 3,
          "solution": false,
          "task": false
        },
        "tags": []
      },
      "source": [
        "# Implementation of Softmax Regression Model with Keras\n",
        "Instructions:\n",
        "- Start the kernel: In the menu bar, select Kernel -> Restart kernel.\n",
        "- Complete all sections with the comment `YOUR CODE HERE`.\n",
        "- Run all code blocks to check the implementation: In the menu bar, select Cell -> Run All."
      ]
    },
    {
      "attachments": {},
      "cell_type": "markdown",
      "id": "fd050030-303d-46a5-814b-39eb047ad932",
      "metadata": {
        "id": "fd050030-303d-46a5-814b-39eb047ad932",
        "nbgrader": {
          "grade": false,
          "grade_id": "cell-0bffba57d1ad9cb3",
          "locked": true,
          "schema_version": 3,
          "solution": false,
          "task": false
        },
        "tags": []
      },
      "source": [
        "A machine learning model typically needs to have at least the following 7 methods:\n",
        "\n",
        "- `__init__`: The constructor method in object-oriented programming is used to initialize default parameters or set up the initial state of a model. In the initial exercises, this constructor may not be used for simplicity.\n",
        "- `build`: Builds the architecture of the model.\n",
        "- `train`: Starts the training process of the model.\n",
        "- `save`: Saves the trained model.\n",
        "- `load`: Loads a pre-trained model from a file.\n",
        "- `summary`: Prints a summary of the model's architecture.\n",
        "- `predict`: Makes predictions on input data and outputs the corresponding output values.\n",
        "\n",
        "These methods play key roles in the lifecycle of a machine learning model, including its initialization, training, saving, loading, summarizing, and making predictions."
      ]
    },
    {
      "cell_type": "code",
      "execution_count": 1,
      "id": "4045ce28-ee6d-4e9b-a48a-f1735f301574",
      "metadata": {
        "id": "4045ce28-ee6d-4e9b-a48a-f1735f301574",
        "nbgrader": {
          "grade": false,
          "grade_id": "cell-126fc97be75a7453",
          "locked": true,
          "schema_version": 3,
          "solution": false,
          "task": false
        },
        "tags": []
      },
      "outputs": [],
      "source": [
        "# The general implementation of the model includes 7 basic methods.\n",
        "# Note: This model is just a suggestion and not mandatory.\n",
        "# However, in the exercise section, it is required to adhere to these method names.\n",
        "import numpy as np\n",
        "class MyModel:\n",
        "    # constructor\n",
        "    def __init__(self):\n",
        "        return None\n",
        "\n",
        "    # Implement architecture of the model\n",
        "    def build(self):\n",
        "        return None\n",
        "\n",
        "    # Train the defined model with training and validation data\n",
        "    def train(self):\n",
        "        return None\n",
        "\n",
        "    # Save the trained model to file\n",
        "    def save(self, model_path):\n",
        "        return None\n",
        "\n",
        "    # Load pretrained model from file\n",
        "    def load(self):\n",
        "        return None\n",
        "    # Visualize your model\n",
        "    def summary(self):\n",
        "        return None\n",
        "\n",
        "    # Apply your model with new input data\n",
        "    def predict(self):\n",
        "        return None"
      ]
    },
    {
      "attachments": {},
      "cell_type": "markdown",
      "id": "498cd880-c80c-4d9a-9ca8-bff003cf2ae6",
      "metadata": {
        "id": "498cd880-c80c-4d9a-9ca8-bff003cf2ae6",
        "nbgrader": {
          "grade": false,
          "grade_id": "cell-449bbee0eee23e80",
          "locked": true,
          "schema_version": 3,
          "solution": false,
          "task": false
        },
        "tags": []
      },
      "source": [
        "## Step 1. Import Keras Libraries\n",
        "\n",
        "First, let's import the necessary libraries, modules, and functions from Keras:\n",
        "- `Input`: Used to receive input data for the model.\n",
        "- `Dense`: Also known as the Fully Connected layer, an essential component of Neural Network-based models.\n",
        "- `Model`: This is the model object class used to package the input and output layers, train with the `fit` method, and make predictions with `predict`.\n",
        "- `load_model`: A function used to load a model from a file."
      ]
    },
    {
      "cell_type": "code",
      "execution_count": 2,
      "id": "1f4b4acb-157f-4309-96de-b8e7b01f6506",
      "metadata": {
        "id": "1f4b4acb-157f-4309-96de-b8e7b01f6506",
        "nbgrader": {
          "grade": false,
          "grade_id": "cell-57c79d33953aeef2",
          "locked": true,
          "schema_version": 3,
          "solution": false,
          "task": false
        },
        "tags": []
      },
      "outputs": [],
      "source": [
        "from keras.layers import Input, Dense\n",
        "from keras import Model\n",
        "import tensorflow as tf\n",
        "from keras.models import load_model"
      ]
    },
    {
      "attachments": {},
      "cell_type": "markdown",
      "id": "04a833c1-4990-489c-bbac-968b578eac39",
      "metadata": {
        "id": "04a833c1-4990-489c-bbac-968b578eac39",
        "nbgrader": {
          "grade": false,
          "grade_id": "cell-f72ad50b2c988c98",
          "locked": true,
          "schema_version": 3,
          "solution": false,
          "task": false
        },
        "tags": []
      },
      "source": [
        "## Step 2. Implementing Softmax Regression Model\n",
        "\n",
        "Next, based on the `MyModel` object framework presented in the previous section, we will proceed to implement the **Softmax Regression** model. The main method to be implemented in this exercise is `def build()`. The remaining methods have been pre-implemented, and you should read and understand their purpose and usage for future reference.\n",
        "\n",
        "<p align=\"center\">\n",
        "  <img src=\"SoftmaxReg.png\" />\n",
        "</p>"
      ]
    },
    {
      "cell_type": "code",
      "execution_count": 3,
      "id": "60b33717-b96f-4c9b-97f8-2e0eb49d7afa",
      "metadata": {
        "id": "60b33717-b96f-4c9b-97f8-2e0eb49d7afa",
        "nbgrader": {
          "grade": false,
          "grade_id": "cell-39579eccef29b960",
          "locked": false,
          "schema_version": 3,
          "solution": true,
          "task": false
        },
        "tags": []
      },
      "outputs": [],
      "source": [
        "# Softmax Regression\n",
        "class SoftmaxRegression:\n",
        "    def __init__(self): # Self is similar to your 'this' pointer in C++\n",
        "        return None\n",
        "\n",
        "    def build(self, input_dim, output_dim):\n",
        "        # `input_dim`: The size of the input feature.\n",
        "        # `output_dim`: The number of classes to be classified.\n",
        "\n",
        "        # Khởi tạo model\n",
        "        self.model = None\n",
        "\n",
        "        # Implement the `build()` method to define the ARCHITECTURE of the model and save it in the `self.model` attribute.\n",
        "        # Use the following object variables:\n",
        "        #  - Create a variable `input` with the `Input` object class from Keras, passing the input dimension `input_dim`.\n",
        "        #  - Create a variable `output` with the `Dense` object class from Keras,\n",
        "        # passing the following parameters: the output dimension (pay attention to MULTI-CLASS CLASSIFICATION), including the use of bias, and using the `softmax` activation function.\n",
        "        # After this step, `self.model` will package the `input` and `output` variables to form the model.\n",
        "        ### YOUR CODE HERE\n",
        "\n",
        "        return self.model\n",
        "\n",
        "    def train(self, x_train, y_train):\n",
        "        opt = tf.keras.optimizers.SGD(learning_rate=0.01) # Stochastic Gradient Descent\n",
        "        self.model.compile(optimizer=opt, loss='categorical_crossentropy') # CCE loss\n",
        "        return self.model.fit(x_train, y_train, epochs=100)\n",
        "\n",
        "    def save(self, model_file):\n",
        "        return self.model.save(model_file)\n",
        "\n",
        "    def load(self, model_file):\n",
        "        self.model = load_model(model_file)\n",
        "\n",
        "    def summary(self):\n",
        "        self.model.summary()\n",
        "\n",
        "    def predict(self, x_test):\n",
        "        return self.model.predict(x_test)\n",
        "\n",
        "    def get_weights(self):\n",
        "        return self.model.layers[1].get_weights()"
      ]
    },
    {
      "attachments": {},
      "cell_type": "markdown",
      "id": "97f6c731-3e41-4d71-988d-b41a6dfa2999",
      "metadata": {
        "id": "97f6c731-3e41-4d71-988d-b41a6dfa2999",
        "nbgrader": {
          "grade": false,
          "grade_id": "cell-ac1cf2df36b35acb",
          "locked": true,
          "schema_version": 3,
          "solution": false,
          "task": false
        },
        "tags": []
      },
      "source": [
        "Next, we will initialize the SoftmaxRegression object and test whether the `build` method has been implemented correctly."
      ]
    },
    {
      "cell_type": "code",
      "execution_count": 4,
      "id": "74d6e729-8fcc-4464-9d1f-0e24da5629dc",
      "metadata": {
        "colab": {
          "base_uri": "https://localhost:8080/"
        },
        "id": "74d6e729-8fcc-4464-9d1f-0e24da5629dc",
        "nbgrader": {
          "grade": false,
          "grade_id": "cell-cb24e77ca4ff451e",
          "locked": true,
          "schema_version": 3,
          "solution": false,
          "task": false
        },
        "outputId": "d2232b7b-a174-4820-d506-478377ffabed",
        "tags": []
      },
      "outputs": [
        {
          "data": {
            "text/plain": [
              "<keras.engine.functional.Functional at 0x7f18e8607220>"
            ]
          },
          "execution_count": 4,
          "metadata": {},
          "output_type": "execute_result"
        }
      ],
      "source": [
        "sr = SoftmaxRegression()\n",
        "# In this example, we will initialize the input as a 1000-dimensional vector,\n",
        "# and the task requires classifying 20 object classes.\n",
        "sr.build(1000, 20)"
      ]
    },
    {
      "cell_type": "code",
      "execution_count": 5,
      "id": "9ca9fdb2-e913-4c1d-a858-48a3842f3436",
      "metadata": {
        "id": "9ca9fdb2-e913-4c1d-a858-48a3842f3436",
        "nbgrader": {
          "grade": true,
          "grade_id": "cell-278fafeae5c407d0",
          "locked": true,
          "points": 5,
          "schema_version": 3,
          "solution": false,
          "task": false
        },
        "tags": []
      },
      "outputs": [],
      "source": [
        "# Check the architecture containing Input and Output classes.\n",
        "assert len(sr.model.layers)==2\n",
        "assert str(type(sr.model.layers[0]))== \"<class 'keras.engine.input_layer.InputLayer'>\"\n",
        "assert str(type(sr.model.layers[1]))== \"<class 'keras.layers.core.dense.Dense'>\"\n",
        "assert sr.model.layers[0].input_shape[0][1] == 1000\n",
        "assert sr.model.layers[1].output_shape[1] == 20\n",
        "assert sr.model.layers[1].use_bias == True"
      ]
    },
    {
      "cell_type": "code",
      "execution_count": 6,
      "id": "a5589098-a98d-4356-b01c-c4c01139b1c3",
      "metadata": {
        "id": "a5589098-a98d-4356-b01c-c4c01139b1c3",
        "nbgrader": {
          "grade": true,
          "grade_id": "cell-05b9ba2de5ca007e",
          "locked": true,
          "points": 10,
          "schema_version": 3,
          "solution": false,
          "task": false
        },
        "tags": []
      },
      "outputs": [],
      "source": [
        "# Test with hidden test cases.\n"
      ]
    },
    {
      "attachments": {},
      "cell_type": "markdown",
      "id": "834e8988-86a3-4914-8b48-5b1e0c26ef9f",
      "metadata": {
        "id": "834e8988-86a3-4914-8b48-5b1e0c26ef9f",
        "nbgrader": {
          "grade": false,
          "grade_id": "cell-ac7a9ddf407c8762",
          "locked": true,
          "schema_version": 3,
          "solution": false,
          "task": false
        },
        "tags": []
      },
      "source": [
        "## Step 3. Generate Sample Data (Toy Example)\n",
        "\n",
        "Next, we will generate sample data for training and testing.\n",
        "\n",
        "The data will be generated as random points around 4 clusters:\n",
        "- [10, -2]\n",
        "- [2, 8]\n",
        "- [12, 8]\n",
        "- [-2, 0]\n",
        "\n",
        "Note that these 4 clusters are well-separated from each other so that even with added random noise, the points belonging to these 4 clusters will not intersect with each other."
      ]
    },
    {
      "cell_type": "code",
      "execution_count": 7,
      "id": "e85e8cda-f476-4091-8bbc-e1c5c05a8c99",
      "metadata": {
        "colab": {
          "base_uri": "https://localhost:8080/",
          "height": 430
        },
        "id": "e85e8cda-f476-4091-8bbc-e1c5c05a8c99",
        "nbgrader": {
          "grade": false,
          "grade_id": "cell-596b906e8b2db48f",
          "locked": true,
          "schema_version": 3,
          "solution": false,
          "task": false
        },
        "outputId": "0872a9f5-7d1d-42a8-a683-4021498ff3b5",
        "tags": []
      },
      "outputs": [
        {
          "data": {
            "image/png": "[encoded data removed]",
            "text/plain": [
              "<Figure size 640x480 with 1 Axes>"
            ]
          },
          "metadata": {},
          "output_type": "display_data"
        }
      ],
      "source": [
        "import numpy as np\n",
        "import matplotlib.pyplot as plt\n",
        "\n",
        "# Number of classes: 4\n",
        "K = 4\n",
        "# Create a dataset including 4 points\n",
        "# S1, S2, S3, S4 are the centers of the 4 classes.\n",
        "S1= np.array([[10,-2]])\n",
        "S2= np.array([[2,8]])\n",
        "S3= np.array([[12,8]])\n",
        "S4= np.array([[-2,0]])\n",
        "\n",
        "# 50 samples for each class\n",
        "n_sample = 50\n",
        "# Generate points with random noise around 4 centers.\n",
        "pts1 = S1 + np.random.normal(0, 1.5, size=(n_sample,2))\n",
        "pts2 = S2 + np.random.normal(0, 1.5, size=(n_sample,2))\n",
        "pts3 = S3 + np.random.normal(0, 1.5, size=(n_sample,2))\n",
        "pts4 = S4 + np.random.normal(0, 1.5, size=(n_sample,2))\n",
        "\n",
        "# Concatenate all samples into a single data block X (input features) and Y (labels).\n",
        "X_train = np.concatenate((pts1, pts2, pts3, pts4))\n",
        "# Concatenate data labels to a single input variable Y\n",
        "Y_train = np.concatenate(([0]*n_sample, [1]*n_sample, [2]*n_sample, [3]*n_sample))\n",
        "\n",
        "# Convert Y from label format to one-hot vectors.\n",
        "Y_train = Y_train.astype(int)\n",
        "Y_oh = np.zeros((Y_train.size, Y_train.max()+1 ))\n",
        "Y_oh[np.arange(Y_train.size), Y_train] = 1\n",
        "\n",
        "# Visualize the data using colored circles: red, green, blue, and yellow.\n",
        "plt.plot(pts1[:,0], pts1[:,1], 'ro')\n",
        "plt.plot(pts2[:,0], pts2[:,1], 'go')\n",
        "plt.plot(pts3[:,0], pts3[:,1], 'bo')\n",
        "plt.plot(pts4[:,0], pts4[:,1], 'yo')\n",
        "plt.show()\n"
      ]
    },
    {
      "attachments": {},
      "cell_type": "markdown",
      "id": "c94626d9-8c76-4c59-87fe-231e4448262a",
      "metadata": {
        "id": "c94626d9-8c76-4c59-87fe-231e4448262a",
        "nbgrader": {
          "grade": false,
          "grade_id": "cell-420a13cae6d553e4",
          "locked": true,
          "schema_version": 3,
          "solution": false,
          "task": false
        },
        "tags": []
      },
      "source": [
        "## Step 4. Train the model with the sample data\n",
        "\n",
        "Next, we will reinitialize the model to fit the generated sample data from the previous step. The architecture of the model must be compatible with the dimensions of the sample data."
      ]
    },
    {
      "cell_type": "code",
      "execution_count": 8,
      "id": "8aa7ce32-4f59-4cee-ae56-25f0cd972886",
      "metadata": {
        "colab": {
          "base_uri": "https://localhost:8080/"
        },
        "id": "8aa7ce32-4f59-4cee-ae56-25f0cd972886",
        "nbgrader": {
          "grade": false,
          "grade_id": "cell-7b350a0e29be5844",
          "locked": false,
          "schema_version": 3,
          "solution": true,
          "task": false
        },
        "outputId": "ea6c1b71-c5bb-462c-d62a-21e871cc8b74",
        "tags": []
      },
      "outputs": [
        {
          "name": "stdout",
          "output_type": "stream",
          "text": [
            "The architecture of the Softmax Regression model: \n",
            "Model: \"model_2\"\n",
            "_________________________________________________________________\n",
            " Layer (type)                Output Shape              Param #   \n",
            "=================================================================\n",
            " input_3 (InputLayer)        [(None, 2)]               0         \n",
            "                                                                 \n",
            " dense_2 (Dense)             (None, 4)                 12        \n",
            "                                                                 \n",
            "=================================================================\n",
            "Total params: 12\n",
            "Trainable params: 12\n",
            "Non-trainable params: 0\n",
            "_________________________________________________________________\n"
          ]
        }
      ],
      "source": [
        "sr = SoftmaxRegression()\n",
        "\n",
        "# Call the `build` method for the `sr` object and pass the corresponding input parameters\n",
        "# based on the generated training data in the code block above.\n",
        "# According to you, what are the values of `input_dim` and `output_dim`?\n",
        "\n",
        "### YOUR CODE HERE\n",
        "\n",
        "# To display the architecture of the model, you can call the `summary` method.\n",
        "print(\"The architecture of the Softmax Regression model: \")\n",
        "sr.summary()"
      ]
    },
    {
      "cell_type": "code",
      "execution_count": 9,
      "id": "0c6a3f9c-d529-4e33-968f-ef924a7f7ef7",
      "metadata": {
        "id": "0c6a3f9c-d529-4e33-968f-ef924a7f7ef7",
        "nbgrader": {
          "grade": true,
          "grade_id": "cell-cf64170f2b98a6d3",
          "locked": true,
          "points": 5,
          "schema_version": 3,
          "solution": false,
          "task": false
        },
        "tags": []
      },
      "outputs": [],
      "source": [
        "# Check the invocation of the `build` method.\n"
      ]
    },
    {
      "cell_type": "code",
      "execution_count": 10,
      "id": "7f34ecff-3ef0-497f-bcd0-c138cb7b7af3",
      "metadata": {
        "colab": {
          "base_uri": "https://localhost:8080/"
        },
        "id": "7f34ecff-3ef0-497f-bcd0-c138cb7b7af3",
        "nbgrader": {
          "grade": false,
          "grade_id": "cell-9ba3148b1e8aacd3",
          "locked": true,
          "schema_version": 3,
          "solution": false,
          "task": false
        },
        "outputId": "89439d8b-b723-4ece-e2d3-fe1df29a5868",
        "tags": []
      },
      "outputs": [
        {
          "name": "stdout",
          "output_type": "stream",
          "text": [
            "Epoch 1/100\n",
            "7/7 [==============================] - 1s 13ms/step - loss: 6.9243\n",
            "Epoch 2/100\n",
            "7/7 [==============================] - 0s 5ms/step - loss: 3.8826\n",
            "Epoch 3/100\n",
            "7/7 [==============================] - 0s 5ms/step - loss: 2.0957\n",
            "Epoch 4/100\n",
            "7/7 [==============================] - 0s 3ms/step - loss: 1.0813\n",
            "Epoch 5/100\n",
            "7/7 [==============================] - 0s 3ms/step - loss: 0.6660\n",
            "Epoch 6/100\n",
            "7/7 [==============================] - 0s 5ms/step - loss: 0.5401\n",
            "Epoch 7/100\n",
            "7/7 [==============================] - 0s 3ms/step - loss: 0.4820\n",
            "Epoch 8/100\n",
            "7/7 [==============================] - 0s 3ms/step - loss: 0.4436\n",
            "Epoch 9/100\n",
            "7/7 [==============================] - 0s 3ms/step - loss: 0.4189\n",
            "Epoch 10/100\n",
            "7/7 [==============================] - 0s 3ms/step - loss: 0.3988\n",
            "Epoch 11/100\n",
            "7/7 [==============================] - 0s 3ms/step - loss: 0.3823\n",
            "Epoch 12/100\n",
            "7/7 [==============================] - 0s 3ms/step - loss: 0.3664\n",
            "Epoch 13/100\n",
            "7/7 [==============================] - 0s 3ms/step - loss: 0.3547\n",
            "Epoch 14/100\n",
            "7/7 [==============================] - 0s 3ms/step - loss: 0.3428\n",
            "Epoch 15/100\n",
            "7/7 [==============================] - 0s 3ms/step - loss: 0.3332\n",
            "Epoch 16/100\n",
            "7/7 [==============================] - 0s 3ms/step - loss: 0.3233\n",
            "Epoch 17/100\n",
            "7/7 [==============================] - 0s 3ms/step - loss: 0.3149\n",
            "Epoch 18/100\n",
            "7/7 [==============================] - 0s 3ms/step - loss: 0.3077\n",
            "Epoch 19/100\n",
            "7/7 [==============================] - 0s 3ms/step - loss: 0.3015\n",
            "Epoch 20/100\n",
            "7/7 [==============================] - 0s 3ms/step - loss: 0.2951\n",
            "Epoch 21/100\n",
            "7/7 [==============================] - 0s 3ms/step - loss: 0.2886\n",
            "Epoch 22/100\n",
            "7/7 [==============================] - 0s 2ms/step - loss: 0.2833\n",
            "Epoch 23/100\n",
            "7/7 [==============================] - 0s 2ms/step - loss: 0.2777\n",
            "Epoch 24/100\n",
            "7/7 [==============================] - 0s 6ms/step - loss: 0.2727\n",
            "Epoch 25/100\n",
            "7/7 [==============================] - 0s 3ms/step - loss: 0.2678\n",
            "Epoch 26/100\n",
            "7/7 [==============================] - 0s 3ms/step - loss: 0.2636\n",
            "Epoch 27/100\n",
            "7/7 [==============================] - 0s 3ms/step - loss: 0.2587\n",
            "Epoch 28/100\n",
            "7/7 [==============================] - 0s 4ms/step - loss: 0.2549\n",
            "Epoch 29/100\n",
            "7/7 [==============================] - 0s 4ms/step - loss: 0.2515\n",
            "Epoch 30/100\n",
            "7/7 [==============================] - 0s 3ms/step - loss: 0.2480\n",
            "Epoch 31/100\n",
            "7/7 [==============================] - 0s 3ms/step - loss: 0.2442\n",
            "Epoch 32/100\n",
            "7/7 [==============================] - 0s 3ms/step - loss: 0.2412\n",
            "Epoch 33/100\n",
            "7/7 [==============================] - 0s 3ms/step - loss: 0.2378\n",
            "Epoch 34/100\n",
            "7/7 [==============================] - 0s 3ms/step - loss: 0.2351\n",
            "Epoch 35/100\n",
            "7/7 [==============================] - 0s 3ms/step - loss: 0.2320\n",
            "Epoch 36/100\n",
            "7/7 [==============================] - 0s 3ms/step - loss: 0.2296\n",
            "Epoch 37/100\n",
            "7/7 [==============================] - 0s 3ms/step - loss: 0.2266\n",
            "Epoch 38/100\n",
            "7/7 [==============================] - 0s 3ms/step - loss: 0.2238\n",
            "Epoch 39/100\n",
            "7/7 [==============================] - 0s 13ms/step - loss: 0.2217\n",
            "Epoch 40/100\n",
            "7/7 [==============================] - 0s 3ms/step - loss: 0.2190\n",
            "Epoch 41/100\n",
            "7/7 [==============================] - 0s 4ms/step - loss: 0.2169\n",
            "Epoch 42/100\n",
            "7/7 [==============================] - 0s 4ms/step - loss: 0.2146\n",
            "Epoch 43/100\n",
            "7/7 [==============================] - 0s 3ms/step - loss: 0.2123\n",
            "Epoch 44/100\n",
            "7/7 [==============================] - 0s 3ms/step - loss: 0.2102\n",
            "Epoch 45/100\n",
            "7/7 [==============================] - 0s 4ms/step - loss: 0.2080\n",
            "Epoch 46/100\n",
            "7/7 [==============================] - 0s 3ms/step - loss: 0.2063\n",
            "Epoch 47/100\n",
            "7/7 [==============================] - 0s 3ms/step - loss: 0.2042\n",
            "Epoch 48/100\n",
            "7/7 [==============================] - 0s 3ms/step - loss: 0.2024\n",
            "Epoch 49/100\n",
            "7/7 [==============================] - 0s 3ms/step - loss: 0.2006\n",
            "Epoch 50/100\n",
            "7/7 [==============================] - 0s 7ms/step - loss: 0.1988\n",
            "Epoch 51/100\n",
            "7/7 [==============================] - 0s 5ms/step - loss: 0.1973\n",
            "Epoch 52/100\n",
            "7/7 [==============================] - 0s 6ms/step - loss: 0.1954\n",
            "Epoch 53/100\n",
            "7/7 [==============================] - 0s 3ms/step - loss: 0.1937\n",
            "Epoch 54/100\n",
            "7/7 [==============================] - 0s 3ms/step - loss: 0.1925\n",
            "Epoch 55/100\n",
            "7/7 [==============================] - 0s 3ms/step - loss: 0.1911\n",
            "Epoch 56/100\n",
            "7/7 [==============================] - 0s 3ms/step - loss: 0.1895\n",
            "Epoch 57/100\n",
            "7/7 [==============================] - 0s 4ms/step - loss: 0.1881\n",
            "Epoch 58/100\n",
            "7/7 [==============================] - 0s 6ms/step - loss: 0.1865\n",
            "Epoch 59/100\n",
            "7/7 [==============================] - 0s 4ms/step - loss: 0.1851\n",
            "Epoch 60/100\n",
            "7/7 [==============================] - 0s 3ms/step - loss: 0.1837\n",
            "Epoch 61/100\n",
            "7/7 [==============================] - 0s 7ms/step - loss: 0.1824\n",
            "Epoch 62/100\n",
            "7/7 [==============================] - 0s 3ms/step - loss: 0.1811\n",
            "Epoch 63/100\n",
            "7/7 [==============================] - 0s 3ms/step - loss: 0.1797\n",
            "Epoch 64/100\n",
            "7/7 [==============================] - 0s 3ms/step - loss: 0.1787\n",
            "Epoch 65/100\n",
            "7/7 [==============================] - 0s 3ms/step - loss: 0.1774\n",
            "Epoch 66/100\n",
            "7/7 [==============================] - 0s 3ms/step - loss: 0.1762\n",
            "Epoch 67/100\n",
            "7/7 [==============================] - 0s 4ms/step - loss: 0.1750\n",
            "Epoch 68/100\n",
            "7/7 [==============================] - 0s 4ms/step - loss: 0.1737\n",
            "Epoch 69/100\n",
            "7/7 [==============================] - 0s 3ms/step - loss: 0.1726\n",
            "Epoch 70/100\n",
            "7/7 [==============================] - 0s 5ms/step - loss: 0.1716\n",
            "Epoch 71/100\n",
            "7/7 [==============================] - 0s 3ms/step - loss: 0.1705\n",
            "Epoch 72/100\n",
            "7/7 [==============================] - 0s 9ms/step - loss: 0.1695\n",
            "Epoch 73/100\n",
            "7/7 [==============================] - 0s 3ms/step - loss: 0.1684\n",
            "Epoch 74/100\n",
            "7/7 [==============================] - 0s 3ms/step - loss: 0.1674\n",
            "Epoch 75/100\n",
            "7/7 [==============================] - 0s 3ms/step - loss: 0.1663\n",
            "Epoch 76/100\n",
            "7/7 [==============================] - 0s 3ms/step - loss: 0.1656\n",
            "Epoch 77/100\n",
            "7/7 [==============================] - 0s 5ms/step - loss: 0.1647\n",
            "Epoch 78/100\n",
            "7/7 [==============================] - 0s 5ms/step - loss: 0.1636\n",
            "Epoch 79/100\n",
            "7/7 [==============================] - 0s 5ms/step - loss: 0.1625\n",
            "Epoch 80/100\n",
            "7/7 [==============================] - 0s 6ms/step - loss: 0.1615\n",
            "Epoch 81/100\n",
            "7/7 [==============================] - 0s 4ms/step - loss: 0.1607\n",
            "Epoch 82/100\n",
            "7/7 [==============================] - 0s 5ms/step - loss: 0.1598\n",
            "Epoch 83/100\n",
            "7/7 [==============================] - 0s 5ms/step - loss: 0.1588\n",
            "Epoch 84/100\n",
            "7/7 [==============================] - 0s 6ms/step - loss: 0.1581\n",
            "Epoch 85/100\n",
            "7/7 [==============================] - 0s 8ms/step - loss: 0.1572\n",
            "Epoch 86/100\n",
            "7/7 [==============================] - 0s 4ms/step - loss: 0.1565\n",
            "Epoch 87/100\n",
            "7/7 [==============================] - 0s 3ms/step - loss: 0.1558\n",
            "Epoch 88/100\n",
            "7/7 [==============================] - 0s 5ms/step - loss: 0.1549\n",
            "Epoch 89/100\n",
            "7/7 [==============================] - 0s 5ms/step - loss: 0.1541\n",
            "Epoch 90/100\n",
            "7/7 [==============================] - 0s 4ms/step - loss: 0.1532\n",
            "Epoch 91/100\n",
            "7/7 [==============================] - 0s 3ms/step - loss: 0.1526\n",
            "Epoch 92/100\n",
            "7/7 [==============================] - 0s 3ms/step - loss: 0.1517\n",
            "Epoch 93/100\n",
            "7/7 [==============================] - 0s 3ms/step - loss: 0.1510\n",
            "Epoch 94/100\n",
            "7/7 [==============================] - 0s 3ms/step - loss: 0.1503\n",
            "Epoch 95/100\n",
            "7/7 [==============================] - 0s 3ms/step - loss: 0.1500\n",
            "Epoch 96/100\n",
            "7/7 [==============================] - 0s 3ms/step - loss: 0.1489\n",
            "Epoch 97/100\n",
            "7/7 [==============================] - 0s 4ms/step - loss: 0.1481\n",
            "Epoch 98/100\n",
            "7/7 [==============================] - 0s 5ms/step - loss: 0.1472\n",
            "Epoch 99/100\n",
            "7/7 [==============================] - 0s 3ms/step - loss: 0.1467\n",
            "Epoch 100/100\n",
            "7/7 [==============================] - 0s 3ms/step - loss: 0.1460\n"
          ]
        }
      ],
      "source": [
        "# To train the model, we call the `train` method with the generated sample data.\n",
        "# If the `build` step of the model is called correctly, the subsequent `train` step will be executed successfully.\n",
        "# NOTE: Here, we use the output `Y_oh` in the one-hot format instead of the label format.\n",
        "hist = sr.train(X_train, Y_oh)"
      ]
    },
    {
      "cell_type": "code",
      "execution_count": 11,
      "id": "44d04e58-792d-40e7-b4c5-01b4e0a582df",
      "metadata": {
        "colab": {
          "base_uri": "https://localhost:8080/",
          "height": 472
        },
        "id": "44d04e58-792d-40e7-b4c5-01b4e0a582df",
        "nbgrader": {
          "grade": false,
          "grade_id": "cell-410570417a6e9fdd",
          "locked": true,
          "schema_version": 3,
          "solution": false,
          "task": false
        },
        "outputId": "26803f8c-f11e-4424-d97d-b9d9ab408a32",
        "tags": []
      },
      "outputs": [
        {
          "data": {
            "image/png": "[encoded data removed]",
            "text/plain": [
              "<Figure size 640x480 with 1 Axes>"
            ]
          },
          "metadata": {},
          "output_type": "display_data"
        }
      ],
      "source": [
        "# Display the loss per epoch.\n",
        "plt.plot(hist.history['loss'])\n",
        "plt.title('Model Loss')\n",
        "plt.ylabel('loss')\n",
        "plt.xlabel('epoch')\n",
        "plt.show()"
      ]
    },
    {
      "cell_type": "code",
      "execution_count": 12,
      "id": "3fb633a4-92b1-4d1d-a189-df8b64bca31d",
      "metadata": {
        "id": "3fb633a4-92b1-4d1d-a189-df8b64bca31d",
        "nbgrader": {
          "grade": false,
          "grade_id": "cell-bbe1e1b3f7109f67",
          "locked": true,
          "schema_version": 3,
          "solution": false,
          "task": false
        },
        "tags": []
      },
      "outputs": [],
      "source": [
        "# After training, we save the model for future reuse.\n",
        "# Note: The two methods `save`\n",
        "# and `load` are used when you want to reuse the model multiple times WITHOUT THE NEED TO RETRAIN it.\n",
        "sr.save('softmax_regression_model.h5')"
      ]
    },
    {
      "attachments": {},
      "cell_type": "markdown",
      "id": "3ce541da-ad32-4636-9b14-4975f960ec4f",
      "metadata": {
        "id": "3ce541da-ad32-4636-9b14-4975f960ec4f",
        "nbgrader": {
          "grade": false,
          "grade_id": "cell-f1519fd2a8642c8b",
          "locked": true,
          "schema_version": 3,
          "solution": false,
          "task": false
        },
        "tags": []
      },
      "source": [
        "## Step 5. Visualizing the Model and Making Predictions with Test Data"
      ]
    },
    {
      "cell_type": "code",
      "execution_count": 13,
      "id": "734b3a8b-8f30-4acb-a92a-471ee4c3b052",
      "metadata": {
        "id": "734b3a8b-8f30-4acb-a92a-471ee4c3b052",
        "nbgrader": {
          "grade": false,
          "grade_id": "cell-6caaefefab9d0f32",
          "locked": true,
          "schema_version": 3,
          "solution": false,
          "task": false
        },
        "tags": []
      },
      "outputs": [],
      "source": [
        "# Create a new object and call the method to load the model from a file.\n",
        "pretrain_sr = SoftmaxRegression()\n",
        "pretrain_sr.load('softmax_regression_model.h5')"
      ]
    },
    {
      "cell_type": "code",
      "execution_count": 16,
      "id": "dd9a079b-2dd4-49f6-b766-d16fe4358b55",
      "metadata": {
        "colab": {
          "base_uri": "https://localhost:8080/"
        },
        "id": "dd9a079b-2dd4-49f6-b766-d16fe4358b55",
        "nbgrader": {
          "grade": false,
          "grade_id": "cell-4c57bf1e1c1fe3c9",
          "locked": true,
          "schema_version": 3,
          "solution": false,
          "task": false
        },
        "outputId": "641e9351-9528-4bdb-9fb5-ab5a7cbedf1c",
        "tags": []
      },
      "outputs": [
        {
          "name": "stdout",
          "output_type": "stream",
          "text": [
            "The optimal parameters: \n",
            "[array([[ 0.6887503 , -0.2827187 ,  0.48174617, -0.99662185],\n",
            "       [-0.9133098 ,  0.58284265, -0.01851288,  0.04117542]],\n",
            "      dtype=float32), array([-0.05868382, -0.25168774, -0.25646934,  0.56684077], dtype=float32)]\n"
          ]
        }
      ],
      "source": [
        "# Display the parameters of the Softmax model.\n",
        "theta = pretrain_sr.get_weights()\n",
        "print('The optimal parameters: ')\n",
        "print(theta)"
      ]
    },
    {
      "cell_type": "code",
      "execution_count": 15,
      "id": "6d32360d-f18c-4c90-85af-1a4df14d8ae6",
      "metadata": {
        "colab": {
          "base_uri": "https://localhost:8080/",
          "height": 447
        },
        "id": "6d32360d-f18c-4c90-85af-1a4df14d8ae6",
        "nbgrader": {
          "grade": false,
          "grade_id": "cell-1ad67705d50f701d",
          "locked": true,
          "schema_version": 3,
          "solution": false,
          "task": false
        },
        "outputId": "6568c67f-e56b-4741-a6ed-25ea88d6d0b7",
        "tags": []
      },
      "outputs": [
        {
          "name": "stdout",
          "output_type": "stream",
          "text": [
            "20/20 [==============================] - 0s 3ms/step\n"
          ]
        },
        {
          "data": {
            "image/png": "[encoded data removed]",
            "text/plain": [
              "<Figure size 640x480 with 1 Axes>"
            ]
          },
          "metadata": {},
          "output_type": "display_data"
        }
      ],
      "source": [
        "# Visualize the data and the trained model.\n",
        "# Idea: Sample densely packed points within the range of the training data.\n",
        "# Then, use the model to make predictions and display the results.\n",
        "\n",
        "# `colors` are the markers used to visualize the test results.\n",
        "colors = ['r+', 'g+', 'b+', 'y+']\n",
        "# `gt_colors` are the markers used to visualize the training data.\n",
        "gt_colors = ['ro', 'go', 'bo', 'yo']\n",
        "\n",
        "# Sample densely packed points.\n",
        "x = np.arange(-8, 17, 1)\n",
        "y = np.arange(-8, 17, 1)\n",
        "xx, yy = np.meshgrid(x,y)\n",
        "\n",
        "xx = xx.reshape(-1)\n",
        "yy = yy.reshape(-1)\n",
        "\n",
        "# Generate densely packed test data.\n",
        "X_test = np.concatenate([[xx],[yy]], axis=0).T\n",
        "Y_pred = pretrain_sr.predict(X_test)\n",
        "\n",
        "for i in range(len(xx)):\n",
        "    plt.plot(xx[i],yy[i], colors[np.argmax(Y_pred[i])])\n",
        "plt.plot(pts1[:,0], pts1[:,1], gt_colors[0])\n",
        "plt.plot(pts2[:,0], pts2[:,1], gt_colors[1])\n",
        "plt.plot(pts3[:,0], pts3[:,1], gt_colors[2])\n",
        "plt.plot(pts4[:,0], pts4[:,1], gt_colors[3])\n",
        "plt.show()"
      ]
    },
    {
      "attachments": {},
      "cell_type": "markdown",
      "id": "f6d90f1f-8ff1-49f7-9c4b-a099ca7bfed8",
      "metadata": {
        "id": "f6d90f1f-8ff1-49f7-9c4b-a099ca7bfed8",
        "nbgrader": {
          "grade": false,
          "grade_id": "cell-64f389b662b21977",
          "locked": true,
          "schema_version": 3,
          "solution": false,
          "task": false
        },
        "tags": []
      },
      "source": [
        "Therefore, we can observe that the 2D plane has been classified using the previously trained model with Softmax Regression. Based on the figure above, we can see that the results are quite accurate, except for some points at the boundaries between classes."
      ]
    }
  ],
  "metadata": {
    "colab": {
      "provenance": []
    },
    "kernelspec": {
      "display_name": "Python 3 (ipykernel)",
      "language": "python",
      "name": "python3"
    },
    "language_info": {
      "codemirror_mode": {
        "name": "ipython",
        "version": 3
      },
      "file_extension": ".py",
      "mimetype": "text/x-python",
      "name": "python",
      "nbconvert_exporter": "python",
      "pygments_lexer": "ipython3",
      "version": "3.9.15"
    }
  },
  "nbformat": 4,
  "nbformat_minor": 5
}
