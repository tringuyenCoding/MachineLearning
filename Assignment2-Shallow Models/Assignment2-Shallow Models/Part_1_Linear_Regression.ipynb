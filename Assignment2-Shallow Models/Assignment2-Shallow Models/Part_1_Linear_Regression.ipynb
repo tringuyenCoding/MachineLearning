{
  "cells": [
    {
      "attachments": {},
      "cell_type": "markdown",
      "id": "32d8e798-415f-437f-9595-395432d2f6ea",
      "metadata": {
        "id": "32d8e798-415f-437f-9595-395432d2f6ea",
        "nbgrader": {
          "grade": false,
          "grade_id": "cell-cd8ada6364a44dde",
          "locked": true,
          "schema_version": 3,
          "solution": false,
          "task": false
        },
        "tags": []
      },
      "source": [
        "# IMPLEMENTING LINEAR REGRESSION MODEL WITH KERAS\n",
        "Instructions:\n",
        "- Start the kernel: In the menu bar, select Kernel -> Restart kernel.\n",
        "- Complete all sections with the comment `YOUR CODE HERE`.\n",
        "- Run all code blocks to check the implementation: In the menu bar, select Cell -> Run All."
      ]
    },
    {
      "attachments": {},
      "cell_type": "markdown",
      "id": "fd050030-303d-46a5-814b-39eb047ad932",
      "metadata": {
        "id": "fd050030-303d-46a5-814b-39eb047ad932",
        "nbgrader": {
          "grade": false,
          "grade_id": "cell-0bffba57d1ad9cb3",
          "locked": true,
          "schema_version": 3,
          "solution": false,
          "task": false
        },
        "tags": []
      },
      "source": [
        "A machine learning model should have at least the following 7 methods:\n",
        "- `__init__`: a constructor method in object-oriented programming used to initialize default parameters or starting parameters of a model. In the initial exercises, the constructor may not be used for simplicity.\n",
        "- `build`: method for constructing the model architecture.\n",
        "- `train`: method for starting the model training process.\n",
        "- `save`: method for saving the trained model.\n",
        "- `load`: method for loading a pretrained model from a file.\n",
        "- `summary`: method for printing a summary of the model architecture.\n",
        "- `predict`: method for predicting the output values from input data."
      ]
    },
    {
      "cell_type": "code",
      "execution_count": null,
      "id": "4045ce28-ee6d-4e9b-a48a-f1735f301574",
      "metadata": {
        "id": "4045ce28-ee6d-4e9b-a48a-f1735f301574",
        "nbgrader": {
          "grade": false,
          "grade_id": "cell-126fc97be75a7453",
          "locked": true,
          "schema_version": 3,
          "solution": false,
          "task": false
        },
        "tags": []
      },
      "outputs": [],
      "source": [
        "# The general implementation of the model includes 7 basic methods.\n",
        "# Note: This model is just a suggestion and not mandatory.\n",
        "# However, in the exercise section, it is required to adhere to these method names.\n",
        "class MyModel:\n",
        "    # constructor\n",
        "    def __init__(self):\n",
        "        return None\n",
        "\n",
        "    # Implement architecture of the model\n",
        "    def build(self):\n",
        "        return None\n",
        "\n",
        "    # Train the defined model with training and validation data\n",
        "    def train(self):\n",
        "        return None\n",
        "\n",
        "    # Save the trained model to file\n",
        "    def save(self, model_path):\n",
        "        return None\n",
        "\n",
        "    # Load pretrained model from file\n",
        "    def load(self):\n",
        "        return None\n",
        "    # Visualize your model\n",
        "    def summary(self):\n",
        "        return None\n",
        "\n",
        "    # Apply your model with new input data\n",
        "    def predict(self):\n",
        "        return None"
      ]
    },
    {
      "attachments": {},
      "cell_type": "markdown",
      "id": "498cd880-c80c-4d9a-9ca8-bff003cf2ae6",
      "metadata": {
        "id": "498cd880-c80c-4d9a-9ca8-bff003cf2ae6",
        "nbgrader": {
          "grade": false,
          "grade_id": "cell-449bbee0eee23e80",
          "locked": true,
          "schema_version": 3,
          "solution": false,
          "task": false
        },
        "tags": []
      },
      "source": [
        "## Step 1. Importing Keras Libraries\n",
        "\n",
        "First, we will import the necessary libraries, modules, and functions from Keras:\n",
        "- `Input`: to receive the input data for the model.\n",
        "- `Dense`: also known as the Fully Connected layer, an essential component of Neural Network-based models.\n",
        "- `Model`: this is the model object class used to encapsulate the input and output layers, train with the `fit` method, and make predictions with the `predict` method.\n",
        "- `load_model`: a function used to load a model from a file."
      ]
    },
    {
      "cell_type": "code",
      "execution_count": null,
      "id": "1f4b4acb-157f-4309-96de-b8e7b01f6506",
      "metadata": {
        "id": "1f4b4acb-157f-4309-96de-b8e7b01f6506",
        "nbgrader": {
          "grade": false,
          "grade_id": "cell-57c79d33953aeef2",
          "locked": true,
          "schema_version": 3,
          "solution": false,
          "task": false
        },
        "tags": []
      },
      "outputs": [],
      "source": [
        "from keras.layers import Input, Dense\n",
        "from keras import Model\n",
        "import tensorflow as tf\n",
        "from keras.models import load_model"
      ]
    },
    {
      "attachments": {},
      "cell_type": "markdown",
      "id": "04a833c1-4990-489c-bbac-968b578eac39",
      "metadata": {
        "id": "04a833c1-4990-489c-bbac-968b578eac39",
        "nbgrader": {
          "grade": false,
          "grade_id": "cell-f72ad50b2c988c98",
          "locked": true,
          "schema_version": 3,
          "solution": false,
          "task": false
        },
        "tags": []
      },
      "source": [
        "## Step 2. Implementing Linear Regression Model\n",
        "\n",
        "Next, we will use the object framework `MyModel` presented earlier to implement the **Linear Regression** model. The main method to be implemented in this exercise is `def build()`. The remaining methods have already been implemented, so you need to read and understand their meanings and usage for future reference.\n",
        "\n",
        "<p align=\"center\">\n",
        "  <img src=\"LinearReg.png\" />\n",
        "</p>\n"
      ]
    },
    {
      "cell_type": "code",
      "execution_count": null,
      "id": "60b33717-b96f-4c9b-97f8-2e0eb49d7afa",
      "metadata": {
        "id": "60b33717-b96f-4c9b-97f8-2e0eb49d7afa",
        "nbgrader": {
          "grade": false,
          "grade_id": "cell-39579eccef29b960",
          "locked": false,
          "schema_version": 3,
          "solution": true,
          "task": false
        },
        "tags": []
      },
      "outputs": [],
      "source": [
        "# Linear Regression\n",
        "class LinearRegression:\n",
        "    def __init__(self): # Self is similar to your 'this' pointer in C++\n",
        "        return None\n",
        "\n",
        "    def build(self, input_dim):\n",
        "\n",
        "        self.model = None\n",
        "        # Implement the `build` method to define the model architecture\n",
        "        # and save it in the `self.model` attribute.\n",
        "        # Follow these instructions:\n",
        "        #  - Create a variable `input` with the `Input` class from Keras,\n",
        "        #    passing the input size `input_dim`.\n",
        "        #  - Create a variable `output` with the `Dense` class from Keras,\n",
        "        #    passing the parameters: output size, use bias, and no activation function.\n",
        "        # After this step, `self.model` will package the `input` and `output` variables to form the model.\n",
        "        ### YOUR CODE HERE\n",
        "        self.model = Model(input, output)\n",
        "        return self.model\n",
        "\n",
        "    def train(self, x_train, y_train):\n",
        "        opt = tf.keras.optimizers.SGD(learning_rate=0.1) # Stochastic Gradient Descent\n",
        "        self.model.compile(optimizer=opt, loss='mse') # MSE: mean squared error or L2 distance # (y~ - y)^2\n",
        "        return self.model.fit(x_train, y_train, epochs=30)\n",
        "\n",
        "    def save(self, model_file):\n",
        "        return self.model.save(model_file)\n",
        "\n",
        "    def load(self, model_file):\n",
        "        self.model = load_model(model_file)\n",
        "\n",
        "    def summary(self):\n",
        "        self.model.summary()\n",
        "\n",
        "    def predict(self, x_test):\n",
        "        return self.model.predict(x_test)\n",
        "\n",
        "    def get_weights(self):\n",
        "        return self.model.layers[1].get_weights()"
      ]
    },
    {
      "attachments": {},
      "cell_type": "markdown",
      "id": "97f6c731-3e41-4d71-988d-b41a6dfa2999",
      "metadata": {
        "id": "97f6c731-3e41-4d71-988d-b41a6dfa2999",
        "nbgrader": {
          "grade": false,
          "grade_id": "cell-ac1cf2df36b35acb",
          "locked": true,
          "schema_version": 3,
          "solution": false,
          "task": false
        },
        "tags": []
      },
      "source": [
        "Next, we will instantiate the LinearRegression object and test whether the `build` method has been implemented correctly."
      ]
    },
    {
      "cell_type": "code",
      "execution_count": null,
      "id": "74d6e729-8fcc-4464-9d1f-0e24da5629dc",
      "metadata": {
        "colab": {
          "base_uri": "https://localhost:8080/"
        },
        "id": "74d6e729-8fcc-4464-9d1f-0e24da5629dc",
        "nbgrader": {
          "grade": false,
          "grade_id": "cell-cb24e77ca4ff451e",
          "locked": true,
          "schema_version": 3,
          "solution": false,
          "task": false
        },
        "outputId": "8db12502-0d1e-4ae4-9fbe-19bd4c4c7a35",
        "tags": []
      },
      "outputs": [
        {
          "data": {
            "text/plain": [
              "<keras.engine.functional.Functional at 0x7f4b32b65690>"
            ]
          },
          "execution_count": 4,
          "metadata": {},
          "output_type": "execute_result"
        }
      ],
      "source": [
        "lr = LinearRegression()\n",
        "# In this example, we will initialize the input as a 1000-dimensional vector.\n",
        "lr.build(1000)"
      ]
    },
    {
      "cell_type": "code",
      "execution_count": null,
      "id": "9ca9fdb2-e913-4c1d-a858-48a3842f3436",
      "metadata": {
        "id": "9ca9fdb2-e913-4c1d-a858-48a3842f3436",
        "nbgrader": {
          "grade": true,
          "grade_id": "cell-278fafeae5c407d0",
          "locked": true,
          "points": 5,
          "schema_version": 3,
          "solution": false,
          "task": false
        },
        "tags": []
      },
      "outputs": [],
      "source": [
        "# Check the architecture containing Input and Output classes.\n",
        "assert len(lr.model.layers)==2\n",
        "assert str(type(lr.model.layers[0]))== \"<class 'keras.engine.input_layer.InputLayer'>\"\n",
        "assert str(type(lr.model.layers[1]))== \"<class 'keras.layers.core.dense.Dense'>\"\n",
        "assert lr.model.layers[0].input_shape[0][1] == 1000"
      ]
    },
    {
      "cell_type": "code",
      "execution_count": null,
      "id": "a5589098-a98d-4356-b01c-c4c01139b1c3",
      "metadata": {
        "id": "a5589098-a98d-4356-b01c-c4c01139b1c3",
        "nbgrader": {
          "grade": true,
          "grade_id": "cell-05b9ba2de5ca007e",
          "locked": true,
          "points": 10,
          "schema_version": 3,
          "solution": false,
          "task": false
        },
        "tags": []
      },
      "outputs": [],
      "source": [
        "# Test with hidden test cases.\n"
      ]
    },
    {
      "attachments": {},
      "cell_type": "markdown",
      "id": "834e8988-86a3-4914-8b48-5b1e0c26ef9f",
      "metadata": {
        "id": "834e8988-86a3-4914-8b48-5b1e0c26ef9f",
        "nbgrader": {
          "grade": false,
          "grade_id": "cell-ac7a9ddf407c8762",
          "locked": true,
          "schema_version": 3,
          "solution": false,
          "task": false
        },
        "tags": []
      },
      "source": [
        "## Step 3.  Step 3. Generate Sample Data (Toy Example).\n",
        "Next, we will generate sample data for training and testing.\n",
        "\n",
        "The data is generated as points scattered around a line with some noise."
      ]
    },
    {
      "cell_type": "code",
      "execution_count": null,
      "id": "e85e8cda-f476-4091-8bbc-e1c5c05a8c99",
      "metadata": {
        "colab": {
          "base_uri": "https://localhost:8080/",
          "height": 430
        },
        "id": "e85e8cda-f476-4091-8bbc-e1c5c05a8c99",
        "nbgrader": {
          "grade": false,
          "grade_id": "cell-596b906e8b2db48f",
          "locked": true,
          "schema_version": 3,
          "solution": false,
          "task": false
        },
        "outputId": "b1cd8f8b-629e-4d90-fa10-5f24e4716a3a",
        "tags": []
      },
      "outputs": [
        {
          "data": {
            "image/png": "[encoded data removed]",
            "text/plain": [
              "<Figure size 640x480 with 1 Axes>"
            ]
          },
          "metadata": {},
          "output_type": "display_data"
        }
      ],
      "source": [
        "import numpy as np\n",
        "import matplotlib.pyplot as plt\n",
        "\n",
        "# Initializing points around the line y = -3*x + 10.\n",
        "x = np.arange(-5, 5, 0.5)\n",
        "n = len(x) # Số mẫu dữ liệu\n",
        "\n",
        "std = 2 # The parameter indicates the degree of noise, where a larger value corresponds to more noise and a smaller value corresponds to less noise.\n",
        "y = -3*x + 10 + np.random.normal(0, std, n)\n",
        "\n",
        "# Visualize the data using red-colored circles.\n",
        "plt.plot(x, y, 'ro')\n",
        "plt.show()"
      ]
    },
    {
      "attachments": {},
      "cell_type": "markdown",
      "id": "ZCVlzx1Zndj-",
      "metadata": {
        "id": "ZCVlzx1Zndj-"
      },
      "source": [
        "## Step 4. Train the model with the sample data\n",
        "\n",
        "Next, we will reinitialize the model to fit the generated sample data from the previous step. The architecture of the model must be compatible with the dimensions of the sample data."
      ]
    },
    {
      "cell_type": "code",
      "execution_count": null,
      "id": "8aa7ce32-4f59-4cee-ae56-25f0cd972886",
      "metadata": {
        "colab": {
          "base_uri": "https://localhost:8080/"
        },
        "id": "8aa7ce32-4f59-4cee-ae56-25f0cd972886",
        "nbgrader": {
          "grade": false,
          "grade_id": "cell-7b350a0e29be5844",
          "locked": false,
          "schema_version": 3,
          "solution": true,
          "task": false
        },
        "outputId": "2854e925-8dcd-4718-865e-2e630805020b",
        "tags": []
      },
      "outputs": [
        {
          "name": "stdout",
          "output_type": "stream",
          "text": [
            "The architecture of the Linear Regression model: \n",
            "Model: \"model_2\"\n",
            "_________________________________________________________________\n",
            " Layer (type)                Output Shape              Param #   \n",
            "=================================================================\n",
            " input_3 (InputLayer)        [(None, 1)]               0         \n",
            "                                                                 \n",
            " dense_2 (Dense)             (None, 1)                 2         \n",
            "                                                                 \n",
            "=================================================================\n",
            "Total params: 2\n",
            "Trainable params: 2\n",
            "Non-trainable params: 0\n",
            "_________________________________________________________________\n"
          ]
        }
      ],
      "source": [
        "lr = LinearRegression()\n",
        "\n",
        "# Call the `build` method for the `lr` object and pass the corresponding input parameters\n",
        "# for the training data generated in the above code block.\n",
        "# According to you, what is the value of `input_dim`?\n",
        "\n",
        "### YOUR CODE HERE\n",
        "\n",
        "# To display the architecture of the model, you can call the `summary` method.\n",
        "print(\"The architecture of the Linear Regression model: \")\n",
        "lr.summary()"
      ]
    },
    {
      "cell_type": "code",
      "execution_count": null,
      "id": "0c6a3f9c-d529-4e33-968f-ef924a7f7ef7",
      "metadata": {
        "id": "0c6a3f9c-d529-4e33-968f-ef924a7f7ef7",
        "nbgrader": {
          "grade": true,
          "grade_id": "cell-cf64170f2b98a6d3",
          "locked": true,
          "points": 5,
          "schema_version": 3,
          "solution": false,
          "task": false
        },
        "tags": []
      },
      "outputs": [],
      "source": [
        "# Check the invocation of the `build` method.\n"
      ]
    },
    {
      "cell_type": "code",
      "execution_count": null,
      "id": "7f34ecff-3ef0-497f-bcd0-c138cb7b7af3",
      "metadata": {
        "colab": {
          "base_uri": "https://localhost:8080/"
        },
        "id": "7f34ecff-3ef0-497f-bcd0-c138cb7b7af3",
        "nbgrader": {
          "grade": false,
          "grade_id": "cell-9ba3148b1e8aacd3",
          "locked": true,
          "schema_version": 3,
          "solution": false,
          "task": false
        },
        "outputId": "a336028a-e4ca-422a-cb8a-c2dd129204cd",
        "tags": []
      },
      "outputs": [
        {
          "name": "stdout",
          "output_type": "stream",
          "text": [
            "Epoch 1/30\n",
            "1/1 [==============================] - 0s 443ms/step - loss: 205.2361\n",
            "Epoch 2/30\n",
            "1/1 [==============================] - 0s 6ms/step - loss: 114.6805\n",
            "Epoch 3/30\n",
            "1/1 [==============================] - 0s 7ms/step - loss: 66.3225\n",
            "Epoch 4/30\n",
            "1/1 [==============================] - 0s 7ms/step - loss: 39.7495\n",
            "Epoch 5/30\n",
            "1/1 [==============================] - 0s 8ms/step - loss: 24.7347\n",
            "Epoch 6/30\n",
            "1/1 [==============================] - 0s 8ms/step - loss: 16.0296\n",
            "Epoch 7/30\n",
            "1/1 [==============================] - 0s 9ms/step - loss: 10.8675\n",
            "Epoch 8/30\n",
            "1/1 [==============================] - 0s 6ms/step - loss: 7.7479\n",
            "Epoch 9/30\n",
            "1/1 [==============================] - 0s 6ms/step - loss: 5.8337\n",
            "Epoch 10/30\n",
            "1/1 [==============================] - 0s 8ms/step - loss: 4.6450\n",
            "Epoch 11/30\n",
            "1/1 [==============================] - 0s 6ms/step - loss: 3.9000\n",
            "Epoch 12/30\n",
            "1/1 [==============================] - 0s 6ms/step - loss: 3.4299\n",
            "Epoch 13/30\n",
            "1/1 [==============================] - 0s 6ms/step - loss: 3.1317\n",
            "Epoch 14/30\n",
            "1/1 [==============================] - 0s 9ms/step - loss: 2.9419\n",
            "Epoch 15/30\n",
            "1/1 [==============================] - 0s 6ms/step - loss: 2.8208\n",
            "Epoch 16/30\n",
            "1/1 [==============================] - 0s 6ms/step - loss: 2.7433\n",
            "Epoch 17/30\n",
            "1/1 [==============================] - 0s 6ms/step - loss: 2.6937\n",
            "Epoch 18/30\n",
            "1/1 [==============================] - 0s 9ms/step - loss: 2.6619\n",
            "Epoch 19/30\n",
            "1/1 [==============================] - 0s 5ms/step - loss: 2.6415\n",
            "Epoch 20/30\n",
            "1/1 [==============================] - 0s 6ms/step - loss: 2.6284\n",
            "Epoch 21/30\n",
            "1/1 [==============================] - 0s 6ms/step - loss: 2.6199\n",
            "Epoch 22/30\n",
            "1/1 [==============================] - 0s 5ms/step - loss: 2.6145\n",
            "Epoch 23/30\n",
            "1/1 [==============================] - 0s 5ms/step - loss: 2.6111\n",
            "Epoch 24/30\n",
            "1/1 [==============================] - 0s 6ms/step - loss: 2.6088\n",
            "Epoch 25/30\n",
            "1/1 [==============================] - 0s 6ms/step - loss: 2.6074\n",
            "Epoch 26/30\n",
            "1/1 [==============================] - 0s 8ms/step - loss: 2.6065\n",
            "Epoch 27/30\n",
            "1/1 [==============================] - 0s 6ms/step - loss: 2.6059\n",
            "Epoch 28/30\n",
            "1/1 [==============================] - 0s 6ms/step - loss: 2.6055\n",
            "Epoch 29/30\n",
            "1/1 [==============================] - 0s 5ms/step - loss: 2.6053\n",
            "Epoch 30/30\n",
            "1/1 [==============================] - 0s 5ms/step - loss: 2.6051\n"
          ]
        }
      ],
      "source": [
        "# To train the model, we call the `train` method with the generated sample data.\n",
        "# If the `build` step of the model is called correctly, the subsequent `train` step will be executed successfully.\n",
        "hist = lr.train(x, y)"
      ]
    },
    {
      "cell_type": "code",
      "execution_count": null,
      "id": "44d04e58-792d-40e7-b4c5-01b4e0a582df",
      "metadata": {
        "colab": {
          "base_uri": "https://localhost:8080/",
          "height": 472
        },
        "id": "44d04e58-792d-40e7-b4c5-01b4e0a582df",
        "nbgrader": {
          "grade": false,
          "grade_id": "cell-410570417a6e9fdd",
          "locked": true,
          "schema_version": 3,
          "solution": false,
          "task": false
        },
        "outputId": "2c3d14c1-b517-49eb-b61a-6af305deca9d",
        "tags": []
      },
      "outputs": [
        {
          "data": {
            "image/png": "[encoded data removed]",
            "text/plain": [
              "<Figure size 640x480 with 1 Axes>"
            ]
          },
          "metadata": {},
          "output_type": "display_data"
        }
      ],
      "source": [
        "# Display the loss per epoch.\n",
        "plt.plot(hist.history['loss'])\n",
        "plt.title('Model Loss')\n",
        "plt.ylabel('loss')\n",
        "plt.xlabel('epoch')\n",
        "plt.show()"
      ]
    },
    {
      "cell_type": "code",
      "execution_count": null,
      "id": "3fb633a4-92b1-4d1d-a189-df8b64bca31d",
      "metadata": {
        "id": "3fb633a4-92b1-4d1d-a189-df8b64bca31d",
        "nbgrader": {
          "grade": false,
          "grade_id": "cell-bbe1e1b3f7109f67",
          "locked": true,
          "schema_version": 3,
          "solution": false,
          "task": false
        },
        "tags": []
      },
      "outputs": [],
      "source": [
        "# After training, we save the model for future reuse.\n",
        "# Note: The two methods `save`\n",
        "# and `load` are used when you want to reuse the model multiple times WITHOUT THE NEED TO RETRAIN it.\n",
        "lr.save('linear_regression_model.h5')"
      ]
    },
    {
      "attachments": {},
      "cell_type": "markdown",
      "id": "70ea400e-07a0-42d5-a516-0d902674dc01",
      "metadata": {
        "id": "70ea400e-07a0-42d5-a516-0d902674dc01"
      },
      "source": [
        "## Step 5. Visualizing the Model and Making Predictions with Test Data."
      ]
    },
    {
      "cell_type": "code",
      "execution_count": null,
      "id": "734b3a8b-8f30-4acb-a92a-471ee4c3b052",
      "metadata": {
        "id": "734b3a8b-8f30-4acb-a92a-471ee4c3b052",
        "nbgrader": {
          "grade": false,
          "grade_id": "cell-6caaefefab9d0f32",
          "locked": true,
          "schema_version": 3,
          "solution": false,
          "task": false
        },
        "tags": []
      },
      "outputs": [],
      "source": [
        "# Create a new object and call the method to load the model from a file.\n",
        "pretrain_lr = LinearRegression()\n",
        "pretrain_lr.load('linear_regression_model.h5')"
      ]
    },
    {
      "cell_type": "code",
      "execution_count": 17,
      "id": "dd9a079b-2dd4-49f6-b766-d16fe4358b55",
      "metadata": {
        "colab": {
          "base_uri": "https://localhost:8080/"
        },
        "id": "dd9a079b-2dd4-49f6-b766-d16fe4358b55",
        "nbgrader": {
          "grade": false,
          "grade_id": "cell-4c57bf1e1c1fe3c9",
          "locked": true,
          "schema_version": 3,
          "solution": false,
          "task": false
        },
        "outputId": "605e9a8a-8007-4656-a0b2-24da34c7fcd7",
        "tags": []
      },
      "outputs": [
        {
          "name": "stdout",
          "output_type": "stream",
          "text": [
            "The optimal parameters: \n",
            "[array([[-2.8736157]], dtype=float32), array([10.356322], dtype=float32)]\n",
            "Where:\n",
            "   - bias (intercept):  10.356322\n",
            "   - theta (coefficient for input data):  -2.8736157\n"
          ]
        }
      ],
      "source": [
        "theta = pretrain_lr.get_weights()\n",
        "print('The optimal parameters: ')\n",
        "print(theta)\n",
        "bias = theta[1][0] # Bias is indeed represented as θ₀ in the original model.\n",
        "theta1 = theta[0][0][0]\n",
        "print('Where:')\n",
        "print('   - bias (intercept): ', bias)\n",
        "print('   - theta (coefficient for input data): ', theta1)"
      ]
    },
    {
      "attachments": {},
      "cell_type": "markdown",
      "id": "5b3d5093-1ed8-4366-a430-950609438930",
      "metadata": {
        "id": "5b3d5093-1ed8-4366-a430-950609438930",
        "nbgrader": {
          "grade": false,
          "grade_id": "cell-e2cbb740bcdc77a8",
          "locked": true,
          "schema_version": 3,
          "solution": false,
          "task": false
        },
        "tags": []
      },
      "source": [
        "As we can see, the optimized parameters approximate the original model's parameters that were used to generate the data:\n",
        "\n",
        "`y = -3*x + 10 + np.random.normal(0, std, n)`"
      ]
    },
    {
      "cell_type": "code",
      "execution_count": null,
      "id": "6d32360d-f18c-4c90-85af-1a4df14d8ae6",
      "metadata": {
        "colab": {
          "base_uri": "https://localhost:8080/",
          "height": 430
        },
        "id": "6d32360d-f18c-4c90-85af-1a4df14d8ae6",
        "nbgrader": {
          "grade": false,
          "grade_id": "cell-1ad67705d50f701d",
          "locked": true,
          "schema_version": 3,
          "solution": false,
          "task": false
        },
        "outputId": "28c4b768-bc69-436b-bc12-217d88c48575",
        "tags": []
      },
      "outputs": [
        {
          "data": {
            "image/png": "[encoded data removed]",
            "text/plain": [
              "<Figure size 640x480 with 1 Axes>"
            ]
          },
          "metadata": {},
          "output_type": "display_data"
        }
      ],
      "source": [
        "# Visualize the data and the trained model.\n",
        "plt.plot(x, y, 'ro')\n",
        "\n",
        "# Visualizing the model.\n",
        "plt.plot([x[0],x[-1]], [theta1*x[0]+bias, theta1*x[-1]+bias])\n",
        "plt.show()"
      ]
    },
    {
      "attachments": {},
      "cell_type": "markdown",
      "id": "f6d90f1f-8ff1-49f7-9c4b-a099ca7bfed8",
      "metadata": {
        "id": "f6d90f1f-8ff1-49f7-9c4b-a099ca7bfed8",
        "nbgrader": {
          "grade": false,
          "grade_id": "cell-64f389b662b21977",
          "locked": true,
          "schema_version": 3,
          "solution": false,
          "task": false
        },
        "tags": []
      },
      "source": [
        "Thus, we can see that the trained coefficients form a straight line equation that passes through the training data points.\n",
        "\n",
        "Next, let's test the model with the x_test data for two cases: -4 and 0.\n",
        "\n",
        "Based on the graph, we can infer that y_test will take values close to 20, approximately 10, and 0."
      ]
    },
    {
      "cell_type": "code",
      "execution_count": null,
      "id": "253408c5-0133-42c6-bd35-140d7b8602d7",
      "metadata": {
        "colab": {
          "base_uri": "https://localhost:8080/"
        },
        "id": "253408c5-0133-42c6-bd35-140d7b8602d7",
        "nbgrader": {
          "grade": false,
          "grade_id": "cell-d893fdd4cbcd3c2c",
          "locked": true,
          "schema_version": 3,
          "solution": false,
          "task": false
        },
        "outputId": "9067c415-3b40-4f3b-91d1-cd3750e1105c",
        "tags": []
      },
      "outputs": [
        {
          "name": "stdout",
          "output_type": "stream",
          "text": [
            "1/1 [==============================] - 0s 76ms/step\n",
            "The values that the regression model predicts on x_test:  [-4, 0, 4]\n",
            "[[21.850784 ]\n",
            " [10.356322 ]\n",
            " [-1.1381407]]\n"
          ]
        }
      ],
      "source": [
        "x_test = [-4, 0, 4]\n",
        "y_pred = pretrain_lr.predict(x_test)\n",
        "\n",
        "print(\"The values that the regression model predicts on x_test: \", x_test)\n",
        "print(y_pred)"
      ]
    },
    {
      "attachments": {},
      "cell_type": "markdown",
      "id": "dc2861f5-840e-4ee8-8be6-c8010feb0cee",
      "metadata": {
        "id": "dc2861f5-840e-4ee8-8be6-c8010feb0cee",
        "nbgrader": {
          "grade": false,
          "grade_id": "cell-cbe9714134925bf2",
          "locked": true,
          "schema_version": 3,
          "solution": false,
          "task": false
        },
        "tags": []
      },
      "source": [
        "These values are quite consistent with the predicted values mentioned above."
      ]
    }
  ],
  "metadata": {
    "colab": {
      "provenance": [],
      "toc_visible": true
    },
    "kernelspec": {
      "display_name": "Python 3 (ipykernel)",
      "language": "python",
      "name": "python3"
    },
    "language_info": {
      "codemirror_mode": {
        "name": "ipython",
        "version": 3
      },
      "file_extension": ".py",
      "mimetype": "text/x-python",
      "name": "python",
      "nbconvert_exporter": "python",
      "pygments_lexer": "ipython3",
      "version": "3.9.15"
    }
  },
  "nbformat": 4,
  "nbformat_minor": 5
}
