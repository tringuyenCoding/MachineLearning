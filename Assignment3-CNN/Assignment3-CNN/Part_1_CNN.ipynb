{
  "cells": [
    {
      "cell_type": "markdown",
      "id": "61e257f0-a0ce-4789-9f79-f96d94ca85f0",
      "metadata": {
        "id": "61e257f0-a0ce-4789-9f79-f96d94ca85f0",
        "nbgrader": {
          "grade": false,
          "grade_id": "cell-6736f975e67c30ad",
          "locked": true,
          "schema_version": 3,
          "solution": false,
          "task": false
        },
        "tags": []
      },
      "source": [
        "# Convolutional Neural Network (CNN)\n",
        "\n",
        "Instructions:\n",
        "- Start the kernel: In the menu bar, select Kernel -> Restart kernel.\n",
        "- Complete all sections with the comment `YOUR CODE HERE`.\n",
        "- Run all code blocks to check the implementation: In the menu bar, select Cell -> Run All."
      ]
    },
    {
      "cell_type": "markdown",
      "id": "d454249f-474b-48c0-8130-049379e629d4",
      "metadata": {
        "id": "d454249f-474b-48c0-8130-049379e629d4",
        "nbgrader": {
          "grade": false,
          "grade_id": "cell-050a6be3b280ce97",
          "locked": true,
          "schema_version": 3,
          "solution": false,
          "task": false
        },
        "tags": []
      },
      "source": [
        "In this exercise, we will proceed to implement one of the first `CNN` networks, which is LeNet. The architecture of the LeNet network can be summarized as follows:\n",
        "\n",
        "![](LeNet.png)"
      ]
    },
    {
      "cell_type": "markdown",
      "id": "7ad3b367-d230-4ed5-a08e-b5515639234a",
      "metadata": {
        "id": "7ad3b367-d230-4ed5-a08e-b5515639234a",
        "nbgrader": {
          "grade": false,
          "grade_id": "cell-6cc039d2bb061e46",
          "locked": true,
          "schema_version": 3,
          "solution": false,
          "task": false
        },
        "tags": []
      },
      "source": [
        "In the given figure, the architecture of the model is summarized as follows:\n",
        "\n",
        "**1. Input Layer**: This layer represents the input images to the network.\n",
        "- The size of the MNIST dataset images is `28x28`. Since these images are grayscale (no color), the depth is 1.\n",
        "\n",
        "**2. Convolutional Layer 1 (C1)**: The first convolutional layer applies a set of filters to the input images, followed by a non-linear activation function (such as ReLU) to introduce non-linearity.\n",
        "- The 1998 version by Yann Lecun uses `6 filters` of size `3x3` and the `sigmoid` activation function.\n",
        "\n",
        "**3. Average Pooling Layer 1 (S1)**: This layer performs downsampling by taking the average value of each non-overlapping region in the feature maps.\n",
        "- The 1998 version uses `AveragePooling` with a filter size of `2x2`.\n",
        "\n",
        "**4. Convolutional Layer  Layer 2 (C3)**: Similar to the first convolutional layer, the second convolutional layer applies filters to the feature maps from the previous layer, followed by an activation function.\n",
        "- This layer uses `16 filters` of size `3x3` with the `sigmoid` activation function.\n",
        "\n",
        "**5. Average Pooling Layer 2 (S4)**: Another pooling layer is applied to further downsample the feature maps.\n",
        "- It uses `AveragePooling` with a filter size of `2x2`.\n",
        "\n",
        "**6. Flatten Layer**: This layer flattens the feature maps into a 1-dimensional vector, preparing them for the fully connected layers.\n",
        "\n",
        "**7. Fully Connected Layer 1 (F5)**: This layer connects every neuron from the previous layer to the neurons in the next layer, applying an activation function.\n",
        "- This version uses the `sigmoid` activation function. The number of output neurons in this layer is **120 neurons**.\n",
        "- Important note: Before the F5 layer, there is a \"buffer step\" called `Flatten` to transform the features from a tensor shape to a vector shape.\n",
        "\n",
        "**8. Fully Connected Layer 2 (F6)**: Similar to the previous fully connected layer, this layer further processes the features.\n",
        "- The number of output neurons in this layer is **84 neurons**, with the `sigmoid` activation function.\n",
        "\n",
        "**9. Output Layer**: The final fully connected layer represents the output of the network, usually with a softmax activation function for classification tasks.\n",
        "- The number of output neurons in this layer is **10 neurons**, and it uses the `softmax` function to convert the features into a probability space for the classification of target classes.\n",
        "\n",
        "Let's proceed with the implementation!"
      ]
    },
    {
      "cell_type": "markdown",
      "id": "79eba6e4-47be-4e0b-afb5-48d886f902ab",
      "metadata": {
        "id": "79eba6e4-47be-4e0b-afb5-48d886f902ab",
        "nbgrader": {
          "grade": false,
          "grade_id": "cell-1812041c5720e9b5",
          "locked": true,
          "schema_version": 3,
          "solution": false,
          "task": false
        },
        "tags": []
      },
      "source": [
        "## 1. Preparing the training data\n",
        "First, we will use the MNIST dataset for this exercise. The `keras.datasets` module provides various pre-packaged and prepared datasets such as `MNIST`, `CIFAR`, and `Fashion MNIST`. In this exercise, we will use the `MNIST` dataset."
      ]
    },
    {
      "cell_type": "code",
      "execution_count": 1,
      "id": "0e2e1340-928e-4831-8e65-cf2f6bb97f40",
      "metadata": {
        "colab": {
          "base_uri": "https://localhost:8080/"
        },
        "id": "0e2e1340-928e-4831-8e65-cf2f6bb97f40",
        "nbgrader": {
          "grade": false,
          "grade_id": "cell-331969f8fc0b9ac8",
          "locked": true,
          "schema_version": 3,
          "solution": false,
          "task": false
        },
        "outputId": "faf17b30-87bc-4fa2-ed62-e0b3b55b05b5",
        "tags": []
      },
      "outputs": [
        {
          "name": "stdout",
          "output_type": "stream",
          "text": [
            "The size information of the variables is as follows: \n",
            "(60000, 28, 28)\n",
            "(60000,)\n",
            "(10000, 28, 28)\n",
            "(10000,)\n"
          ]
        }
      ],
      "source": [
        "from keras.datasets import mnist\n",
        "import numpy as np\n",
        "import tensorflow as tf\n",
        "\n",
        "\n",
        "def fix_random_seed():\n",
        "\tnp.random.seed(1)\n",
        "\ttf.random.set_seed(1)\n",
        "\n",
        "(x_train, y_train), (x_test, y_test) = mnist.load_data()\n",
        "\n",
        "print(\"The size information of the variables is as follows: \")\n",
        "print(x_train.shape)\n",
        "print(y_train.shape)\n",
        "print(x_test.shape)\n",
        "print(y_test.shape)"
      ]
    },
    {
      "cell_type": "code",
      "execution_count": 2,
      "id": "e74456d2-2311-43da-a5d8-3c78a486ba73",
      "metadata": {
        "colab": {
          "base_uri": "https://localhost:8080/"
        },
        "id": "e74456d2-2311-43da-a5d8-3c78a486ba73",
        "nbgrader": {
          "grade": false,
          "grade_id": "cell-6603da2a0f4da64e",
          "locked": true,
          "schema_version": 3,
          "solution": false,
          "task": false
        },
        "outputId": "2f6c442d-9dc3-4d02-836d-0ff4c56ffb4e",
        "tags": []
      },
      "outputs": [
        {
          "name": "stdout",
          "output_type": "stream",
          "text": [
            "The meaning of the size variables is as follows: \n",
            "The number of training samples: 60000\n",
            "The number of testing samples: 10000\n",
            "The input image size:  (28, 28)\n"
          ]
        }
      ],
      "source": [
        "print('The meaning of the size variables is as follows: ')\n",
        "print('The number of training samples: {}'.format(x_train.shape[0]))\n",
        "print('The number of testing samples: {}'.format(x_test.shape[0]))\n",
        "print('The input image size: ', x_train.shape[1:])"
      ]
    },
    {
      "cell_type": "code",
      "execution_count": 3,
      "id": "7d63350c-3085-4e7a-9771-8c9425a3f49f",
      "metadata": {
        "colab": {
          "base_uri": "https://localhost:8080/",
          "height": 447
        },
        "id": "7d63350c-3085-4e7a-9771-8c9425a3f49f",
        "nbgrader": {
          "grade": false,
          "grade_id": "cell-e35d149b69abc143",
          "locked": true,
          "schema_version": 3,
          "solution": false,
          "task": false
        },
        "outputId": "7dfc2d25-d5c5-45be-b782-e59a99ad233d",
        "tags": []
      },
      "outputs": [
        {
          "data": {
            "image/png": "[encoded data removed]",
            "text/plain": [
              "<Figure size 640x480 with 1 Axes>"
            ]
          },
          "metadata": {},
          "output_type": "display_data"
        },
        {
          "name": "stdout",
          "output_type": "stream",
          "text": [
            "Label of ground-truth:  3\n"
          ]
        }
      ],
      "source": [
        "# This code block displays a sample of training data.\n",
        "# This is a GOOD PRACTICE to do when working with any dataset.\n",
        "# Here, we will load the 1234th sample of the data. You can change this value as desired.\n",
        "import matplotlib.pyplot as plt\n",
        "\n",
        "sample_id = 1234\n",
        "plt.imshow(x_train[sample_id])\n",
        "plt.show()\n",
        "print('Label of ground-truth: ', y_train[sample_id])"
      ]
    },
    {
      "cell_type": "markdown",
      "id": "225d242e-d010-4f65-9030-97fc722a21a9",
      "metadata": {
        "id": "225d242e-d010-4f65-9030-97fc722a21a9",
        "nbgrader": {
          "grade": false,
          "grade_id": "cell-c1c769fbbbafaa90",
          "locked": true,
          "schema_version": 3,
          "solution": false,
          "task": false
        },
        "tags": []
      },
      "source": [
        "## 2. Data Preprocessing\n",
        "Data normalization involves two main tasks:\n",
        "* For the output `y`: converting it from label form to **one-hot encoding**.\n",
        "* For the input `x`: normalizing the pixel values **from the range [0-255] to the range [0-1]**. This step significantly improves the training speed."
      ]
    },
    {
      "cell_type": "code",
      "execution_count": 4,
      "id": "8af7bbc2-4055-4618-99c7-dc0b0c1a459f",
      "metadata": {
        "id": "8af7bbc2-4055-4618-99c7-dc0b0c1a459f",
        "nbgrader": {
          "grade": false,
          "grade_id": "cell-f5b6fa2eccd42071",
          "locked": true,
          "schema_version": 3,
          "solution": false,
          "task": false
        },
        "tags": []
      },
      "outputs": [],
      "source": [
        "# This function is used to convert the output from label form to one-hot vector form.\n",
        "def onehot(y):\n",
        "\toh = np.zeros((y.shape[0], 10))\n",
        "\tfor i in range(y.shape[0]):\n",
        "\t\toh[i, int(y[i])]=1\n",
        "\treturn oh"
      ]
    },
    {
      "cell_type": "code",
      "execution_count": 11,
      "id": "91de17a1-3122-4360-9a29-b12088db0121",
      "metadata": {
        "id": "91de17a1-3122-4360-9a29-b12088db0121",
        "nbgrader": {
          "grade": false,
          "grade_id": "cell-fa08d97ef14a7f0e",
          "locked": true,
          "schema_version": 3,
          "solution": false,
          "task": false
        },
        "tags": []
      },
      "outputs": [],
      "source": [
        "from sklearn import preprocessing\n",
        "import numpy as np\n",
        "\n",
        "# Convert from label form to one-hot encoding form\n",
        "y_train_oh = onehot(y_train)\n",
        "y_train_oh.shape\n",
        "\n",
        "y_test_oh = onehot(y_test)\n",
        "y_test_oh.shape\n",
        "\n",
        "# Normalize the input images to the range [0-1]\n",
        "x_train_norm = x_train / 255.0\n",
        "x_test_norm = x_test / 255.0"
      ]
    },
    {
      "cell_type": "code",
      "execution_count": 12,
      "id": "a2389d65-c9b4-4623-9b9a-0cee90dad63d",
      "metadata": {
        "colab": {
          "base_uri": "https://localhost:8080/"
        },
        "id": "a2389d65-c9b4-4623-9b9a-0cee90dad63d",
        "nbgrader": {
          "grade": false,
          "grade_id": "cell-0e0243e7b32f48af",
          "locked": true,
          "schema_version": 3,
          "solution": false,
          "task": false
        },
        "outputId": "6bac7192-7560-40d2-cf29-45d14d453e52",
        "tags": []
      },
      "outputs": [
        {
          "name": "stdout",
          "output_type": "stream",
          "text": [
            "`y` BEFORE transformation: 0\n",
            "`y` AFTER transformation: [1. 0. 0. 0. 0. 0. 0. 0. 0. 0.]\n"
          ]
        }
      ],
      "source": [
        "# You can view the data before and after preprocessing.\n",
        "# You can change the `sample_id` to any desired number.\n",
        "sample_id = 4321\n",
        "\n",
        "print(\"`y` BEFORE transformation:\", y_train[sample_id])\n",
        "print(\"`y` AFTER transformation:\", y_train_oh[sample_id])"
      ]
    },
    {
      "cell_type": "code",
      "execution_count": 13,
      "id": "a9968f6d-0861-407a-9968-8e1b9fc5cc88",
      "metadata": {
        "colab": {
          "base_uri": "https://localhost:8080/"
        },
        "id": "a9968f6d-0861-407a-9968-8e1b9fc5cc88",
        "nbgrader": {
          "grade": false,
          "grade_id": "cell-62a5bd0ec9e5d722",
          "locked": true,
          "schema_version": 3,
          "solution": false,
          "task": false
        },
        "outputId": "cdd4bb59-fb19-4cec-abdd-80453eb54d51",
        "tags": []
      },
      "outputs": [
        {
          "name": "stdout",
          "output_type": "stream",
          "text": [
            "`x` BEFORE transformation: [[  0   0   0   0   0   0   0   0   0   0   0   0   0   0   0   0   0   0\n",
            "    0   0   0   0   0   0   0   0   0   0]\n",
            " [  0   0   0   0   0   0   0   0   0   0   0   0   0   0   0   0   0   0\n",
            "    0   0   0   0   0   0   0   0   0   0]\n",
            " [  0   0   0   0   0   0   0   0   0   0   0   0   0   0   0   0   0   0\n",
            "    0   0   0   0   0   0   0   0   0   0]\n",
            " [  0   0   0   0   0   0   0   0   0   0   0   0   0   0   0   0   0   0\n",
            "    0   0   0   0   0   0   0   0   0   0]\n",
            " [  0   0   0   0   0   0   0   0   0   0   0   0   0   0   0   0   0   0\n",
            "   48 191 255 203   7   0   0   0   0   0]\n",
            " [  0   0   0   0   0   0   0   0   0   0   0   0   0   0   0   0   7  57\n",
            "  172 252 247 196  43   0   0   0   0   0]\n",
            " [  0   0   0   0   0   0   0   0   0   0   0   0   0   0   0   0 104 252\n",
            "  252 252  50   0   0   0   0   0   0   0]\n",
            " [  0   0   0   0   0   0   0   0   0   0   0   0   0   0   0 201 253 252\n",
            "  252 202  51   0   0   0   0   0   0   0]\n",
            " [  0   0   0   0   0   0   0   0   0   0   0   0   0  26 223 253 254 234\n",
            "  235 253 179  10   0   0   0   0   0   0]\n",
            " [  0   0   0   0   0   0   0   0   0   0   0   0  45 169 234 227 134  28\n",
            "   66 246 253  84   0   0   0   0   0   0]\n",
            " [  0   0   0   0   0   0   0   0   0   0   0  38 229 252 252 103   0   0\n",
            "    0 187 253 171   0   0   0   0   0   0]\n",
            " [  0   0   0   0   0   0   0   0   0   0   0 163 253 252 164  15   0   0\n",
            "    0  63 253 246 100   0   0   0   0   0]\n",
            " [  0   0   0   0   0   0   0   0   0   7 204 253 239  88   0   0   0   0\n",
            "    0  51 242 253  56   0   0   0   0   0]\n",
            " [  0   0   0   0   0   0   0   0   7 150 252 252 125   0   0   0   0   0\n",
            "    0   0 216 252  56   0   0   0   0   0]\n",
            " [  0   0   0   0   0   0   0   0  29 252 252 164   0   0   0   0   0   0\n",
            "    0   0 253 252  94   0   0   0   0   0]\n",
            " [  0   0   0   0   0   0   0   0 229 252 214  28   0   0   0   0   0   0\n",
            "    0  51 253 252  68   0   0   0   0   0]\n",
            " [  0   0   0   0   0   0   0 176 254 222  25   0   0   0   0   0   0   0\n",
            "   48 241 254 134   0   0   0   0   0   0]\n",
            " [  0   0   0   0   0   0  82 243 247 103   0   0   0   0   0   0   7  57\n",
            "  172 252 222  65   0   0   0   0   0   0]\n",
            " [  0   0   0   0   0   0 147 252 225   0   0   0   0   0   0   0  66 252\n",
            "  252 252  76   0   0   0   0   0   0   0]\n",
            " [  0   0   0   0   0   0 197 252 125   0   0   0   0   0  38 163 241 252\n",
            "  214  90   0   0   0   0   0   0   0   0]\n",
            " [  0   0   0   0   0  57 253 253  63   0   0  13  29 104 178 253 251 150\n",
            "   25   0   0   0   0   0   0   0   0   0]\n",
            " [  0   0   0   0   0  95 240 252 156 169 169 206 253 252 252 252  75   0\n",
            "    0   0   0   0   0   0   0   0   0   0]\n",
            " [  0   0   0   0   0   0 197 252 253 252 252 252 244 168 130  56   0   0\n",
            "    0   0   0   0   0   0   0   0   0   0]\n",
            " [  0   0   0   0   0   0  59 190 253 252 252 151  25   0   0   0   0   0\n",
            "    0   0   0   0   0   0   0   0   0   0]\n",
            " [  0   0   0   0   0   0   0   0   0   0   0   0   0   0   0   0   0   0\n",
            "    0   0   0   0   0   0   0   0   0   0]\n",
            " [  0   0   0   0   0   0   0   0   0   0   0   0   0   0   0   0   0   0\n",
            "    0   0   0   0   0   0   0   0   0   0]\n",
            " [  0   0   0   0   0   0   0   0   0   0   0   0   0   0   0   0   0   0\n",
            "    0   0   0   0   0   0   0   0   0   0]\n",
            " [  0   0   0   0   0   0   0   0   0   0   0   0   0   0   0   0   0   0\n",
            "    0   0   0   0   0   0   0   0   0   0]]\n",
            "`x` AFTER transformation: [[0.         0.         0.         0.         0.         0.\n",
            "  0.         0.         0.         0.         0.         0.\n",
            "  0.         0.         0.         0.         0.         0.\n",
            "  0.         0.         0.         0.         0.         0.\n",
            "  0.         0.         0.         0.        ]\n",
            " [0.         0.         0.         0.         0.         0.\n",
            "  0.         0.         0.         0.         0.         0.\n",
            "  0.         0.         0.         0.         0.         0.\n",
            "  0.         0.         0.         0.         0.         0.\n",
            "  0.         0.         0.         0.        ]\n",
            " [0.         0.         0.         0.         0.         0.\n",
            "  0.         0.         0.         0.         0.         0.\n",
            "  0.         0.         0.         0.         0.         0.\n",
            "  0.         0.         0.         0.         0.         0.\n",
            "  0.         0.         0.         0.        ]\n",
            " [0.         0.         0.         0.         0.         0.\n",
            "  0.         0.         0.         0.         0.         0.\n",
            "  0.         0.         0.         0.         0.         0.\n",
            "  0.         0.         0.         0.         0.         0.\n",
            "  0.         0.         0.         0.        ]\n",
            " [0.         0.         0.         0.         0.         0.\n",
            "  0.         0.         0.         0.         0.         0.\n",
            "  0.         0.         0.         0.         0.         0.\n",
            "  0.18823529 0.74901961 1.         0.79607843 0.02745098 0.\n",
            "  0.         0.         0.         0.        ]\n",
            " [0.         0.         0.         0.         0.         0.\n",
            "  0.         0.         0.         0.         0.         0.\n",
            "  0.         0.         0.         0.         0.02745098 0.22352941\n",
            "  0.6745098  0.98823529 0.96862745 0.76862745 0.16862745 0.\n",
            "  0.         0.         0.         0.        ]\n",
            " [0.         0.         0.         0.         0.         0.\n",
            "  0.         0.         0.         0.         0.         0.\n",
            "  0.         0.         0.         0.         0.40784314 0.98823529\n",
            "  0.98823529 0.98823529 0.19607843 0.         0.         0.\n",
            "  0.         0.         0.         0.        ]\n",
            " [0.         0.         0.         0.         0.         0.\n",
            "  0.         0.         0.         0.         0.         0.\n",
            "  0.         0.         0.         0.78823529 0.99215686 0.98823529\n",
            "  0.98823529 0.79215686 0.2        0.         0.         0.\n",
            "  0.         0.         0.         0.        ]\n",
            " [0.         0.         0.         0.         0.         0.\n",
            "  0.         0.         0.         0.         0.         0.\n",
            "  0.         0.10196078 0.8745098  0.99215686 0.99607843 0.91764706\n",
            "  0.92156863 0.99215686 0.70196078 0.03921569 0.         0.\n",
            "  0.         0.         0.         0.        ]\n",
            " [0.         0.         0.         0.         0.         0.\n",
            "  0.         0.         0.         0.         0.         0.\n",
            "  0.17647059 0.6627451  0.91764706 0.89019608 0.5254902  0.10980392\n",
            "  0.25882353 0.96470588 0.99215686 0.32941176 0.         0.\n",
            "  0.         0.         0.         0.        ]\n",
            " [0.         0.         0.         0.         0.         0.\n",
            "  0.         0.         0.         0.         0.         0.14901961\n",
            "  0.89803922 0.98823529 0.98823529 0.40392157 0.         0.\n",
            "  0.         0.73333333 0.99215686 0.67058824 0.         0.\n",
            "  0.         0.         0.         0.        ]\n",
            " [0.         0.         0.         0.         0.         0.\n",
            "  0.         0.         0.         0.         0.         0.63921569\n",
            "  0.99215686 0.98823529 0.64313725 0.05882353 0.         0.\n",
            "  0.         0.24705882 0.99215686 0.96470588 0.39215686 0.\n",
            "  0.         0.         0.         0.        ]\n",
            " [0.         0.         0.         0.         0.         0.\n",
            "  0.         0.         0.         0.02745098 0.8        0.99215686\n",
            "  0.9372549  0.34509804 0.         0.         0.         0.\n",
            "  0.         0.2        0.94901961 0.99215686 0.21960784 0.\n",
            "  0.         0.         0.         0.        ]\n",
            " [0.         0.         0.         0.         0.         0.\n",
            "  0.         0.         0.02745098 0.58823529 0.98823529 0.98823529\n",
            "  0.49019608 0.         0.         0.         0.         0.\n",
            "  0.         0.         0.84705882 0.98823529 0.21960784 0.\n",
            "  0.         0.         0.         0.        ]\n",
            " [0.         0.         0.         0.         0.         0.\n",
            "  0.         0.         0.11372549 0.98823529 0.98823529 0.64313725\n",
            "  0.         0.         0.         0.         0.         0.\n",
            "  0.         0.         0.99215686 0.98823529 0.36862745 0.\n",
            "  0.         0.         0.         0.        ]\n",
            " [0.         0.         0.         0.         0.         0.\n",
            "  0.         0.         0.89803922 0.98823529 0.83921569 0.10980392\n",
            "  0.         0.         0.         0.         0.         0.\n",
            "  0.         0.2        0.99215686 0.98823529 0.26666667 0.\n",
            "  0.         0.         0.         0.        ]\n",
            " [0.         0.         0.         0.         0.         0.\n",
            "  0.         0.69019608 0.99607843 0.87058824 0.09803922 0.\n",
            "  0.         0.         0.         0.         0.         0.\n",
            "  0.18823529 0.94509804 0.99607843 0.5254902  0.         0.\n",
            "  0.         0.         0.         0.        ]\n",
            " [0.         0.         0.         0.         0.         0.\n",
            "  0.32156863 0.95294118 0.96862745 0.40392157 0.         0.\n",
            "  0.         0.         0.         0.         0.02745098 0.22352941\n",
            "  0.6745098  0.98823529 0.87058824 0.25490196 0.         0.\n",
            "  0.         0.         0.         0.        ]\n",
            " [0.         0.         0.         0.         0.         0.\n",
            "  0.57647059 0.98823529 0.88235294 0.         0.         0.\n",
            "  0.         0.         0.         0.         0.25882353 0.98823529\n",
            "  0.98823529 0.98823529 0.29803922 0.         0.         0.\n",
            "  0.         0.         0.         0.        ]\n",
            " [0.         0.         0.         0.         0.         0.\n",
            "  0.77254902 0.98823529 0.49019608 0.         0.         0.\n",
            "  0.         0.         0.14901961 0.63921569 0.94509804 0.98823529\n",
            "  0.83921569 0.35294118 0.         0.         0.         0.\n",
            "  0.         0.         0.         0.        ]\n",
            " [0.         0.         0.         0.         0.         0.22352941\n",
            "  0.99215686 0.99215686 0.24705882 0.         0.         0.05098039\n",
            "  0.11372549 0.40784314 0.69803922 0.99215686 0.98431373 0.58823529\n",
            "  0.09803922 0.         0.         0.         0.         0.\n",
            "  0.         0.         0.         0.        ]\n",
            " [0.         0.         0.         0.         0.         0.37254902\n",
            "  0.94117647 0.98823529 0.61176471 0.6627451  0.6627451  0.80784314\n",
            "  0.99215686 0.98823529 0.98823529 0.98823529 0.29411765 0.\n",
            "  0.         0.         0.         0.         0.         0.\n",
            "  0.         0.         0.         0.        ]\n",
            " [0.         0.         0.         0.         0.         0.\n",
            "  0.77254902 0.98823529 0.99215686 0.98823529 0.98823529 0.98823529\n",
            "  0.95686275 0.65882353 0.50980392 0.21960784 0.         0.\n",
            "  0.         0.         0.         0.         0.         0.\n",
            "  0.         0.         0.         0.        ]\n",
            " [0.         0.         0.         0.         0.         0.\n",
            "  0.23137255 0.74509804 0.99215686 0.98823529 0.98823529 0.59215686\n",
            "  0.09803922 0.         0.         0.         0.         0.\n",
            "  0.         0.         0.         0.         0.         0.\n",
            "  0.         0.         0.         0.        ]\n",
            " [0.         0.         0.         0.         0.         0.\n",
            "  0.         0.         0.         0.         0.         0.\n",
            "  0.         0.         0.         0.         0.         0.\n",
            "  0.         0.         0.         0.         0.         0.\n",
            "  0.         0.         0.         0.        ]\n",
            " [0.         0.         0.         0.         0.         0.\n",
            "  0.         0.         0.         0.         0.         0.\n",
            "  0.         0.         0.         0.         0.         0.\n",
            "  0.         0.         0.         0.         0.         0.\n",
            "  0.         0.         0.         0.        ]\n",
            " [0.         0.         0.         0.         0.         0.\n",
            "  0.         0.         0.         0.         0.         0.\n",
            "  0.         0.         0.         0.         0.         0.\n",
            "  0.         0.         0.         0.         0.         0.\n",
            "  0.         0.         0.         0.        ]\n",
            " [0.         0.         0.         0.         0.         0.\n",
            "  0.         0.         0.         0.         0.         0.\n",
            "  0.         0.         0.         0.         0.         0.\n",
            "  0.         0.         0.         0.         0.         0.\n",
            "  0.         0.         0.         0.        ]]\n"
          ]
        }
      ],
      "source": [
        "print(\"`x` BEFORE transformation:\", x_train[sample_id])\n",
        "print(\"`x` AFTER transformation:\", x_train_norm[sample_id])"
      ]
    },
    {
      "cell_type": "markdown",
      "id": "f17333bc-8585-406e-a1ee-79c03d2a2d03",
      "metadata": {
        "id": "f17333bc-8585-406e-a1ee-79c03d2a2d03",
        "nbgrader": {
          "grade": false,
          "grade_id": "cell-4f9fcd48b0721ed1",
          "locked": true,
          "schema_version": 3,
          "solution": false,
          "task": false
        },
        "tags": []
      },
      "source": [
        "## 3. Implementing the CNN model with the LeNet architecture"
      ]
    },
    {
      "cell_type": "markdown",
      "id": "c4b2f1f8-90f2-4952-8ba1-b6cbaa60dc2e",
      "metadata": {
        "id": "c4b2f1f8-90f2-4952-8ba1-b6cbaa60dc2e",
        "nbgrader": {
          "grade": false,
          "grade_id": "cell-ba60168f1c07967f",
          "locked": true,
          "schema_version": 3,
          "solution": false,
          "task": false
        },
        "tags": []
      },
      "source": [
        "Importing the Keras Libraries\n",
        "\n",
        "First, we need to import the necessary libraries, modules, and functions from Keras:\n",
        "- `Input`: Used to receive input data for the model.\n",
        "- `Conv2D`: Performs Convolutional transformation with activation.\n",
        "- `AveragePooling2D`: Reduces the feature size.\n",
        "- `Dense`: Also known as the Fully Connected layer, an essential component of Neural Network models.\n",
        "- `Model`: A class object used to package the input and output layers, train the model using the `fit` method, and make predictions using the `predict` method.\n",
        "- `load_model`: A function used to load a model from a file."
      ]
    },
    {
      "cell_type": "code",
      "execution_count": 14,
      "id": "5173f06c-248a-4543-a739-6fc16133965b",
      "metadata": {
        "id": "5173f06c-248a-4543-a739-6fc16133965b",
        "nbgrader": {
          "grade": false,
          "grade_id": "cell-41738a4f2aff4901",
          "locked": true,
          "schema_version": 3,
          "solution": false,
          "task": false
        },
        "tags": []
      },
      "outputs": [],
      "source": [
        "from keras.layers import Input, Dense, Conv2D, AveragePooling2D, Flatten\n",
        "from keras.models import load_model, Model\n",
        "import keras"
      ]
    },
    {
      "cell_type": "code",
      "execution_count": 15,
      "id": "a396f301-3bbf-40f3-a727-5cdae2c8f28a",
      "metadata": {
        "id": "a396f301-3bbf-40f3-a727-5cdae2c8f28a",
        "nbgrader": {
          "grade": false,
          "grade_id": "cell-7235847a9f5cd5b3",
          "locked": true,
          "schema_version": 3,
          "solution": false,
          "task": false
        },
        "tags": []
      },
      "outputs": [],
      "source": [
        "class LeNetCNN:\n",
        "\t# constructor\n",
        "\tdef __init__(self):\n",
        "\t\tself.model = None\n",
        "\n",
        "\t# Define structure of the CNN\n",
        "\tdef build(self, input_dim):\n",
        "\t\tinput = Input(shape = input_dim) # input\n",
        "\n",
        "\t\t# Extract features\n",
        "\t\tC1 = Conv2D(6, (3, 3), padding='same', activation='sigmoid')(input)\n",
        "\t\tS2 = AveragePooling2D(pool_size=(2, 2), padding=\"same\")(C1)\n",
        "\t\tC3 = Conv2D(16, (3, 3), padding='same', activation='sigmoid')(S2)\n",
        "\t\tS4 = AveragePooling2D(pool_size=(2, 2), padding=\"same\")(C3)\n",
        "\t\t# Convert from a tensor to a vector\n",
        "\t\tflat = Flatten()(S4)\n",
        "\t\t# Classify features\n",
        "\t\tF5 = Dense(120, activation='sigmoid', use_bias=True)(flat)\n",
        "\t\tF6 = Dense(84, activation='sigmoid', use_bias=True)(F5)\n",
        "\t\toutput = Dense(10, activation='softmax', use_bias=True)(F6) # y~ output\n",
        "\n",
        "\t\tself.model = Model(input, output)\n",
        "\n",
        "\t# Train model\n",
        "\tdef train(self, x_train, y_train): # x_train is X, y_train is ground-truth\n",
        "\t\tadam = keras.optimizers.Adam(learning_rate=0.01)\n",
        "\t\tself.model.compile(optimizer=adam, loss = 'categorical_crossentropy', metrics=['accuracy'])\n",
        "\t\tself.model.fit(x_train, y_train, epochs = 10, batch_size = 128)\n",
        "\n",
        "\t# Load model from file\n",
        "\tdef load(self, model_file):\n",
        "\t\tself.model = load_model(model_file)\n",
        "\n",
        "\t# Save model to file\n",
        "\tdef save(self, model_file):\n",
        "\t\tself.model.save(model_file)\n",
        "\n",
        "\t# Summary the architecture\n",
        "\tdef summary(self):\n",
        "\t\tself.model.summary()\n",
        "\n",
        "\t# Experiment with the model using image data as input\n",
        "\tdef predict(self, x_test):\n",
        "\t\treturn self.model.predict(x_test)\n",
        "\n",
        "\t# Evaluate the model performance of the testing set\n",
        "\tdef predict_and_eval(self, x_test_norm, y_test):\n",
        "\t\t# Predict on the testing set\n",
        "\t\ttest_pred = self.model.predict(x_test_norm)\n",
        "\n",
        "\t\t# Calculate the accuracy of the testing set\n",
        "\t\taccuracy = tf.keras.metrics.Accuracy()\n",
        "\t\tlabels_pred = [np.argmax(i) for i in test_pred]\n",
        "\t\taccuracy.update_state(labels_pred, y_test)\n",
        "\t\tprint('Current accuracy: {}'.format(accuracy.result().numpy()*100))\n"
      ]
    },
    {
      "cell_type": "code",
      "execution_count": 16,
      "id": "3c514ff3-ee90-412b-bb5a-062bafde6fc4",
      "metadata": {
        "colab": {
          "base_uri": "https://localhost:8080/"
        },
        "id": "3c514ff3-ee90-412b-bb5a-062bafde6fc4",
        "nbgrader": {
          "grade": false,
          "grade_id": "cell-a1ea4bce79733766",
          "locked": true,
          "schema_version": 3,
          "solution": false,
          "task": false
        },
        "outputId": "7b83a675-5d9c-414c-9e76-55548d1d53f5",
        "tags": []
      },
      "outputs": [
        {
          "data": {
            "text/html": [
              "<pre style=\"white-space:pre;overflow-x:auto;line-height:normal;font-family:Menlo,'DejaVu Sans Mono',consolas,'Courier New',monospace\"><span style=\"font-weight: bold\">Model: \"functional_1\"</span>\n",
              "</pre>\n"
            ],
            "text/plain": [
              "\u001b[1mModel: \"functional_1\"\u001b[0m\n"
            ]
          },
          "metadata": {},
          "output_type": "display_data"
        },
        {
          "data": {
            "text/html": [
              "<pre style=\"white-space:pre;overflow-x:auto;line-height:normal;font-family:Menlo,'DejaVu Sans Mono',consolas,'Courier New',monospace\">┏━━━━━━━━━━━━━━━━━━━━━━━━━━━━━━━━━┳━━━━━━━━━━━━━━━━━━━━━━━━┳━━━━━━━━━━━━━━━┓\n",
              "┃<span style=\"font-weight: bold\"> Layer (type)                    </span>┃<span style=\"font-weight: bold\"> Output Shape           </span>┃<span style=\"font-weight: bold\">       Param # </span>┃\n",
              "┡━━━━━━━━━━━━━━━━━━━━━━━━━━━━━━━━━╇━━━━━━━━━━━━━━━━━━━━━━━━╇━━━━━━━━━━━━━━━┩\n",
              "│ input_layer (<span style=\"color: #0087ff; text-decoration-color: #0087ff\">InputLayer</span>)        │ (<span style=\"color: #00d7ff; text-decoration-color: #00d7ff\">None</span>, <span style=\"color: #00af00; text-decoration-color: #00af00\">28</span>, <span style=\"color: #00af00; text-decoration-color: #00af00\">28</span>, <span style=\"color: #00af00; text-decoration-color: #00af00\">1</span>)      │             <span style=\"color: #00af00; text-decoration-color: #00af00\">0</span> │\n",
              "├─────────────────────────────────┼────────────────────────┼───────────────┤\n",
              "│ conv2d (<span style=\"color: #0087ff; text-decoration-color: #0087ff\">Conv2D</span>)                 │ (<span style=\"color: #00d7ff; text-decoration-color: #00d7ff\">None</span>, <span style=\"color: #00af00; text-decoration-color: #00af00\">28</span>, <span style=\"color: #00af00; text-decoration-color: #00af00\">28</span>, <span style=\"color: #00af00; text-decoration-color: #00af00\">6</span>)      │            <span style=\"color: #00af00; text-decoration-color: #00af00\">60</span> │\n",
              "├─────────────────────────────────┼────────────────────────┼───────────────┤\n",
              "│ average_pooling2d               │ (<span style=\"color: #00d7ff; text-decoration-color: #00d7ff\">None</span>, <span style=\"color: #00af00; text-decoration-color: #00af00\">14</span>, <span style=\"color: #00af00; text-decoration-color: #00af00\">14</span>, <span style=\"color: #00af00; text-decoration-color: #00af00\">6</span>)      │             <span style=\"color: #00af00; text-decoration-color: #00af00\">0</span> │\n",
              "│ (<span style=\"color: #0087ff; text-decoration-color: #0087ff\">AveragePooling2D</span>)              │                        │               │\n",
              "├─────────────────────────────────┼────────────────────────┼───────────────┤\n",
              "│ conv2d_1 (<span style=\"color: #0087ff; text-decoration-color: #0087ff\">Conv2D</span>)               │ (<span style=\"color: #00d7ff; text-decoration-color: #00d7ff\">None</span>, <span style=\"color: #00af00; text-decoration-color: #00af00\">14</span>, <span style=\"color: #00af00; text-decoration-color: #00af00\">14</span>, <span style=\"color: #00af00; text-decoration-color: #00af00\">16</span>)     │           <span style=\"color: #00af00; text-decoration-color: #00af00\">880</span> │\n",
              "├─────────────────────────────────┼────────────────────────┼───────────────┤\n",
              "│ average_pooling2d_1             │ (<span style=\"color: #00d7ff; text-decoration-color: #00d7ff\">None</span>, <span style=\"color: #00af00; text-decoration-color: #00af00\">7</span>, <span style=\"color: #00af00; text-decoration-color: #00af00\">7</span>, <span style=\"color: #00af00; text-decoration-color: #00af00\">16</span>)       │             <span style=\"color: #00af00; text-decoration-color: #00af00\">0</span> │\n",
              "│ (<span style=\"color: #0087ff; text-decoration-color: #0087ff\">AveragePooling2D</span>)              │                        │               │\n",
              "├─────────────────────────────────┼────────────────────────┼───────────────┤\n",
              "│ flatten (<span style=\"color: #0087ff; text-decoration-color: #0087ff\">Flatten</span>)               │ (<span style=\"color: #00d7ff; text-decoration-color: #00d7ff\">None</span>, <span style=\"color: #00af00; text-decoration-color: #00af00\">784</span>)            │             <span style=\"color: #00af00; text-decoration-color: #00af00\">0</span> │\n",
              "├─────────────────────────────────┼────────────────────────┼───────────────┤\n",
              "│ dense (<span style=\"color: #0087ff; text-decoration-color: #0087ff\">Dense</span>)                   │ (<span style=\"color: #00d7ff; text-decoration-color: #00d7ff\">None</span>, <span style=\"color: #00af00; text-decoration-color: #00af00\">120</span>)            │        <span style=\"color: #00af00; text-decoration-color: #00af00\">94,200</span> │\n",
              "├─────────────────────────────────┼────────────────────────┼───────────────┤\n",
              "│ dense_1 (<span style=\"color: #0087ff; text-decoration-color: #0087ff\">Dense</span>)                 │ (<span style=\"color: #00d7ff; text-decoration-color: #00d7ff\">None</span>, <span style=\"color: #00af00; text-decoration-color: #00af00\">84</span>)             │        <span style=\"color: #00af00; text-decoration-color: #00af00\">10,164</span> │\n",
              "├─────────────────────────────────┼────────────────────────┼───────────────┤\n",
              "│ dense_2 (<span style=\"color: #0087ff; text-decoration-color: #0087ff\">Dense</span>)                 │ (<span style=\"color: #00d7ff; text-decoration-color: #00d7ff\">None</span>, <span style=\"color: #00af00; text-decoration-color: #00af00\">10</span>)             │           <span style=\"color: #00af00; text-decoration-color: #00af00\">850</span> │\n",
              "└─────────────────────────────────┴────────────────────────┴───────────────┘\n",
              "</pre>\n"
            ],
            "text/plain": [
              "┏━━━━━━━━━━━━━━━━━━━━━━━━━━━━━━━━━┳━━━━━━━━━━━━━━━━━━━━━━━━┳━━━━━━━━━━━━━━━┓\n",
              "┃\u001b[1m \u001b[0m\u001b[1mLayer (type)                   \u001b[0m\u001b[1m \u001b[0m┃\u001b[1m \u001b[0m\u001b[1mOutput Shape          \u001b[0m\u001b[1m \u001b[0m┃\u001b[1m \u001b[0m\u001b[1m      Param #\u001b[0m\u001b[1m \u001b[0m┃\n",
              "┡━━━━━━━━━━━━━━━━━━━━━━━━━━━━━━━━━╇━━━━━━━━━━━━━━━━━━━━━━━━╇━━━━━━━━━━━━━━━┩\n",
              "│ input_layer (\u001b[38;5;33mInputLayer\u001b[0m)        │ (\u001b[38;5;45mNone\u001b[0m, \u001b[38;5;34m28\u001b[0m, \u001b[38;5;34m28\u001b[0m, \u001b[38;5;34m1\u001b[0m)      │             \u001b[38;5;34m0\u001b[0m │\n",
              "├─────────────────────────────────┼────────────────────────┼───────────────┤\n",
              "│ conv2d (\u001b[38;5;33mConv2D\u001b[0m)                 │ (\u001b[38;5;45mNone\u001b[0m, \u001b[38;5;34m28\u001b[0m, \u001b[38;5;34m28\u001b[0m, \u001b[38;5;34m6\u001b[0m)      │            \u001b[38;5;34m60\u001b[0m │\n",
              "├─────────────────────────────────┼────────────────────────┼───────────────┤\n",
              "│ average_pooling2d               │ (\u001b[38;5;45mNone\u001b[0m, \u001b[38;5;34m14\u001b[0m, \u001b[38;5;34m14\u001b[0m, \u001b[38;5;34m6\u001b[0m)      │             \u001b[38;5;34m0\u001b[0m │\n",
              "│ (\u001b[38;5;33mAveragePooling2D\u001b[0m)              │                        │               │\n",
              "├─────────────────────────────────┼────────────────────────┼───────────────┤\n",
              "│ conv2d_1 (\u001b[38;5;33mConv2D\u001b[0m)               │ (\u001b[38;5;45mNone\u001b[0m, \u001b[38;5;34m14\u001b[0m, \u001b[38;5;34m14\u001b[0m, \u001b[38;5;34m16\u001b[0m)     │           \u001b[38;5;34m880\u001b[0m │\n",
              "├─────────────────────────────────┼────────────────────────┼───────────────┤\n",
              "│ average_pooling2d_1             │ (\u001b[38;5;45mNone\u001b[0m, \u001b[38;5;34m7\u001b[0m, \u001b[38;5;34m7\u001b[0m, \u001b[38;5;34m16\u001b[0m)       │             \u001b[38;5;34m0\u001b[0m │\n",
              "│ (\u001b[38;5;33mAveragePooling2D\u001b[0m)              │                        │               │\n",
              "├─────────────────────────────────┼────────────────────────┼───────────────┤\n",
              "│ flatten (\u001b[38;5;33mFlatten\u001b[0m)               │ (\u001b[38;5;45mNone\u001b[0m, \u001b[38;5;34m784\u001b[0m)            │             \u001b[38;5;34m0\u001b[0m │\n",
              "├─────────────────────────────────┼────────────────────────┼───────────────┤\n",
              "│ dense (\u001b[38;5;33mDense\u001b[0m)                   │ (\u001b[38;5;45mNone\u001b[0m, \u001b[38;5;34m120\u001b[0m)            │        \u001b[38;5;34m94,200\u001b[0m │\n",
              "├─────────────────────────────────┼────────────────────────┼───────────────┤\n",
              "│ dense_1 (\u001b[38;5;33mDense\u001b[0m)                 │ (\u001b[38;5;45mNone\u001b[0m, \u001b[38;5;34m84\u001b[0m)             │        \u001b[38;5;34m10,164\u001b[0m │\n",
              "├─────────────────────────────────┼────────────────────────┼───────────────┤\n",
              "│ dense_2 (\u001b[38;5;33mDense\u001b[0m)                 │ (\u001b[38;5;45mNone\u001b[0m, \u001b[38;5;34m10\u001b[0m)             │           \u001b[38;5;34m850\u001b[0m │\n",
              "└─────────────────────────────────┴────────────────────────┴───────────────┘\n"
            ]
          },
          "metadata": {},
          "output_type": "display_data"
        },
        {
          "data": {
            "text/html": [
              "<pre style=\"white-space:pre;overflow-x:auto;line-height:normal;font-family:Menlo,'DejaVu Sans Mono',consolas,'Courier New',monospace\"><span style=\"font-weight: bold\"> Total params: </span><span style=\"color: #00af00; text-decoration-color: #00af00\">106,154</span> (414.66 KB)\n",
              "</pre>\n"
            ],
            "text/plain": [
              "\u001b[1m Total params: \u001b[0m\u001b[38;5;34m106,154\u001b[0m (414.66 KB)\n"
            ]
          },
          "metadata": {},
          "output_type": "display_data"
        },
        {
          "data": {
            "text/html": [
              "<pre style=\"white-space:pre;overflow-x:auto;line-height:normal;font-family:Menlo,'DejaVu Sans Mono',consolas,'Courier New',monospace\"><span style=\"font-weight: bold\"> Trainable params: </span><span style=\"color: #00af00; text-decoration-color: #00af00\">106,154</span> (414.66 KB)\n",
              "</pre>\n"
            ],
            "text/plain": [
              "\u001b[1m Trainable params: \u001b[0m\u001b[38;5;34m106,154\u001b[0m (414.66 KB)\n"
            ]
          },
          "metadata": {},
          "output_type": "display_data"
        },
        {
          "data": {
            "text/html": [
              "<pre style=\"white-space:pre;overflow-x:auto;line-height:normal;font-family:Menlo,'DejaVu Sans Mono',consolas,'Courier New',monospace\"><span style=\"font-weight: bold\"> Non-trainable params: </span><span style=\"color: #00af00; text-decoration-color: #00af00\">0</span> (0.00 B)\n",
              "</pre>\n"
            ],
            "text/plain": [
              "\u001b[1m Non-trainable params: \u001b[0m\u001b[38;5;34m0\u001b[0m (0.00 B)\n"
            ]
          },
          "metadata": {},
          "output_type": "display_data"
        },
        {
          "name": "stdout",
          "output_type": "stream",
          "text": [
            "Epoch 1/10\n",
            "\u001b[1m469/469\u001b[0m \u001b[32m━━━━━━━━━━━━━━━━━━━━\u001b[0m\u001b[37m\u001b[0m \u001b[1m5s\u001b[0m 7ms/step - accuracy: 0.1028 - loss: 2.3190\n",
            "Epoch 2/10\n",
            "\u001b[1m469/469\u001b[0m \u001b[32m━━━━━━━━━━━━━━━━━━━━\u001b[0m\u001b[37m\u001b[0m \u001b[1m3s\u001b[0m 7ms/step - accuracy: 0.1064 - loss: 2.3047\n",
            "Epoch 3/10\n",
            "\u001b[1m469/469\u001b[0m \u001b[32m━━━━━━━━━━━━━━━━━━━━\u001b[0m\u001b[37m\u001b[0m \u001b[1m3s\u001b[0m 6ms/step - accuracy: 0.1068 - loss: 2.3040\n",
            "Epoch 4/10\n",
            "\u001b[1m469/469\u001b[0m \u001b[32m━━━━━━━━━━━━━━━━━━━━\u001b[0m\u001b[37m\u001b[0m \u001b[1m3s\u001b[0m 6ms/step - accuracy: 0.1068 - loss: 2.3040\n",
            "Epoch 5/10\n",
            "\u001b[1m469/469\u001b[0m \u001b[32m━━━━━━━━━━━━━━━━━━━━\u001b[0m\u001b[37m\u001b[0m \u001b[1m3s\u001b[0m 6ms/step - accuracy: 0.1069 - loss: 2.3040\n",
            "Epoch 6/10\n",
            "\u001b[1m469/469\u001b[0m \u001b[32m━━━━━━━━━━━━━━━━━━━━\u001b[0m\u001b[37m\u001b[0m \u001b[1m3s\u001b[0m 6ms/step - accuracy: 0.1069 - loss: 2.3040\n",
            "Epoch 7/10\n",
            "\u001b[1m469/469\u001b[0m \u001b[32m━━━━━━━━━━━━━━━━━━━━\u001b[0m\u001b[37m\u001b[0m \u001b[1m3s\u001b[0m 7ms/step - accuracy: 0.1068 - loss: 2.3040\n",
            "Epoch 8/10\n",
            "\u001b[1m469/469\u001b[0m \u001b[32m━━━━━━━━━━━━━━━━━━━━\u001b[0m\u001b[37m\u001b[0m \u001b[1m3s\u001b[0m 7ms/step - accuracy: 0.1070 - loss: 2.3040\n",
            "Epoch 9/10\n",
            "\u001b[1m469/469\u001b[0m \u001b[32m━━━━━━━━━━━━━━━━━━━━\u001b[0m\u001b[37m\u001b[0m \u001b[1m3s\u001b[0m 6ms/step - accuracy: 0.1070 - loss: 2.3040\n",
            "Epoch 10/10\n",
            "\u001b[1m469/469\u001b[0m \u001b[32m━━━━━━━━━━━━━━━━━━━━\u001b[0m\u001b[37m\u001b[0m \u001b[1m3s\u001b[0m 7ms/step - accuracy: 0.1071 - loss: 2.3040\n"
          ]
        }
      ],
      "source": [
        "# Set the random seed\n",
        "fix_random_seed()\n",
        "\n",
        "# Initialize the LeNet architecture\n",
        "lenet = LeNetCNN()\n",
        "# Build the LeNet architecture with the input shape is 28x28x1\n",
        "lenet.build((28, 28, 1))\n",
        "lenet.summary()\n",
        "lenet.train(x_train_norm, y_train_oh)"
      ]
    },
    {
      "cell_type": "markdown",
      "id": "e4a196ba-5366-47a2-b1a7-bcaf03936605",
      "metadata": {
        "id": "e4a196ba-5366-47a2-b1a7-bcaf03936605",
        "nbgrader": {
          "grade": false,
          "grade_id": "cell-9f597daf866aaed8",
          "locked": true,
          "schema_version": 3,
          "solution": false,
          "task": false
        },
        "tags": []
      },
      "source": [
        "With the network architecture above, observe and see if there is any information that you don't fully understand?\n",
        "\n",
        "Key information to grasp:\n",
        "- Layer names\n",
        "- Layer sizes\n",
        "- Number of parameters\n",
        "\n",
        "Discuss with your friends/teachers whenever there are any unclear aspects regarding the parameters mentioned above."
      ]
    },
    {
      "cell_type": "code",
      "execution_count": 20,
      "id": "90538869-b247-4c5c-86ce-1ba49f92aae6",
      "metadata": {
        "colab": {
          "base_uri": "https://localhost:8080/",
          "height": 482
        },
        "id": "90538869-b247-4c5c-86ce-1ba49f92aae6",
        "nbgrader": {
          "grade": false,
          "grade_id": "cell-4236035607f6cc5f",
          "locked": true,
          "schema_version": 3,
          "solution": false,
          "task": false
        },
        "outputId": "0263cfe1-55ee-4efa-e0e0-9772523aee1d",
        "tags": []
      },
      "outputs": [
        {
          "name": "stdout",
          "output_type": "stream",
          "text": [
            "\u001b[1m313/313\u001b[0m \u001b[32m━━━━━━━━━━━━━━━━━━━━\u001b[0m\u001b[37m\u001b[0m \u001b[1m1s\u001b[0m 2ms/step\n"
          ]
        },
        {
          "data": {
            "image/png": "[encoded data removed]",
            "text/plain": [
              "<Figure size 640x480 with 1 Axes>"
            ]
          },
          "metadata": {},
          "output_type": "display_data"
        },
        {
          "name": "stdout",
          "output_type": "stream",
          "text": [
            "Prediction:  1\n",
            "Ground-truth:  8\n"
          ]
        }
      ],
      "source": [
        "# Predict on the testing set\n",
        "pred = lenet.predict(x_test_norm)\n",
        "test_index = 1234\n",
        "plt.imshow(x_test[test_index])\n",
        "plt.show()\n",
        "print('Prediction: ', np.argmax(pred[test_index]))\n",
        "print('Ground-truth: ', y_test[test_index])"
      ]
    },
    {
      "cell_type": "code",
      "execution_count": 19,
      "id": "ddbe08d9-fd89-4b67-8d62-64ec1ed4785a",
      "metadata": {
        "colab": {
          "base_uri": "https://localhost:8080/"
        },
        "id": "ddbe08d9-fd89-4b67-8d62-64ec1ed4785a",
        "nbgrader": {
          "grade": false,
          "grade_id": "cell-06228067710bb510",
          "locked": true,
          "schema_version": 3,
          "solution": false,
          "task": false
        },
        "outputId": "18c22a58-1e25-4e7c-fbe1-df377745eea0",
        "tags": []
      },
      "outputs": [
        {
          "name": "stdout",
          "output_type": "stream",
          "text": [
            "\u001b[1m313/313\u001b[0m \u001b[32m━━━━━━━━━━━━━━━━━━━━\u001b[0m\u001b[37m\u001b[0m \u001b[1m1s\u001b[0m 2ms/step\n",
            "Current accuracy: 11.349999904632568\n"
          ]
        }
      ],
      "source": [
        "# Evaluate the model performance of the testing set\n",
        "lenet.predict_and_eval(x_test_norm, y_test)"
      ]
    },
    {
      "cell_type": "markdown",
      "id": "8f22937b-90ae-47f9-981b-74420ee7b90b",
      "metadata": {
        "id": "8f22937b-90ae-47f9-981b-74420ee7b90b",
        "nbgrader": {
          "grade": false,
          "grade_id": "cell-cd44357ea71a7ccf",
          "locked": true,
          "schema_version": 3,
          "solution": false,
          "task": false
        },
        "tags": []
      },
      "source": [
        "## 4. Experimenting with some variations"
      ]
    },
    {
      "cell_type": "markdown",
      "id": "fd7e369e-63c1-4870-882b-7bff6b90bdea",
      "metadata": {
        "id": "fd7e369e-63c1-4870-882b-7bff6b90bdea",
        "nbgrader": {
          "grade": false,
          "grade_id": "cell-f47d995b92ff354d",
          "locked": true,
          "schema_version": 3,
          "solution": false,
          "task": false
        },
        "tags": []
      },
      "source": [
        "### 4.1 Variant Alpha - Replacing sigmoid activation with ReLU\n",
        "\n",
        "In this variant, we will replace the sigmoid activation function with the rectified linear unit (ReLU) activation function. ReLU is known for its ability to mitigate the vanishing gradient problem and accelerate convergence in deep neural networks."
      ]
    },
    {
      "cell_type": "code",
      "execution_count": 21,
      "id": "b2c1b4af-5b7e-427d-8582-f602ff557b4c",
      "metadata": {
        "id": "b2c1b4af-5b7e-427d-8582-f602ff557b4c",
        "nbgrader": {
          "grade": false,
          "grade_id": "cell-eaa8dbe632d82887",
          "locked": false,
          "schema_version": 3,
          "solution": true,
          "task": false
        },
        "tags": []
      },
      "outputs": [],
      "source": [
        "class AlphaCNN(LeNetCNN):\n",
        "\t# Define structure of the CNN\n",
        "\tdef build(self, input_dim):\n",
        "\t\tinput = None\n",
        "\t\toutput = None\n",
        "\t\t### YOUR CODE HERE\n",
        "\t\tinput = Input(shape = input_dim)\n",
        "\t\tC1 = Conv2D(6, (3, 3), padding='same', activation='relu')(input)\n",
        "\t\tS1 = AveragePooling2D(pool_size=(2, 2), padding=\"same\")(C1)\n",
        "\t\tC3 = Conv2D(16, (3, 3), padding='same', activation='relu')(S1)\n",
        "\t\tS4 = AveragePooling2D(pool_size=(2, 2), padding=\"same\")(C3)\n",
        "\t\tflat = Flatten()(S4)\n",
        "\t\tF5 = Dense(120, activation='relu', use_bias=True)(flat)\n",
        "\t\tF6 = Dense(84, activation='relu', use_bias=True)(F5)\n",
        "\t\toutput = Dense(10, activation='softmax', use_bias=True)(F6)\n",
        "\t\tself.model = Model(input, output)\n"
      ]
    },
    {
      "cell_type": "code",
      "execution_count": 22,
      "id": "bc2652c7-480f-4b48-8ac0-c1c3f6ad41df",
      "metadata": {
        "colab": {
          "base_uri": "https://localhost:8080/"
        },
        "id": "bc2652c7-480f-4b48-8ac0-c1c3f6ad41df",
        "nbgrader": {
          "grade": false,
          "grade_id": "cell-75f270766ba8c072",
          "locked": true,
          "schema_version": 3,
          "solution": false,
          "task": false
        },
        "outputId": "83b01c4c-a769-42d8-8b91-3e558dd29a4d",
        "tags": []
      },
      "outputs": [
        {
          "data": {
            "text/html": [
              "<pre style=\"white-space:pre;overflow-x:auto;line-height:normal;font-family:Menlo,'DejaVu Sans Mono',consolas,'Courier New',monospace\"><span style=\"font-weight: bold\">Model: \"functional_3\"</span>\n",
              "</pre>\n"
            ],
            "text/plain": [
              "\u001b[1mModel: \"functional_3\"\u001b[0m\n"
            ]
          },
          "metadata": {},
          "output_type": "display_data"
        },
        {
          "data": {
            "text/html": [
              "<pre style=\"white-space:pre;overflow-x:auto;line-height:normal;font-family:Menlo,'DejaVu Sans Mono',consolas,'Courier New',monospace\">┏━━━━━━━━━━━━━━━━━━━━━━━━━━━━━━━━━┳━━━━━━━━━━━━━━━━━━━━━━━━┳━━━━━━━━━━━━━━━┓\n",
              "┃<span style=\"font-weight: bold\"> Layer (type)                    </span>┃<span style=\"font-weight: bold\"> Output Shape           </span>┃<span style=\"font-weight: bold\">       Param # </span>┃\n",
              "┡━━━━━━━━━━━━━━━━━━━━━━━━━━━━━━━━━╇━━━━━━━━━━━━━━━━━━━━━━━━╇━━━━━━━━━━━━━━━┩\n",
              "│ input_layer_1 (<span style=\"color: #0087ff; text-decoration-color: #0087ff\">InputLayer</span>)      │ (<span style=\"color: #00d7ff; text-decoration-color: #00d7ff\">None</span>, <span style=\"color: #00af00; text-decoration-color: #00af00\">28</span>, <span style=\"color: #00af00; text-decoration-color: #00af00\">28</span>, <span style=\"color: #00af00; text-decoration-color: #00af00\">1</span>)      │             <span style=\"color: #00af00; text-decoration-color: #00af00\">0</span> │\n",
              "├─────────────────────────────────┼────────────────────────┼───────────────┤\n",
              "│ conv2d_2 (<span style=\"color: #0087ff; text-decoration-color: #0087ff\">Conv2D</span>)               │ (<span style=\"color: #00d7ff; text-decoration-color: #00d7ff\">None</span>, <span style=\"color: #00af00; text-decoration-color: #00af00\">28</span>, <span style=\"color: #00af00; text-decoration-color: #00af00\">28</span>, <span style=\"color: #00af00; text-decoration-color: #00af00\">6</span>)      │            <span style=\"color: #00af00; text-decoration-color: #00af00\">60</span> │\n",
              "├─────────────────────────────────┼────────────────────────┼───────────────┤\n",
              "│ average_pooling2d_2             │ (<span style=\"color: #00d7ff; text-decoration-color: #00d7ff\">None</span>, <span style=\"color: #00af00; text-decoration-color: #00af00\">14</span>, <span style=\"color: #00af00; text-decoration-color: #00af00\">14</span>, <span style=\"color: #00af00; text-decoration-color: #00af00\">6</span>)      │             <span style=\"color: #00af00; text-decoration-color: #00af00\">0</span> │\n",
              "│ (<span style=\"color: #0087ff; text-decoration-color: #0087ff\">AveragePooling2D</span>)              │                        │               │\n",
              "├─────────────────────────────────┼────────────────────────┼───────────────┤\n",
              "│ conv2d_3 (<span style=\"color: #0087ff; text-decoration-color: #0087ff\">Conv2D</span>)               │ (<span style=\"color: #00d7ff; text-decoration-color: #00d7ff\">None</span>, <span style=\"color: #00af00; text-decoration-color: #00af00\">14</span>, <span style=\"color: #00af00; text-decoration-color: #00af00\">14</span>, <span style=\"color: #00af00; text-decoration-color: #00af00\">16</span>)     │           <span style=\"color: #00af00; text-decoration-color: #00af00\">880</span> │\n",
              "├─────────────────────────────────┼────────────────────────┼───────────────┤\n",
              "│ average_pooling2d_3             │ (<span style=\"color: #00d7ff; text-decoration-color: #00d7ff\">None</span>, <span style=\"color: #00af00; text-decoration-color: #00af00\">7</span>, <span style=\"color: #00af00; text-decoration-color: #00af00\">7</span>, <span style=\"color: #00af00; text-decoration-color: #00af00\">16</span>)       │             <span style=\"color: #00af00; text-decoration-color: #00af00\">0</span> │\n",
              "│ (<span style=\"color: #0087ff; text-decoration-color: #0087ff\">AveragePooling2D</span>)              │                        │               │\n",
              "├─────────────────────────────────┼────────────────────────┼───────────────┤\n",
              "│ flatten_1 (<span style=\"color: #0087ff; text-decoration-color: #0087ff\">Flatten</span>)             │ (<span style=\"color: #00d7ff; text-decoration-color: #00d7ff\">None</span>, <span style=\"color: #00af00; text-decoration-color: #00af00\">784</span>)            │             <span style=\"color: #00af00; text-decoration-color: #00af00\">0</span> │\n",
              "├─────────────────────────────────┼────────────────────────┼───────────────┤\n",
              "│ dense_3 (<span style=\"color: #0087ff; text-decoration-color: #0087ff\">Dense</span>)                 │ (<span style=\"color: #00d7ff; text-decoration-color: #00d7ff\">None</span>, <span style=\"color: #00af00; text-decoration-color: #00af00\">120</span>)            │        <span style=\"color: #00af00; text-decoration-color: #00af00\">94,200</span> │\n",
              "├─────────────────────────────────┼────────────────────────┼───────────────┤\n",
              "│ dense_4 (<span style=\"color: #0087ff; text-decoration-color: #0087ff\">Dense</span>)                 │ (<span style=\"color: #00d7ff; text-decoration-color: #00d7ff\">None</span>, <span style=\"color: #00af00; text-decoration-color: #00af00\">84</span>)             │        <span style=\"color: #00af00; text-decoration-color: #00af00\">10,164</span> │\n",
              "├─────────────────────────────────┼────────────────────────┼───────────────┤\n",
              "│ dense_5 (<span style=\"color: #0087ff; text-decoration-color: #0087ff\">Dense</span>)                 │ (<span style=\"color: #00d7ff; text-decoration-color: #00d7ff\">None</span>, <span style=\"color: #00af00; text-decoration-color: #00af00\">10</span>)             │           <span style=\"color: #00af00; text-decoration-color: #00af00\">850</span> │\n",
              "└─────────────────────────────────┴────────────────────────┴───────────────┘\n",
              "</pre>\n"
            ],
            "text/plain": [
              "┏━━━━━━━━━━━━━━━━━━━━━━━━━━━━━━━━━┳━━━━━━━━━━━━━━━━━━━━━━━━┳━━━━━━━━━━━━━━━┓\n",
              "┃\u001b[1m \u001b[0m\u001b[1mLayer (type)                   \u001b[0m\u001b[1m \u001b[0m┃\u001b[1m \u001b[0m\u001b[1mOutput Shape          \u001b[0m\u001b[1m \u001b[0m┃\u001b[1m \u001b[0m\u001b[1m      Param #\u001b[0m\u001b[1m \u001b[0m┃\n",
              "┡━━━━━━━━━━━━━━━━━━━━━━━━━━━━━━━━━╇━━━━━━━━━━━━━━━━━━━━━━━━╇━━━━━━━━━━━━━━━┩\n",
              "│ input_layer_1 (\u001b[38;5;33mInputLayer\u001b[0m)      │ (\u001b[38;5;45mNone\u001b[0m, \u001b[38;5;34m28\u001b[0m, \u001b[38;5;34m28\u001b[0m, \u001b[38;5;34m1\u001b[0m)      │             \u001b[38;5;34m0\u001b[0m │\n",
              "├─────────────────────────────────┼────────────────────────┼───────────────┤\n",
              "│ conv2d_2 (\u001b[38;5;33mConv2D\u001b[0m)               │ (\u001b[38;5;45mNone\u001b[0m, \u001b[38;5;34m28\u001b[0m, \u001b[38;5;34m28\u001b[0m, \u001b[38;5;34m6\u001b[0m)      │            \u001b[38;5;34m60\u001b[0m │\n",
              "├─────────────────────────────────┼────────────────────────┼───────────────┤\n",
              "│ average_pooling2d_2             │ (\u001b[38;5;45mNone\u001b[0m, \u001b[38;5;34m14\u001b[0m, \u001b[38;5;34m14\u001b[0m, \u001b[38;5;34m6\u001b[0m)      │             \u001b[38;5;34m0\u001b[0m │\n",
              "│ (\u001b[38;5;33mAveragePooling2D\u001b[0m)              │                        │               │\n",
              "├─────────────────────────────────┼────────────────────────┼───────────────┤\n",
              "│ conv2d_3 (\u001b[38;5;33mConv2D\u001b[0m)               │ (\u001b[38;5;45mNone\u001b[0m, \u001b[38;5;34m14\u001b[0m, \u001b[38;5;34m14\u001b[0m, \u001b[38;5;34m16\u001b[0m)     │           \u001b[38;5;34m880\u001b[0m │\n",
              "├─────────────────────────────────┼────────────────────────┼───────────────┤\n",
              "│ average_pooling2d_3             │ (\u001b[38;5;45mNone\u001b[0m, \u001b[38;5;34m7\u001b[0m, \u001b[38;5;34m7\u001b[0m, \u001b[38;5;34m16\u001b[0m)       │             \u001b[38;5;34m0\u001b[0m │\n",
              "│ (\u001b[38;5;33mAveragePooling2D\u001b[0m)              │                        │               │\n",
              "├─────────────────────────────────┼────────────────────────┼───────────────┤\n",
              "│ flatten_1 (\u001b[38;5;33mFlatten\u001b[0m)             │ (\u001b[38;5;45mNone\u001b[0m, \u001b[38;5;34m784\u001b[0m)            │             \u001b[38;5;34m0\u001b[0m │\n",
              "├─────────────────────────────────┼────────────────────────┼───────────────┤\n",
              "│ dense_3 (\u001b[38;5;33mDense\u001b[0m)                 │ (\u001b[38;5;45mNone\u001b[0m, \u001b[38;5;34m120\u001b[0m)            │        \u001b[38;5;34m94,200\u001b[0m │\n",
              "├─────────────────────────────────┼────────────────────────┼───────────────┤\n",
              "│ dense_4 (\u001b[38;5;33mDense\u001b[0m)                 │ (\u001b[38;5;45mNone\u001b[0m, \u001b[38;5;34m84\u001b[0m)             │        \u001b[38;5;34m10,164\u001b[0m │\n",
              "├─────────────────────────────────┼────────────────────────┼───────────────┤\n",
              "│ dense_5 (\u001b[38;5;33mDense\u001b[0m)                 │ (\u001b[38;5;45mNone\u001b[0m, \u001b[38;5;34m10\u001b[0m)             │           \u001b[38;5;34m850\u001b[0m │\n",
              "└─────────────────────────────────┴────────────────────────┴───────────────┘\n"
            ]
          },
          "metadata": {},
          "output_type": "display_data"
        },
        {
          "data": {
            "text/html": [
              "<pre style=\"white-space:pre;overflow-x:auto;line-height:normal;font-family:Menlo,'DejaVu Sans Mono',consolas,'Courier New',monospace\"><span style=\"font-weight: bold\"> Total params: </span><span style=\"color: #00af00; text-decoration-color: #00af00\">106,154</span> (414.66 KB)\n",
              "</pre>\n"
            ],
            "text/plain": [
              "\u001b[1m Total params: \u001b[0m\u001b[38;5;34m106,154\u001b[0m (414.66 KB)\n"
            ]
          },
          "metadata": {},
          "output_type": "display_data"
        },
        {
          "data": {
            "text/html": [
              "<pre style=\"white-space:pre;overflow-x:auto;line-height:normal;font-family:Menlo,'DejaVu Sans Mono',consolas,'Courier New',monospace\"><span style=\"font-weight: bold\"> Trainable params: </span><span style=\"color: #00af00; text-decoration-color: #00af00\">106,154</span> (414.66 KB)\n",
              "</pre>\n"
            ],
            "text/plain": [
              "\u001b[1m Trainable params: \u001b[0m\u001b[38;5;34m106,154\u001b[0m (414.66 KB)\n"
            ]
          },
          "metadata": {},
          "output_type": "display_data"
        },
        {
          "data": {
            "text/html": [
              "<pre style=\"white-space:pre;overflow-x:auto;line-height:normal;font-family:Menlo,'DejaVu Sans Mono',consolas,'Courier New',monospace\"><span style=\"font-weight: bold\"> Non-trainable params: </span><span style=\"color: #00af00; text-decoration-color: #00af00\">0</span> (0.00 B)\n",
              "</pre>\n"
            ],
            "text/plain": [
              "\u001b[1m Non-trainable params: \u001b[0m\u001b[38;5;34m0\u001b[0m (0.00 B)\n"
            ]
          },
          "metadata": {},
          "output_type": "display_data"
        }
      ],
      "source": [
        "# Set the random seed\n",
        "fix_random_seed()\n",
        "#  Initialize the Alpha architecture\n",
        "alpha = AlphaCNN()\n",
        "# Build the Alpha architecture with the input shape is 28x28x1\n",
        "alpha.build((28, 28, 1))\n",
        "alpha.summary()"
      ]
    },
    {
      "cell_type": "code",
      "execution_count": 23,
      "id": "dc55c6d5-6b4f-47a3-bc51-f0c2422c21c3",
      "metadata": {
        "id": "dc55c6d5-6b4f-47a3-bc51-f0c2422c21c3",
        "nbgrader": {
          "grade": true,
          "grade_id": "cell-69b3da1266013ec3",
          "locked": true,
          "points": 5,
          "schema_version": 3,
          "solution": false,
          "task": false
        },
        "tags": []
      },
      "outputs": [
        {
          "ename": "AssertionError",
          "evalue": "",
          "output_type": "error",
          "traceback": [
            "\u001b[1;31m---------------------------------------------------------------------------\u001b[0m",
            "\u001b[1;31mAssertionError\u001b[0m                            Traceback (most recent call last)",
            "Cell \u001b[1;32mIn[23], line 6\u001b[0m\n\u001b[0;32m      4\u001b[0m \u001b[38;5;28;01massert\u001b[39;00m \u001b[38;5;28mlen\u001b[39m(alpha\u001b[38;5;241m.\u001b[39mmodel\u001b[38;5;241m.\u001b[39mlayers) \u001b[38;5;241m==\u001b[39m \u001b[38;5;241m9\u001b[39m\n\u001b[0;32m      5\u001b[0m \u001b[38;5;66;03m# Check a number of layers in the Alpha network architecture\u001b[39;00m\n\u001b[1;32m----> 6\u001b[0m \u001b[38;5;28;01massert\u001b[39;00m \u001b[38;5;124m\"\u001b[39m\u001b[38;5;124mkeras.engine.input_layer.InputLayer\u001b[39m\u001b[38;5;124m\"\u001b[39m \u001b[38;5;129;01min\u001b[39;00m \u001b[38;5;28mstr\u001b[39m(\u001b[38;5;28mtype\u001b[39m(alpha\u001b[38;5;241m.\u001b[39mmodel\u001b[38;5;241m.\u001b[39mlayers[\u001b[38;5;241m0\u001b[39m]))\n\u001b[0;32m      7\u001b[0m \u001b[38;5;28;01massert\u001b[39;00m \u001b[38;5;124m\"\u001b[39m\u001b[38;5;124mkeras.layers.convolutional.conv2d.Conv2D\u001b[39m\u001b[38;5;124m\"\u001b[39m \u001b[38;5;129;01min\u001b[39;00m \u001b[38;5;28mstr\u001b[39m(\u001b[38;5;28mtype\u001b[39m(alpha\u001b[38;5;241m.\u001b[39mmodel\u001b[38;5;241m.\u001b[39mlayers[\u001b[38;5;241m1\u001b[39m]))\n\u001b[0;32m      8\u001b[0m \u001b[38;5;28;01massert\u001b[39;00m \u001b[38;5;124m\"\u001b[39m\u001b[38;5;124mkeras.layers.pooling.average_pooling2d.AveragePooling2D\u001b[39m\u001b[38;5;124m\"\u001b[39m \u001b[38;5;129;01min\u001b[39;00m \u001b[38;5;28mstr\u001b[39m(\u001b[38;5;28mtype\u001b[39m(alpha\u001b[38;5;241m.\u001b[39mmodel\u001b[38;5;241m.\u001b[39mlayers[\u001b[38;5;241m2\u001b[39m]))\n",
            "\u001b[1;31mAssertionError\u001b[0m: "
          ]
        }
      ],
      "source": [
        "# Verify the Alpha architecture\n",
        "\n",
        "# Check if the number of layers remains unchanged\n",
        "assert len(alpha.model.layers) == 9\n",
        "# Check a number of layers in the Alpha network architecture\n",
        "assert \"keras.engine.input_layer.InputLayer\" in str(type(alpha.model.layers[0]))\n",
        "assert \"keras.layers.convolutional.conv2d.Conv2D\" in str(type(alpha.model.layers[1]))\n",
        "assert \"keras.layers.pooling.average_pooling2d.AveragePooling2D\" in str(type(alpha.model.layers[2]))\n",
        "assert \"class 'keras.layers.core.dense.Dense\" in str(type(alpha.model.layers[6]))\n",
        "# Check the activation function of the convolutional layer\n",
        "assert alpha.model.layers[1].activation(1.0).numpy() == 1.0\n",
        "assert alpha.model.layers[1].activation(-1.0).numpy() == 0.0"
      ]
    },
    {
      "cell_type": "code",
      "execution_count": 24,
      "id": "d71bac29-dfe6-4f2b-a779-feb24e331ea5",
      "metadata": {
        "id": "d71bac29-dfe6-4f2b-a779-feb24e331ea5",
        "nbgrader": {
          "grade": true,
          "grade_id": "cell-5d588f75c5a69f85",
          "locked": true,
          "points": 5,
          "schema_version": 3,
          "solution": false,
          "task": false
        },
        "tags": []
      },
      "outputs": [],
      "source": [
        "# Test with the hidden test\n"
      ]
    },
    {
      "cell_type": "code",
      "execution_count": 25,
      "id": "c4fdd3c2-3bc8-4561-a7a7-5782ece72ba5",
      "metadata": {
        "colab": {
          "base_uri": "https://localhost:8080/"
        },
        "id": "c4fdd3c2-3bc8-4561-a7a7-5782ece72ba5",
        "nbgrader": {
          "grade": false,
          "grade_id": "cell-bbc8a416556c71aa",
          "locked": true,
          "schema_version": 3,
          "solution": false,
          "task": false
        },
        "outputId": "43765718-e1a2-483c-d4ee-ccbad35da5e4",
        "tags": []
      },
      "outputs": [
        {
          "name": "stdout",
          "output_type": "stream",
          "text": [
            "Epoch 1/10\n",
            "\u001b[1m469/469\u001b[0m \u001b[32m━━━━━━━━━━━━━━━━━━━━\u001b[0m\u001b[37m\u001b[0m \u001b[1m4s\u001b[0m 6ms/step - accuracy: 0.8830 - loss: 0.3666\n",
            "Epoch 2/10\n",
            "\u001b[1m469/469\u001b[0m \u001b[32m━━━━━━━━━━━━━━━━━━━━\u001b[0m\u001b[37m\u001b[0m \u001b[1m3s\u001b[0m 6ms/step - accuracy: 0.9806 - loss: 0.0613\n",
            "Epoch 3/10\n",
            "\u001b[1m469/469\u001b[0m \u001b[32m━━━━━━━━━━━━━━━━━━━━\u001b[0m\u001b[37m\u001b[0m \u001b[1m3s\u001b[0m 6ms/step - accuracy: 0.9860 - loss: 0.0469\n",
            "Epoch 4/10\n",
            "\u001b[1m469/469\u001b[0m \u001b[32m━━━━━━━━━━━━━━━━━━━━\u001b[0m\u001b[37m\u001b[0m \u001b[1m3s\u001b[0m 6ms/step - accuracy: 0.9882 - loss: 0.0388\n",
            "Epoch 5/10\n",
            "\u001b[1m469/469\u001b[0m \u001b[32m━━━━━━━━━━━━━━━━━━━━\u001b[0m\u001b[37m\u001b[0m \u001b[1m3s\u001b[0m 6ms/step - accuracy: 0.9889 - loss: 0.0355\n",
            "Epoch 6/10\n",
            "\u001b[1m469/469\u001b[0m \u001b[32m━━━━━━━━━━━━━━━━━━━━\u001b[0m\u001b[37m\u001b[0m \u001b[1m3s\u001b[0m 6ms/step - accuracy: 0.9907 - loss: 0.0306\n",
            "Epoch 7/10\n",
            "\u001b[1m469/469\u001b[0m \u001b[32m━━━━━━━━━━━━━━━━━━━━\u001b[0m\u001b[37m\u001b[0m \u001b[1m3s\u001b[0m 6ms/step - accuracy: 0.9916 - loss: 0.0273\n",
            "Epoch 8/10\n",
            "\u001b[1m469/469\u001b[0m \u001b[32m━━━━━━━━━━━━━━━━━━━━\u001b[0m\u001b[37m\u001b[0m \u001b[1m3s\u001b[0m 6ms/step - accuracy: 0.9921 - loss: 0.0276\n",
            "Epoch 9/10\n",
            "\u001b[1m469/469\u001b[0m \u001b[32m━━━━━━━━━━━━━━━━━━━━\u001b[0m\u001b[37m\u001b[0m \u001b[1m3s\u001b[0m 6ms/step - accuracy: 0.9924 - loss: 0.0267\n",
            "Epoch 10/10\n",
            "\u001b[1m469/469\u001b[0m \u001b[32m━━━━━━━━━━━━━━━━━━━━\u001b[0m\u001b[37m\u001b[0m \u001b[1m3s\u001b[0m 6ms/step - accuracy: 0.9931 - loss: 0.0240\n"
          ]
        }
      ],
      "source": [
        "# After ensuring that your architecture is stable, what are you waiting for? Let's start training!\n",
        "alpha.train(x_train_norm, y_train_oh)"
      ]
    },
    {
      "cell_type": "code",
      "execution_count": 26,
      "id": "b033eb06-45b7-40cf-9cf5-0371c2b64217",
      "metadata": {
        "colab": {
          "base_uri": "https://localhost:8080/"
        },
        "id": "b033eb06-45b7-40cf-9cf5-0371c2b64217",
        "nbgrader": {
          "grade": false,
          "grade_id": "cell-bdbb24e5e8fe59f1",
          "locked": true,
          "schema_version": 3,
          "solution": false,
          "task": false
        },
        "outputId": "b8ca5ded-9dcd-4a17-fd9d-ed70e29d9c48",
        "tags": []
      },
      "outputs": [
        {
          "name": "stdout",
          "output_type": "stream",
          "text": [
            "\u001b[1m313/313\u001b[0m \u001b[32m━━━━━━━━━━━━━━━━━━━━\u001b[0m\u001b[37m\u001b[0m \u001b[1m1s\u001b[0m 2ms/step\n",
            "Current accuracy: 99.00000095367432\n"
          ]
        }
      ],
      "source": [
        "# Evaluate the model performance on the testing set\n",
        "alpha.predict_and_eval(x_test_norm, y_test)"
      ]
    },
    {
      "cell_type": "markdown",
      "id": "fd79ef31-9bea-4b46-83db-5a9339570b39",
      "metadata": {
        "id": "fd79ef31-9bea-4b46-83db-5a9339570b39",
        "nbgrader": {
          "grade": false,
          "grade_id": "cell-2f08b3408e361ba2",
          "locked": true,
          "schema_version": 3,
          "solution": false,
          "task": false
        },
        "tags": []
      },
      "source": [
        "Between the LeNet and Alpha versions, do you think there is a significant difference in `ACCURACY` on the test set between these two models?"
      ]
    },
    {
      "cell_type": "code",
      "execution_count": 28,
      "id": "3e3bc6f9-212e-4c5b-8258-ad83d6807800",
      "metadata": {
        "colab": {
          "base_uri": "https://localhost:8080/"
        },
        "id": "3e3bc6f9-212e-4c5b-8258-ad83d6807800",
        "nbgrader": {
          "grade": false,
          "grade_id": "cell-2e8de9f7c7e4f13b",
          "locked": false,
          "schema_version": 3,
          "solution": true,
          "task": false
        },
        "outputId": "80eef0dd-f301-4b10-9154-cb50bb5bf24f",
        "tags": []
      },
      "outputs": [
        {
          "name": "stdout",
          "output_type": "stream",
          "text": [
            "My option:  LeNet is worse than Alpha\n"
          ]
        }
      ],
      "source": [
        "options = ['No opinion', 'LeNet is better than Alpha', 'LeNet is worse than Alpha', 'LeNet has competitive results with Alpha (with a difference of less than 1%)']\n",
        "your_choice = None\n",
        "\n",
        "# Please select your_choice as 0, 1, 2, or 3 corresponding to the options above\n",
        "# YOUR CODE HERE\n",
        "your_choice =2\n",
        "print(\"My option: \", options[your_choice])"
      ]
    },
    {
      "cell_type": "code",
      "execution_count": null,
      "id": "04e8fe61-183d-4695-9cbb-4b912ff0ea8a",
      "metadata": {
        "id": "04e8fe61-183d-4695-9cbb-4b912ff0ea8a",
        "nbgrader": {
          "grade": true,
          "grade_id": "cell-e7a914c50f9b7526",
          "locked": true,
          "points": 5,
          "schema_version": 3,
          "solution": false,
          "task": false
        },
        "tags": []
      },
      "outputs": [],
      "source": [
        "# Test with the hidden test"
      ]
    },
    {
      "cell_type": "markdown",
      "id": "8d2617a7-ce29-4c51-945a-2cdd75f38589",
      "metadata": {
        "id": "8d2617a7-ce29-4c51-945a-2cdd75f38589",
        "nbgrader": {
          "grade": false,
          "grade_id": "cell-cfa7ba4c556964f7",
          "locked": true,
          "schema_version": 3,
          "solution": false,
          "task": false
        },
        "tags": []
      },
      "source": [
        "Based on the observed accuracy on the training set during the training process, in your opinion, which model demonstrates faster convergence speed (indicating a faster improvement in accuracy through each epoch)?"
      ]
    },
    {
      "cell_type": "code",
      "execution_count": 30,
      "id": "01d2df8f-c73f-44b6-ade3-472ed41c9cff",
      "metadata": {
        "colab": {
          "base_uri": "https://localhost:8080/"
        },
        "id": "01d2df8f-c73f-44b6-ade3-472ed41c9cff",
        "nbgrader": {
          "grade": false,
          "grade_id": "cell-b676fbf327be2a59",
          "locked": false,
          "schema_version": 3,
          "solution": true,
          "task": false
        },
        "outputId": "a47b1fd5-6b34-41e1-cdd4-4040637074ce",
        "tags": []
      },
      "outputs": [
        {
          "name": "stdout",
          "output_type": "stream",
          "text": [
            "My option:  LeNet converges slower than Alpha\n"
          ]
        }
      ],
      "source": [
        "options = ['No opinion', 'LeNet converges faster than Alpha', 'LeNet converges slower than Alpha',\n",
        "\t\t   'LeNet converges at a similar speed as Alpha, with a difference in accuracy of less than 5%']\n",
        "your_choice = None\n",
        "\n",
        "# Please select your_choice as 0, 1, 2, or 3 corresponding to the options above\n",
        "# YOUR CODE HERE\n",
        "your_choice = 2\n",
        "print(\"My option: \", options[your_choice])"
      ]
    },
    {
      "cell_type": "code",
      "execution_count": null,
      "id": "9a022032-6ff7-41e4-b0bc-52010373b791",
      "metadata": {
        "id": "9a022032-6ff7-41e4-b0bc-52010373b791",
        "nbgrader": {
          "grade": true,
          "grade_id": "cell-84164e0998185647",
          "locked": true,
          "points": 5,
          "schema_version": 3,
          "solution": false,
          "task": false
        },
        "tags": []
      },
      "outputs": [],
      "source": [
        "# Test with the hidden test\n"
      ]
    },
    {
      "cell_type": "markdown",
      "id": "c30583ea-c145-434d-a89d-fd45327deb6b",
      "metadata": {
        "id": "c30583ea-c145-434d-a89d-fd45327deb6b",
        "nbgrader": {
          "grade": false,
          "grade_id": "cell-54d39820be1b395e",
          "locked": true,
          "schema_version": 3,
          "solution": false,
          "task": false
        },
        "tags": []
      },
      "source": [
        "### 4.2. Beta Variant - Replace AveragePooling with MaxPooling\n",
        "Note that the Beta variant is further developed from the Alpha variant, so the configuration related to the activation function still uses ReLU."
      ]
    },
    {
      "cell_type": "code",
      "execution_count": 42,
      "id": "c8f23cca-010f-4c2a-a288-7ac58b5ecdce",
      "metadata": {
        "id": "c8f23cca-010f-4c2a-a288-7ac58b5ecdce",
        "nbgrader": {
          "grade": false,
          "grade_id": "cell-1f2f494eec2c0ad2",
          "locked": false,
          "schema_version": 3,
          "solution": true,
          "task": false
        },
        "tags": []
      },
      "outputs": [],
      "source": [
        "from keras.layers import MaxPooling2D\n",
        "\n",
        "class BetaCNN(LeNetCNN):\n",
        "\t# Define structure of the CNN\n",
        "\tdef build(self, input_dim):\n",
        "\t\tinput = Input(shape=input_dim)\n",
        "\t\tC1 = Conv2D(6, (3, 3), padding='same', activation='relu')(input)\n",
        "\t\tS1 = MaxPooling2D(pool_size=(2, 2), padding=\"same\")(C1)\n",
        "\t\tC3 = Conv2D(16, (3, 3), padding='same', activation='relu')(S1)\n",
        "\t\tS4 = MaxPooling2D(pool_size=(2, 2), padding=\"same\")(C3)\n",
        "\t\tflat = Flatten()(S4)\n",
        "\t\tF5 = Dense(120, activation='relu', use_bias=True)(flat)\n",
        "\t\tF6 = Dense(84, activation='relu', use_bias=True)(F5)\n",
        "\t\toutput = Dense(10, activation='softmax', use_bias=True)(F6)\n",
        "\t\tself.model = Model(input, output)\n"
      ]
    },
    {
      "cell_type": "code",
      "execution_count": 43,
      "id": "8425a11f-60c0-4f4b-a535-ee31d77568eb",
      "metadata": {
        "colab": {
          "base_uri": "https://localhost:8080/"
        },
        "id": "8425a11f-60c0-4f4b-a535-ee31d77568eb",
        "nbgrader": {
          "grade": false,
          "grade_id": "cell-bd91506665c2387b",
          "locked": true,
          "schema_version": 3,
          "solution": false,
          "task": false
        },
        "outputId": "0736467b-cd78-488d-a981-c3a319504aed",
        "tags": []
      },
      "outputs": [
        {
          "data": {
            "text/html": [
              "<pre style=\"white-space:pre;overflow-x:auto;line-height:normal;font-family:Menlo,'DejaVu Sans Mono',consolas,'Courier New',monospace\"><span style=\"font-weight: bold\">Model: \"functional_7\"</span>\n",
              "</pre>\n"
            ],
            "text/plain": [
              "\u001b[1mModel: \"functional_7\"\u001b[0m\n"
            ]
          },
          "metadata": {},
          "output_type": "display_data"
        },
        {
          "data": {
            "text/html": [
              "<pre style=\"white-space:pre;overflow-x:auto;line-height:normal;font-family:Menlo,'DejaVu Sans Mono',consolas,'Courier New',monospace\">┏━━━━━━━━━━━━━━━━━━━━━━━━━━━━━━━━━┳━━━━━━━━━━━━━━━━━━━━━━━━┳━━━━━━━━━━━━━━━┓\n",
              "┃<span style=\"font-weight: bold\"> Layer (type)                    </span>┃<span style=\"font-weight: bold\"> Output Shape           </span>┃<span style=\"font-weight: bold\">       Param # </span>┃\n",
              "┡━━━━━━━━━━━━━━━━━━━━━━━━━━━━━━━━━╇━━━━━━━━━━━━━━━━━━━━━━━━╇━━━━━━━━━━━━━━━┩\n",
              "│ input_layer_3 (<span style=\"color: #0087ff; text-decoration-color: #0087ff\">InputLayer</span>)      │ (<span style=\"color: #00d7ff; text-decoration-color: #00d7ff\">None</span>, <span style=\"color: #00af00; text-decoration-color: #00af00\">28</span>, <span style=\"color: #00af00; text-decoration-color: #00af00\">28</span>, <span style=\"color: #00af00; text-decoration-color: #00af00\">1</span>)      │             <span style=\"color: #00af00; text-decoration-color: #00af00\">0</span> │\n",
              "├─────────────────────────────────┼────────────────────────┼───────────────┤\n",
              "│ conv2d_6 (<span style=\"color: #0087ff; text-decoration-color: #0087ff\">Conv2D</span>)               │ (<span style=\"color: #00d7ff; text-decoration-color: #00d7ff\">None</span>, <span style=\"color: #00af00; text-decoration-color: #00af00\">28</span>, <span style=\"color: #00af00; text-decoration-color: #00af00\">28</span>, <span style=\"color: #00af00; text-decoration-color: #00af00\">6</span>)      │            <span style=\"color: #00af00; text-decoration-color: #00af00\">60</span> │\n",
              "├─────────────────────────────────┼────────────────────────┼───────────────┤\n",
              "│ max_pooling2d_2 (<span style=\"color: #0087ff; text-decoration-color: #0087ff\">MaxPooling2D</span>)  │ (<span style=\"color: #00d7ff; text-decoration-color: #00d7ff\">None</span>, <span style=\"color: #00af00; text-decoration-color: #00af00\">14</span>, <span style=\"color: #00af00; text-decoration-color: #00af00\">14</span>, <span style=\"color: #00af00; text-decoration-color: #00af00\">6</span>)      │             <span style=\"color: #00af00; text-decoration-color: #00af00\">0</span> │\n",
              "├─────────────────────────────────┼────────────────────────┼───────────────┤\n",
              "│ conv2d_7 (<span style=\"color: #0087ff; text-decoration-color: #0087ff\">Conv2D</span>)               │ (<span style=\"color: #00d7ff; text-decoration-color: #00d7ff\">None</span>, <span style=\"color: #00af00; text-decoration-color: #00af00\">14</span>, <span style=\"color: #00af00; text-decoration-color: #00af00\">14</span>, <span style=\"color: #00af00; text-decoration-color: #00af00\">16</span>)     │           <span style=\"color: #00af00; text-decoration-color: #00af00\">880</span> │\n",
              "├─────────────────────────────────┼────────────────────────┼───────────────┤\n",
              "│ max_pooling2d_3 (<span style=\"color: #0087ff; text-decoration-color: #0087ff\">MaxPooling2D</span>)  │ (<span style=\"color: #00d7ff; text-decoration-color: #00d7ff\">None</span>, <span style=\"color: #00af00; text-decoration-color: #00af00\">7</span>, <span style=\"color: #00af00; text-decoration-color: #00af00\">7</span>, <span style=\"color: #00af00; text-decoration-color: #00af00\">16</span>)       │             <span style=\"color: #00af00; text-decoration-color: #00af00\">0</span> │\n",
              "├─────────────────────────────────┼────────────────────────┼───────────────┤\n",
              "│ flatten_3 (<span style=\"color: #0087ff; text-decoration-color: #0087ff\">Flatten</span>)             │ (<span style=\"color: #00d7ff; text-decoration-color: #00d7ff\">None</span>, <span style=\"color: #00af00; text-decoration-color: #00af00\">784</span>)            │             <span style=\"color: #00af00; text-decoration-color: #00af00\">0</span> │\n",
              "├─────────────────────────────────┼────────────────────────┼───────────────┤\n",
              "│ dense_9 (<span style=\"color: #0087ff; text-decoration-color: #0087ff\">Dense</span>)                 │ (<span style=\"color: #00d7ff; text-decoration-color: #00d7ff\">None</span>, <span style=\"color: #00af00; text-decoration-color: #00af00\">120</span>)            │        <span style=\"color: #00af00; text-decoration-color: #00af00\">94,200</span> │\n",
              "├─────────────────────────────────┼────────────────────────┼───────────────┤\n",
              "│ dense_10 (<span style=\"color: #0087ff; text-decoration-color: #0087ff\">Dense</span>)                │ (<span style=\"color: #00d7ff; text-decoration-color: #00d7ff\">None</span>, <span style=\"color: #00af00; text-decoration-color: #00af00\">84</span>)             │        <span style=\"color: #00af00; text-decoration-color: #00af00\">10,164</span> │\n",
              "├─────────────────────────────────┼────────────────────────┼───────────────┤\n",
              "│ dense_11 (<span style=\"color: #0087ff; text-decoration-color: #0087ff\">Dense</span>)                │ (<span style=\"color: #00d7ff; text-decoration-color: #00d7ff\">None</span>, <span style=\"color: #00af00; text-decoration-color: #00af00\">10</span>)             │           <span style=\"color: #00af00; text-decoration-color: #00af00\">850</span> │\n",
              "└─────────────────────────────────┴────────────────────────┴───────────────┘\n",
              "</pre>\n"
            ],
            "text/plain": [
              "┏━━━━━━━━━━━━━━━━━━━━━━━━━━━━━━━━━┳━━━━━━━━━━━━━━━━━━━━━━━━┳━━━━━━━━━━━━━━━┓\n",
              "┃\u001b[1m \u001b[0m\u001b[1mLayer (type)                   \u001b[0m\u001b[1m \u001b[0m┃\u001b[1m \u001b[0m\u001b[1mOutput Shape          \u001b[0m\u001b[1m \u001b[0m┃\u001b[1m \u001b[0m\u001b[1m      Param #\u001b[0m\u001b[1m \u001b[0m┃\n",
              "┡━━━━━━━━━━━━━━━━━━━━━━━━━━━━━━━━━╇━━━━━━━━━━━━━━━━━━━━━━━━╇━━━━━━━━━━━━━━━┩\n",
              "│ input_layer_3 (\u001b[38;5;33mInputLayer\u001b[0m)      │ (\u001b[38;5;45mNone\u001b[0m, \u001b[38;5;34m28\u001b[0m, \u001b[38;5;34m28\u001b[0m, \u001b[38;5;34m1\u001b[0m)      │             \u001b[38;5;34m0\u001b[0m │\n",
              "├─────────────────────────────────┼────────────────────────┼───────────────┤\n",
              "│ conv2d_6 (\u001b[38;5;33mConv2D\u001b[0m)               │ (\u001b[38;5;45mNone\u001b[0m, \u001b[38;5;34m28\u001b[0m, \u001b[38;5;34m28\u001b[0m, \u001b[38;5;34m6\u001b[0m)      │            \u001b[38;5;34m60\u001b[0m │\n",
              "├─────────────────────────────────┼────────────────────────┼───────────────┤\n",
              "│ max_pooling2d_2 (\u001b[38;5;33mMaxPooling2D\u001b[0m)  │ (\u001b[38;5;45mNone\u001b[0m, \u001b[38;5;34m14\u001b[0m, \u001b[38;5;34m14\u001b[0m, \u001b[38;5;34m6\u001b[0m)      │             \u001b[38;5;34m0\u001b[0m │\n",
              "├─────────────────────────────────┼────────────────────────┼───────────────┤\n",
              "│ conv2d_7 (\u001b[38;5;33mConv2D\u001b[0m)               │ (\u001b[38;5;45mNone\u001b[0m, \u001b[38;5;34m14\u001b[0m, \u001b[38;5;34m14\u001b[0m, \u001b[38;5;34m16\u001b[0m)     │           \u001b[38;5;34m880\u001b[0m │\n",
              "├─────────────────────────────────┼────────────────────────┼───────────────┤\n",
              "│ max_pooling2d_3 (\u001b[38;5;33mMaxPooling2D\u001b[0m)  │ (\u001b[38;5;45mNone\u001b[0m, \u001b[38;5;34m7\u001b[0m, \u001b[38;5;34m7\u001b[0m, \u001b[38;5;34m16\u001b[0m)       │             \u001b[38;5;34m0\u001b[0m │\n",
              "├─────────────────────────────────┼────────────────────────┼───────────────┤\n",
              "│ flatten_3 (\u001b[38;5;33mFlatten\u001b[0m)             │ (\u001b[38;5;45mNone\u001b[0m, \u001b[38;5;34m784\u001b[0m)            │             \u001b[38;5;34m0\u001b[0m │\n",
              "├─────────────────────────────────┼────────────────────────┼───────────────┤\n",
              "│ dense_9 (\u001b[38;5;33mDense\u001b[0m)                 │ (\u001b[38;5;45mNone\u001b[0m, \u001b[38;5;34m120\u001b[0m)            │        \u001b[38;5;34m94,200\u001b[0m │\n",
              "├─────────────────────────────────┼────────────────────────┼───────────────┤\n",
              "│ dense_10 (\u001b[38;5;33mDense\u001b[0m)                │ (\u001b[38;5;45mNone\u001b[0m, \u001b[38;5;34m84\u001b[0m)             │        \u001b[38;5;34m10,164\u001b[0m │\n",
              "├─────────────────────────────────┼────────────────────────┼───────────────┤\n",
              "│ dense_11 (\u001b[38;5;33mDense\u001b[0m)                │ (\u001b[38;5;45mNone\u001b[0m, \u001b[38;5;34m10\u001b[0m)             │           \u001b[38;5;34m850\u001b[0m │\n",
              "└─────────────────────────────────┴────────────────────────┴───────────────┘\n"
            ]
          },
          "metadata": {},
          "output_type": "display_data"
        },
        {
          "data": {
            "text/html": [
              "<pre style=\"white-space:pre;overflow-x:auto;line-height:normal;font-family:Menlo,'DejaVu Sans Mono',consolas,'Courier New',monospace\"><span style=\"font-weight: bold\"> Total params: </span><span style=\"color: #00af00; text-decoration-color: #00af00\">106,154</span> (414.66 KB)\n",
              "</pre>\n"
            ],
            "text/plain": [
              "\u001b[1m Total params: \u001b[0m\u001b[38;5;34m106,154\u001b[0m (414.66 KB)\n"
            ]
          },
          "metadata": {},
          "output_type": "display_data"
        },
        {
          "data": {
            "text/html": [
              "<pre style=\"white-space:pre;overflow-x:auto;line-height:normal;font-family:Menlo,'DejaVu Sans Mono',consolas,'Courier New',monospace\"><span style=\"font-weight: bold\"> Trainable params: </span><span style=\"color: #00af00; text-decoration-color: #00af00\">106,154</span> (414.66 KB)\n",
              "</pre>\n"
            ],
            "text/plain": [
              "\u001b[1m Trainable params: \u001b[0m\u001b[38;5;34m106,154\u001b[0m (414.66 KB)\n"
            ]
          },
          "metadata": {},
          "output_type": "display_data"
        },
        {
          "data": {
            "text/html": [
              "<pre style=\"white-space:pre;overflow-x:auto;line-height:normal;font-family:Menlo,'DejaVu Sans Mono',consolas,'Courier New',monospace\"><span style=\"font-weight: bold\"> Non-trainable params: </span><span style=\"color: #00af00; text-decoration-color: #00af00\">0</span> (0.00 B)\n",
              "</pre>\n"
            ],
            "text/plain": [
              "\u001b[1m Non-trainable params: \u001b[0m\u001b[38;5;34m0\u001b[0m (0.00 B)\n"
            ]
          },
          "metadata": {},
          "output_type": "display_data"
        }
      ],
      "source": [
        "# Set the random seed\n",
        "fix_random_seed()\n",
        "\n",
        "# Initialize the Beta architecture\n",
        "beta = BetaCNN()\n",
        "# Build the Beta architecture with the input shape is 28x28x1\n",
        "beta.build((28, 28, 1))\n",
        "beta.summary()"
      ]
    },
    {
      "cell_type": "code",
      "execution_count": 44,
      "id": "9e2ebe03-0c1f-4017-9104-f0322a617167",
      "metadata": {
        "id": "9e2ebe03-0c1f-4017-9104-f0322a617167",
        "nbgrader": {
          "grade": true,
          "grade_id": "cell-c3ba13f1868a0d82",
          "locked": true,
          "points": 5,
          "schema_version": 3,
          "solution": false,
          "task": false
        },
        "tags": []
      },
      "outputs": [
        {
          "ename": "AssertionError",
          "evalue": "",
          "output_type": "error",
          "traceback": [
            "\u001b[1;31m---------------------------------------------------------------------------\u001b[0m",
            "\u001b[1;31mAssertionError\u001b[0m                            Traceback (most recent call last)",
            "Cell \u001b[1;32mIn[44], line 6\u001b[0m\n\u001b[0;32m      4\u001b[0m \u001b[38;5;28;01massert\u001b[39;00m \u001b[38;5;28mlen\u001b[39m(beta\u001b[38;5;241m.\u001b[39mmodel\u001b[38;5;241m.\u001b[39mlayers) \u001b[38;5;241m==\u001b[39m \u001b[38;5;241m9\u001b[39m\n\u001b[0;32m      5\u001b[0m \u001b[38;5;66;03m# Check a number of layers in the Beta network architecture\u001b[39;00m\n\u001b[1;32m----> 6\u001b[0m \u001b[38;5;28;01massert\u001b[39;00m \u001b[38;5;124m\"\u001b[39m\u001b[38;5;124mkeras.engine.input_layer.InputLayer\u001b[39m\u001b[38;5;124m\"\u001b[39m \u001b[38;5;129;01min\u001b[39;00m \u001b[38;5;28mstr\u001b[39m(\u001b[38;5;28mtype\u001b[39m(beta\u001b[38;5;241m.\u001b[39mmodel\u001b[38;5;241m.\u001b[39mlayers[\u001b[38;5;241m0\u001b[39m]))\n\u001b[0;32m      7\u001b[0m \u001b[38;5;28;01massert\u001b[39;00m \u001b[38;5;124m\"\u001b[39m\u001b[38;5;124mkeras.layers.convolutional.conv2d.Conv2D\u001b[39m\u001b[38;5;124m\"\u001b[39m \u001b[38;5;129;01min\u001b[39;00m \u001b[38;5;28mstr\u001b[39m(\u001b[38;5;28mtype\u001b[39m(beta\u001b[38;5;241m.\u001b[39mmodel\u001b[38;5;241m.\u001b[39mlayers[\u001b[38;5;241m1\u001b[39m]))\n\u001b[0;32m      8\u001b[0m \u001b[38;5;28;01massert\u001b[39;00m \u001b[38;5;124m\"\u001b[39m\u001b[38;5;124mkeras.layers.pooling.max_pooling2d.MaxPooling2D\u001b[39m\u001b[38;5;124m\"\u001b[39m \u001b[38;5;129;01min\u001b[39;00m \u001b[38;5;28mstr\u001b[39m(\u001b[38;5;28mtype\u001b[39m(beta\u001b[38;5;241m.\u001b[39mmodel\u001b[38;5;241m.\u001b[39mlayers[\u001b[38;5;241m2\u001b[39m]))\n",
            "\u001b[1;31mAssertionError\u001b[0m: "
          ]
        }
      ],
      "source": [
        "# Verify the Alpha architecture\n",
        "\n",
        "# Check if the number of layers remains unchanged\n",
        "assert len(beta.model.layers) == 9\n",
        "# Check a number of layers in the Beta network architecture\n",
        "assert \"keras.engine.input_layer.InputLayer\" in str(type(beta.model.layers[0]))\n",
        "assert \"keras.layers.convolutional.conv2d.Conv2D\" in str(type(beta.model.layers[1]))\n",
        "assert \"keras.layers.pooling.max_pooling2d.MaxPooling2D\" in str(type(beta.model.layers[2]))\n",
        "assert \"keras.layers.core.dense.Dense\" in str(type(beta.model.layers[6]))\n",
        "# Check the activation function of the convolutional layer\n",
        "assert beta.model.layers[1].activation(1.0).numpy() == 1.0\n",
        "assert beta.model.layers[1].activation(-1.0).numpy() == 0.0"
      ]
    },
    {
      "cell_type": "code",
      "execution_count": null,
      "id": "bc732dd5-af4c-45a4-acbb-731a6668af28",
      "metadata": {
        "id": "bc732dd5-af4c-45a4-acbb-731a6668af28",
        "nbgrader": {
          "grade": true,
          "grade_id": "cell-c26d59f5ae15b06d",
          "locked": true,
          "points": 5,
          "schema_version": 3,
          "solution": false,
          "task": false
        },
        "tags": []
      },
      "outputs": [],
      "source": [
        "# Test with the hidden test"
      ]
    },
    {
      "cell_type": "code",
      "execution_count": 45,
      "id": "cabf587a-dd0e-473a-97df-fdde6a62e42b",
      "metadata": {
        "colab": {
          "base_uri": "https://localhost:8080/"
        },
        "id": "cabf587a-dd0e-473a-97df-fdde6a62e42b",
        "nbgrader": {
          "grade": false,
          "grade_id": "cell-2e4e82ce5f59e366",
          "locked": true,
          "schema_version": 3,
          "solution": false,
          "task": false
        },
        "outputId": "26ae7873-05d4-42e2-9819-5b970307bc37",
        "tags": []
      },
      "outputs": [
        {
          "name": "stdout",
          "output_type": "stream",
          "text": [
            "Epoch 1/10\n",
            "\u001b[1m469/469\u001b[0m \u001b[32m━━━━━━━━━━━━━━━━━━━━\u001b[0m\u001b[37m\u001b[0m \u001b[1m4s\u001b[0m 6ms/step - accuracy: 0.8901 - loss: 0.3364\n",
            "Epoch 2/10\n",
            "\u001b[1m469/469\u001b[0m \u001b[32m━━━━━━━━━━━━━━━━━━━━\u001b[0m\u001b[37m\u001b[0m \u001b[1m3s\u001b[0m 6ms/step - accuracy: 0.9801 - loss: 0.0680\n",
            "Epoch 3/10\n",
            "\u001b[1m469/469\u001b[0m \u001b[32m━━━━━━━━━━━━━━━━━━━━\u001b[0m\u001b[37m\u001b[0m \u001b[1m3s\u001b[0m 6ms/step - accuracy: 0.9844 - loss: 0.0545\n",
            "Epoch 4/10\n",
            "\u001b[1m469/469\u001b[0m \u001b[32m━━━━━━━━━━━━━━━━━━━━\u001b[0m\u001b[37m\u001b[0m \u001b[1m2s\u001b[0m 5ms/step - accuracy: 0.9849 - loss: 0.0522\n",
            "Epoch 5/10\n",
            "\u001b[1m469/469\u001b[0m \u001b[32m━━━━━━━━━━━━━━━━━━━━\u001b[0m\u001b[37m\u001b[0m \u001b[1m3s\u001b[0m 6ms/step - accuracy: 0.9875 - loss: 0.0438\n",
            "Epoch 6/10\n",
            "\u001b[1m469/469\u001b[0m \u001b[32m━━━━━━━━━━━━━━━━━━━━\u001b[0m\u001b[37m\u001b[0m \u001b[1m3s\u001b[0m 6ms/step - accuracy: 0.9868 - loss: 0.0444\n",
            "Epoch 7/10\n",
            "\u001b[1m469/469\u001b[0m \u001b[32m━━━━━━━━━━━━━━━━━━━━\u001b[0m\u001b[37m\u001b[0m \u001b[1m3s\u001b[0m 6ms/step - accuracy: 0.9899 - loss: 0.0378\n",
            "Epoch 8/10\n",
            "\u001b[1m469/469\u001b[0m \u001b[32m━━━━━━━━━━━━━━━━━━━━\u001b[0m\u001b[37m\u001b[0m \u001b[1m3s\u001b[0m 6ms/step - accuracy: 0.9903 - loss: 0.0338\n",
            "Epoch 9/10\n",
            "\u001b[1m469/469\u001b[0m \u001b[32m━━━━━━━━━━━━━━━━━━━━\u001b[0m\u001b[37m\u001b[0m \u001b[1m3s\u001b[0m 6ms/step - accuracy: 0.9891 - loss: 0.0397\n",
            "Epoch 10/10\n",
            "\u001b[1m469/469\u001b[0m \u001b[32m━━━━━━━━━━━━━━━━━━━━\u001b[0m\u001b[37m\u001b[0m \u001b[1m3s\u001b[0m 5ms/step - accuracy: 0.9900 - loss: 0.0381\n"
          ]
        }
      ],
      "source": [
        "# Let's start training!\n",
        "beta.train(x_train_norm, y_train_oh)"
      ]
    },
    {
      "cell_type": "code",
      "execution_count": 40,
      "id": "45711bee-67fc-4775-927b-37d08e13b422",
      "metadata": {
        "colab": {
          "base_uri": "https://localhost:8080/"
        },
        "id": "45711bee-67fc-4775-927b-37d08e13b422",
        "nbgrader": {
          "grade": false,
          "grade_id": "cell-7d74d6c35f41b377",
          "locked": true,
          "schema_version": 3,
          "solution": false,
          "task": false
        },
        "outputId": "3307e56b-cc61-4468-9889-8fc71ec631f8",
        "tags": []
      },
      "outputs": [
        {
          "name": "stdout",
          "output_type": "stream",
          "text": [
            "\u001b[1m313/313\u001b[0m \u001b[32m━━━━━━━━━━━━━━━━━━━━\u001b[0m\u001b[37m\u001b[0m \u001b[1m1s\u001b[0m 2ms/step\n",
            "Current accuracy: 98.36999773979187\n"
          ]
        }
      ],
      "source": [
        "# Evaluate the model performance on the testing set\n",
        "beta.predict_and_eval(x_test_norm, y_test)"
      ]
    },
    {
      "cell_type": "markdown",
      "id": "834a7d42-a020-4147-8daa-68a7f67992fc",
      "metadata": {
        "id": "834a7d42-a020-4147-8daa-68a7f67992fc",
        "nbgrader": {
          "grade": false,
          "grade_id": "cell-a5dbd567133a56ee",
          "locked": true,
          "schema_version": 3,
          "solution": false,
          "task": false
        },
        "tags": []
      },
      "source": [
        "According to you, do you see any significant changes between the Alpha and Beta versions?"
      ]
    },
    {
      "cell_type": "code",
      "execution_count": 46,
      "id": "05099664-4af6-4569-8e38-a9c318ed822e",
      "metadata": {
        "colab": {
          "base_uri": "https://localhost:8080/"
        },
        "id": "05099664-4af6-4569-8e38-a9c318ed822e",
        "nbgrader": {
          "grade": false,
          "grade_id": "cell-1f5d9a2a3ee03410",
          "locked": false,
          "schema_version": 3,
          "solution": true,
          "task": false
        },
        "outputId": "782bfee3-8968-4a7d-edf9-5e41164937f3",
        "tags": []
      },
      "outputs": [
        {
          "name": "stdout",
          "output_type": "stream",
          "text": [
            "My option:  Alpha has competitive results with Beta (with a difference of less than 1%)\n"
          ]
        }
      ],
      "source": [
        "options = ['No opinion', 'Alpha is better than Beta', 'Alpha is worse than Beta', 'Alpha has competitive results with Beta (with a difference of less than 1%)']\n",
        "your_choice = 3\n",
        "\n",
        "# Please select your_choice as 0, 1, 2, or 3 corresponding to the options above\n",
        "# YOUR CODE HERE\n",
        "\n",
        "print(\"My option: \", options[your_choice])"
      ]
    },
    {
      "cell_type": "code",
      "execution_count": null,
      "id": "e793d400-6534-4ebd-872f-4503b17c50ea",
      "metadata": {
        "id": "e793d400-6534-4ebd-872f-4503b17c50ea",
        "nbgrader": {
          "grade": true,
          "grade_id": "cell-2150db242655b6a5",
          "locked": true,
          "points": 5,
          "schema_version": 3,
          "solution": false,
          "task": false
        },
        "tags": []
      },
      "outputs": [],
      "source": [
        "#  Test with the hidden test"
      ]
    },
    {
      "cell_type": "markdown",
      "id": "a9df8c5b-9535-4936-91c9-1725730cef94",
      "metadata": {
        "id": "a9df8c5b-9535-4936-91c9-1725730cef94",
        "nbgrader": {
          "grade": false,
          "grade_id": "cell-3a1de1be4efbb3de",
          "locked": true,
          "schema_version": 3,
          "solution": false,
          "task": false
        },
        "tags": []
      },
      "source": [
        "So, at this stage, you have successfully implemented the LeNet model in a modern approach, also known as the 2020 version of LeNet.\n",
        "\n",
        "But let's not stop there; we will now try some more daring variations."
      ]
    },
    {
      "cell_type": "markdown",
      "id": "9635f78c-93be-4399-939b-52f2d8d8257c",
      "metadata": {
        "id": "9635f78c-93be-4399-939b-52f2d8d8257c",
        "nbgrader": {
          "grade": false,
          "grade_id": "cell-bafdc603bfb88d1f",
          "locked": true,
          "schema_version": 3,
          "solution": false,
          "task": false
        },
        "tags": []
      },
      "source": [
        "### 4.3 Gamma Variation - Removing all activation functions in the Beta variation\n",
        "The Gamma variation is introduced due to the suspicion that activation functions are not truly beneficial in CNN network architectures. Please proceed with the implementation and evaluation of this hypothesis to determine its validity."
      ]
    },
    {
      "cell_type": "code",
      "execution_count": 48,
      "id": "214c9246-3610-41bd-8317-f01b1cf2dd48",
      "metadata": {
        "id": "214c9246-3610-41bd-8317-f01b1cf2dd48",
        "nbgrader": {
          "grade": false,
          "grade_id": "cell-2a3cf75dca1f3dc5",
          "locked": false,
          "schema_version": 3,
          "solution": true,
          "task": false
        },
        "tags": []
      },
      "outputs": [],
      "source": [
        "class GammaCNN(LeNetCNN):\n",
        "  # Define structure of the CNN\n",
        "  def build(self, input_dim):\n",
        "    input = Input(shape=input_dim)\n",
        "    C1 = Conv2D(6, (3, 3), padding='same')(input)\n",
        "    S1 = MaxPooling2D(pool_size=(2, 2), padding=\"same\")(C1)\n",
        "    C3 = Conv2D(16, (3, 3), padding='same')(S1)\n",
        "    S4 = MaxPooling2D(pool_size=(2, 2), padding=\"same\")(C3)\n",
        "    flat = Flatten()(S4)\n",
        "    F5 = Dense(120, use_bias=True)(flat)\n",
        "    F6 = Dense(84, use_bias=True)(F5)\n",
        "    output = Dense(10, use_bias=True)(F6)\n",
        "    self.model = Model(input, output)\n"
      ]
    },
    {
      "cell_type": "code",
      "execution_count": 49,
      "id": "7c73560b-d6ca-4df7-8a8f-5d6b7e6d510b",
      "metadata": {
        "colab": {
          "base_uri": "https://localhost:8080/"
        },
        "id": "7c73560b-d6ca-4df7-8a8f-5d6b7e6d510b",
        "nbgrader": {
          "grade": false,
          "grade_id": "cell-708799ec6d4c03b9",
          "locked": true,
          "schema_version": 3,
          "solution": false,
          "task": false
        },
        "outputId": "fad841ad-f02c-449b-a899-79767adc85cf",
        "tags": []
      },
      "outputs": [
        {
          "data": {
            "text/html": [
              "<pre style=\"white-space:pre;overflow-x:auto;line-height:normal;font-family:Menlo,'DejaVu Sans Mono',consolas,'Courier New',monospace\"><span style=\"font-weight: bold\">Model: \"functional_9\"</span>\n",
              "</pre>\n"
            ],
            "text/plain": [
              "\u001b[1mModel: \"functional_9\"\u001b[0m\n"
            ]
          },
          "metadata": {},
          "output_type": "display_data"
        },
        {
          "data": {
            "text/html": [
              "<pre style=\"white-space:pre;overflow-x:auto;line-height:normal;font-family:Menlo,'DejaVu Sans Mono',consolas,'Courier New',monospace\">┏━━━━━━━━━━━━━━━━━━━━━━━━━━━━━━━━━┳━━━━━━━━━━━━━━━━━━━━━━━━┳━━━━━━━━━━━━━━━┓\n",
              "┃<span style=\"font-weight: bold\"> Layer (type)                    </span>┃<span style=\"font-weight: bold\"> Output Shape           </span>┃<span style=\"font-weight: bold\">       Param # </span>┃\n",
              "┡━━━━━━━━━━━━━━━━━━━━━━━━━━━━━━━━━╇━━━━━━━━━━━━━━━━━━━━━━━━╇━━━━━━━━━━━━━━━┩\n",
              "│ input_layer_4 (<span style=\"color: #0087ff; text-decoration-color: #0087ff\">InputLayer</span>)      │ (<span style=\"color: #00d7ff; text-decoration-color: #00d7ff\">None</span>, <span style=\"color: #00af00; text-decoration-color: #00af00\">28</span>, <span style=\"color: #00af00; text-decoration-color: #00af00\">28</span>, <span style=\"color: #00af00; text-decoration-color: #00af00\">1</span>)      │             <span style=\"color: #00af00; text-decoration-color: #00af00\">0</span> │\n",
              "├─────────────────────────────────┼────────────────────────┼───────────────┤\n",
              "│ conv2d_8 (<span style=\"color: #0087ff; text-decoration-color: #0087ff\">Conv2D</span>)               │ (<span style=\"color: #00d7ff; text-decoration-color: #00d7ff\">None</span>, <span style=\"color: #00af00; text-decoration-color: #00af00\">28</span>, <span style=\"color: #00af00; text-decoration-color: #00af00\">28</span>, <span style=\"color: #00af00; text-decoration-color: #00af00\">6</span>)      │            <span style=\"color: #00af00; text-decoration-color: #00af00\">60</span> │\n",
              "├─────────────────────────────────┼────────────────────────┼───────────────┤\n",
              "│ max_pooling2d_4 (<span style=\"color: #0087ff; text-decoration-color: #0087ff\">MaxPooling2D</span>)  │ (<span style=\"color: #00d7ff; text-decoration-color: #00d7ff\">None</span>, <span style=\"color: #00af00; text-decoration-color: #00af00\">14</span>, <span style=\"color: #00af00; text-decoration-color: #00af00\">14</span>, <span style=\"color: #00af00; text-decoration-color: #00af00\">6</span>)      │             <span style=\"color: #00af00; text-decoration-color: #00af00\">0</span> │\n",
              "├─────────────────────────────────┼────────────────────────┼───────────────┤\n",
              "│ conv2d_9 (<span style=\"color: #0087ff; text-decoration-color: #0087ff\">Conv2D</span>)               │ (<span style=\"color: #00d7ff; text-decoration-color: #00d7ff\">None</span>, <span style=\"color: #00af00; text-decoration-color: #00af00\">14</span>, <span style=\"color: #00af00; text-decoration-color: #00af00\">14</span>, <span style=\"color: #00af00; text-decoration-color: #00af00\">16</span>)     │           <span style=\"color: #00af00; text-decoration-color: #00af00\">880</span> │\n",
              "├─────────────────────────────────┼────────────────────────┼───────────────┤\n",
              "│ max_pooling2d_5 (<span style=\"color: #0087ff; text-decoration-color: #0087ff\">MaxPooling2D</span>)  │ (<span style=\"color: #00d7ff; text-decoration-color: #00d7ff\">None</span>, <span style=\"color: #00af00; text-decoration-color: #00af00\">7</span>, <span style=\"color: #00af00; text-decoration-color: #00af00\">7</span>, <span style=\"color: #00af00; text-decoration-color: #00af00\">16</span>)       │             <span style=\"color: #00af00; text-decoration-color: #00af00\">0</span> │\n",
              "├─────────────────────────────────┼────────────────────────┼───────────────┤\n",
              "│ flatten_4 (<span style=\"color: #0087ff; text-decoration-color: #0087ff\">Flatten</span>)             │ (<span style=\"color: #00d7ff; text-decoration-color: #00d7ff\">None</span>, <span style=\"color: #00af00; text-decoration-color: #00af00\">784</span>)            │             <span style=\"color: #00af00; text-decoration-color: #00af00\">0</span> │\n",
              "├─────────────────────────────────┼────────────────────────┼───────────────┤\n",
              "│ dense_12 (<span style=\"color: #0087ff; text-decoration-color: #0087ff\">Dense</span>)                │ (<span style=\"color: #00d7ff; text-decoration-color: #00d7ff\">None</span>, <span style=\"color: #00af00; text-decoration-color: #00af00\">120</span>)            │        <span style=\"color: #00af00; text-decoration-color: #00af00\">94,200</span> │\n",
              "├─────────────────────────────────┼────────────────────────┼───────────────┤\n",
              "│ dense_13 (<span style=\"color: #0087ff; text-decoration-color: #0087ff\">Dense</span>)                │ (<span style=\"color: #00d7ff; text-decoration-color: #00d7ff\">None</span>, <span style=\"color: #00af00; text-decoration-color: #00af00\">84</span>)             │        <span style=\"color: #00af00; text-decoration-color: #00af00\">10,164</span> │\n",
              "├─────────────────────────────────┼────────────────────────┼───────────────┤\n",
              "│ dense_14 (<span style=\"color: #0087ff; text-decoration-color: #0087ff\">Dense</span>)                │ (<span style=\"color: #00d7ff; text-decoration-color: #00d7ff\">None</span>, <span style=\"color: #00af00; text-decoration-color: #00af00\">10</span>)             │           <span style=\"color: #00af00; text-decoration-color: #00af00\">850</span> │\n",
              "└─────────────────────────────────┴────────────────────────┴───────────────┘\n",
              "</pre>\n"
            ],
            "text/plain": [
              "┏━━━━━━━━━━━━━━━━━━━━━━━━━━━━━━━━━┳━━━━━━━━━━━━━━━━━━━━━━━━┳━━━━━━━━━━━━━━━┓\n",
              "┃\u001b[1m \u001b[0m\u001b[1mLayer (type)                   \u001b[0m\u001b[1m \u001b[0m┃\u001b[1m \u001b[0m\u001b[1mOutput Shape          \u001b[0m\u001b[1m \u001b[0m┃\u001b[1m \u001b[0m\u001b[1m      Param #\u001b[0m\u001b[1m \u001b[0m┃\n",
              "┡━━━━━━━━━━━━━━━━━━━━━━━━━━━━━━━━━╇━━━━━━━━━━━━━━━━━━━━━━━━╇━━━━━━━━━━━━━━━┩\n",
              "│ input_layer_4 (\u001b[38;5;33mInputLayer\u001b[0m)      │ (\u001b[38;5;45mNone\u001b[0m, \u001b[38;5;34m28\u001b[0m, \u001b[38;5;34m28\u001b[0m, \u001b[38;5;34m1\u001b[0m)      │             \u001b[38;5;34m0\u001b[0m │\n",
              "├─────────────────────────────────┼────────────────────────┼───────────────┤\n",
              "│ conv2d_8 (\u001b[38;5;33mConv2D\u001b[0m)               │ (\u001b[38;5;45mNone\u001b[0m, \u001b[38;5;34m28\u001b[0m, \u001b[38;5;34m28\u001b[0m, \u001b[38;5;34m6\u001b[0m)      │            \u001b[38;5;34m60\u001b[0m │\n",
              "├─────────────────────────────────┼────────────────────────┼───────────────┤\n",
              "│ max_pooling2d_4 (\u001b[38;5;33mMaxPooling2D\u001b[0m)  │ (\u001b[38;5;45mNone\u001b[0m, \u001b[38;5;34m14\u001b[0m, \u001b[38;5;34m14\u001b[0m, \u001b[38;5;34m6\u001b[0m)      │             \u001b[38;5;34m0\u001b[0m │\n",
              "├─────────────────────────────────┼────────────────────────┼───────────────┤\n",
              "│ conv2d_9 (\u001b[38;5;33mConv2D\u001b[0m)               │ (\u001b[38;5;45mNone\u001b[0m, \u001b[38;5;34m14\u001b[0m, \u001b[38;5;34m14\u001b[0m, \u001b[38;5;34m16\u001b[0m)     │           \u001b[38;5;34m880\u001b[0m │\n",
              "├─────────────────────────────────┼────────────────────────┼───────────────┤\n",
              "│ max_pooling2d_5 (\u001b[38;5;33mMaxPooling2D\u001b[0m)  │ (\u001b[38;5;45mNone\u001b[0m, \u001b[38;5;34m7\u001b[0m, \u001b[38;5;34m7\u001b[0m, \u001b[38;5;34m16\u001b[0m)       │             \u001b[38;5;34m0\u001b[0m │\n",
              "├─────────────────────────────────┼────────────────────────┼───────────────┤\n",
              "│ flatten_4 (\u001b[38;5;33mFlatten\u001b[0m)             │ (\u001b[38;5;45mNone\u001b[0m, \u001b[38;5;34m784\u001b[0m)            │             \u001b[38;5;34m0\u001b[0m │\n",
              "├─────────────────────────────────┼────────────────────────┼───────────────┤\n",
              "│ dense_12 (\u001b[38;5;33mDense\u001b[0m)                │ (\u001b[38;5;45mNone\u001b[0m, \u001b[38;5;34m120\u001b[0m)            │        \u001b[38;5;34m94,200\u001b[0m │\n",
              "├─────────────────────────────────┼────────────────────────┼───────────────┤\n",
              "│ dense_13 (\u001b[38;5;33mDense\u001b[0m)                │ (\u001b[38;5;45mNone\u001b[0m, \u001b[38;5;34m84\u001b[0m)             │        \u001b[38;5;34m10,164\u001b[0m │\n",
              "├─────────────────────────────────┼────────────────────────┼───────────────┤\n",
              "│ dense_14 (\u001b[38;5;33mDense\u001b[0m)                │ (\u001b[38;5;45mNone\u001b[0m, \u001b[38;5;34m10\u001b[0m)             │           \u001b[38;5;34m850\u001b[0m │\n",
              "└─────────────────────────────────┴────────────────────────┴───────────────┘\n"
            ]
          },
          "metadata": {},
          "output_type": "display_data"
        },
        {
          "data": {
            "text/html": [
              "<pre style=\"white-space:pre;overflow-x:auto;line-height:normal;font-family:Menlo,'DejaVu Sans Mono',consolas,'Courier New',monospace\"><span style=\"font-weight: bold\"> Total params: </span><span style=\"color: #00af00; text-decoration-color: #00af00\">106,154</span> (414.66 KB)\n",
              "</pre>\n"
            ],
            "text/plain": [
              "\u001b[1m Total params: \u001b[0m\u001b[38;5;34m106,154\u001b[0m (414.66 KB)\n"
            ]
          },
          "metadata": {},
          "output_type": "display_data"
        },
        {
          "data": {
            "text/html": [
              "<pre style=\"white-space:pre;overflow-x:auto;line-height:normal;font-family:Menlo,'DejaVu Sans Mono',consolas,'Courier New',monospace\"><span style=\"font-weight: bold\"> Trainable params: </span><span style=\"color: #00af00; text-decoration-color: #00af00\">106,154</span> (414.66 KB)\n",
              "</pre>\n"
            ],
            "text/plain": [
              "\u001b[1m Trainable params: \u001b[0m\u001b[38;5;34m106,154\u001b[0m (414.66 KB)\n"
            ]
          },
          "metadata": {},
          "output_type": "display_data"
        },
        {
          "data": {
            "text/html": [
              "<pre style=\"white-space:pre;overflow-x:auto;line-height:normal;font-family:Menlo,'DejaVu Sans Mono',consolas,'Courier New',monospace\"><span style=\"font-weight: bold\"> Non-trainable params: </span><span style=\"color: #00af00; text-decoration-color: #00af00\">0</span> (0.00 B)\n",
              "</pre>\n"
            ],
            "text/plain": [
              "\u001b[1m Non-trainable params: \u001b[0m\u001b[38;5;34m0\u001b[0m (0.00 B)\n"
            ]
          },
          "metadata": {},
          "output_type": "display_data"
        }
      ],
      "source": [
        "# Set the random seed\n",
        "fix_random_seed()\n",
        "\n",
        "# Initialize the Gamma architecture\n",
        "gamma = GammaCNN()\n",
        "# Build the Gamma architecture with the input shape is 28x28x1\n",
        "gamma.build((28, 28, 1))\n",
        "gamma.summary()"
      ]
    },
    {
      "cell_type": "code",
      "execution_count": 50,
      "id": "1de96afd-4ae9-47d2-8d82-ee03845b9f21",
      "metadata": {
        "id": "1de96afd-4ae9-47d2-8d82-ee03845b9f21",
        "nbgrader": {
          "grade": true,
          "grade_id": "cell-c62f68ce594105a4",
          "locked": true,
          "points": 5,
          "schema_version": 3,
          "solution": false,
          "task": false
        },
        "tags": []
      },
      "outputs": [
        {
          "ename": "AssertionError",
          "evalue": "",
          "output_type": "error",
          "traceback": [
            "\u001b[1;31m---------------------------------------------------------------------------\u001b[0m",
            "\u001b[1;31mAssertionError\u001b[0m                            Traceback (most recent call last)",
            "Cell \u001b[1;32mIn[50], line 6\u001b[0m\n\u001b[0;32m      4\u001b[0m \u001b[38;5;28;01massert\u001b[39;00m \u001b[38;5;28mlen\u001b[39m(gamma\u001b[38;5;241m.\u001b[39mmodel\u001b[38;5;241m.\u001b[39mlayers) \u001b[38;5;241m==\u001b[39m \u001b[38;5;241m9\u001b[39m\n\u001b[0;32m      5\u001b[0m \u001b[38;5;66;03m#  Check a number of layers in the Gamma network architecture\u001b[39;00m\n\u001b[1;32m----> 6\u001b[0m \u001b[38;5;28;01massert\u001b[39;00m \u001b[38;5;124m\"\u001b[39m\u001b[38;5;124mkeras.engine.input_layer.InputLayer\u001b[39m\u001b[38;5;124m\"\u001b[39m \u001b[38;5;129;01min\u001b[39;00m \u001b[38;5;28mstr\u001b[39m(\u001b[38;5;28mtype\u001b[39m(gamma\u001b[38;5;241m.\u001b[39mmodel\u001b[38;5;241m.\u001b[39mlayers[\u001b[38;5;241m0\u001b[39m]))\n\u001b[0;32m      7\u001b[0m \u001b[38;5;28;01massert\u001b[39;00m \u001b[38;5;124m\"\u001b[39m\u001b[38;5;124mkeras.layers.convolutional.conv2d.Conv2D\u001b[39m\u001b[38;5;124m\"\u001b[39m \u001b[38;5;129;01min\u001b[39;00m \u001b[38;5;28mstr\u001b[39m(\u001b[38;5;28mtype\u001b[39m(gamma\u001b[38;5;241m.\u001b[39mmodel\u001b[38;5;241m.\u001b[39mlayers[\u001b[38;5;241m1\u001b[39m]))\n\u001b[0;32m      8\u001b[0m \u001b[38;5;28;01massert\u001b[39;00m \u001b[38;5;124m\"\u001b[39m\u001b[38;5;124mkeras.layers.pooling.max_pooling2d.MaxPooling2D\u001b[39m\u001b[38;5;124m\"\u001b[39m \u001b[38;5;129;01min\u001b[39;00m \u001b[38;5;28mstr\u001b[39m(\u001b[38;5;28mtype\u001b[39m(gamma\u001b[38;5;241m.\u001b[39mmodel\u001b[38;5;241m.\u001b[39mlayers[\u001b[38;5;241m2\u001b[39m]))\n",
            "\u001b[1;31mAssertionError\u001b[0m: "
          ]
        }
      ],
      "source": [
        "# Verify the Gamma architecture\n",
        "\n",
        "# Check if the number of layers remains unchanged\n",
        "assert len(gamma.model.layers) == 9\n",
        "#  Check a number of layers in the Gamma network architecture\n",
        "assert \"keras.engine.input_layer.InputLayer\" in str(type(gamma.model.layers[0]))\n",
        "assert \"keras.layers.convolutional.conv2d.Conv2D\" in str(type(gamma.model.layers[1]))\n",
        "assert \"keras.layers.pooling.max_pooling2d.MaxPooling2D\" in str(type(gamma.model.layers[2]))\n",
        "assert \"keras.layers.core.dense.Dense\" in str(type(gamma.model.layers[6]))\n",
        "# Check the activation function of the convolutional layer\n",
        "assert gamma.model.layers[1].activation(1.0) == 1.0\n",
        "assert gamma.model.layers[1].activation(-1.0) == -1.0"
      ]
    },
    {
      "cell_type": "code",
      "execution_count": null,
      "id": "b95f6256-99aa-44a8-b05d-47ed521b61c9",
      "metadata": {
        "id": "b95f6256-99aa-44a8-b05d-47ed521b61c9",
        "nbgrader": {
          "grade": true,
          "grade_id": "cell-f702e0def828ec56",
          "locked": true,
          "points": 5,
          "schema_version": 3,
          "solution": false,
          "task": false
        },
        "tags": []
      },
      "outputs": [],
      "source": [
        "# Test with the hidden test"
      ]
    },
    {
      "cell_type": "code",
      "execution_count": 51,
      "id": "b5a8bbc6-468b-4b52-9b90-70efe5df352c",
      "metadata": {
        "colab": {
          "base_uri": "https://localhost:8080/"
        },
        "id": "b5a8bbc6-468b-4b52-9b90-70efe5df352c",
        "nbgrader": {
          "grade": false,
          "grade_id": "cell-0bd39c18f8cd3555",
          "locked": true,
          "schema_version": 3,
          "solution": false,
          "task": false
        },
        "outputId": "df55d486-a785-4bea-910c-e0917c2c4846",
        "tags": []
      },
      "outputs": [
        {
          "name": "stdout",
          "output_type": "stream",
          "text": [
            "Epoch 1/10\n",
            "\u001b[1m469/469\u001b[0m \u001b[32m━━━━━━━━━━━━━━━━━━━━\u001b[0m\u001b[37m\u001b[0m \u001b[1m4s\u001b[0m 6ms/step - accuracy: 0.0966 - loss: 7.0732\n",
            "Epoch 2/10\n",
            "\u001b[1m469/469\u001b[0m \u001b[32m━━━━━━━━━━━━━━━━━━━━\u001b[0m\u001b[37m\u001b[0m \u001b[1m3s\u001b[0m 6ms/step - accuracy: 0.0975 - loss: 4.9994\n",
            "Epoch 3/10\n",
            "\u001b[1m469/469\u001b[0m \u001b[32m━━━━━━━━━━━━━━━━━━━━\u001b[0m\u001b[37m\u001b[0m \u001b[1m3s\u001b[0m 6ms/step - accuracy: 0.0975 - loss: 4.9994\n",
            "Epoch 4/10\n",
            "\u001b[1m469/469\u001b[0m \u001b[32m━━━━━━━━━━━━━━━━━━━━\u001b[0m\u001b[37m\u001b[0m \u001b[1m3s\u001b[0m 6ms/step - accuracy: 0.0975 - loss: 4.9994\n",
            "Epoch 5/10\n",
            "\u001b[1m469/469\u001b[0m \u001b[32m━━━━━━━━━━━━━━━━━━━━\u001b[0m\u001b[37m\u001b[0m \u001b[1m3s\u001b[0m 6ms/step - accuracy: 0.0975 - loss: 4.9994\n",
            "Epoch 6/10\n",
            "\u001b[1m469/469\u001b[0m \u001b[32m━━━━━━━━━━━━━━━━━━━━\u001b[0m\u001b[37m\u001b[0m \u001b[1m3s\u001b[0m 6ms/step - accuracy: 0.0975 - loss: 4.9994\n",
            "Epoch 7/10\n",
            "\u001b[1m469/469\u001b[0m \u001b[32m━━━━━━━━━━━━━━━━━━━━\u001b[0m\u001b[37m\u001b[0m \u001b[1m3s\u001b[0m 6ms/step - accuracy: 0.0975 - loss: 4.9994\n",
            "Epoch 8/10\n",
            "\u001b[1m469/469\u001b[0m \u001b[32m━━━━━━━━━━━━━━━━━━━━\u001b[0m\u001b[37m\u001b[0m \u001b[1m3s\u001b[0m 6ms/step - accuracy: 0.0975 - loss: 4.9994\n",
            "Epoch 9/10\n",
            "\u001b[1m469/469\u001b[0m \u001b[32m━━━━━━━━━━━━━━━━━━━━\u001b[0m\u001b[37m\u001b[0m \u001b[1m3s\u001b[0m 6ms/step - accuracy: 0.0975 - loss: 4.9994\n",
            "Epoch 10/10\n",
            "\u001b[1m469/469\u001b[0m \u001b[32m━━━━━━━━━━━━━━━━━━━━\u001b[0m\u001b[37m\u001b[0m \u001b[1m3s\u001b[0m 6ms/step - accuracy: 0.0975 - loss: 4.9994\n"
          ]
        }
      ],
      "source": [
        "# Train train train!\n",
        "gamma.train(x_train_norm, y_train_oh)"
      ]
    },
    {
      "cell_type": "code",
      "execution_count": 52,
      "id": "6306c696-445e-4821-a06a-f725ae20f684",
      "metadata": {
        "colab": {
          "base_uri": "https://localhost:8080/"
        },
        "id": "6306c696-445e-4821-a06a-f725ae20f684",
        "nbgrader": {
          "grade": false,
          "grade_id": "cell-8815bdaf09859dff",
          "locked": true,
          "schema_version": 3,
          "solution": false,
          "task": false
        },
        "outputId": "c49dddce-038c-4dac-c0b4-8e970e8aaad7",
        "tags": []
      },
      "outputs": [
        {
          "name": "stdout",
          "output_type": "stream",
          "text": [
            "\u001b[1m313/313\u001b[0m \u001b[32m━━━━━━━━━━━━━━━━━━━━\u001b[0m\u001b[37m\u001b[0m \u001b[1m1s\u001b[0m 2ms/step\n",
            "Current accuracy: 9.82000008225441\n"
          ]
        }
      ],
      "source": [
        "# Evaluate the model performance on the testing set\n",
        "gamma.predict_and_eval(x_test_norm, y_test)"
      ]
    },
    {
      "cell_type": "markdown",
      "id": "46186d3d-e2a8-4060-a0f0-a78afc242469",
      "metadata": {
        "id": "46186d3d-e2a8-4060-a0f0-a78afc242469",
        "nbgrader": {
          "grade": false,
          "grade_id": "cell-4da75126248a9cfa",
          "locked": true,
          "schema_version": 3,
          "solution": false,
          "task": false
        },
        "tags": []
      },
      "source": [
        "According to you, do you observe any significant changes between the Beta and Gamma versions in terms of results?"
      ]
    },
    {
      "cell_type": "code",
      "execution_count": 53,
      "id": "d1899c64-d372-4ea5-b5d2-14c92cda071e",
      "metadata": {
        "colab": {
          "base_uri": "https://localhost:8080/"
        },
        "id": "d1899c64-d372-4ea5-b5d2-14c92cda071e",
        "nbgrader": {
          "grade": false,
          "grade_id": "cell-e51075ea1ec0d8fc",
          "locked": false,
          "schema_version": 3,
          "solution": true,
          "task": false
        },
        "outputId": "82382a2a-9867-46fe-de45-a3d5452dc2a8",
        "tags": []
      },
      "outputs": [
        {
          "name": "stdout",
          "output_type": "stream",
          "text": [
            "My option:  Beta is better than Gamma\n"
          ]
        }
      ],
      "source": [
        "options = ['No opinion', 'Beta is better than Gamma', 'Beta is worse than Gamma', 'Beta has competitive results with Gamma (with a difference of less than 1%)']\n",
        "your_choice = 1\n",
        "\n",
        "# Please select your_choice as 0, 1, 2, or 3 corresponding to the options above\n",
        "# YOUR CODE HERE\n",
        "\n",
        "print(\"My option: \", options[your_choice])"
      ]
    },
    {
      "cell_type": "code",
      "execution_count": null,
      "id": "f7dc0867-53b4-40e6-ad48-0bd6810fecf3",
      "metadata": {
        "id": "f7dc0867-53b4-40e6-ad48-0bd6810fecf3",
        "nbgrader": {
          "grade": true,
          "grade_id": "cell-65e3be763701e09f",
          "locked": true,
          "points": 5,
          "schema_version": 3,
          "solution": false,
          "task": false
        },
        "tags": []
      },
      "outputs": [],
      "source": [
        "# Test with the hidden test"
      ]
    },
    {
      "cell_type": "markdown",
      "id": "1da59dc1-0de1-46a9-aba8-e0702e632792",
      "metadata": {
        "id": "1da59dc1-0de1-46a9-aba8-e0702e632792",
        "nbgrader": {
          "grade": false,
          "grade_id": "cell-c10d40ae2d03ca4d",
          "locked": true,
          "schema_version": 3,
          "solution": false,
          "task": false
        },
        "tags": []
      },
      "source": [
        "### 4.4 Omicron Variation - Removing all pooling layers in the Beta variation\n",
        "The Omicron variation is introduced due to the suspicion that the MaxPooling step is not truly beneficial in CNN network architectures. Please proceed with the implementation and evaluation of this hypothesis to determine its validity."
      ]
    },
    {
      "cell_type": "code",
      "execution_count": 54,
      "id": "8b6bcb63-ee11-4f1f-8c6a-c57265c7e80c",
      "metadata": {
        "id": "8b6bcb63-ee11-4f1f-8c6a-c57265c7e80c",
        "nbgrader": {
          "grade": false,
          "grade_id": "cell-da6b9f79a575bd59",
          "locked": false,
          "schema_version": 3,
          "solution": true,
          "task": false
        },
        "tags": []
      },
      "outputs": [],
      "source": [
        "class OmicronCNN(LeNetCNN):\n",
        "  # Define structure of the CNN\n",
        "  def build(self, input_dim):\n",
        "    input = Input(shape=input_dim)\n",
        "    C1 = Conv2D(6, (3, 3), padding='same', activation='relu')(input)\n",
        "    C3 = Conv2D(16, (3, 3), padding='same', activation='relu')(C1)\n",
        "    flat = Flatten()(C3)\n",
        "    F5 = Dense(120, activation='relu', use_bias=True)(flat)\n",
        "    F6 = Dense(84, activation='relu', use_bias=True)(F5)\n",
        "    output = Dense(10, activation='softmax', use_bias=True)(F6)\n",
        "    self.model = Model(input, output)"
      ]
    },
    {
      "cell_type": "code",
      "execution_count": 55,
      "id": "87312bbb-4595-4a2e-93a9-d374846b8b95",
      "metadata": {
        "id": "87312bbb-4595-4a2e-93a9-d374846b8b95",
        "nbgrader": {
          "grade": false,
          "grade_id": "cell-eab8b1ab6e4f23a2",
          "locked": true,
          "schema_version": 3,
          "solution": false,
          "task": false
        },
        "tags": []
      },
      "outputs": [
        {
          "data": {
            "text/html": [
              "<pre style=\"white-space:pre;overflow-x:auto;line-height:normal;font-family:Menlo,'DejaVu Sans Mono',consolas,'Courier New',monospace\"><span style=\"font-weight: bold\">Model: \"functional_11\"</span>\n",
              "</pre>\n"
            ],
            "text/plain": [
              "\u001b[1mModel: \"functional_11\"\u001b[0m\n"
            ]
          },
          "metadata": {},
          "output_type": "display_data"
        },
        {
          "data": {
            "text/html": [
              "<pre style=\"white-space:pre;overflow-x:auto;line-height:normal;font-family:Menlo,'DejaVu Sans Mono',consolas,'Courier New',monospace\">┏━━━━━━━━━━━━━━━━━━━━━━━━━━━━━━━━━┳━━━━━━━━━━━━━━━━━━━━━━━━┳━━━━━━━━━━━━━━━┓\n",
              "┃<span style=\"font-weight: bold\"> Layer (type)                    </span>┃<span style=\"font-weight: bold\"> Output Shape           </span>┃<span style=\"font-weight: bold\">       Param # </span>┃\n",
              "┡━━━━━━━━━━━━━━━━━━━━━━━━━━━━━━━━━╇━━━━━━━━━━━━━━━━━━━━━━━━╇━━━━━━━━━━━━━━━┩\n",
              "│ input_layer_5 (<span style=\"color: #0087ff; text-decoration-color: #0087ff\">InputLayer</span>)      │ (<span style=\"color: #00d7ff; text-decoration-color: #00d7ff\">None</span>, <span style=\"color: #00af00; text-decoration-color: #00af00\">28</span>, <span style=\"color: #00af00; text-decoration-color: #00af00\">28</span>, <span style=\"color: #00af00; text-decoration-color: #00af00\">1</span>)      │             <span style=\"color: #00af00; text-decoration-color: #00af00\">0</span> │\n",
              "├─────────────────────────────────┼────────────────────────┼───────────────┤\n",
              "│ conv2d_10 (<span style=\"color: #0087ff; text-decoration-color: #0087ff\">Conv2D</span>)              │ (<span style=\"color: #00d7ff; text-decoration-color: #00d7ff\">None</span>, <span style=\"color: #00af00; text-decoration-color: #00af00\">28</span>, <span style=\"color: #00af00; text-decoration-color: #00af00\">28</span>, <span style=\"color: #00af00; text-decoration-color: #00af00\">6</span>)      │            <span style=\"color: #00af00; text-decoration-color: #00af00\">60</span> │\n",
              "├─────────────────────────────────┼────────────────────────┼───────────────┤\n",
              "│ conv2d_11 (<span style=\"color: #0087ff; text-decoration-color: #0087ff\">Conv2D</span>)              │ (<span style=\"color: #00d7ff; text-decoration-color: #00d7ff\">None</span>, <span style=\"color: #00af00; text-decoration-color: #00af00\">28</span>, <span style=\"color: #00af00; text-decoration-color: #00af00\">28</span>, <span style=\"color: #00af00; text-decoration-color: #00af00\">16</span>)     │           <span style=\"color: #00af00; text-decoration-color: #00af00\">880</span> │\n",
              "├─────────────────────────────────┼────────────────────────┼───────────────┤\n",
              "│ flatten_5 (<span style=\"color: #0087ff; text-decoration-color: #0087ff\">Flatten</span>)             │ (<span style=\"color: #00d7ff; text-decoration-color: #00d7ff\">None</span>, <span style=\"color: #00af00; text-decoration-color: #00af00\">12544</span>)          │             <span style=\"color: #00af00; text-decoration-color: #00af00\">0</span> │\n",
              "├─────────────────────────────────┼────────────────────────┼───────────────┤\n",
              "│ dense_15 (<span style=\"color: #0087ff; text-decoration-color: #0087ff\">Dense</span>)                │ (<span style=\"color: #00d7ff; text-decoration-color: #00d7ff\">None</span>, <span style=\"color: #00af00; text-decoration-color: #00af00\">120</span>)            │     <span style=\"color: #00af00; text-decoration-color: #00af00\">1,505,400</span> │\n",
              "├─────────────────────────────────┼────────────────────────┼───────────────┤\n",
              "│ dense_16 (<span style=\"color: #0087ff; text-decoration-color: #0087ff\">Dense</span>)                │ (<span style=\"color: #00d7ff; text-decoration-color: #00d7ff\">None</span>, <span style=\"color: #00af00; text-decoration-color: #00af00\">84</span>)             │        <span style=\"color: #00af00; text-decoration-color: #00af00\">10,164</span> │\n",
              "├─────────────────────────────────┼────────────────────────┼───────────────┤\n",
              "│ dense_17 (<span style=\"color: #0087ff; text-decoration-color: #0087ff\">Dense</span>)                │ (<span style=\"color: #00d7ff; text-decoration-color: #00d7ff\">None</span>, <span style=\"color: #00af00; text-decoration-color: #00af00\">10</span>)             │           <span style=\"color: #00af00; text-decoration-color: #00af00\">850</span> │\n",
              "└─────────────────────────────────┴────────────────────────┴───────────────┘\n",
              "</pre>\n"
            ],
            "text/plain": [
              "┏━━━━━━━━━━━━━━━━━━━━━━━━━━━━━━━━━┳━━━━━━━━━━━━━━━━━━━━━━━━┳━━━━━━━━━━━━━━━┓\n",
              "┃\u001b[1m \u001b[0m\u001b[1mLayer (type)                   \u001b[0m\u001b[1m \u001b[0m┃\u001b[1m \u001b[0m\u001b[1mOutput Shape          \u001b[0m\u001b[1m \u001b[0m┃\u001b[1m \u001b[0m\u001b[1m      Param #\u001b[0m\u001b[1m \u001b[0m┃\n",
              "┡━━━━━━━━━━━━━━━━━━━━━━━━━━━━━━━━━╇━━━━━━━━━━━━━━━━━━━━━━━━╇━━━━━━━━━━━━━━━┩\n",
              "│ input_layer_5 (\u001b[38;5;33mInputLayer\u001b[0m)      │ (\u001b[38;5;45mNone\u001b[0m, \u001b[38;5;34m28\u001b[0m, \u001b[38;5;34m28\u001b[0m, \u001b[38;5;34m1\u001b[0m)      │             \u001b[38;5;34m0\u001b[0m │\n",
              "├─────────────────────────────────┼────────────────────────┼───────────────┤\n",
              "│ conv2d_10 (\u001b[38;5;33mConv2D\u001b[0m)              │ (\u001b[38;5;45mNone\u001b[0m, \u001b[38;5;34m28\u001b[0m, \u001b[38;5;34m28\u001b[0m, \u001b[38;5;34m6\u001b[0m)      │            \u001b[38;5;34m60\u001b[0m │\n",
              "├─────────────────────────────────┼────────────────────────┼───────────────┤\n",
              "│ conv2d_11 (\u001b[38;5;33mConv2D\u001b[0m)              │ (\u001b[38;5;45mNone\u001b[0m, \u001b[38;5;34m28\u001b[0m, \u001b[38;5;34m28\u001b[0m, \u001b[38;5;34m16\u001b[0m)     │           \u001b[38;5;34m880\u001b[0m │\n",
              "├─────────────────────────────────┼────────────────────────┼───────────────┤\n",
              "│ flatten_5 (\u001b[38;5;33mFlatten\u001b[0m)             │ (\u001b[38;5;45mNone\u001b[0m, \u001b[38;5;34m12544\u001b[0m)          │             \u001b[38;5;34m0\u001b[0m │\n",
              "├─────────────────────────────────┼────────────────────────┼───────────────┤\n",
              "│ dense_15 (\u001b[38;5;33mDense\u001b[0m)                │ (\u001b[38;5;45mNone\u001b[0m, \u001b[38;5;34m120\u001b[0m)            │     \u001b[38;5;34m1,505,400\u001b[0m │\n",
              "├─────────────────────────────────┼────────────────────────┼───────────────┤\n",
              "│ dense_16 (\u001b[38;5;33mDense\u001b[0m)                │ (\u001b[38;5;45mNone\u001b[0m, \u001b[38;5;34m84\u001b[0m)             │        \u001b[38;5;34m10,164\u001b[0m │\n",
              "├─────────────────────────────────┼────────────────────────┼───────────────┤\n",
              "│ dense_17 (\u001b[38;5;33mDense\u001b[0m)                │ (\u001b[38;5;45mNone\u001b[0m, \u001b[38;5;34m10\u001b[0m)             │           \u001b[38;5;34m850\u001b[0m │\n",
              "└─────────────────────────────────┴────────────────────────┴───────────────┘\n"
            ]
          },
          "metadata": {},
          "output_type": "display_data"
        },
        {
          "data": {
            "text/html": [
              "<pre style=\"white-space:pre;overflow-x:auto;line-height:normal;font-family:Menlo,'DejaVu Sans Mono',consolas,'Courier New',monospace\"><span style=\"font-weight: bold\"> Total params: </span><span style=\"color: #00af00; text-decoration-color: #00af00\">1,517,354</span> (5.79 MB)\n",
              "</pre>\n"
            ],
            "text/plain": [
              "\u001b[1m Total params: \u001b[0m\u001b[38;5;34m1,517,354\u001b[0m (5.79 MB)\n"
            ]
          },
          "metadata": {},
          "output_type": "display_data"
        },
        {
          "data": {
            "text/html": [
              "<pre style=\"white-space:pre;overflow-x:auto;line-height:normal;font-family:Menlo,'DejaVu Sans Mono',consolas,'Courier New',monospace\"><span style=\"font-weight: bold\"> Trainable params: </span><span style=\"color: #00af00; text-decoration-color: #00af00\">1,517,354</span> (5.79 MB)\n",
              "</pre>\n"
            ],
            "text/plain": [
              "\u001b[1m Trainable params: \u001b[0m\u001b[38;5;34m1,517,354\u001b[0m (5.79 MB)\n"
            ]
          },
          "metadata": {},
          "output_type": "display_data"
        },
        {
          "data": {
            "text/html": [
              "<pre style=\"white-space:pre;overflow-x:auto;line-height:normal;font-family:Menlo,'DejaVu Sans Mono',consolas,'Courier New',monospace\"><span style=\"font-weight: bold\"> Non-trainable params: </span><span style=\"color: #00af00; text-decoration-color: #00af00\">0</span> (0.00 B)\n",
              "</pre>\n"
            ],
            "text/plain": [
              "\u001b[1m Non-trainable params: \u001b[0m\u001b[38;5;34m0\u001b[0m (0.00 B)\n"
            ]
          },
          "metadata": {},
          "output_type": "display_data"
        }
      ],
      "source": [
        "# Set the random seed\n",
        "fix_random_seed()\n",
        "\n",
        "# Initialize the Omicron architecture\n",
        "omicron = OmicronCNN()\n",
        "# Build the Omicron architecture with the input shape is 28x28x1\n",
        "omicron.build((28, 28, 1))\n",
        "omicron.summary()"
      ]
    },
    {
      "cell_type": "code",
      "execution_count": 56,
      "id": "db9b5215-e34c-4434-aa4c-f2ef42e688da",
      "metadata": {
        "id": "db9b5215-e34c-4434-aa4c-f2ef42e688da",
        "nbgrader": {
          "grade": true,
          "grade_id": "cell-67108bef8f744c25",
          "locked": true,
          "points": 5,
          "schema_version": 3,
          "solution": false,
          "task": false
        },
        "tags": []
      },
      "outputs": [
        {
          "ename": "AssertionError",
          "evalue": "",
          "output_type": "error",
          "traceback": [
            "\u001b[1;31m---------------------------------------------------------------------------\u001b[0m",
            "\u001b[1;31mAssertionError\u001b[0m                            Traceback (most recent call last)",
            "Cell \u001b[1;32mIn[56], line 6\u001b[0m\n\u001b[0;32m      4\u001b[0m \u001b[38;5;28;01massert\u001b[39;00m \u001b[38;5;28mlen\u001b[39m(omicron\u001b[38;5;241m.\u001b[39mmodel\u001b[38;5;241m.\u001b[39mlayers) \u001b[38;5;241m==\u001b[39m \u001b[38;5;241m7\u001b[39m\n\u001b[0;32m      5\u001b[0m \u001b[38;5;66;03m# Check a number of layers in the Omicron network architecture\u001b[39;00m\n\u001b[1;32m----> 6\u001b[0m \u001b[38;5;28;01massert\u001b[39;00m \u001b[38;5;124m\"\u001b[39m\u001b[38;5;124mkeras.engine.input_layer.InputLayer\u001b[39m\u001b[38;5;124m\"\u001b[39m \u001b[38;5;129;01min\u001b[39;00m \u001b[38;5;28mstr\u001b[39m(\u001b[38;5;28mtype\u001b[39m(omicron\u001b[38;5;241m.\u001b[39mmodel\u001b[38;5;241m.\u001b[39mlayers[\u001b[38;5;241m0\u001b[39m]))\n\u001b[0;32m      7\u001b[0m \u001b[38;5;28;01massert\u001b[39;00m \u001b[38;5;124m\"\u001b[39m\u001b[38;5;124mkeras.layers.convolutional.conv2d.Conv2D\u001b[39m\u001b[38;5;124m\"\u001b[39m \u001b[38;5;129;01min\u001b[39;00m \u001b[38;5;28mstr\u001b[39m(\u001b[38;5;28mtype\u001b[39m(omicron\u001b[38;5;241m.\u001b[39mmodel\u001b[38;5;241m.\u001b[39mlayers[\u001b[38;5;241m1\u001b[39m]))\n\u001b[0;32m      8\u001b[0m \u001b[38;5;28;01massert\u001b[39;00m \u001b[38;5;124m\"\u001b[39m\u001b[38;5;124mkeras.layers.convolutional.conv2d.Conv2D\u001b[39m\u001b[38;5;124m\"\u001b[39m \u001b[38;5;129;01min\u001b[39;00m \u001b[38;5;28mstr\u001b[39m(\u001b[38;5;28mtype\u001b[39m(omicron\u001b[38;5;241m.\u001b[39mmodel\u001b[38;5;241m.\u001b[39mlayers[\u001b[38;5;241m2\u001b[39m]))\n",
            "\u001b[1;31mAssertionError\u001b[0m: "
          ]
        }
      ],
      "source": [
        "# Verify the Omicron architecture\n",
        "\n",
        "# Check if the number of layers remains unchanged\n",
        "assert len(omicron.model.layers) == 7\n",
        "# Check a number of layers in the Omicron network architecture\n",
        "assert \"keras.engine.input_layer.InputLayer\" in str(type(omicron.model.layers[0]))\n",
        "assert \"keras.layers.convolutional.conv2d.Conv2D\" in str(type(omicron.model.layers[1]))\n",
        "assert \"keras.layers.convolutional.conv2d.Conv2D\" in str(type(omicron.model.layers[2]))\n",
        "assert \"keras.layers.core.dense.Dense\" in str(type(omicron.model.layers[6]))\n",
        "# Check the activation function of the convolutional layer\n",
        "assert beta.model.layers[1].activation(1.0).numpy() == 1.0\n",
        "assert beta.model.layers[1].activation(-1.0).numpy() == 0.0"
      ]
    },
    {
      "cell_type": "code",
      "execution_count": null,
      "id": "6033de55-20a6-4a2d-b484-bb74032407c3",
      "metadata": {
        "id": "6033de55-20a6-4a2d-b484-bb74032407c3",
        "nbgrader": {
          "grade": true,
          "grade_id": "cell-9e662848eeabd84f",
          "locked": true,
          "points": 5,
          "schema_version": 3,
          "solution": false,
          "task": false
        },
        "tags": []
      },
      "outputs": [],
      "source": [
        "# Test with the hidden test"
      ]
    },
    {
      "cell_type": "code",
      "execution_count": 57,
      "id": "84a945cc-9bba-4b03-9997-5281cc7ecad6",
      "metadata": {
        "colab": {
          "base_uri": "https://localhost:8080/"
        },
        "id": "84a945cc-9bba-4b03-9997-5281cc7ecad6",
        "nbgrader": {
          "grade": false,
          "grade_id": "cell-203181219f352b0b",
          "locked": true,
          "schema_version": 3,
          "solution": false,
          "task": false
        },
        "outputId": "61936a84-eb12-4066-bb37-935ba9ba3902",
        "tags": []
      },
      "outputs": [
        {
          "name": "stdout",
          "output_type": "stream",
          "text": [
            "Epoch 1/10\n",
            "\u001b[1m469/469\u001b[0m \u001b[32m━━━━━━━━━━━━━━━━━━━━\u001b[0m\u001b[37m\u001b[0m \u001b[1m11s\u001b[0m 20ms/step - accuracy: 0.8324 - loss: 0.5659\n",
            "Epoch 2/10\n",
            "\u001b[1m469/469\u001b[0m \u001b[32m━━━━━━━━━━━━━━━━━━━━\u001b[0m\u001b[37m\u001b[0m \u001b[1m10s\u001b[0m 21ms/step - accuracy: 0.9783 - loss: 0.0719\n",
            "Epoch 3/10\n",
            "\u001b[1m469/469\u001b[0m \u001b[32m━━━━━━━━━━━━━━━━━━━━\u001b[0m\u001b[37m\u001b[0m \u001b[1m10s\u001b[0m 21ms/step - accuracy: 0.9855 - loss: 0.0487\n",
            "Epoch 4/10\n",
            "\u001b[1m469/469\u001b[0m \u001b[32m━━━━━━━━━━━━━━━━━━━━\u001b[0m\u001b[37m\u001b[0m \u001b[1m10s\u001b[0m 21ms/step - accuracy: 0.9847 - loss: 0.0484\n",
            "Epoch 5/10\n",
            "\u001b[1m469/469\u001b[0m \u001b[32m━━━━━━━━━━━━━━━━━━━━\u001b[0m\u001b[37m\u001b[0m \u001b[1m10s\u001b[0m 21ms/step - accuracy: 0.9866 - loss: 0.0442\n",
            "Epoch 6/10\n",
            "\u001b[1m469/469\u001b[0m \u001b[32m━━━━━━━━━━━━━━━━━━━━\u001b[0m\u001b[37m\u001b[0m \u001b[1m10s\u001b[0m 22ms/step - accuracy: 0.9907 - loss: 0.0336\n",
            "Epoch 7/10\n",
            "\u001b[1m469/469\u001b[0m \u001b[32m━━━━━━━━━━━━━━━━━━━━\u001b[0m\u001b[37m\u001b[0m \u001b[1m10s\u001b[0m 20ms/step - accuracy: 0.9909 - loss: 0.0322\n",
            "Epoch 8/10\n",
            "\u001b[1m469/469\u001b[0m \u001b[32m━━━━━━━━━━━━━━━━━━━━\u001b[0m\u001b[37m\u001b[0m \u001b[1m10s\u001b[0m 22ms/step - accuracy: 0.9924 - loss: 0.0261\n",
            "Epoch 9/10\n",
            "\u001b[1m469/469\u001b[0m \u001b[32m━━━━━━━━━━━━━━━━━━━━\u001b[0m\u001b[37m\u001b[0m \u001b[1m11s\u001b[0m 23ms/step - accuracy: 0.9926 - loss: 0.0280\n",
            "Epoch 10/10\n",
            "\u001b[1m469/469\u001b[0m \u001b[32m━━━━━━━━━━━━━━━━━━━━\u001b[0m\u001b[37m\u001b[0m \u001b[1m10s\u001b[0m 22ms/step - accuracy: 0.9932 - loss: 0.0266\n"
          ]
        }
      ],
      "source": [
        "# Train train train!\n",
        "omicron.train(x_train_norm, y_train_oh)"
      ]
    },
    {
      "cell_type": "code",
      "execution_count": 58,
      "id": "bd4d81b9-68c3-4d0f-af55-64f8808897f0",
      "metadata": {
        "colab": {
          "base_uri": "https://localhost:8080/"
        },
        "id": "bd4d81b9-68c3-4d0f-af55-64f8808897f0",
        "nbgrader": {
          "grade": false,
          "grade_id": "cell-52ea9ba0b1d57fa3",
          "locked": true,
          "schema_version": 3,
          "solution": false,
          "task": false
        },
        "outputId": "a28ca3bc-4b4d-4107-95ee-a4e9daff455c",
        "tags": []
      },
      "outputs": [
        {
          "name": "stdout",
          "output_type": "stream",
          "text": [
            "\u001b[1m313/313\u001b[0m \u001b[32m━━━━━━━━━━━━━━━━━━━━\u001b[0m\u001b[37m\u001b[0m \u001b[1m1s\u001b[0m 3ms/step\n",
            "Current accuracy: 97.97000288963318\n"
          ]
        }
      ],
      "source": [
        "# Evaluate the model performance on the testing set\n",
        "omicron.predict_and_eval(x_test_norm, y_test)"
      ]
    },
    {
      "cell_type": "markdown",
      "id": "2ed10394-06eb-435f-82ae-3f2198b4a26b",
      "metadata": {
        "id": "2ed10394-06eb-435f-82ae-3f2198b4a26b",
        "nbgrader": {
          "grade": false,
          "grade_id": "cell-5392363c0eb31db6",
          "locked": true,
          "schema_version": 3,
          "solution": false,
          "task": false
        },
        "tags": []
      },
      "source": [
        "According to you, do you observe any significant changes between the Beta and Omicron versions in terms of results?"
      ]
    },
    {
      "cell_type": "code",
      "execution_count": null,
      "id": "2336cb9d-bdfc-4599-a32f-3f6b14ca8f39",
      "metadata": {
        "colab": {
          "base_uri": "https://localhost:8080/"
        },
        "id": "2336cb9d-bdfc-4599-a32f-3f6b14ca8f39",
        "nbgrader": {
          "grade": false,
          "grade_id": "cell-afc2fda9bbda9f9c",
          "locked": false,
          "schema_version": 3,
          "solution": true,
          "task": false
        },
        "outputId": "6d4bce71-a477-4b42-b71a-3c5a12ce67dc",
        "tags": []
      },
      "outputs": [
        {
          "name": "stdout",
          "output_type": "stream",
          "text": [
            "My option:  Beta has competitive results with Omicron (with a difference of less than 1%)\n"
          ]
        }
      ],
      "source": [
        "options = ['No opinion', 'Beta is better than Omicron', 'Beta is worse than Omicron', 'Beta has competitive results with Omicron (with a difference of less than 1%)']\n",
        "your_choice = 3\n",
        "\n",
        "# Please select your_choice as 0, 1, 2, or 3 corresponding to the options above\n",
        "# YOUR CODE HERE\n",
        "\n",
        "print(\"My option: \", options[your_choice])"
      ]
    },
    {
      "cell_type": "code",
      "execution_count": null,
      "id": "6a3ea25e-967e-45f2-b1ec-78742f40f7d9",
      "metadata": {
        "id": "6a3ea25e-967e-45f2-b1ec-78742f40f7d9",
        "nbgrader": {
          "grade": true,
          "grade_id": "cell-cb1b98be430a36f2",
          "locked": true,
          "points": 5,
          "schema_version": 3,
          "solution": false,
          "task": false
        },
        "tags": []
      },
      "outputs": [],
      "source": [
        "# Test with the hidden test\n"
      ]
    },
    {
      "cell_type": "markdown",
      "id": "5f10f67c-c7be-44f6-a55a-74316ecdca4c",
      "metadata": {
        "id": "5f10f67c-c7be-44f6-a55a-74316ecdca4c",
        "nbgrader": {
          "grade": false,
          "grade_id": "cell-39df1608d027be9f",
          "locked": true,
          "schema_version": 3,
          "solution": false,
          "task": false
        },
        "tags": []
      },
      "source": [
        "In addition, do you have any comments on the number of parameters and training time of the Omicron model?"
      ]
    },
    {
      "cell_type": "code",
      "execution_count": 59,
      "id": "0c6bb5fc-29e7-462a-b987-a0788c69199d",
      "metadata": {
        "colab": {
          "base_uri": "https://localhost:8080/"
        },
        "id": "0c6bb5fc-29e7-462a-b987-a0788c69199d",
        "nbgrader": {
          "grade": false,
          "grade_id": "cell-06864dcb2e0d74f7",
          "locked": false,
          "schema_version": 3,
          "solution": true,
          "task": false
        },
        "outputId": "9f51d88f-d37e-4eef-b0ea-4f5e45c468b9",
        "tags": []
      },
      "outputs": [
        {
          "name": "stdout",
          "output_type": "stream",
          "text": [
            "My options: \n",
            "   -  Omicron has more parameters than Beta\n",
            "   -  Omicron trains slower than Beta\n"
          ]
        }
      ],
      "source": [
        "options = ['Omicron has fewer parameters than Beta', 'Omicron has more parameters than Beta', 'Omicron has the same number of parameters as Beta',\n",
        "\t\t   'Omicron trains faster than Beta', 'Omicron trains slower than Beta', 'Omicron trains comparable to Beta (within 10 seconds)']\n",
        "\n",
        "your_choices = [1, 4]\n",
        "\n",
        "# Please select your_choice with a set of values from 0, 1, 2, 3, 4, 5 corresponding to the options given above.\n",
        "# Note: You can choose 0, 1, or more than 1 option in this question.\n",
        "# YOUR CODE HERE\n",
        "\n",
        "print(\"My options: \")\n",
        "for op in your_choices:\n",
        "\tprint('   - ', options[op])"
      ]
    },
    {
      "cell_type": "code",
      "execution_count": null,
      "id": "9040c3ac-23d4-4523-8b6b-a8b535b0bf6b",
      "metadata": {
        "id": "9040c3ac-23d4-4523-8b6b-a8b535b0bf6b",
        "nbgrader": {
          "grade": true,
          "grade_id": "cell-717940922f88d145",
          "locked": true,
          "points": 5,
          "schema_version": 3,
          "solution": false,
          "task": false
        },
        "tags": []
      },
      "outputs": [],
      "source": [
        "# Test with the hidden test"
      ]
    },
    {
      "cell_type": "markdown",
      "id": "ae624f13-3594-428c-9cb4-8ace14843323",
      "metadata": {
        "id": "ae624f13-3594-428c-9cb4-8ace14843323",
        "nbgrader": {
          "grade": false,
          "grade_id": "cell-b47acb5531c758eb",
          "locked": true,
          "schema_version": 3,
          "solution": false,
          "task": false
        },
        "tags": []
      },
      "source": [
        "### 4.5 Delta Variant - Removing all Convolutional Layers in the Beta Variant\n",
        "The **Delta** variant emerged due to doubts about the usefulness of the Convolutional Step!!!?? in CNN network architecture. Please try implementing and evaluating to see if this hypothesis is correct.\n",
        "\n",
        "This variant is risky as it completely changes the architecture of the CNN network. According to you, what is the essence of this Beta variant model?"
      ]
    },
    {
      "cell_type": "code",
      "execution_count": 61,
      "id": "9676160a-9a04-4367-8191-9a74f9ec1c0d",
      "metadata": {
        "id": "9676160a-9a04-4367-8191-9a74f9ec1c0d",
        "nbgrader": {
          "grade": false,
          "grade_id": "cell-b4859246363ac223",
          "locked": false,
          "schema_version": 3,
          "solution": true,
          "task": false
        },
        "tags": []
      },
      "outputs": [],
      "source": [
        "class DeltaCNN(LeNetCNN):\n",
        "  # Define structure of the CNN\n",
        "  def build(self, input_dim):\n",
        "    input = Input(shape=input_dim)\n",
        "    S1 = MaxPooling2D(pool_size=(2, 2), padding=\"same\")(input)\n",
        "    S4 = MaxPooling2D(pool_size=(2, 2), padding=\"same\")(S1)\n",
        "    flat = Flatten()(S4)\n",
        "    F5 = Dense(120, activation='relu', use_bias=True)(flat)\n",
        "    F6 = Dense(84, activation='relu', use_bias=True)(F5)\n",
        "    output = Dense(10, activation='softmax', use_bias=True)(F6)\n",
        "    self.model = Model(input, output)"
      ]
    },
    {
      "cell_type": "code",
      "execution_count": 62,
      "id": "0a6d13e0-4782-4d50-a921-28d714205515",
      "metadata": {
        "colab": {
          "base_uri": "https://localhost:8080/"
        },
        "id": "0a6d13e0-4782-4d50-a921-28d714205515",
        "nbgrader": {
          "grade": false,
          "grade_id": "cell-9242a4efe38e4b31",
          "locked": true,
          "schema_version": 3,
          "solution": false,
          "task": false
        },
        "outputId": "1755de79-e414-4d84-cdec-42bc2f1fc442",
        "tags": []
      },
      "outputs": [
        {
          "data": {
            "text/html": [
              "<pre style=\"white-space:pre;overflow-x:auto;line-height:normal;font-family:Menlo,'DejaVu Sans Mono',consolas,'Courier New',monospace\"><span style=\"font-weight: bold\">Model: \"functional_13\"</span>\n",
              "</pre>\n"
            ],
            "text/plain": [
              "\u001b[1mModel: \"functional_13\"\u001b[0m\n"
            ]
          },
          "metadata": {},
          "output_type": "display_data"
        },
        {
          "data": {
            "text/html": [
              "<pre style=\"white-space:pre;overflow-x:auto;line-height:normal;font-family:Menlo,'DejaVu Sans Mono',consolas,'Courier New',monospace\">┏━━━━━━━━━━━━━━━━━━━━━━━━━━━━━━━━━┳━━━━━━━━━━━━━━━━━━━━━━━━┳━━━━━━━━━━━━━━━┓\n",
              "┃<span style=\"font-weight: bold\"> Layer (type)                    </span>┃<span style=\"font-weight: bold\"> Output Shape           </span>┃<span style=\"font-weight: bold\">       Param # </span>┃\n",
              "┡━━━━━━━━━━━━━━━━━━━━━━━━━━━━━━━━━╇━━━━━━━━━━━━━━━━━━━━━━━━╇━━━━━━━━━━━━━━━┩\n",
              "│ input_layer_6 (<span style=\"color: #0087ff; text-decoration-color: #0087ff\">InputLayer</span>)      │ (<span style=\"color: #00d7ff; text-decoration-color: #00d7ff\">None</span>, <span style=\"color: #00af00; text-decoration-color: #00af00\">28</span>, <span style=\"color: #00af00; text-decoration-color: #00af00\">28</span>, <span style=\"color: #00af00; text-decoration-color: #00af00\">1</span>)      │             <span style=\"color: #00af00; text-decoration-color: #00af00\">0</span> │\n",
              "├─────────────────────────────────┼────────────────────────┼───────────────┤\n",
              "│ max_pooling2d_6 (<span style=\"color: #0087ff; text-decoration-color: #0087ff\">MaxPooling2D</span>)  │ (<span style=\"color: #00d7ff; text-decoration-color: #00d7ff\">None</span>, <span style=\"color: #00af00; text-decoration-color: #00af00\">14</span>, <span style=\"color: #00af00; text-decoration-color: #00af00\">14</span>, <span style=\"color: #00af00; text-decoration-color: #00af00\">1</span>)      │             <span style=\"color: #00af00; text-decoration-color: #00af00\">0</span> │\n",
              "├─────────────────────────────────┼────────────────────────┼───────────────┤\n",
              "│ max_pooling2d_7 (<span style=\"color: #0087ff; text-decoration-color: #0087ff\">MaxPooling2D</span>)  │ (<span style=\"color: #00d7ff; text-decoration-color: #00d7ff\">None</span>, <span style=\"color: #00af00; text-decoration-color: #00af00\">7</span>, <span style=\"color: #00af00; text-decoration-color: #00af00\">7</span>, <span style=\"color: #00af00; text-decoration-color: #00af00\">1</span>)        │             <span style=\"color: #00af00; text-decoration-color: #00af00\">0</span> │\n",
              "├─────────────────────────────────┼────────────────────────┼───────────────┤\n",
              "│ flatten_6 (<span style=\"color: #0087ff; text-decoration-color: #0087ff\">Flatten</span>)             │ (<span style=\"color: #00d7ff; text-decoration-color: #00d7ff\">None</span>, <span style=\"color: #00af00; text-decoration-color: #00af00\">49</span>)             │             <span style=\"color: #00af00; text-decoration-color: #00af00\">0</span> │\n",
              "├─────────────────────────────────┼────────────────────────┼───────────────┤\n",
              "│ dense_18 (<span style=\"color: #0087ff; text-decoration-color: #0087ff\">Dense</span>)                │ (<span style=\"color: #00d7ff; text-decoration-color: #00d7ff\">None</span>, <span style=\"color: #00af00; text-decoration-color: #00af00\">120</span>)            │         <span style=\"color: #00af00; text-decoration-color: #00af00\">6,000</span> │\n",
              "├─────────────────────────────────┼────────────────────────┼───────────────┤\n",
              "│ dense_19 (<span style=\"color: #0087ff; text-decoration-color: #0087ff\">Dense</span>)                │ (<span style=\"color: #00d7ff; text-decoration-color: #00d7ff\">None</span>, <span style=\"color: #00af00; text-decoration-color: #00af00\">84</span>)             │        <span style=\"color: #00af00; text-decoration-color: #00af00\">10,164</span> │\n",
              "├─────────────────────────────────┼────────────────────────┼───────────────┤\n",
              "│ dense_20 (<span style=\"color: #0087ff; text-decoration-color: #0087ff\">Dense</span>)                │ (<span style=\"color: #00d7ff; text-decoration-color: #00d7ff\">None</span>, <span style=\"color: #00af00; text-decoration-color: #00af00\">10</span>)             │           <span style=\"color: #00af00; text-decoration-color: #00af00\">850</span> │\n",
              "└─────────────────────────────────┴────────────────────────┴───────────────┘\n",
              "</pre>\n"
            ],
            "text/plain": [
              "┏━━━━━━━━━━━━━━━━━━━━━━━━━━━━━━━━━┳━━━━━━━━━━━━━━━━━━━━━━━━┳━━━━━━━━━━━━━━━┓\n",
              "┃\u001b[1m \u001b[0m\u001b[1mLayer (type)                   \u001b[0m\u001b[1m \u001b[0m┃\u001b[1m \u001b[0m\u001b[1mOutput Shape          \u001b[0m\u001b[1m \u001b[0m┃\u001b[1m \u001b[0m\u001b[1m      Param #\u001b[0m\u001b[1m \u001b[0m┃\n",
              "┡━━━━━━━━━━━━━━━━━━━━━━━━━━━━━━━━━╇━━━━━━━━━━━━━━━━━━━━━━━━╇━━━━━━━━━━━━━━━┩\n",
              "│ input_layer_6 (\u001b[38;5;33mInputLayer\u001b[0m)      │ (\u001b[38;5;45mNone\u001b[0m, \u001b[38;5;34m28\u001b[0m, \u001b[38;5;34m28\u001b[0m, \u001b[38;5;34m1\u001b[0m)      │             \u001b[38;5;34m0\u001b[0m │\n",
              "├─────────────────────────────────┼────────────────────────┼───────────────┤\n",
              "│ max_pooling2d_6 (\u001b[38;5;33mMaxPooling2D\u001b[0m)  │ (\u001b[38;5;45mNone\u001b[0m, \u001b[38;5;34m14\u001b[0m, \u001b[38;5;34m14\u001b[0m, \u001b[38;5;34m1\u001b[0m)      │             \u001b[38;5;34m0\u001b[0m │\n",
              "├─────────────────────────────────┼────────────────────────┼───────────────┤\n",
              "│ max_pooling2d_7 (\u001b[38;5;33mMaxPooling2D\u001b[0m)  │ (\u001b[38;5;45mNone\u001b[0m, \u001b[38;5;34m7\u001b[0m, \u001b[38;5;34m7\u001b[0m, \u001b[38;5;34m1\u001b[0m)        │             \u001b[38;5;34m0\u001b[0m │\n",
              "├─────────────────────────────────┼────────────────────────┼───────────────┤\n",
              "│ flatten_6 (\u001b[38;5;33mFlatten\u001b[0m)             │ (\u001b[38;5;45mNone\u001b[0m, \u001b[38;5;34m49\u001b[0m)             │             \u001b[38;5;34m0\u001b[0m │\n",
              "├─────────────────────────────────┼────────────────────────┼───────────────┤\n",
              "│ dense_18 (\u001b[38;5;33mDense\u001b[0m)                │ (\u001b[38;5;45mNone\u001b[0m, \u001b[38;5;34m120\u001b[0m)            │         \u001b[38;5;34m6,000\u001b[0m │\n",
              "├─────────────────────────────────┼────────────────────────┼───────────────┤\n",
              "│ dense_19 (\u001b[38;5;33mDense\u001b[0m)                │ (\u001b[38;5;45mNone\u001b[0m, \u001b[38;5;34m84\u001b[0m)             │        \u001b[38;5;34m10,164\u001b[0m │\n",
              "├─────────────────────────────────┼────────────────────────┼───────────────┤\n",
              "│ dense_20 (\u001b[38;5;33mDense\u001b[0m)                │ (\u001b[38;5;45mNone\u001b[0m, \u001b[38;5;34m10\u001b[0m)             │           \u001b[38;5;34m850\u001b[0m │\n",
              "└─────────────────────────────────┴────────────────────────┴───────────────┘\n"
            ]
          },
          "metadata": {},
          "output_type": "display_data"
        },
        {
          "data": {
            "text/html": [
              "<pre style=\"white-space:pre;overflow-x:auto;line-height:normal;font-family:Menlo,'DejaVu Sans Mono',consolas,'Courier New',monospace\"><span style=\"font-weight: bold\"> Total params: </span><span style=\"color: #00af00; text-decoration-color: #00af00\">17,014</span> (66.46 KB)\n",
              "</pre>\n"
            ],
            "text/plain": [
              "\u001b[1m Total params: \u001b[0m\u001b[38;5;34m17,014\u001b[0m (66.46 KB)\n"
            ]
          },
          "metadata": {},
          "output_type": "display_data"
        },
        {
          "data": {
            "text/html": [
              "<pre style=\"white-space:pre;overflow-x:auto;line-height:normal;font-family:Menlo,'DejaVu Sans Mono',consolas,'Courier New',monospace\"><span style=\"font-weight: bold\"> Trainable params: </span><span style=\"color: #00af00; text-decoration-color: #00af00\">17,014</span> (66.46 KB)\n",
              "</pre>\n"
            ],
            "text/plain": [
              "\u001b[1m Trainable params: \u001b[0m\u001b[38;5;34m17,014\u001b[0m (66.46 KB)\n"
            ]
          },
          "metadata": {},
          "output_type": "display_data"
        },
        {
          "data": {
            "text/html": [
              "<pre style=\"white-space:pre;overflow-x:auto;line-height:normal;font-family:Menlo,'DejaVu Sans Mono',consolas,'Courier New',monospace\"><span style=\"font-weight: bold\"> Non-trainable params: </span><span style=\"color: #00af00; text-decoration-color: #00af00\">0</span> (0.00 B)\n",
              "</pre>\n"
            ],
            "text/plain": [
              "\u001b[1m Non-trainable params: \u001b[0m\u001b[38;5;34m0\u001b[0m (0.00 B)\n"
            ]
          },
          "metadata": {},
          "output_type": "display_data"
        }
      ],
      "source": [
        "# Set the random seed\n",
        "fix_random_seed()\n",
        "\n",
        "# Initialize the Delta architecture\n",
        "delta = DeltaCNN()\n",
        "# Build the Delta architecture with the input shape is 28x28x1\n",
        "delta.build((28, 28, 1))\n",
        "delta.summary()"
      ]
    },
    {
      "cell_type": "code",
      "execution_count": 63,
      "id": "870be9ab-0eba-4657-888c-e3ef25c0aad5",
      "metadata": {
        "id": "870be9ab-0eba-4657-888c-e3ef25c0aad5",
        "nbgrader": {
          "grade": true,
          "grade_id": "cell-fe9f94591026468d",
          "locked": true,
          "points": 5,
          "schema_version": 3,
          "solution": false,
          "task": false
        },
        "tags": []
      },
      "outputs": [
        {
          "ename": "AssertionError",
          "evalue": "",
          "output_type": "error",
          "traceback": [
            "\u001b[1;31m---------------------------------------------------------------------------\u001b[0m",
            "\u001b[1;31mAssertionError\u001b[0m                            Traceback (most recent call last)",
            "Cell \u001b[1;32mIn[63], line 6\u001b[0m\n\u001b[0;32m      4\u001b[0m \u001b[38;5;28;01massert\u001b[39;00m \u001b[38;5;28mlen\u001b[39m(delta\u001b[38;5;241m.\u001b[39mmodel\u001b[38;5;241m.\u001b[39mlayers) \u001b[38;5;241m==\u001b[39m \u001b[38;5;241m7\u001b[39m\n\u001b[0;32m      5\u001b[0m \u001b[38;5;66;03m# Check a number of layers in the Delta network architecture\u001b[39;00m\n\u001b[1;32m----> 6\u001b[0m \u001b[38;5;28;01massert\u001b[39;00m \u001b[38;5;124m\"\u001b[39m\u001b[38;5;124mkeras.engine.input_layer.InputLayer\u001b[39m\u001b[38;5;124m\"\u001b[39m \u001b[38;5;129;01min\u001b[39;00m \u001b[38;5;28mstr\u001b[39m(\u001b[38;5;28mtype\u001b[39m(delta\u001b[38;5;241m.\u001b[39mmodel\u001b[38;5;241m.\u001b[39mlayers[\u001b[38;5;241m0\u001b[39m]))\n\u001b[0;32m      7\u001b[0m \u001b[38;5;28;01massert\u001b[39;00m \u001b[38;5;124m\"\u001b[39m\u001b[38;5;124mkeras.layers.pooling.max_pooling2d.MaxPooling2D\u001b[39m\u001b[38;5;124m\"\u001b[39m \u001b[38;5;129;01min\u001b[39;00m \u001b[38;5;28mstr\u001b[39m(\u001b[38;5;28mtype\u001b[39m(delta\u001b[38;5;241m.\u001b[39mmodel\u001b[38;5;241m.\u001b[39mlayers[\u001b[38;5;241m1\u001b[39m]))\n\u001b[0;32m      8\u001b[0m \u001b[38;5;28;01massert\u001b[39;00m \u001b[38;5;124m\"\u001b[39m\u001b[38;5;124mkeras.layers.pooling.max_pooling2d.MaxPooling2D\u001b[39m\u001b[38;5;124m\"\u001b[39m \u001b[38;5;129;01min\u001b[39;00m \u001b[38;5;28mstr\u001b[39m(\u001b[38;5;28mtype\u001b[39m(delta\u001b[38;5;241m.\u001b[39mmodel\u001b[38;5;241m.\u001b[39mlayers[\u001b[38;5;241m2\u001b[39m]))\n",
            "\u001b[1;31mAssertionError\u001b[0m: "
          ]
        }
      ],
      "source": [
        "# Verify the Delta architecture\n",
        "\n",
        "# Check if the number of layers remains unchanged\n",
        "assert len(delta.model.layers) == 7\n",
        "# Check a number of layers in the Delta network architecture\n",
        "assert \"keras.engine.input_layer.InputLayer\" in str(type(delta.model.layers[0]))\n",
        "assert \"keras.layers.pooling.max_pooling2d.MaxPooling2D\" in str(type(delta.model.layers[1]))\n",
        "assert \"keras.layers.pooling.max_pooling2d.MaxPooling2D\" in str(type(delta.model.layers[2]))\n",
        "assert \"keras.layers.core.dense.Dense\" in str(type(delta.model.layers[6]))\n",
        "# Check the activation function of the convolutional layer\n",
        "assert delta.model.layers[1].pool_size  == (2, 2)"
      ]
    },
    {
      "cell_type": "code",
      "execution_count": null,
      "id": "23d16425-b050-4a72-afff-00fc634fbd2a",
      "metadata": {
        "id": "23d16425-b050-4a72-afff-00fc634fbd2a",
        "nbgrader": {
          "grade": true,
          "grade_id": "cell-4699cbf9ef2187a9",
          "locked": true,
          "points": 5,
          "schema_version": 3,
          "solution": false,
          "task": false
        },
        "tags": []
      },
      "outputs": [],
      "source": [
        "# Test with the hidden test"
      ]
    },
    {
      "cell_type": "code",
      "execution_count": 64,
      "id": "7e9fad50-0703-4be8-b468-6adb0d94b058",
      "metadata": {
        "colab": {
          "base_uri": "https://localhost:8080/"
        },
        "id": "7e9fad50-0703-4be8-b468-6adb0d94b058",
        "nbgrader": {
          "grade": false,
          "grade_id": "cell-703a6528300f05a9",
          "locked": true,
          "schema_version": 3,
          "solution": false,
          "task": false
        },
        "outputId": "f6a495ca-2f11-482f-e9ea-2dba945dde66",
        "tags": []
      },
      "outputs": [
        {
          "name": "stdout",
          "output_type": "stream",
          "text": [
            "Epoch 1/10\n",
            "\u001b[1m469/469\u001b[0m \u001b[32m━━━━━━━━━━━━━━━━━━━━\u001b[0m\u001b[37m\u001b[0m \u001b[1m2s\u001b[0m 2ms/step - accuracy: 0.7762 - loss: 0.6761\n",
            "Epoch 2/10\n",
            "\u001b[1m469/469\u001b[0m \u001b[32m━━━━━━━━━━━━━━━━━━━━\u001b[0m\u001b[37m\u001b[0m \u001b[1m1s\u001b[0m 1ms/step - accuracy: 0.8774 - loss: 0.3702\n",
            "Epoch 3/10\n",
            "\u001b[1m469/469\u001b[0m \u001b[32m━━━━━━━━━━━━━━━━━━━━\u001b[0m\u001b[37m\u001b[0m \u001b[1m1s\u001b[0m 1ms/step - accuracy: 0.8869 - loss: 0.3392\n",
            "Epoch 4/10\n",
            "\u001b[1m469/469\u001b[0m \u001b[32m━━━━━━━━━━━━━━━━━━━━\u001b[0m\u001b[37m\u001b[0m \u001b[1m1s\u001b[0m 1ms/step - accuracy: 0.8938 - loss: 0.3185\n",
            "Epoch 5/10\n",
            "\u001b[1m469/469\u001b[0m \u001b[32m━━━━━━━━━━━━━━━━━━━━\u001b[0m\u001b[37m\u001b[0m \u001b[1m1s\u001b[0m 1ms/step - accuracy: 0.8973 - loss: 0.3064\n",
            "Epoch 6/10\n",
            "\u001b[1m469/469\u001b[0m \u001b[32m━━━━━━━━━━━━━━━━━━━━\u001b[0m\u001b[37m\u001b[0m \u001b[1m1s\u001b[0m 1ms/step - accuracy: 0.9019 - loss: 0.2968\n",
            "Epoch 7/10\n",
            "\u001b[1m469/469\u001b[0m \u001b[32m━━━━━━━━━━━━━━━━━━━━\u001b[0m\u001b[37m\u001b[0m \u001b[1m1s\u001b[0m 1ms/step - accuracy: 0.9039 - loss: 0.2875\n",
            "Epoch 8/10\n",
            "\u001b[1m469/469\u001b[0m \u001b[32m━━━━━━━━━━━━━━━━━━━━\u001b[0m\u001b[37m\u001b[0m \u001b[1m1s\u001b[0m 2ms/step - accuracy: 0.9071 - loss: 0.2783\n",
            "Epoch 9/10\n",
            "\u001b[1m469/469\u001b[0m \u001b[32m━━━━━━━━━━━━━━━━━━━━\u001b[0m\u001b[37m\u001b[0m \u001b[1m1s\u001b[0m 1ms/step - accuracy: 0.9084 - loss: 0.2770\n",
            "Epoch 10/10\n",
            "\u001b[1m469/469\u001b[0m \u001b[32m━━━━━━━━━━━━━━━━━━━━\u001b[0m\u001b[37m\u001b[0m \u001b[1m1s\u001b[0m 1ms/step - accuracy: 0.9116 - loss: 0.2659\n"
          ]
        }
      ],
      "source": [
        "# Let's start training!\n",
        "delta.train(x_train_norm, y_train_oh)"
      ]
    },
    {
      "cell_type": "code",
      "execution_count": 65,
      "id": "e7b09a9b-7dc4-4a4b-98ad-6e56456b926b",
      "metadata": {
        "colab": {
          "base_uri": "https://localhost:8080/"
        },
        "id": "e7b09a9b-7dc4-4a4b-98ad-6e56456b926b",
        "nbgrader": {
          "grade": false,
          "grade_id": "cell-a729ab21d81380e7",
          "locked": true,
          "schema_version": 3,
          "solution": false,
          "task": false
        },
        "outputId": "c6caf180-aa5e-45c7-d09f-f5da9990ca06",
        "tags": []
      },
      "outputs": [
        {
          "name": "stdout",
          "output_type": "stream",
          "text": [
            "\u001b[1m313/313\u001b[0m \u001b[32m━━━━━━━━━━━━━━━━━━━━\u001b[0m\u001b[37m\u001b[0m \u001b[1m0s\u001b[0m 1ms/step\n",
            "Current accuracy: 89.21999931335449\n"
          ]
        }
      ],
      "source": [
        "#  Evaluate the model performance on the testing set\n",
        "delta.predict_and_eval(x_test_norm, y_test)"
      ]
    },
    {
      "cell_type": "markdown",
      "id": "4344f9c9-acad-4c08-9d2b-c64583f2fae1",
      "metadata": {
        "id": "4344f9c9-acad-4c08-9d2b-c64583f2fae1",
        "nbgrader": {
          "grade": false,
          "grade_id": "cell-8d9d20a5ca56bb4c",
          "locked": true,
          "schema_version": 3,
          "solution": false,
          "task": false
        },
        "tags": []
      },
      "source": [
        "According to you, do you observe any significant changes between the Delta and Beta versions in terms of results?"
      ]
    },
    {
      "cell_type": "code",
      "execution_count": 66,
      "id": "815de145-a238-4afa-a21f-947a3de3ffa9",
      "metadata": {
        "colab": {
          "base_uri": "https://localhost:8080/"
        },
        "id": "815de145-a238-4afa-a21f-947a3de3ffa9",
        "nbgrader": {
          "grade": false,
          "grade_id": "cell-4382fac94f0ef40b",
          "locked": false,
          "schema_version": 3,
          "solution": true,
          "task": false
        },
        "outputId": "e8bcc785-4c06-4bfc-d8a3-539b4f8fd3d3",
        "tags": []
      },
      "outputs": [
        {
          "name": "stdout",
          "output_type": "stream",
          "text": [
            "My option: Beta is better than Delta\n"
          ]
        }
      ],
      "source": [
        "options = ['No opinion', 'Beta is better than Delta', 'Beta is worse than Delta', 'Beta has competitive results with Delta (with a difference of less than 1%)']\n",
        "your_choice = 1\n",
        "\n",
        "# Please select your_choice as 0, 1, 2, or 3 corresponding to the options above\n",
        "# YOUR CODE HERE\n",
        "\n",
        "print(\"My option:\", options[your_choice])"
      ]
    },
    {
      "cell_type": "code",
      "execution_count": null,
      "id": "7ad971f7-7eb6-45fd-9f7e-f3eba988cc0d",
      "metadata": {
        "id": "7ad971f7-7eb6-45fd-9f7e-f3eba988cc0d",
        "nbgrader": {
          "grade": true,
          "grade_id": "cell-81f2a74a0460c86a",
          "locked": true,
          "points": 5,
          "schema_version": 3,
          "solution": false,
          "task": false
        },
        "tags": []
      },
      "outputs": [],
      "source": [
        "# Test with the hidden test"
      ]
    },
    {
      "cell_type": "markdown",
      "id": "6a203208-c4de-47df-bb76-752fc312d1ea",
      "metadata": {
        "id": "6a203208-c4de-47df-bb76-752fc312d1ea",
        "nbgrader": {
          "grade": false,
          "grade_id": "cell-69b898a90737815a",
          "locked": true,
          "schema_version": 3,
          "solution": false,
          "task": false
        },
        "tags": []
      },
      "source": [
        "In addition, do you have any comments on the number of parameters and training time of the Omicron model?"
      ]
    },
    {
      "cell_type": "code",
      "execution_count": 67,
      "id": "df891c8e-f1e4-47c2-b56e-b06089821b5c",
      "metadata": {
        "colab": {
          "base_uri": "https://localhost:8080/"
        },
        "id": "df891c8e-f1e4-47c2-b56e-b06089821b5c",
        "nbgrader": {
          "grade": false,
          "grade_id": "cell-420393feaa427f16",
          "locked": false,
          "schema_version": 3,
          "solution": true,
          "task": false
        },
        "outputId": "4a18d1a7-72eb-435f-936a-d509fd0a1d4c",
        "tags": []
      },
      "outputs": [
        {
          "name": "stdout",
          "output_type": "stream",
          "text": [
            "My options: \n",
            "   -  Delta has fewer parameters than Beta\n",
            "   -  Delta trains faster than Beta\n"
          ]
        }
      ],
      "source": [
        "options = ['Delta has fewer parameters than Beta', 'Delta has more parameters than Beta', 'Delta has the same number of parameters as Beta',\n",
        "\t\t   'Delta trains faster than Beta', 'Delta trains slower than Beta', 'Delta trains comparable to Beta']\n",
        "your_choices = [0, 3]\n",
        "\n",
        "# Please select your_choice with a set of values from 0, 1, 2, 3, 4, 5 corresponding to the options given above.\n",
        "# Note: You can choose 0, 1, or more than 1 option in this question.\n",
        "# YOUR CODE HERE\n",
        "\n",
        "print(\"My options: \")\n",
        "for op in your_choices:\n",
        "\tprint('   - ', options[op])"
      ]
    },
    {
      "cell_type": "code",
      "execution_count": null,
      "id": "577d9994-4921-44cd-8def-99641de0e995",
      "metadata": {
        "id": "577d9994-4921-44cd-8def-99641de0e995",
        "nbgrader": {
          "grade": true,
          "grade_id": "cell-c0abf0f02d65083c",
          "locked": true,
          "points": 5,
          "schema_version": 3,
          "solution": false,
          "task": false
        },
        "tags": []
      },
      "outputs": [],
      "source": [
        "# Test with the hidden test"
      ]
    },
    {
      "cell_type": "markdown",
      "id": "b2634d9e-d20e-4eb7-9a92-66304023b20d",
      "metadata": {
        "id": "b2634d9e-d20e-4eb7-9a92-66304023b20d"
      },
      "source": [
        "Phew!! So you have experienced the feeling of designing and editing the architecture of a CNN network. Each module has a specific function. I hope you have appreciated the significance of each module and its role in the overall design of the CNN network."
      ]
    }
  ],
  "metadata": {
    "colab": {
      "provenance": []
    },
    "kernelspec": {
      "display_name": "Python 3 (ipykernel)",
      "language": "python",
      "name": "python3"
    },
    "language_info": {
      "codemirror_mode": {
        "name": "ipython",
        "version": 3
      },
      "file_extension": ".py",
      "mimetype": "text/x-python",
      "name": "python",
      "nbconvert_exporter": "python",
      "pygments_lexer": "ipython3",
      "version": "3.9.13"
    }
  },
  "nbformat": 4,
  "nbformat_minor": 5
}
