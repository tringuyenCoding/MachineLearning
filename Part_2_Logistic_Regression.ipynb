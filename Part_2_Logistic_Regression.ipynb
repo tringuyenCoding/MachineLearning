{
  "cells": [
    {
      "cell_type": "markdown",
      "metadata": {
        "id": "view-in-github",
        "colab_type": "text"
      },
      "source": [
        "<a href=\"https://colab.research.google.com/github/tringuyenCoding/MachineLearning/blob/colab/Part_2_Logistic_Regression.ipynb\" target=\"_parent\"><img src=\"https://colab.research.google.com/assets/colab-badge.svg\" alt=\"Open In Colab\"/></a>"
      ]
    },
    {
      "cell_type": "markdown",
      "id": "32d8e798-415f-437f-9595-395432d2f6ea",
      "metadata": {
        "id": "32d8e798-415f-437f-9595-395432d2f6ea",
        "nbgrader": {
          "grade": false,
          "grade_id": "cell-cd8ada6364a44dde",
          "locked": true,
          "schema_version": 3,
          "solution": false,
          "task": false
        },
        "tags": []
      },
      "source": [
        "# IMPLEMENTING LOGISTIC REGRESSION MODEL WITH KERAS\n",
        "Instructions:\n",
        "- Start the kernel: In the menu bar, select Kernel -> Restart kernel.\n",
        "- Complete all sections with the comment `YOUR CODE HERE`.\n",
        "- Run all code blocks to check the implementation: In the menu bar, select Cell -> Run All."
      ]
    },
    {
      "cell_type": "markdown",
      "id": "fd050030-303d-46a5-814b-39eb047ad932",
      "metadata": {
        "id": "fd050030-303d-46a5-814b-39eb047ad932",
        "nbgrader": {
          "grade": false,
          "grade_id": "cell-0bffba57d1ad9cb3",
          "locked": true,
          "schema_version": 3,
          "solution": false,
          "task": false
        },
        "tags": []
      },
      "source": [
        "A machine learning model should have at least the following 7 methods:\n",
        "\n",
        "- `__init__`: The constructor method in object-oriented programming, used to initialize default parameters or starting parameters of a model. In the initial exercises, for simplicity, the constructor may not be used.\n",
        "- `build`: Builds the architecture of the model.\n",
        "- `train`: Starts the training process of the model.\n",
        "- `save`: Saves the trained model.\n",
        "- `load`: Loads a pretrained model from a file.\n",
        "- `summary`: Prints a summary of the model's architecture.\n",
        "- `predict`: Predicts the output values based on the input data.\n",
        "\n",
        "Please note that these are general guidelines for the methods commonly used in machine learning models. The actual implementation may vary depending on the specific requirements and the framework being used."
      ]
    },
    {
      "cell_type": "code",
      "execution_count": 1,
      "id": "4045ce28-ee6d-4e9b-a48a-f1735f301574",
      "metadata": {
        "id": "4045ce28-ee6d-4e9b-a48a-f1735f301574",
        "nbgrader": {
          "grade": false,
          "grade_id": "cell-126fc97be75a7453",
          "locked": true,
          "schema_version": 3,
          "solution": false,
          "task": false
        },
        "tags": []
      },
      "outputs": [],
      "source": [
        "# The general implementation of the model includes 7 basic methods.\n",
        "# Note: This model is just a suggestion and not mandatory.\n",
        "# However, in the exercise section, it is required to adhere to these method names.\n",
        "class MyModel:\n",
        "    # constructor\n",
        "    def __init__(self):\n",
        "        return None\n",
        "\n",
        "    # Implement architecture of the model\n",
        "    def build(self):\n",
        "        return None\n",
        "\n",
        "    # Train the defined model with training and validation data\n",
        "    def train(self):\n",
        "        return None\n",
        "\n",
        "    # Save the trained model to file\n",
        "    def save(self, model_path):\n",
        "        return None\n",
        "\n",
        "    # Load pretrained model from file\n",
        "    def load(self):\n",
        "        return None\n",
        "    # Visualize your model\n",
        "    def summary(self):\n",
        "        return None\n",
        "\n",
        "    # Apply your model with new input data\n",
        "    def predict(self):\n",
        "        return None"
      ]
    },
    {
      "cell_type": "markdown",
      "id": "498cd880-c80c-4d9a-9ca8-bff003cf2ae6",
      "metadata": {
        "id": "498cd880-c80c-4d9a-9ca8-bff003cf2ae6",
        "nbgrader": {
          "grade": false,
          "grade_id": "cell-449bbee0eee23e80",
          "locked": true,
          "schema_version": 3,
          "solution": false,
          "task": false
        },
        "tags": []
      },
      "source": [
        "## Step 1. Importing Keras Libraries\n",
        "\n",
        "First, we will import the necessary libraries, modules, and functions from `Keras`:\n",
        "- `Input`: to receive input data for the model.\n",
        "- `Dense`: also known as the Fully Connected layer, an important component of Neural Network-based models.\n",
        "- `Model`: this is the model object class used to encapsulate the input and output layers, and then train the model using the `fit` method and make predictions using the `predict` method.\n",
        "- `load_model`: a function used to load a model from a file."
      ]
    },
    {
      "cell_type": "code",
      "execution_count": 2,
      "id": "1f4b4acb-157f-4309-96de-b8e7b01f6506",
      "metadata": {
        "id": "1f4b4acb-157f-4309-96de-b8e7b01f6506",
        "nbgrader": {
          "grade": false,
          "grade_id": "cell-57c79d33953aeef2",
          "locked": true,
          "schema_version": 3,
          "solution": false,
          "task": false
        },
        "tags": []
      },
      "outputs": [],
      "source": [
        "from keras.layers import Input, Dense\n",
        "from keras import Model\n",
        "import tensorflow as tf\n",
        "from keras.models import load_model"
      ]
    },
    {
      "cell_type": "markdown",
      "id": "04a833c1-4990-489c-bbac-968b578eac39",
      "metadata": {
        "id": "04a833c1-4990-489c-bbac-968b578eac39",
        "nbgrader": {
          "grade": false,
          "grade_id": "cell-f72ad50b2c988c98",
          "locked": true,
          "schema_version": 3,
          "solution": false,
          "task": false
        },
        "tags": []
      },
      "source": [
        "## Step 2. Implementing Logistic Regression Model\n",
        "\n",
        "Next, we will use the object framework `MyModel` presented earlier to implement the **Logistic Regression** model. The main method to be implemented in this exercise is `def build()`. The remaining methods have already been implemented, and you should read and understand their purpose and usage for future reference.\n",
        "\n",
        "<p align=\"center\">\n",
        "  <img src=\"LogisticReg.png\" />\n",
        "</p>"
      ]
    },
    {
      "cell_type": "code",
      "execution_count": 3,
      "id": "60b33717-b96f-4c9b-97f8-2e0eb49d7afa",
      "metadata": {
        "id": "60b33717-b96f-4c9b-97f8-2e0eb49d7afa",
        "nbgrader": {
          "grade": false,
          "grade_id": "cell-39579eccef29b960",
          "locked": false,
          "schema_version": 3,
          "solution": true,
          "task": false
        },
        "tags": []
      },
      "outputs": [],
      "source": [
        "# Logistic Regression\n",
        "class LogisticRegression:\n",
        "    def __init__(self): # Self is similar to your 'this' pointer in C++\n",
        "        return None\n",
        "\n",
        "    def build(self, input_dim):\n",
        "\n",
        "        self.model = None\n",
        "        # Please implement the code to define the MODEL ARCHITECTURE and save it in the `self.model` attribute\n",
        "        # with the following object variables:\n",
        "        #  - Create a variable `input` with the `Input` object class from Keras,\n",
        "        #    passing the input dimension `input_dim`\n",
        "        #  - Create a variable `output` with the `Dense` object class from Keras,\n",
        "        #    passing the following parameters: output dimension, use bias,\n",
        "        #    and use the `sigmoid` activation function\n",
        "        # After this step, self.model will encapsulate the `input` and `output` variables to form the model\n",
        "        ### YOUR CODE HERE\n",
        "        input = Input(shape = (input_dim,))\n",
        "        output = Dense(1,activation='sigmoid', use_bias=True)(input)\n",
        "        self.model = Model(input, output)\n",
        "        return self.model\n",
        "\n",
        "    def train(self, x_train, y_train):\n",
        "        opt = tf.keras.optimizers.SGD(learning_rate=0.1) # Stochastic Gradient Descent\n",
        "        self.model.compile(optimizer=opt, loss='binary_crossentropy') # BCE loss\n",
        "        return self.model.fit(x_train, y_train, epochs=50)\n",
        "\n",
        "    def save(self, model_file):\n",
        "        return self.model.save(model_file)\n",
        "\n",
        "    def load(self, model_file):\n",
        "        self.model = load_model(model_file)\n",
        "\n",
        "    def summary(self):\n",
        "        self.model.summary()\n",
        "\n",
        "    def predict(self, x_test):\n",
        "        return self.model.predict(x_test)\n",
        "\n",
        "    def get_weights(self):\n",
        "        return self.model.layers[1].get_weights()"
      ]
    },
    {
      "cell_type": "markdown",
      "id": "97f6c731-3e41-4d71-988d-b41a6dfa2999",
      "metadata": {
        "id": "97f6c731-3e41-4d71-988d-b41a6dfa2999",
        "nbgrader": {
          "grade": false,
          "grade_id": "cell-ac1cf2df36b35acb",
          "locked": true,
          "schema_version": 3,
          "solution": false,
          "task": false
        },
        "tags": []
      },
      "source": [
        "Next, we will initialize an instance of the LogisticRegression object and test whether the `build` method has been implemented correctly."
      ]
    },
    {
      "cell_type": "code",
      "execution_count": 4,
      "id": "74d6e729-8fcc-4464-9d1f-0e24da5629dc",
      "metadata": {
        "colab": {
          "base_uri": "https://localhost:8080/"
        },
        "id": "74d6e729-8fcc-4464-9d1f-0e24da5629dc",
        "nbgrader": {
          "grade": false,
          "grade_id": "cell-cb24e77ca4ff451e",
          "locked": true,
          "schema_version": 3,
          "solution": false,
          "task": false
        },
        "outputId": "1c121d81-23a5-44b9-d19a-90035730978e",
        "tags": []
      },
      "outputs": [
        {
          "output_type": "execute_result",
          "data": {
            "text/plain": [
              "<keras.src.engine.functional.Functional at 0x7c06a553d9f0>"
            ]
          },
          "metadata": {},
          "execution_count": 4
        }
      ],
      "source": [
        "lr = LogisticRegression()\n",
        "# In this example, we will initialize the input as a 1000-dimensional vector.\n",
        "lr.build(1000)"
      ]
    },
    {
      "cell_type": "code",
      "execution_count": 5,
      "id": "9ca9fdb2-e913-4c1d-a858-48a3842f3436",
      "metadata": {
        "id": "9ca9fdb2-e913-4c1d-a858-48a3842f3436",
        "nbgrader": {
          "grade": true,
          "grade_id": "cell-278fafeae5c407d0",
          "locked": true,
          "points": 5,
          "schema_version": 3,
          "solution": false,
          "task": false
        },
        "tags": [],
        "colab": {
          "base_uri": "https://localhost:8080/",
          "height": 211
        },
        "outputId": "2b8552a1-cd94-4c8f-c994-0029c751f933"
      },
      "outputs": [
        {
          "output_type": "error",
          "ename": "AssertionError",
          "evalue": "",
          "traceback": [
            "\u001b[0;31m---------------------------------------------------------------------------\u001b[0m",
            "\u001b[0;31mAssertionError\u001b[0m                            Traceback (most recent call last)",
            "\u001b[0;32m<ipython-input-5-15514413d17b>\u001b[0m in \u001b[0;36m<cell line: 3>\u001b[0;34m()\u001b[0m\n\u001b[1;32m      1\u001b[0m \u001b[0;31m# Check the architecture containing Input and Output classes.\u001b[0m\u001b[0;34m\u001b[0m\u001b[0;34m\u001b[0m\u001b[0m\n\u001b[1;32m      2\u001b[0m \u001b[0;32massert\u001b[0m \u001b[0mlen\u001b[0m\u001b[0;34m(\u001b[0m\u001b[0mlr\u001b[0m\u001b[0;34m.\u001b[0m\u001b[0mmodel\u001b[0m\u001b[0;34m.\u001b[0m\u001b[0mlayers\u001b[0m\u001b[0;34m)\u001b[0m\u001b[0;34m==\u001b[0m\u001b[0;36m2\u001b[0m\u001b[0;34m\u001b[0m\u001b[0;34m\u001b[0m\u001b[0m\n\u001b[0;32m----> 3\u001b[0;31m \u001b[0;32massert\u001b[0m \u001b[0mstr\u001b[0m\u001b[0;34m(\u001b[0m\u001b[0mtype\u001b[0m\u001b[0;34m(\u001b[0m\u001b[0mlr\u001b[0m\u001b[0;34m.\u001b[0m\u001b[0mmodel\u001b[0m\u001b[0;34m.\u001b[0m\u001b[0mlayers\u001b[0m\u001b[0;34m[\u001b[0m\u001b[0;36m0\u001b[0m\u001b[0;34m]\u001b[0m\u001b[0;34m)\u001b[0m\u001b[0;34m)\u001b[0m\u001b[0;34m==\u001b[0m \u001b[0;34m\"<class 'keras.engine.input_layer.InputLayer'>\"\u001b[0m\u001b[0;34m\u001b[0m\u001b[0;34m\u001b[0m\u001b[0m\n\u001b[0m\u001b[1;32m      4\u001b[0m \u001b[0;32massert\u001b[0m \u001b[0mstr\u001b[0m\u001b[0;34m(\u001b[0m\u001b[0mtype\u001b[0m\u001b[0;34m(\u001b[0m\u001b[0mlr\u001b[0m\u001b[0;34m.\u001b[0m\u001b[0mmodel\u001b[0m\u001b[0;34m.\u001b[0m\u001b[0mlayers\u001b[0m\u001b[0;34m[\u001b[0m\u001b[0;36m1\u001b[0m\u001b[0;34m]\u001b[0m\u001b[0;34m)\u001b[0m\u001b[0;34m)\u001b[0m\u001b[0;34m==\u001b[0m \u001b[0;34m\"<class 'keras.layers.core.dense.Dense'>\"\u001b[0m\u001b[0;34m\u001b[0m\u001b[0;34m\u001b[0m\u001b[0m\n\u001b[1;32m      5\u001b[0m \u001b[0;32massert\u001b[0m \u001b[0mlr\u001b[0m\u001b[0;34m.\u001b[0m\u001b[0mmodel\u001b[0m\u001b[0;34m.\u001b[0m\u001b[0mlayers\u001b[0m\u001b[0;34m[\u001b[0m\u001b[0;36m0\u001b[0m\u001b[0;34m]\u001b[0m\u001b[0;34m.\u001b[0m\u001b[0minput_shape\u001b[0m\u001b[0;34m[\u001b[0m\u001b[0;36m0\u001b[0m\u001b[0;34m]\u001b[0m\u001b[0;34m[\u001b[0m\u001b[0;36m1\u001b[0m\u001b[0;34m]\u001b[0m \u001b[0;34m==\u001b[0m \u001b[0;36m1000\u001b[0m\u001b[0;34m\u001b[0m\u001b[0;34m\u001b[0m\u001b[0m\n",
            "\u001b[0;31mAssertionError\u001b[0m: "
          ]
        }
      ],
      "source": [
        "# Check the architecture containing Input and Output classes.\n",
        "assert len(lr.model.layers)==2\n",
        "assert str(type(lr.model.layers[0]))== \"<class 'keras.engine.input_layer.InputLayer'>\"\n",
        "assert str(type(lr.model.layers[1]))== \"<class 'keras.layers.core.dense.Dense'>\"\n",
        "assert lr.model.layers[0].input_shape[0][1] == 1000\n",
        "assert lr.model.layers[1].activation(0.0).numpy() == 0.5\n"
      ]
    },
    {
      "cell_type": "code",
      "execution_count": null,
      "id": "a5589098-a98d-4356-b01c-c4c01139b1c3",
      "metadata": {
        "id": "a5589098-a98d-4356-b01c-c4c01139b1c3",
        "nbgrader": {
          "grade": true,
          "grade_id": "cell-05b9ba2de5ca007e",
          "locked": true,
          "points": 10,
          "schema_version": 3,
          "solution": false,
          "task": false
        },
        "tags": []
      },
      "outputs": [],
      "source": [
        "# Test with hidden tests."
      ]
    },
    {
      "cell_type": "markdown",
      "id": "834e8988-86a3-4914-8b48-5b1e0c26ef9f",
      "metadata": {
        "id": "834e8988-86a3-4914-8b48-5b1e0c26ef9f",
        "nbgrader": {
          "grade": false,
          "grade_id": "cell-ac7a9ddf407c8762",
          "locked": true,
          "schema_version": 3,
          "solution": false,
          "task": false
        },
        "tags": []
      },
      "source": [
        "## Step 3.  Step 3. Generate Sample Data (Toy Example).\n",
        "Next, we will proceed to generate sample data for training and testing.\n",
        "\n",
        "The data is generated as 2 clusters of points randomly distributed around two cluster centers:\n",
        "- [1, 5]\n",
        "- [5, 1]\n",
        "\n",
        "Note that these two points are sufficiently far apart so that the randomly generated points do not overlap with each other."
      ]
    },
    {
      "cell_type": "code",
      "execution_count": 6,
      "id": "e85e8cda-f476-4091-8bbc-e1c5c05a8c99",
      "metadata": {
        "colab": {
          "base_uri": "https://localhost:8080/",
          "height": 447
        },
        "id": "e85e8cda-f476-4091-8bbc-e1c5c05a8c99",
        "nbgrader": {
          "grade": false,
          "grade_id": "cell-596b906e8b2db48f",
          "locked": true,
          "schema_version": 3,
          "solution": false,
          "task": false
        },
        "outputId": "6ca73ada-7a46-4f7c-9cee-ff7a0af5439e",
        "tags": []
      },
      "outputs": [
        {
          "output_type": "execute_result",
          "data": {
            "text/plain": [
              "[<matplotlib.lines.Line2D at 0x7c06a234e890>]"
            ]
          },
          "metadata": {},
          "execution_count": 6
        },
        {
          "output_type": "display_data",
          "data": {
            "text/plain": [
              "<Figure size 640x480 with 1 Axes>"
            ],
            "image/png": "[encoded data removed]"
          },
          "metadata": {}
        }
      ],
      "source": [
        "import numpy as np\n",
        "import matplotlib.pyplot as plt\n",
        "\n",
        "n_sample = 10\n",
        "\n",
        "# Generate sample data (toy example).\n",
        "red_points = np.random.randn(n_sample, 2) + np.array([[1,5]])\n",
        "blue_points = np.random.randn(n_sample, 2) + np.array([[5,1]])\n",
        "x_train = np.concatenate((red_points, blue_points))\n",
        "y_train = np.concatenate((np.ones(n_sample), np.zeros(n_sample)))\n",
        "\n",
        "# Create a validation dataset.\n",
        "red_points_test = np.random.randn(n_sample, 2) + np.array([[1,5]])\n",
        "blue_points_test = np.random.randn(n_sample, 2) + np.array([[5,1]])\n",
        "x_test = np.concatenate((red_points_test, blue_points_test))\n",
        "y_test = np.concatenate((np.ones(n_sample), np.zeros(n_sample)))\n",
        "\n",
        "# Visualize the data using red and blue circles.\n",
        "plt.plot(red_points[:,0], red_points[:,1], 'ro')\n",
        "plt.plot(blue_points[:,0], blue_points[:,1], 'bo')\n"
      ]
    },
    {
      "cell_type": "markdown",
      "id": "uIdibI_lnQc7",
      "metadata": {
        "id": "uIdibI_lnQc7"
      },
      "source": [
        "## Step 4. Train the model with the sample data\n",
        "\n",
        "Next, we will reinitialize the model to fit the generated sample data from the previous step. The architecture of the model must be compatible with the dimensions of the sample data."
      ]
    },
    {
      "cell_type": "code",
      "execution_count": 8,
      "id": "8aa7ce32-4f59-4cee-ae56-25f0cd972886",
      "metadata": {
        "colab": {
          "base_uri": "https://localhost:8080/"
        },
        "id": "8aa7ce32-4f59-4cee-ae56-25f0cd972886",
        "nbgrader": {
          "grade": false,
          "grade_id": "cell-7b350a0e29be5844",
          "locked": false,
          "schema_version": 3,
          "solution": true,
          "task": false
        },
        "outputId": "63f90a00-c570-44d2-c9d6-a81716c85566",
        "tags": []
      },
      "outputs": [
        {
          "output_type": "stream",
          "name": "stdout",
          "text": [
            "The architecture of the Logistic Regression: \n",
            "Model: \"model_2\"\n",
            "_________________________________________________________________\n",
            " Layer (type)                Output Shape              Param #   \n",
            "=================================================================\n",
            " input_3 (InputLayer)        [(None, 2)]               0         \n",
            "                                                                 \n",
            " dense_2 (Dense)             (None, 1)                 3         \n",
            "                                                                 \n",
            "=================================================================\n",
            "Total params: 3 (12.00 Byte)\n",
            "Trainable params: 3 (12.00 Byte)\n",
            "Non-trainable params: 0 (0.00 Byte)\n",
            "_________________________________________________________________\n"
          ]
        }
      ],
      "source": [
        "lr = LogisticRegression()\n",
        "\n",
        "# Call the `build` method for the `lr` object and pass the corresponding input parameters\n",
        "# for the training data generated in the above code block.\n",
        "# According to you, what is the value of `input_dim`?\n",
        "\n",
        "### YOUR CODE HERE\n",
        "lr.build(2)\n",
        "# To display the architecture of the model, you can call the `summary` method.\n",
        "print(\"The architecture of the Logistic Regression: \")\n",
        "lr.summary()"
      ]
    },
    {
      "cell_type": "code",
      "execution_count": null,
      "id": "0c6a3f9c-d529-4e33-968f-ef924a7f7ef7",
      "metadata": {
        "id": "0c6a3f9c-d529-4e33-968f-ef924a7f7ef7",
        "nbgrader": {
          "grade": true,
          "grade_id": "cell-cf64170f2b98a6d3",
          "locked": true,
          "points": 5,
          "schema_version": 3,
          "solution": false,
          "task": false
        },
        "tags": []
      },
      "outputs": [],
      "source": [
        "# Check the invocation of the `build` method."
      ]
    },
    {
      "cell_type": "code",
      "execution_count": 9,
      "id": "7f34ecff-3ef0-497f-bcd0-c138cb7b7af3",
      "metadata": {
        "colab": {
          "base_uri": "https://localhost:8080/"
        },
        "id": "7f34ecff-3ef0-497f-bcd0-c138cb7b7af3",
        "nbgrader": {
          "grade": false,
          "grade_id": "cell-9ba3148b1e8aacd3",
          "locked": true,
          "schema_version": 3,
          "solution": false,
          "task": false
        },
        "outputId": "ea5f919b-cfd3-4eec-c387-0af1ca1388f0",
        "tags": []
      },
      "outputs": [
        {
          "output_type": "stream",
          "name": "stdout",
          "text": [
            "Epoch 1/50\n",
            "1/1 [==============================] - 0s 465ms/step - loss: 2.7246\n",
            "Epoch 2/50\n",
            "1/1 [==============================] - 0s 9ms/step - loss: 2.0027\n",
            "Epoch 3/50\n",
            "1/1 [==============================] - 0s 9ms/step - loss: 1.3243\n",
            "Epoch 4/50\n",
            "1/1 [==============================] - 0s 8ms/step - loss: 0.7673\n",
            "Epoch 5/50\n",
            "1/1 [==============================] - 0s 11ms/step - loss: 0.4259\n",
            "Epoch 6/50\n",
            "1/1 [==============================] - 0s 8ms/step - loss: 0.2641\n",
            "Epoch 7/50\n",
            "1/1 [==============================] - 0s 10ms/step - loss: 0.1843\n",
            "Epoch 8/50\n",
            "1/1 [==============================] - 0s 10ms/step - loss: 0.1397\n",
            "Epoch 9/50\n",
            "1/1 [==============================] - 0s 8ms/step - loss: 0.1122\n",
            "Epoch 10/50\n",
            "1/1 [==============================] - 0s 8ms/step - loss: 0.0939\n",
            "Epoch 11/50\n",
            "1/1 [==============================] - 0s 8ms/step - loss: 0.0812\n",
            "Epoch 12/50\n",
            "1/1 [==============================] - 0s 7ms/step - loss: 0.0719\n",
            "Epoch 13/50\n",
            "1/1 [==============================] - 0s 8ms/step - loss: 0.0649\n",
            "Epoch 14/50\n",
            "1/1 [==============================] - 0s 8ms/step - loss: 0.0595\n",
            "Epoch 15/50\n",
            "1/1 [==============================] - 0s 8ms/step - loss: 0.0551\n",
            "Epoch 16/50\n",
            "1/1 [==============================] - 0s 8ms/step - loss: 0.0516\n",
            "Epoch 17/50\n",
            "1/1 [==============================] - 0s 9ms/step - loss: 0.0487\n",
            "Epoch 18/50\n",
            "1/1 [==============================] - 0s 9ms/step - loss: 0.0462\n",
            "Epoch 19/50\n",
            "1/1 [==============================] - 0s 9ms/step - loss: 0.0441\n",
            "Epoch 20/50\n",
            "1/1 [==============================] - 0s 8ms/step - loss: 0.0423\n",
            "Epoch 21/50\n",
            "1/1 [==============================] - 0s 8ms/step - loss: 0.0407\n",
            "Epoch 22/50\n",
            "1/1 [==============================] - 0s 9ms/step - loss: 0.0393\n",
            "Epoch 23/50\n",
            "1/1 [==============================] - 0s 7ms/step - loss: 0.0380\n",
            "Epoch 24/50\n",
            "1/1 [==============================] - 0s 11ms/step - loss: 0.0369\n",
            "Epoch 25/50\n",
            "1/1 [==============================] - 0s 8ms/step - loss: 0.0358\n",
            "Epoch 26/50\n",
            "1/1 [==============================] - 0s 14ms/step - loss: 0.0349\n",
            "Epoch 27/50\n",
            "1/1 [==============================] - 0s 8ms/step - loss: 0.0340\n",
            "Epoch 28/50\n",
            "1/1 [==============================] - 0s 10ms/step - loss: 0.0332\n",
            "Epoch 29/50\n",
            "1/1 [==============================] - 0s 7ms/step - loss: 0.0325\n",
            "Epoch 30/50\n",
            "1/1 [==============================] - 0s 11ms/step - loss: 0.0318\n",
            "Epoch 31/50\n",
            "1/1 [==============================] - 0s 7ms/step - loss: 0.0311\n",
            "Epoch 32/50\n",
            "1/1 [==============================] - 0s 10ms/step - loss: 0.0305\n",
            "Epoch 33/50\n",
            "1/1 [==============================] - 0s 11ms/step - loss: 0.0299\n",
            "Epoch 34/50\n",
            "1/1 [==============================] - 0s 6ms/step - loss: 0.0293\n",
            "Epoch 35/50\n",
            "1/1 [==============================] - 0s 8ms/step - loss: 0.0288\n",
            "Epoch 36/50\n",
            "1/1 [==============================] - 0s 10ms/step - loss: 0.0283\n",
            "Epoch 37/50\n",
            "1/1 [==============================] - 0s 6ms/step - loss: 0.0278\n",
            "Epoch 38/50\n",
            "1/1 [==============================] - 0s 7ms/step - loss: 0.0274\n",
            "Epoch 39/50\n",
            "1/1 [==============================] - 0s 9ms/step - loss: 0.0269\n",
            "Epoch 40/50\n",
            "1/1 [==============================] - 0s 7ms/step - loss: 0.0265\n",
            "Epoch 41/50\n",
            "1/1 [==============================] - 0s 14ms/step - loss: 0.0261\n",
            "Epoch 42/50\n",
            "1/1 [==============================] - 0s 7ms/step - loss: 0.0257\n",
            "Epoch 43/50\n",
            "1/1 [==============================] - 0s 7ms/step - loss: 0.0253\n",
            "Epoch 44/50\n",
            "1/1 [==============================] - 0s 11ms/step - loss: 0.0250\n",
            "Epoch 45/50\n",
            "1/1 [==============================] - 0s 7ms/step - loss: 0.0246\n",
            "Epoch 46/50\n",
            "1/1 [==============================] - 0s 7ms/step - loss: 0.0243\n",
            "Epoch 47/50\n",
            "1/1 [==============================] - 0s 11ms/step - loss: 0.0239\n",
            "Epoch 48/50\n",
            "1/1 [==============================] - 0s 7ms/step - loss: 0.0236\n",
            "Epoch 49/50\n",
            "1/1 [==============================] - 0s 9ms/step - loss: 0.0233\n",
            "Epoch 50/50\n",
            "1/1 [==============================] - 0s 7ms/step - loss: 0.0230\n"
          ]
        }
      ],
      "source": [
        "# To train the model, we call the `train` method with the generated sample data.\n",
        "# If the `build` step of the model is called correctly, the subsequent `train` step will be executed successfully.\n",
        "hist = lr.train(x_train, y_train)"
      ]
    },
    {
      "cell_type": "code",
      "execution_count": 10,
      "id": "44d04e58-792d-40e7-b4c5-01b4e0a582df",
      "metadata": {
        "colab": {
          "base_uri": "https://localhost:8080/",
          "height": 472
        },
        "id": "44d04e58-792d-40e7-b4c5-01b4e0a582df",
        "nbgrader": {
          "grade": false,
          "grade_id": "cell-410570417a6e9fdd",
          "locked": true,
          "schema_version": 3,
          "solution": false,
          "task": false
        },
        "outputId": "8669aa63-2335-41e6-f297-04f9a4911416",
        "tags": []
      },
      "outputs": [
        {
          "output_type": "display_data",
          "data": {
            "text/plain": [
              "<Figure size 640x480 with 1 Axes>"
            ],
            "image/png": "[encoded data removed]"
          },
          "metadata": {}
        }
      ],
      "source": [
        "# Display the loss per epoch.\n",
        "plt.plot(hist.history['loss'])\n",
        "plt.title('Model Loss')\n",
        "plt.ylabel('loss')\n",
        "plt.xlabel('epoch')\n",
        "plt.show()"
      ]
    },
    {
      "cell_type": "code",
      "execution_count": 11,
      "id": "3fb633a4-92b1-4d1d-a189-df8b64bca31d",
      "metadata": {
        "id": "3fb633a4-92b1-4d1d-a189-df8b64bca31d",
        "nbgrader": {
          "grade": false,
          "grade_id": "cell-bbe1e1b3f7109f67",
          "locked": true,
          "schema_version": 3,
          "solution": false,
          "task": false
        },
        "tags": [],
        "colab": {
          "base_uri": "https://localhost:8080/"
        },
        "outputId": "d25f62e4-2592-4935-bbbe-bdce0eb02183"
      },
      "outputs": [
        {
          "output_type": "stream",
          "name": "stderr",
          "text": [
            "/usr/local/lib/python3.10/dist-packages/keras/src/engine/training.py:3103: UserWarning: You are saving your model as an HDF5 file via `model.save()`. This file format is considered legacy. We recommend using instead the native Keras format, e.g. `model.save('my_model.keras')`.\n",
            "  saving_api.save_model(\n"
          ]
        }
      ],
      "source": [
        "# After training, we save the model for future reuse.\n",
        "# Note: The two methods `save`\n",
        "# and `load` are used when you want to reuse the model multiple times WITHOUT THE NEED TO RETRAIN it.\n",
        "lr.save('logistic_regression_model.h5')"
      ]
    },
    {
      "cell_type": "markdown",
      "id": "f3552f10-3e91-425d-b34f-b45da7d84a6c",
      "metadata": {
        "id": "f3552f10-3e91-425d-b34f-b45da7d84a6c"
      },
      "source": [
        "## Step 5. Visualizing the Model and Making Predictions with Test Data."
      ]
    },
    {
      "cell_type": "code",
      "execution_count": 12,
      "id": "734b3a8b-8f30-4acb-a92a-471ee4c3b052",
      "metadata": {
        "id": "734b3a8b-8f30-4acb-a92a-471ee4c3b052",
        "nbgrader": {
          "grade": false,
          "grade_id": "cell-6caaefefab9d0f32",
          "locked": true,
          "schema_version": 3,
          "solution": false,
          "task": false
        },
        "tags": []
      },
      "outputs": [],
      "source": [
        "# Create a new object and call the method to load the model from a file.\n",
        "pretrain_lr = LogisticRegression()\n",
        "pretrain_lr.load('logistic_regression_model.h5')"
      ]
    },
    {
      "cell_type": "code",
      "execution_count": 13,
      "id": "dd9a079b-2dd4-49f6-b766-d16fe4358b55",
      "metadata": {
        "colab": {
          "base_uri": "https://localhost:8080/"
        },
        "id": "dd9a079b-2dd4-49f6-b766-d16fe4358b55",
        "nbgrader": {
          "grade": false,
          "grade_id": "cell-4c57bf1e1c1fe3c9",
          "locked": true,
          "schema_version": 3,
          "solution": false,
          "task": false
        },
        "outputId": "a1c8cfc3-39ac-476e-f3cd-b7139fc3c786",
        "tags": []
      },
      "outputs": [
        {
          "output_type": "stream",
          "name": "stdout",
          "text": [
            "The optimal parameters: \n",
            "[array([[-1.0262665],\n",
            "       [ 1.0148809]], dtype=float32), array([-0.30205214], dtype=float32)]\n",
            "Where:\n",
            "   - bias (intercept):  -0.30205214\n",
            "   - theta1 (coefficient for x1):  -1.0262665\n",
            "   - theta2 (coefficient for x2):  1.0148809\n"
          ]
        }
      ],
      "source": [
        "theta = pretrain_lr.get_weights()\n",
        "print('The optimal parameters: ')\n",
        "print(theta)\n",
        "bias = theta[1][0] # Bias is indeed represented as θ₀ in the original model.\n",
        "theta1 = theta[0][0][0]\n",
        "theta2 = theta[0][1][0]\n",
        "print('Where:')\n",
        "print('   - bias (intercept): ', bias)\n",
        "print('   - theta1 (coefficient for x1): ', theta1)\n",
        "print('   - theta2 (coefficient for x2): ', theta2)"
      ]
    },
    {
      "cell_type": "code",
      "execution_count": 14,
      "id": "6d32360d-f18c-4c90-85af-1a4df14d8ae6",
      "metadata": {
        "colab": {
          "base_uri": "https://localhost:8080/",
          "height": 430
        },
        "id": "6d32360d-f18c-4c90-85af-1a4df14d8ae6",
        "nbgrader": {
          "grade": false,
          "grade_id": "cell-1ad67705d50f701d",
          "locked": true,
          "schema_version": 3,
          "solution": false,
          "task": false
        },
        "outputId": "e1844e9e-bb43-4cf2-c132-3ff63191b96b",
        "tags": []
      },
      "outputs": [
        {
          "output_type": "display_data",
          "data": {
            "text/plain": [
              "<Figure size 640x480 with 1 Axes>"
            ],
            "image/png": "[encoded data removed]"
          },
          "metadata": {}
        }
      ],
      "source": [
        "# Visualize the data and the trained model.\n",
        "plt.plot(red_points[:,0], red_points[:,1], 'ro')\n",
        "plt.plot(blue_points[:,0], blue_points[:,1], 'bo')\n",
        "\n",
        "# Visualize the line that separates the two classes, red and blue.\n",
        "# The smallest and largest values that x1 can take from 0 to 6.\n",
        "x1=[0, 6]\n",
        "# To calculate the value of x2 based on the equation of a line:\n",
        "# theta1*x1 + theta2*x2 + bias = 0\n",
        "# => x2 = -(theta1*x1 + bias)/theta2\n",
        "x2=[-(theta1*x1[0]+bias)/theta2, -(theta1*x1[-1]+bias)/theta2]\n",
        "plt.plot(x1, x2)\n",
        "plt.show()"
      ]
    },
    {
      "cell_type": "markdown",
      "id": "f6d90f1f-8ff1-49f7-9c4b-a099ca7bfed8",
      "metadata": {
        "id": "f6d90f1f-8ff1-49f7-9c4b-a099ca7bfed8",
        "nbgrader": {
          "grade": false,
          "grade_id": "cell-64f389b662b21977",
          "locked": true,
          "schema_version": 3,
          "solution": false,
          "task": false
        },
        "tags": []
      },
      "source": [
        "Therefore, we can see that the trained coefficients correspond to the equation of a line that separates the red and blue training points."
      ]
    },
    {
      "cell_type": "code",
      "execution_count": 15,
      "id": "771bd466-09b3-4baf-b746-7ca63c50e095",
      "metadata": {
        "colab": {
          "base_uri": "https://localhost:8080/"
        },
        "id": "771bd466-09b3-4baf-b746-7ca63c50e095",
        "nbgrader": {
          "grade": false,
          "grade_id": "cell-179da7d7be1454f7",
          "locked": true,
          "schema_version": 3,
          "solution": false,
          "task": false
        },
        "outputId": "2bb2c5d2-d398-4107-bb0f-d2a5b32ad771",
        "tags": []
      },
      "outputs": [
        {
          "output_type": "stream",
          "name": "stdout",
          "text": [
            "1/1 [==============================] - 0s 76ms/step\n",
            "Predicted labels on the test set: \n",
            "[1. 1. 1. 1. 1. 1. 1. 1. 1. 1. 0. 0. 0. 0. 0. 0. 0. 0. 0. 0.]\n",
            "Generated labels (test set): \n",
            "[1. 1. 1. 1. 1. 1. 1. 1. 1. 1. 0. 0. 0. 0. 0. 0. 0. 0. 0. 0.]\n"
          ]
        }
      ],
      "source": [
        "# Mean squared error (MSE) when testing on the test set.\n",
        "y_pred = lr.predict(x_test)[:,0]\n",
        "y_pred[y_pred >= 0.5] = 1\n",
        "y_pred[y_pred < 0.5] = 0\n",
        "print('Predicted labels on the test set: ')\n",
        "print(y_pred)\n",
        "print('Generated labels (test set): ')\n",
        "print(y_test)"
      ]
    },
    {
      "cell_type": "markdown",
      "id": "00cb135c-e154-40fa-bf8b-16c926357919",
      "metadata": {
        "id": "00cb135c-e154-40fa-bf8b-16c926357919",
        "nbgrader": {
          "grade": false,
          "grade_id": "cell-7c27476a9e38e75d",
          "locked": true,
          "schema_version": 3,
          "solution": false,
          "task": false
        },
        "tags": []
      },
      "source": [
        "As we can see, the predicted values `y_pred` are **almost accurate** compared to the generated data `y_test`. There may be cases where `y_pred` does not match `y_test`, depending on the noise factor when generating the data.\n",
        "\n",
        "To calculate the overall accuracy, we count the total number of samples where the predicted value matches the generated value, and then divide it by the total number of samples."
      ]
    },
    {
      "cell_type": "code",
      "execution_count": 16,
      "id": "9b0274cb-2348-4882-826c-2471254c0fdb",
      "metadata": {
        "id": "9b0274cb-2348-4882-826c-2471254c0fdb",
        "nbgrader": {
          "grade": false,
          "grade_id": "cell-7fc5dee8a7eaf0a3",
          "locked": false,
          "schema_version": 3,
          "solution": true,
          "task": false
        },
        "tags": []
      },
      "outputs": [],
      "source": [
        "def accuracy(y_pred, y_test):\n",
        "    acc = None\n",
        "    # Calculate the variable `acc` to store the accuracy percentage\n",
        "    # using the formula: the total number of correctly predicted samples\n",
        "    # (where `y_pred` matches `y_test`) divided by the total number of samples\n",
        "    # in the test set.\n",
        "    # Note: The minimum value is 0%, and the maximum value is 100%.\n",
        "    ### YOUR CODE HERE\n",
        "    total_correct_predict = sum(y_pred == y_test)\n",
        "    total_sample = len(y_test)\n",
        "    acc = (total_correct_predict/total_sample) * 100\n",
        "    return acc"
      ]
    },
    {
      "cell_type": "code",
      "execution_count": 17,
      "id": "d0bb8bc0-f7dc-4173-a9bc-c5434f193932",
      "metadata": {
        "colab": {
          "base_uri": "https://localhost:8080/"
        },
        "id": "d0bb8bc0-f7dc-4173-a9bc-c5434f193932",
        "nbgrader": {
          "grade": false,
          "grade_id": "cell-0ff379cb8aa1d20f",
          "locked": true,
          "schema_version": 3,
          "solution": false,
          "task": false
        },
        "outputId": "45da1304-91da-474a-f5e1-2139f4e4539f",
        "tags": []
      },
      "outputs": [
        {
          "output_type": "stream",
          "name": "stdout",
          "text": [
            "Accuracy on the test set:  100.0 (%)\n"
          ]
        }
      ],
      "source": [
        "print(\"Accuracy on the test set: \", accuracy(y_pred, y_test), \"(%)\")"
      ]
    },
    {
      "cell_type": "code",
      "execution_count": 18,
      "id": "26e86721-179d-4468-80e9-2caa28258ebc",
      "metadata": {
        "id": "26e86721-179d-4468-80e9-2caa28258ebc",
        "nbgrader": {
          "grade": true,
          "grade_id": "cell-764540b103774c74",
          "locked": true,
          "points": 5,
          "schema_version": 3,
          "solution": false,
          "task": false
        },
        "tags": []
      },
      "outputs": [],
      "source": [
        "# Test with some open test cases.\n",
        "assert accuracy(np.array([1, 1]), np.array([0, 1])) == 50.0\n",
        "assert accuracy(np.array([1, 0, 1]), np.array([0, 1, 0])) == 0.0"
      ]
    },
    {
      "cell_type": "code",
      "execution_count": null,
      "id": "3aac9594-601c-456e-a193-d7d5859c4f89",
      "metadata": {
        "id": "3aac9594-601c-456e-a193-d7d5859c4f89",
        "nbgrader": {
          "grade": true,
          "grade_id": "cell-d19b40edc82ecb8f",
          "locked": true,
          "points": 5,
          "schema_version": 3,
          "solution": false,
          "task": false
        },
        "tags": []
      },
      "outputs": [],
      "source": [
        "# Test with hidden test cases."
      ]
    }
  ],
  "metadata": {
    "colab": {
      "provenance": [],
      "include_colab_link": true
    },
    "kernelspec": {
      "display_name": "Python 3 (ipykernel)",
      "language": "python",
      "name": "python3"
    },
    "language_info": {
      "codemirror_mode": {
        "name": "ipython",
        "version": 3
      },
      "file_extension": ".py",
      "mimetype": "text/x-python",
      "name": "python",
      "nbconvert_exporter": "python",
      "pygments_lexer": "ipython3",
      "version": "3.9.15"
    }
  },
  "nbformat": 4,
  "nbformat_minor": 5
}